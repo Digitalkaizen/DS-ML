{
 "cells": [
  {
   "cell_type": "markdown",
   "metadata": {
    "id": "-VFbjcb3Awb7"
   },
   "source": [
    "# Исследование объявлений о продаже квартир\n",
    "\n",
    "В вашем распоряжении данные сервиса Яндекс Недвижимость — архив объявлений о продаже квартир в Санкт-Петербурге и соседних населённых пунктах за несколько лет. Вам нужно научиться определять рыночную стоимость объектов недвижимости. Для этого проведите исследовательский анализ данных и установите параметры, влияющие на цену объектов. Это позволит построить автоматизированную систему: она отследит аномалии и мошенническую деятельность.\n",
    "\n",
    "По каждой квартире на продажу доступны два вида данных. Первые вписаны пользователем, вторые — получены автоматически на основе картографических данных. Например, расстояние до центра, аэропорта и других объектов — эти данные автоматически получены из геосервисов. Количество парков и водоёмов также заполняется без участия пользователя."
   ]
  },
  {
   "cell_type": "markdown",
   "metadata": {
    "id": "aeFLH07FAwb9"
   },
   "source": [
    "### Откройте файл с данными и изучите общую информацию"
   ]
  },
  {
   "cell_type": "code",
   "execution_count": 1,
   "metadata": {
    "id": "7MZxY65pAwb9"
   },
   "outputs": [],
   "source": [
    "import pandas as pd"
   ]
  },
  {
   "cell_type": "code",
   "execution_count": 2,
   "metadata": {},
   "outputs": [],
   "source": [
    "# Загрузка данных (путь к файлу указан /datasets/real_estate_data.csv)\n",
    "#df = pd.read_csv('/datasets/real_estate_data.csv')\n",
    "#data.info()"
   ]
  },
  {
   "cell_type": "code",
   "execution_count": 3,
   "metadata": {},
   "outputs": [],
   "source": [
    "# Данные загрузились некорректно: все колонки записаны в один столбец в виде строки. \n",
    "# Попробуем загрузить файл с разделителем табуляцией."
   ]
  },
  {
   "cell_type": "code",
   "execution_count": 4,
   "metadata": {},
   "outputs": [
    {
     "name": "stdout",
     "output_type": "stream",
     "text": [
      "<class 'pandas.core.frame.DataFrame'>\n",
      "RangeIndex: 23699 entries, 0 to 23698\n",
      "Data columns (total 22 columns):\n",
      " #   Column                Non-Null Count  Dtype  \n",
      "---  ------                --------------  -----  \n",
      " 0   total_images          23699 non-null  int64  \n",
      " 1   last_price            23699 non-null  float64\n",
      " 2   total_area            23699 non-null  float64\n",
      " 3   first_day_exposition  23699 non-null  object \n",
      " 4   rooms                 23699 non-null  int64  \n",
      " 5   ceiling_height        14504 non-null  float64\n",
      " 6   floors_total          23613 non-null  float64\n",
      " 7   living_area           21796 non-null  float64\n",
      " 8   floor                 23699 non-null  int64  \n",
      " 9   is_apartment          2775 non-null   object \n",
      " 10  studio                23699 non-null  bool   \n",
      " 11  open_plan             23699 non-null  bool   \n",
      " 12  kitchen_area          21421 non-null  float64\n",
      " 13  balcony               12180 non-null  float64\n",
      " 14  locality_name         23650 non-null  object \n",
      " 15  airports_nearest      18157 non-null  float64\n",
      " 16  cityCenters_nearest   18180 non-null  float64\n",
      " 17  parks_around3000      18181 non-null  float64\n",
      " 18  parks_nearest         8079 non-null   float64\n",
      " 19  ponds_around3000      18181 non-null  float64\n",
      " 20  ponds_nearest         9110 non-null   float64\n",
      " 21  days_exposition       20518 non-null  float64\n",
      "dtypes: bool(2), float64(14), int64(3), object(3)\n",
      "memory usage: 3.7+ MB\n"
     ]
    }
   ],
   "source": [
    "data = pd.read_csv('/datasets/real_estate_data.csv', sep='\\t')\n",
    "data.info()"
   ]
  },
  {
   "cell_type": "code",
   "execution_count": 40,
   "metadata": {},
   "outputs": [
    {
     "data": {
      "text/html": [
       "<div>\n",
       "<style scoped>\n",
       "    .dataframe tbody tr th:only-of-type {\n",
       "        vertical-align: middle;\n",
       "    }\n",
       "\n",
       "    .dataframe tbody tr th {\n",
       "        vertical-align: top;\n",
       "    }\n",
       "\n",
       "    .dataframe thead th {\n",
       "        text-align: right;\n",
       "    }\n",
       "</style>\n",
       "<table border=\"1\" class=\"dataframe\">\n",
       "  <thead>\n",
       "    <tr style=\"text-align: right;\">\n",
       "      <th></th>\n",
       "      <th>total_images</th>\n",
       "      <th>last_price</th>\n",
       "      <th>total_area</th>\n",
       "      <th>first_day_exposition</th>\n",
       "      <th>rooms</th>\n",
       "      <th>ceiling_height</th>\n",
       "      <th>floors_total</th>\n",
       "      <th>living_area</th>\n",
       "      <th>floor</th>\n",
       "      <th>is_apartment</th>\n",
       "      <th>...</th>\n",
       "      <th>ponds_around3000</th>\n",
       "      <th>ponds_nearest</th>\n",
       "      <th>days_exposition</th>\n",
       "      <th>price_per_sq_m</th>\n",
       "      <th>exposition_weekday</th>\n",
       "      <th>exposition_month</th>\n",
       "      <th>exposition_year</th>\n",
       "      <th>floor_type</th>\n",
       "      <th>cityCenters_nearest_km</th>\n",
       "      <th>floor_type_encoded</th>\n",
       "    </tr>\n",
       "  </thead>\n",
       "  <tbody>\n",
       "    <tr>\n",
       "      <th>0</th>\n",
       "      <td>20</td>\n",
       "      <td>13000000.0</td>\n",
       "      <td>108.0</td>\n",
       "      <td>2019-03-07</td>\n",
       "      <td>3</td>\n",
       "      <td>2.70</td>\n",
       "      <td>16</td>\n",
       "      <td>51.000000</td>\n",
       "      <td>8</td>\n",
       "      <td>False</td>\n",
       "      <td>...</td>\n",
       "      <td>2.0</td>\n",
       "      <td>755.0</td>\n",
       "      <td>NaN</td>\n",
       "      <td>120370.37</td>\n",
       "      <td>3</td>\n",
       "      <td>3</td>\n",
       "      <td>2019</td>\n",
       "      <td>другой</td>\n",
       "      <td>16</td>\n",
       "      <td>1</td>\n",
       "    </tr>\n",
       "    <tr>\n",
       "      <th>1</th>\n",
       "      <td>7</td>\n",
       "      <td>3350000.0</td>\n",
       "      <td>40.4</td>\n",
       "      <td>2018-12-04</td>\n",
       "      <td>1</td>\n",
       "      <td>2.65</td>\n",
       "      <td>11</td>\n",
       "      <td>18.600000</td>\n",
       "      <td>1</td>\n",
       "      <td>False</td>\n",
       "      <td>...</td>\n",
       "      <td>0.0</td>\n",
       "      <td>NaN</td>\n",
       "      <td>81.0</td>\n",
       "      <td>82920.79</td>\n",
       "      <td>1</td>\n",
       "      <td>12</td>\n",
       "      <td>2018</td>\n",
       "      <td>первый</td>\n",
       "      <td>19</td>\n",
       "      <td>0</td>\n",
       "    </tr>\n",
       "    <tr>\n",
       "      <th>2</th>\n",
       "      <td>10</td>\n",
       "      <td>5196000.0</td>\n",
       "      <td>56.0</td>\n",
       "      <td>2015-08-20</td>\n",
       "      <td>2</td>\n",
       "      <td>2.65</td>\n",
       "      <td>5</td>\n",
       "      <td>34.300000</td>\n",
       "      <td>4</td>\n",
       "      <td>False</td>\n",
       "      <td>...</td>\n",
       "      <td>2.0</td>\n",
       "      <td>574.0</td>\n",
       "      <td>558.0</td>\n",
       "      <td>92785.71</td>\n",
       "      <td>3</td>\n",
       "      <td>8</td>\n",
       "      <td>2015</td>\n",
       "      <td>другой</td>\n",
       "      <td>14</td>\n",
       "      <td>1</td>\n",
       "    </tr>\n",
       "    <tr>\n",
       "      <th>3</th>\n",
       "      <td>0</td>\n",
       "      <td>64900000.0</td>\n",
       "      <td>159.0</td>\n",
       "      <td>2015-07-24</td>\n",
       "      <td>3</td>\n",
       "      <td>2.65</td>\n",
       "      <td>14</td>\n",
       "      <td>90.212766</td>\n",
       "      <td>9</td>\n",
       "      <td>False</td>\n",
       "      <td>...</td>\n",
       "      <td>3.0</td>\n",
       "      <td>234.0</td>\n",
       "      <td>424.0</td>\n",
       "      <td>408176.10</td>\n",
       "      <td>4</td>\n",
       "      <td>7</td>\n",
       "      <td>2015</td>\n",
       "      <td>другой</td>\n",
       "      <td>7</td>\n",
       "      <td>1</td>\n",
       "    </tr>\n",
       "    <tr>\n",
       "      <th>4</th>\n",
       "      <td>2</td>\n",
       "      <td>10000000.0</td>\n",
       "      <td>100.0</td>\n",
       "      <td>2018-06-19</td>\n",
       "      <td>2</td>\n",
       "      <td>3.03</td>\n",
       "      <td>14</td>\n",
       "      <td>32.000000</td>\n",
       "      <td>13</td>\n",
       "      <td>False</td>\n",
       "      <td>...</td>\n",
       "      <td>1.0</td>\n",
       "      <td>48.0</td>\n",
       "      <td>121.0</td>\n",
       "      <td>100000.00</td>\n",
       "      <td>1</td>\n",
       "      <td>6</td>\n",
       "      <td>2018</td>\n",
       "      <td>другой</td>\n",
       "      <td>8</td>\n",
       "      <td>1</td>\n",
       "    </tr>\n",
       "  </tbody>\n",
       "</table>\n",
       "<p>5 rows × 29 columns</p>\n",
       "</div>"
      ],
      "text/plain": [
       "   total_images  last_price  total_area first_day_exposition  rooms  \\\n",
       "0            20  13000000.0       108.0           2019-03-07      3   \n",
       "1             7   3350000.0        40.4           2018-12-04      1   \n",
       "2            10   5196000.0        56.0           2015-08-20      2   \n",
       "3             0  64900000.0       159.0           2015-07-24      3   \n",
       "4             2  10000000.0       100.0           2018-06-19      2   \n",
       "\n",
       "   ceiling_height  floors_total  living_area  floor  is_apartment  ...  \\\n",
       "0            2.70            16    51.000000      8         False  ...   \n",
       "1            2.65            11    18.600000      1         False  ...   \n",
       "2            2.65             5    34.300000      4         False  ...   \n",
       "3            2.65            14    90.212766      9         False  ...   \n",
       "4            3.03            14    32.000000     13         False  ...   \n",
       "\n",
       "   ponds_around3000  ponds_nearest  days_exposition  price_per_sq_m  \\\n",
       "0               2.0          755.0              NaN       120370.37   \n",
       "1               0.0            NaN             81.0        82920.79   \n",
       "2               2.0          574.0            558.0        92785.71   \n",
       "3               3.0          234.0            424.0       408176.10   \n",
       "4               1.0           48.0            121.0       100000.00   \n",
       "\n",
       "  exposition_weekday  exposition_month  exposition_year  floor_type  \\\n",
       "0                  3                 3             2019      другой   \n",
       "1                  1                12             2018      первый   \n",
       "2                  3                 8             2015      другой   \n",
       "3                  4                 7             2015      другой   \n",
       "4                  1                 6             2018      другой   \n",
       "\n",
       "   cityCenters_nearest_km  floor_type_encoded  \n",
       "0                      16                   1  \n",
       "1                      19                   0  \n",
       "2                      14                   1  \n",
       "3                       7                   1  \n",
       "4                       8                   1  \n",
       "\n",
       "[5 rows x 29 columns]"
      ]
     },
     "execution_count": 40,
     "metadata": {},
     "output_type": "execute_result"
    }
   ],
   "source": [
    "# Выведим несколько строк из таблицы на экран.\n",
    "data.head(5)"
   ]
  },
  {
   "cell_type": "markdown",
   "metadata": {},
   "source": [
    "Замечания по пропущенным значениям:\n",
    "ceiling_height (высота потолков) – много пропусков (14504 из 23699 заполнено). \n",
    "is_apartment – очень много пропусков (2775 из 23699 заполнено). \n",
    "balcony – 11519 пропущенных значений.\n",
    "airports_nearest, cityCenters_nearest, parks_around3000, parks_nearest, ponds_around3000, ponds_nearest – пропуски.\n",
    "days_exposition (дней продажи) – 3181 пропущенное значение. "
   ]
  },
  {
   "cell_type": "markdown",
   "metadata": {},
   "source": [
    "Замечания по форматам данных:\n",
    "first_day_exposition – тип даных (object), лучше привести к datetime\n",
    "floors_total – тип даных (float64), хотя этажи - целые числа (Int64). "
   ]
  },
  {
   "cell_type": "markdown",
   "metadata": {
    "id": "-O5NtivEAwb9"
   },
   "source": [
    "### Выполните предобработку данных"
   ]
  },
  {
   "cell_type": "code",
   "execution_count": 6,
   "metadata": {
    "id": "7v3vAeTuAwb-"
   },
   "outputs": [
    {
     "name": "stdout",
     "output_type": "stream",
     "text": [
      "count    14504.000000\n",
      "mean         2.771499\n",
      "std          1.261056\n",
      "min          1.000000\n",
      "25%          2.520000\n",
      "50%          2.650000\n",
      "75%          2.800000\n",
      "max        100.000000\n",
      "Name: ceiling_height, dtype: float64\n"
     ]
    }
   ],
   "source": [
    "# Поишем аномалии в колонке высоты потолков (ceiling_height) \n",
    "print(data['ceiling_height'].describe()) "
   ]
  },
  {
   "cell_type": "markdown",
   "metadata": {},
   "source": [
    "Минимум: 1.0 м (потолок в 1 м - явно что это ошибка)\n",
    "Максимум: 100 м (явно ошибка, аномально большое значение)\n",
    "Стандартное отклонение: 1.26 — довольно высокое, это говорит нам о разбросе данных.\n",
    "В случае высоты потолков (ceiling_height) лучше будем использовать медианное значение, а не среднее.\n",
    "Медиана устойчива к выбросам и лучше отражает типичное значение, а в данных могут быть аномальные выбросы."
   ]
  },
  {
   "cell_type": "code",
   "execution_count": 7,
   "metadata": {},
   "outputs": [
    {
     "name": "stdout",
     "output_type": "stream",
     "text": [
      "count    23699.000000\n",
      "mean         2.696927\n",
      "std          0.214529\n",
      "min          2.500000\n",
      "25%          2.600000\n",
      "50%          2.650000\n",
      "75%          2.700000\n",
      "max          5.000000\n",
      "Name: ceiling_height, dtype: float64\n"
     ]
    }
   ],
   "source": [
    "# В колонке (ceiling_height) значения < 2,5 м и > 5 м считаем выбросами (бывают петхаусы с потолком 5 м)\n",
    "\n",
    "# Заменяем значения < 2,5 м и > 5 м на NaN (чтобы потом их учесть при заполнении медианой).\n",
    "data.loc[(data['ceiling_height'] < 2.5) | (data['ceiling_height'] > 5), 'ceiling_height'] = None \n",
    "\n",
    "# Пересчитываем медиану после очистки и удаления аномалий.\n",
    "median_ceiling = data['ceiling_height'].median()\n",
    "\n",
    "# Заполняем пропущенные значения новой медианой.\n",
    "data['ceiling_height'].fillna(median_ceiling, inplace=True)  \n",
    "\n",
    "# Проверим наш результат после обработки\n",
    "print(data['ceiling_height'].describe())  "
   ]
  },
  {
   "cell_type": "markdown",
   "metadata": {},
   "source": [
    "Теперь данные по высоте потолков выглядят более реалистично\n",
    "Медиана (50%) = 2.65 м, cреднее ≈ 2.70 м (близко к медиане, значит, выбросов больше нет)\n",
    "Стандартное отклонение стало 0.21 (раньше было 1.26, то есть разброс уменьшился)"
   ]
  },
  {
   "cell_type": "code",
   "execution_count": 8,
   "metadata": {},
   "outputs": [],
   "source": [
    "# Предположим, что в (balcony) пропуски означают отсутствие балкона, заменим на 0.\n",
    "data['balcony'].fillna(0, inplace=True) "
   ]
  },
  {
   "cell_type": "code",
   "execution_count": 9,
   "metadata": {},
   "outputs": [
    {
     "name": "stdout",
     "output_type": "stream",
     "text": [
      "count    2.369900e+04\n",
      "mean     6.541549e+06\n",
      "std      1.088701e+07\n",
      "min      1.219000e+04\n",
      "25%      3.400000e+06\n",
      "50%      4.650000e+06\n",
      "75%      6.800000e+06\n",
      "max      7.630000e+08\n",
      "Name: last_price, dtype: float64\n"
     ]
    }
   ],
   "source": [
    "# Поишем аномалии в ценах на квартиры (last_price) \n",
    "print(data['last_price'].describe())"
   ]
  },
  {
   "cell_type": "markdown",
   "metadata": {},
   "source": [
    "Минимальная цена: 12 190 рублей — для квартиры это слишком мало, скорее всего, ошибка.\n",
    "Максимальная цена: 763 000 000 рублей (763 млн) — это может быть элитное жилье."
   ]
  },
  {
   "cell_type": "code",
   "execution_count": 10,
   "metadata": {},
   "outputs": [
    {
     "name": "stdout",
     "output_type": "stream",
     "text": [
      "count    2.369800e+04\n",
      "mean     6.541824e+06\n",
      "std      1.088716e+07\n",
      "min      4.300000e+05\n",
      "25%      3.400000e+06\n",
      "50%      4.650000e+06\n",
      "75%      6.800000e+06\n",
      "max      7.630000e+08\n",
      "Name: last_price, dtype: float64\n"
     ]
    }
   ],
   "source": [
    "# Уберем экстремально дешевые квартиры, оставим реалистичные значения.\n",
    "# Фильтруем слишком низкие цены (явные ошибки)\n",
    "data = data[data['last_price'] >= 100000]\n",
    "\n",
    "# Проверим результат \n",
    "print(data['last_price'].describe())"
   ]
  },
  {
   "cell_type": "markdown",
   "metadata": {},
   "source": [
    "После фильтрации минимальная цена составляет 430,000, что вполне соответствует реалистичным значениям для рынка недвижимости.\n",
    "Средняя цена квартиры (mean) составляет 6,541,824, а медиана (50-й процентиль) — 4,650,000. Это говорит о том, что большинство квартир находятся в диапазоне от 3.4 млн до 6.8 млн, при этом присутствуют высокие выбросы, так как максимальная цена достигает 763 млн.\n",
    "Стандартное отклонение (std) достаточно высокое, что подтверждает наличие значительных ценовых вариаций."
   ]
  },
  {
   "cell_type": "code",
   "execution_count": 11,
   "metadata": {},
   "outputs": [
    {
     "name": "stdout",
     "output_type": "stream",
     "text": [
      "count    23698.000000\n",
      "mean        60.346598\n",
      "std         35.653434\n",
      "min         12.000000\n",
      "25%         40.000000\n",
      "50%         52.000000\n",
      "75%         69.875000\n",
      "max        900.000000\n",
      "Name: total_area, dtype: float64\n"
     ]
    }
   ],
   "source": [
    "# Поишем аномалии в общей площади квартир (total_area) \n",
    "print(data['total_area'].describe())"
   ]
  },
  {
   "cell_type": "markdown",
   "metadata": {},
   "source": [
    "Минимальная площадь: 12 м² — это маловато.\n",
    "Максимальная площадь: 900 м² — это многократно больше стандартного жилья, возможно ошибка.\n",
    "Средняя площадь: 60.35 м² — похоже на реальную среднюю квартиру."
   ]
  },
  {
   "cell_type": "code",
   "execution_count": 12,
   "metadata": {},
   "outputs": [
    {
     "name": "stdout",
     "output_type": "stream",
     "text": [
      "count    23461.000000\n",
      "mean        58.117608\n",
      "std         26.376200\n",
      "min         12.000000\n",
      "25%         40.000000\n",
      "50%         51.800000\n",
      "75%         68.850000\n",
      "max        197.200000\n",
      "Name: total_area, dtype: float64\n"
     ]
    }
   ],
   "source": [
    "# Фильтруем подозрительно большие квартиры (берем 99-й перцентиль)\n",
    "upper_area_limit = data['total_area'].quantile(0.99)\n",
    "data = data[data['total_area'] <= upper_area_limit]\n",
    "\n",
    "# Проверяем результат\n",
    "print(data['total_area'].describe())"
   ]
  },
  {
   "cell_type": "markdown",
   "metadata": {},
   "source": [
    "Убрали экстремально большие квартиры, оставили реалистичные значения.\n",
    "После фильтрации минимальная площадь составляет 12 кв. м., что является вполне реалистичной для небольших квартир.\n",
    "Средняя площадь квартиры (mean) составляет 58.12 кв. м., медиана (50-й процентиль) — 51.8 кв. м., что свидетельствует о том, что большинство квартир имеют площадь в пределах 40-69 кв. м.\n",
    "Стандартное отклонение (std) равно 26.38 кв. м., что также подтверждает наличие значительных вариаций в площади квартир.\n",
    "Максимальная площадь после фильтрации составляет 197.2 кв. м., что все еще является достаточно большой площадью, но уже находится в пределах нормальных значений для квартир в крупных городах."
   ]
  },
  {
   "cell_type": "markdown",
   "metadata": {},
   "source": [
    "Пропущенных значений в (is_apartment) очень много (более 20 000 из 23 699 записей).\n",
    "Скорее всего, пропуски означают, что это обычные квартиры (а не апартаменты)."
   ]
  },
  {
   "cell_type": "code",
   "execution_count": 13,
   "metadata": {},
   "outputs": [],
   "source": [
    "# Поменяем формат данных. Заменим NaN в (is_apartment) на False и приведем к типу bool.\n",
    "data['is_apartment'].fillna(False, inplace=True)\n",
    "data['is_apartment'] = data['is_apartment'].astype(bool)"
   ]
  },
  {
   "cell_type": "code",
   "execution_count": 14,
   "metadata": {},
   "outputs": [],
   "source": [
    "# Поменяем формат данных. Приведем (first_day_exposition) к типу datetime. \n",
    "data['first_day_exposition'] = pd.to_datetime(data['first_day_exposition'])"
   ]
  },
  {
   "cell_type": "code",
   "execution_count": 15,
   "metadata": {},
   "outputs": [],
   "source": [
    "# Поменяем формат данных.\n",
    "# Колонка (floors_total) имеет тип float64, хотя этажи обычно целые числа. Преобразуем в int64\n",
    "data['floors_total'] = data['floors_total'].astype('Int64')"
   ]
  },
  {
   "cell_type": "code",
   "execution_count": 16,
   "metadata": {},
   "outputs": [
    {
     "name": "stdout",
     "output_type": "stream",
     "text": [
      "total_images                0\n",
      "last_price                  0\n",
      "total_area                  0\n",
      "first_day_exposition        0\n",
      "rooms                       0\n",
      "ceiling_height              0\n",
      "floors_total               85\n",
      "living_area              1872\n",
      "floor                       0\n",
      "is_apartment                0\n",
      "studio                      0\n",
      "open_plan                   0\n",
      "kitchen_area             2247\n",
      "balcony                     0\n",
      "locality_name              49\n",
      "airports_nearest         5535\n",
      "cityCenters_nearest      5515\n",
      "parks_around3000         5514\n",
      "parks_nearest           15537\n",
      "ponds_around3000         5514\n",
      "ponds_nearest           14517\n",
      "days_exposition          3128\n",
      "dtype: int64\n"
     ]
    }
   ],
   "source": [
    "# Проведем проверку на оставшиеся пропущенные значения.\n",
    "print(data.isna().sum())"
   ]
  },
  {
   "cell_type": "markdown",
   "metadata": {},
   "source": [
    "Наибольшее количество пропусков наблюдается в столбцах airports_nearest, cityCenters_nearest, parks_around3000, parks_nearest, ponds_around3000, ponds_nearest и days_exposition. Эти столбцы имеют от нескольких тысяч пропусков до десятков тысяч. Пропуски в этих столбцах могут быть связаны с данными о расстояниях до объектов инфраструктуры, которые могут быть не указаны для всех объектов недвижимости.\n",
    "Пропуски в столбце living_area (1872 пропуска) также значимы, так как они могут касаться важного параметра для расчета стоимости жилья.\n",
    "Столбцы, такие как total_images, last_price, total_area, first_day_exposition, rooms, и ceiling_height, не содержат пропусков, что является хорошим показателем качества данных по этим параметрам."
   ]
  },
  {
   "cell_type": "code",
   "execution_count": 17,
   "metadata": {},
   "outputs": [],
   "source": [
    "# В колонке living_area (жилая площадь) 1823 пропуска\n",
    "# Рассчитаем медианное соотношение living_area / total_area и заполним по нему:\n",
    "median_ratio = (data['living_area'] / data['total_area']).median()\n",
    "data['living_area'].fillna(data['total_area'] * median_ratio, inplace=True)"
   ]
  },
  {
   "cell_type": "code",
   "execution_count": 18,
   "metadata": {},
   "outputs": [],
   "source": [
    "# В колонке floors_total (количество этажей) есть 84 пропуска, заполним их медианой\n",
    "data['floors_total'].fillna(data['floors_total'].median(), inplace=True)"
   ]
  },
  {
   "cell_type": "code",
   "execution_count": 19,
   "metadata": {},
   "outputs": [
    {
     "data": {
      "text/plain": [
       "37"
      ]
     },
     "metadata": {},
     "output_type": "display_data"
    }
   ],
   "source": [
    "# код ревьюера\n",
    "display(data[data['floors_total'] < data['floor']].shape[0])"
   ]
  },
  {
   "cell_type": "code",
   "execution_count": 20,
   "metadata": {},
   "outputs": [
    {
     "name": "stdout",
     "output_type": "stream",
     "text": [
      "0\n"
     ]
    }
   ],
   "source": [
    "# Удаляем строки, где этаж больше, чем общее количество этажей в доме\n",
    "data = data[data['floor'] <= data['floors_total']]\n",
    "\n",
    "# Проверяем, что проблема устранена, должно быть 0\n",
    "print(data[data['floors_total'] < data['floor']].shape[0])"
   ]
  },
  {
   "cell_type": "code",
   "execution_count": 21,
   "metadata": {},
   "outputs": [],
   "source": [
    "# В колонке kitchen_area (площадь кухни) есть 2204 пропуска\n",
    "# Аналогично отношению жилая/общая площадь — найдем медианное соотношение и заполним\n",
    "median_ratio = (data['kitchen_area'] / data['total_area']).median()\n",
    "data['kitchen_area'].fillna(data['total_area'] * median_ratio, inplace=True)"
   ]
  },
  {
   "cell_type": "code",
   "execution_count": 22,
   "metadata": {},
   "outputs": [
    {
     "name": "stdout",
     "output_type": "stream",
     "text": [
      "санкт-петербург                            15469\n",
      "посёлок мурино                               520\n",
      "посёлок шушары                               439\n",
      "всеволожск                                   398\n",
      "пушкин                                       364\n",
      "колпино                                      337\n",
      "посёлок парголово                            326\n",
      "гатчина                                      307\n",
      "деревня кудрово                              299\n",
      "выборг                                       237\n",
      "петергоф                                     200\n",
      "сестрорецк                                   182\n",
      "красное село                                 176\n",
      "кудрово                                      171\n",
      "деревня новое девяткино                      143\n",
      "сертолово                                    141\n",
      "ломоносов                                    133\n",
      "кириши                                       125\n",
      "сланцы                                       112\n",
      "волхов                                       111\n",
      "тосно                                        104\n",
      "кингисепп                                    104\n",
      "кронштадт                                     96\n",
      "никольское                                    93\n",
      "коммунар                                      89\n",
      "сосновый бор                                  87\n",
      "кировск                                       84\n",
      "отрадное                                      80\n",
      "посёлок бугры                                 69\n",
      "приозерск                                     66\n",
      "посёлок металлострой                          66\n",
      "деревня старая                                64\n",
      "городской посёлок янино-1                     61\n",
      "шлиссельбург                                  57\n",
      "луга                                          56\n",
      "тихвин                                        49\n",
      "поселок бугры                                 45\n",
      "посёлок стрельна                              41\n",
      "посёлок тельмана                              39\n",
      "павловск                                      38\n",
      "волосово                                      36\n",
      "поселок романовка                             36\n",
      "мурино                                        34\n",
      "поселок мурино                                34\n",
      "посёлок городского типа сиверский             29\n",
      "ивангород                                     28\n",
      "городской посёлок мга                         27\n",
      "городской посёлок новоселье                   27\n",
      "поселок городского типа имени свердлова       25\n",
      "сясьстрой                                     24\n",
      "Name: locality_name, dtype: int64\n"
     ]
    }
   ],
   "source": [
    "# Устраним неявные дубликаты в названиях населённых пунктов\n",
    "# Приводим к нижнему регистру и убираем лишние пробелы\n",
    "data['locality_name'] = data['locality_name'].str.strip().str.lower()\n",
    "\n",
    "# Смотрим уникальные названия (топ 50)\n",
    "print(data['locality_name'].value_counts().head(50))"
   ]
  },
  {
   "cell_type": "markdown",
   "metadata": {},
   "source": [
    "Есть неявные дубликаты, например:\n",
    "\"посёлок мурино\", \"мурино\", \"поселок мурино\" - похоже что это одно и то же место.\n",
    "\"поселок бугры\", \"посёлок бугры\" - разная форма написания одного и того же места.\n",
    "\"городской посёлок янино-1\", \"посёлок городского типа янино-1\" - схожие названия одного и того же места."
   ]
  },
  {
   "cell_type": "code",
   "execution_count": 23,
   "metadata": {},
   "outputs": [
    {
     "name": "stdout",
     "output_type": "stream",
     "text": [
      "До обработки: 363 уникальных значений\n"
     ]
    }
   ],
   "source": [
    "# Количество уникальных значений до обработки\n",
    "unique_localities_before = data['locality_name'].nunique()\n",
    "print(f\"До обработки: {unique_localities_before} уникальных значений\")"
   ]
  },
  {
   "cell_type": "code",
   "execution_count": 24,
   "metadata": {},
   "outputs": [
    {
     "name": "stdout",
     "output_type": "stream",
     "text": [
      "санкт-петербург                            15469\n",
      "посёлок мурино                               588\n",
      "посёлок шушары                               439\n",
      "всеволожск                                   398\n",
      "пушкин                                       364\n",
      "колпино                                      337\n",
      "посёлок парголово                            326\n",
      "гатчина                                      307\n",
      "деревня кудрово                              299\n",
      "выборг                                       237\n",
      "петергоф                                     200\n",
      "сестрорецк                                   182\n",
      "красное село                                 176\n",
      "кудрово                                      171\n",
      "деревня новое девяткино                      143\n",
      "сертолово                                    141\n",
      "ломоносов                                    133\n",
      "кириши                                       125\n",
      "посёлок бугры                                114\n",
      "сланцы                                       112\n",
      "волхов                                       111\n",
      "кингисепп                                    104\n",
      "тосно                                        104\n",
      "кронштадт                                     96\n",
      "никольское                                    93\n",
      "коммунар                                      89\n",
      "сосновый бор                                  87\n",
      "кировск                                       84\n",
      "отрадное                                      80\n",
      "посёлок металлострой                          66\n",
      "приозерск                                     66\n",
      "деревня старая                                64\n",
      "посёлок янино-1                               61\n",
      "шлиссельбург                                  57\n",
      "луга                                          56\n",
      "тихвин                                        49\n",
      "посёлок стрельна                              41\n",
      "посёлок тельмана                              39\n",
      "павловск                                      38\n",
      "поселок романовка                             36\n",
      "волосово                                      36\n",
      "посёлок городского типа сиверский             29\n",
      "ивангород                                     28\n",
      "городской посёлок новоселье                   27\n",
      "городской посёлок мга                         27\n",
      "поселок городского типа имени свердлова       25\n",
      "сясьстрой                                     24\n",
      "зеленогорск                                   24\n",
      "посёлок щеглово                               23\n",
      "посёлок городского типа кузьмоловский         22\n",
      "Name: locality_name, dtype: int64\n"
     ]
    }
   ],
   "source": [
    "# Создадим словарь для замены неявных дубликатов\n",
    "locality_corrections = {\n",
    "    'мурино': 'посёлок мурино',\n",
    "    'поселок мурино': 'посёлок мурино',\n",
    "    'поселок бугры': 'посёлок бугры',\n",
    "    'городской посёлок янино-1': 'посёлок янино-1',\n",
    "    'посёлок городского типа янино-1': 'посёлок янино-1',\n",
    "}\n",
    "\n",
    "# Применим замену\n",
    "data['locality_name'] = data['locality_name'].replace(locality_corrections)\n",
    "\n",
    "# Проверяем результат\n",
    "print(data['locality_name'].value_counts().head(50))\n"
   ]
  },
  {
   "cell_type": "markdown",
   "metadata": {},
   "source": [
    "Теперь неявные дубликаты устранены"
   ]
  },
  {
   "cell_type": "markdown",
   "metadata": {},
   "source": [
    "✔  Комментарий принял к выполнению.\n",
    "Дополнительно сравним количество уникальных значений до обработки названий населенных пунктов и после, чтобы увидеть результат проведенной работы."
   ]
  },
  {
   "cell_type": "code",
   "execution_count": 25,
   "metadata": {},
   "outputs": [
    {
     "name": "stdout",
     "output_type": "stream",
     "text": [
      "После обработки: 360 уникальных значений\n",
      "Сократилось на 3 значения\n"
     ]
    }
   ],
   "source": [
    "# Количество уникальных значений после обработки\n",
    "unique_localities_after = data['locality_name'].nunique()\n",
    "\n",
    "# Выводим разницу\n",
    "print(f\"После обработки: {unique_localities_after} уникальных значений\")\n",
    "print(f\"Сократилось на {unique_localities_before - unique_localities_after} значения\")\n"
   ]
  },
  {
   "cell_type": "markdown",
   "metadata": {},
   "source": [
    "Комментарий в работу!"
   ]
  },
  {
   "cell_type": "code",
   "execution_count": 26,
   "metadata": {},
   "outputs": [
    {
     "name": "stdout",
     "output_type": "stream",
     "text": [
      "Количество полных дубликатов: 0\n"
     ]
    }
   ],
   "source": [
    "# Подсчёт количества полных дубликатов\n",
    "duplicate_rows = data.duplicated(keep=False).sum()\n",
    "print(f\"Количество полных дубликатов: {duplicate_rows}\")"
   ]
  },
  {
   "cell_type": "markdown",
   "metadata": {},
   "source": [
    "Как видим в данных нет полных дубликатов."
   ]
  },
  {
   "cell_type": "markdown",
   "metadata": {},
   "source": [
    "В перечиленных колонках оставим пропуски - все это геоданные:\n",
    "airports_nearest \n",
    "cityCenters_nearest \n",
    "parks_around3000\n",
    "parks_nearest\n",
    "ponds_around3000 \n",
    "ponds_nearest"
   ]
  },
  {
   "cell_type": "markdown",
   "metadata": {
    "id": "QCcvyY6YAwb-"
   },
   "source": [
    "### Добавьте в таблицу новые столбцы"
   ]
  },
  {
   "cell_type": "markdown",
   "metadata": {},
   "source": [
    "Добавим в таблицу новые параметры:\n",
    "- цена одного квадратного метра;\n",
    "- день публикации объявления (0 - понедельник, 1 - вторник и т. д.);\n",
    "- месяц публикации объявления;\n",
    "- год публикации объявления;\n",
    "- тип этажа квартиры (значения — «первый», «последний», «другой»);\n",
    "- расстояние до центра города в километрах."
   ]
  },
  {
   "cell_type": "code",
   "execution_count": 27,
   "metadata": {
    "id": "Z8eJek3IAwb-"
   },
   "outputs": [
    {
     "name": "stdout",
     "output_type": "stream",
     "text": [
      "   price_per_sq_m  exposition_weekday  exposition_month  exposition_year  \\\n",
      "0       120370.37                   3                 3             2019   \n",
      "1        82920.79                   1                12             2018   \n",
      "2        92785.71                   3                 8             2015   \n",
      "3       408176.10                   4                 7             2015   \n",
      "4       100000.00                   1                 6             2018   \n",
      "\n",
      "  floor_type  cityCenters_nearest_km  \n",
      "0     другой                      16  \n",
      "1     первый                      19  \n",
      "2     другой                      14  \n",
      "3     другой                       7  \n",
      "4     другой                       8  \n"
     ]
    }
   ],
   "source": [
    "# Цена одного квадратного метра (округление до 2 знаков после запятой)\n",
    "data['price_per_sq_m'] = (data['last_price'] / data['total_area']).round(2)\n",
    "\n",
    "# День, месяц и год публикации объявления\n",
    "data['first_day_exposition'] = pd.to_datetime(data['first_day_exposition'], format='%Y-%m-%d')\n",
    "data['exposition_weekday'] = data['first_day_exposition'].dt.weekday  # 0 - понедельник, 6 - воскресенье\n",
    "data['exposition_month'] = data['first_day_exposition'].dt.month\n",
    "data['exposition_year'] = data['first_day_exposition'].dt.year\n",
    "\n",
    "# Тип этажа квартиры\n",
    "def floor_category(row):\n",
    "    if row['floor'] == 1:\n",
    "        return 'первый'\n",
    "    elif row['floor'] == row['floors_total']:\n",
    "        return 'последний'\n",
    "    else:\n",
    "        return 'другой'\n",
    "\n",
    "data['floor_type'] = data.apply(floor_category, axis=1) \n",
    "\n",
    "# Расстояние до центра города в километрах (округление до целых)\n",
    "data['cityCenters_nearest_km'] = (data['cityCenters_nearest'] / 1000).round(0).astype('Int64')\n",
    "\n",
    "# Проверяем результат\n",
    "print(data[['price_per_sq_m', 'exposition_weekday', 'exposition_month', 'exposition_year', 'floor_type', 'cityCenters_nearest_km']].head())"
   ]
  },
  {
   "cell_type": "markdown",
   "metadata": {},
   "source": [
    "На основе добавленных новых параметров можно сделать следующий промежуточный вывод:\n",
    "\n",
    "Цена одного квадратного метра:\n",
    "\n",
    "Новый столбец price_per_sq_m позволяет увидеть стоимость одного квадратного метра для каждой квартиры. Это полезный показатель для анализа цен на недвижимость и сравнений между различными объектами. Все значения округлены до одного знака после запятой.\n",
    "\n",
    "День, месяц и год публикации объявления:\n",
    "\n",
    "Были добавлены столбцы, отражающие день недели (exposition_weekday), месяц (exposition_month) и год (exposition_year) публикации объявления. Эти данные могут быть нам полезны для анализа сезонности и временных факторов, влияющих на цены.\n",
    "\n",
    "Тип этажа квартиры:\n",
    "\n",
    "Введен новый столбец floor_type, который определяет, на каком этаже находится квартира:\n",
    "«первый» — для первого этажа;\n",
    "«последний» — для последнего этажа;\n",
    "«другой» — для всех остальных этажей.\n",
    "Это разделение может быть полезным для дальнейшего анализа влияния этажа на цену квартиры.\n",
    "\n",
    "Расстояние до центра города:\n",
    "\n",
    "В столбец cityCenters_nearest_km добавлены значения расстояния до центра города в километрах. Это расстояние было преобразовано из метрик в километры и округлено до одного знака после запятой.\n",
    "Этот параметр может быть полезен для анализа зависимости цен на квартиры от их удаленности от центральных районов города.\n",
    "\n",
    "Все дополнительные параметры обеспечивают более глубокое понимание различных факторов, влияющих на стоимость недвижимости."
   ]
  },
  {
   "cell_type": "markdown",
   "metadata": {
    "id": "pPyxrKWTAwb-"
   },
   "source": [
    "### Проведите исследовательский анализ данных"
   ]
  },
  {
   "cell_type": "code",
   "execution_count": 28,
   "metadata": {
    "id": "V2f0D3kLAwb-"
   },
   "outputs": [
    {
     "name": "stdout",
     "output_type": "stream",
     "text": [
      "         total_area   living_area  kitchen_area    last_price         rooms  \\\n",
      "count  23424.000000  23424.000000  23424.000000  2.342400e+04  23424.000000   \n",
      "mean      58.116647     33.258649     10.268339  6.017044e+06      2.033897   \n",
      "std       26.379223     17.210373      5.323707  6.220896e+06      0.994479   \n",
      "min       12.000000      2.000000      1.300000  4.300000e+05      0.000000   \n",
      "25%       40.000000     19.000000      7.000000  3.400000e+06      1.000000   \n",
      "50%       51.800000     30.000000      9.000000  4.600000e+06      2.000000   \n",
      "75%       68.812500     42.000000     11.800000  6.700000e+06      3.000000   \n",
      "max      197.200000    164.700000     93.200000  3.300000e+08     11.000000   \n",
      "\n",
      "       ceiling_height  floors_total  cityCenters_nearest  parks_nearest  \n",
      "count    23424.000000  23424.000000         17916.000000    7915.000000  \n",
      "mean         2.692866     10.710681         14280.776122     491.851421  \n",
      "std          0.205631      6.598727          8598.741413     343.183704  \n",
      "min          2.500000      1.000000           181.000000       1.000000  \n",
      "25%          2.600000      5.000000          9425.000000     288.000000  \n",
      "50%          2.650000      9.000000         13149.000000     456.000000  \n",
      "75%          2.700000     16.000000         16320.750000     613.000000  \n",
      "max          5.000000     60.000000         65968.000000    3190.000000  \n"
     ]
    }
   ],
   "source": [
    "# Выведем такие показатели, как среднее, медиана, стандартное отклонение, минимальные и максимальные значения.\n",
    "columns_to_describe = [\n",
    "    'total_area', 'living_area', 'kitchen_area', 'last_price', 'rooms', \n",
    "    'ceiling_height', 'floors_total', 'cityCenters_nearest', 'parks_nearest'\n",
    "]\n",
    "\n",
    "print(data[columns_to_describe].describe())"
   ]
  },
  {
   "cell_type": "markdown",
   "metadata": {},
   "source": [
    "Данные показывают большое разнообразие объектов недвижимости, что характерно для рынка недвижимости с различными типами жилья, ценами, площадями и расположением."
   ]
  },
  {
   "cell_type": "code",
   "execution_count": 29,
   "metadata": {},
   "outputs": [
    {
     "data": {
      "image/png": "[encoded data removed]",
      "text/plain": [
       "<Figure size 1080x720 with 9 Axes>"
      ]
     },
     "metadata": {
      "needs_background": "light"
     },
     "output_type": "display_data"
    }
   ],
   "source": [
    "# Анализ распределений (гистограммы), оценим визуально распределение данных.\n",
    "import matplotlib.pyplot as plt\n",
    "\n",
    "data[columns_to_describe].hist(figsize=(15, 10), bins=30)\n",
    "plt.show()"
   ]
  },
  {
   "cell_type": "code",
   "execution_count": 30,
   "metadata": {
    "scrolled": false
   },
   "outputs": [
    {
     "data": {
      "image/png": "[encoded data removed]",
      "text/plain": [
       "<Figure size 1080x3240 with 18 Axes>"
      ]
     },
     "metadata": {
      "needs_background": "light"
     },
     "output_type": "display_data"
    }
   ],
   "source": [
    "# Определяем параметры для анализа\n",
    "columns_to_describe = [\n",
    "    'total_area', 'living_area', 'kitchen_area', 'last_price', \n",
    "    'rooms', 'ceiling_height', 'floors_total', 'cityCenters_nearest', 'parks_nearest'\n",
    "]\n",
    "\n",
    "# Определяем, какие переменные дискретные\n",
    "discrete_columns = ['rooms', 'floors_total']  # Категориальные данные, лучше bar plot\n",
    "continuous_columns = list(set(columns_to_describe) - set(discrete_columns))  # Остальные\n",
    "\n",
    "# Создаем графики: два столбца, по два графика на каждый параметр\n",
    "fig, axes = plt.subplots(len(columns_to_describe), 2, figsize=(15, 5 * len(columns_to_describe)))\n",
    "\n",
    "for i, column in enumerate(columns_to_describe):\n",
    "    if column in discrete_columns:\n",
    "        # Столбчатая диаграмма (bar plot) для дискретных данных\n",
    "        value_counts = data[column].value_counts().sort_index()\n",
    "        axes[i, 0].bar(value_counts.index, value_counts.values, color='blue', alpha=0.7)\n",
    "        axes[i, 0].set_title(f'Распределение {column} (до очистки)')\n",
    "        axes[i, 0].set_xlabel(column)\n",
    "        axes[i, 0].set_ylabel('Частота')\n",
    "\n",
    "        # Исключаем редкие значения (например, ниже 1-го и выше 99-го процентиля)\n",
    "        filtered_data = data[(data[column] >= data[column].quantile(0.01)) & \n",
    "                             (data[column] <= data[column].quantile(0.99))]\n",
    "        value_counts_filtered = filtered_data[column].value_counts().sort_index()\n",
    "\n",
    "        axes[i, 1].bar(value_counts_filtered.index, value_counts_filtered.values, color='green', alpha=0.7)\n",
    "        axes[i, 1].set_title(f'Распределение {column} (после очистки)')\n",
    "        axes[i, 1].set_xlabel(column)\n",
    "        axes[i, 1].set_ylabel('Частота')\n",
    "\n",
    "    else:\n",
    "        # Гистограмма (hist) для непрерывных данных\n",
    "        axes[i, 0].hist(data[column], bins=30, color='blue', alpha=0.7)\n",
    "        axes[i, 0].set_title(f'Распределение {column} (до очистки)')\n",
    "        axes[i, 0].set_xlabel(column)\n",
    "        axes[i, 0].set_ylabel('Частота')\n",
    "\n",
    "        # Исключаем выбросы (1-й и 99-й процентили)\n",
    "        lower_bound, upper_bound = data[column].quantile([0.01, 0.99])\n",
    "        filtered_data = data[(data[column] >= lower_bound) & (data[column] <= upper_bound)]\n",
    "\n",
    "        axes[i, 1].hist(filtered_data[column], bins=30, color='green', alpha=0.7)\n",
    "        axes[i, 1].set_title(f'Распределение {column} (после очистки)')\n",
    "        axes[i, 1].set_xlabel(column)\n",
    "        axes[i, 1].set_ylabel('Частота')\n",
    "\n",
    "plt.tight_layout()\n",
    "plt.show()\n"
   ]
  },
  {
   "cell_type": "markdown",
   "metadata": {},
   "source": [
    "Вывод: \n",
    "\n",
    "Большинство квартир среднего размера с жилой площадью (50–60 м²), в основном до 100 м². Доля жилой площади составляет примерно 57% от общей площади. Тем не менее есть редкие крупные квартиры. Большинство кухонь 7–12 м². Есть выбросы 40+ м², вероятно это элитные квартиры.\n",
    "\n",
    "Основная масса объектов до 10 млн рублей. Средняя цена: 6 млн рублей. Длинный хвост до 300 млн - это редкие элитные квартиры. \n",
    "\n",
    "По количеству комнат - большинство квартир 1–3-комнатные.\n",
    "\n",
    "В основном стандартные потолки высотой 2.6–2.7 м. Выбросы 4+ м (лофты, старый фонд).\n",
    "\n",
    "Большинство домов 5–16 этажей: 5-этажные (старый фонд) и 9-16 этажей (новостройки). \n",
    "\n",
    "Большая часть квартир в пределах 15 км от центра. Длинный хвост до 60 км - это загородная недвижимость.\n",
    "\n",
    "Основная масса до 1 км до парка. Длинный хвост до 3 км → районы в дали от парков.\n",
    "\n",
    "Заключение:\n",
    "\n",
    "Данные имеют сильную асимметрию, особенно по цене, площади и расстоянию.\n",
    "Большинство квартир: 2-3 комнаты, 50-60 м², кухня около 10 м², в 10-20 км от центра. Разброс цен большой."
   ]
  },
  {
   "cell_type": "code",
   "execution_count": 31,
   "metadata": {},
   "outputs": [
    {
     "data": {
      "image/png": "[encoded data removed]",
      "text/plain": [
       "<Figure size 720x360 with 1 Axes>"
      ]
     },
     "metadata": {
      "needs_background": "light"
     },
     "output_type": "display_data"
    }
   ],
   "source": [
    "# Анализ скорости продажи квартир\n",
    "# Построим гистограмму распределения days_exposition\n",
    "\n",
    "import seaborn as sns\n",
    "\n",
    "# Построение гистограммы\n",
    "plt.figure(figsize=(10, 5))\n",
    "sns.histplot(data['days_exposition'], bins=100, kde=True)\n",
    "\n",
    "# Ограничим ось X для удобства восприятия\n",
    "plt.xlim(0, 1000)  \n",
    "plt.xlabel(\"Количество дней на продажу\")\n",
    "plt.ylabel(\"Частота\")\n",
    "plt.title(\"Распределение времени продажи квартир\")\n",
    "plt.show()"
   ]
  },
  {
   "cell_type": "markdown",
   "metadata": {},
   "source": [
    "Анализируя данные можно сделать вывод, что в большинстве случаев квартиры продаются в первые 2-3 месяца. Квартиры которые продаются более 400 дней встречаются не так часто, как правило это либо неликвидное жилье либо цена выше рынка."
   ]
  },
  {
   "cell_type": "code",
   "execution_count": 32,
   "metadata": {},
   "outputs": [
    {
     "name": "stdout",
     "output_type": "stream",
     "text": [
      "Среднее количество дней: 179.7\n",
      "Медианное количество дней: 95.0\n"
     ]
    }
   ],
   "source": [
    "# Рассчитаем среднее и медиану days_exposition\n",
    "mean_days = data['days_exposition'].mean()\n",
    "median_days = data['days_exposition'].median()\n",
    "\n",
    "print(f\"Среднее количество дней: {mean_days:.1f}\")\n",
    "print(f\"Медианное количество дней: {median_days}\")"
   ]
  },
  {
   "cell_type": "markdown",
   "metadata": {},
   "source": [
    "Анализ и выводы:\n",
    "Среднее показывает общее ожидание, но может быть искажено выбросами.\n",
    "Медиана — более надежная метрика, так как она показывает \"типичное\" время продажи.\n",
    "Основная масса квартир продается за 2-4 месяца, быстрые продажи укладываются в 1 месяц, а долгие могут длиться более 8-10 месяцев."
   ]
  },
  {
   "cell_type": "markdown",
   "metadata": {},
   "source": [
    "Комментарий принят в работу!"
   ]
  },
  {
   "cell_type": "code",
   "execution_count": 33,
   "metadata": {},
   "outputs": [
    {
     "name": "stdout",
     "output_type": "stream",
     "text": [
      "Среднее количество дней: 180\n",
      "Медианное количество дней: 95\n",
      "25-й перцентиль (быстрая продажа): 45 дней\n",
      "75-й перцентиль (долгая продажа): 230 дней\n"
     ]
    }
   ],
   "source": [
    "# Рассчитаем основные показатели\n",
    "mean_days = round(data['days_exposition'].mean())  # Округляем до целого\n",
    "median_days = round(data['days_exposition'].median())\n",
    "q1 = round(data['days_exposition'].quantile(0.25))  # 25-й процентиль (Q1)\n",
    "q3 = round(data['days_exposition'].quantile(0.75))  # 75-й процентиль (Q3)\n",
    "\n",
    "print(f\"Среднее количество дней: {mean_days}\")\n",
    "print(f\"Медианное количество дней: {median_days}\")\n",
    "print(f\"25-й перцентиль (быстрая продажа): {q1} дней\")\n",
    "print(f\"75-й перцентиль (долгая продажа): {q3} дней\")"
   ]
  },
  {
   "cell_type": "markdown",
   "metadata": {},
   "source": [
    "✔ Обновленный промежуточный вывод:\n",
    "Основная масса квартир продается в дипазоне 1.5–7.5 месяцев. Быстрая продажа занимает менее 45 дней, а сделки, длившиеся более 230 дней, можно считать долгими. Среднее значение 180 дней выше медианы, что говорит о наличии выбросов – долгих продаж, влияющих на среднее. Медианное время продажи – 95 дней (чуть больше 3 месяцев), что более показательно для типичной сделки."
   ]
  },
  {
   "cell_type": "code",
   "execution_count": 34,
   "metadata": {},
   "outputs": [
    {
     "name": "stdout",
     "output_type": "stream",
     "text": [
      "last_price            1.000000\n",
      "total_area            0.657701\n",
      "living_area           0.553200\n",
      "kitchen_area          0.535665\n",
      "rooms                 0.378228\n",
      "floor_type_encoded    0.045442\n",
      "exposition_month      0.001943\n",
      "exposition_weekday   -0.013401\n",
      "exposition_year      -0.036363\n",
      "Name: last_price, dtype: float64\n"
     ]
    }
   ],
   "source": [
    "# Определим факторы, которые больше всего влияют на общую (полную) стоимость объекта last_price\n",
    "# Посчитаем коэффициент корреляции Пирсона, который показывает, насколько параметры линейно связаны с ценой.\n",
    "#  total_area - общая площадь;\n",
    "#  living_area - жилая площадь;\n",
    "#  kitchen_area - площадь кухни;\n",
    "#  rooms - количество комнат;\n",
    "#  floor_type - тип этажа, на котором расположена квартира (первый, последний, другой);\n",
    "#  exposition_weekday,exposition_month, exposition_year - дата размещения (день недели, месяц, год).\n",
    "\n",
    "# Cтолбец с типом этажа (например, floor_type) содержит категориальные данные (\"первый\", \"последний\", \"другой\")\n",
    "# Коэффициент корреляции рассчитывается только для числовых значений\n",
    "# Преобразуем floor_type в числовой формат.\n",
    "\n",
    "data['floor_type_encoded'] = data['floor_type'].map({'первый': 0, 'другой': 1, 'последний': 2})\n",
    "\n",
    "\n",
    "correlation_matrix = data[['last_price', 'total_area', 'living_area', 'kitchen_area', \n",
    "                           'rooms', 'floor_type_encoded', 'exposition_year', 'exposition_month', 'exposition_weekday']].corr()\n",
    "print(correlation_matrix['last_price'].sort_values(ascending=False))\n"
   ]
  },
  {
   "cell_type": "code",
   "execution_count": 35,
   "metadata": {},
   "outputs": [
    {
     "data": {
      "image/png": "[encoded data removed]",
      "text/plain": [
       "<Figure size 1080x864 with 4 Axes>"
      ]
     },
     "metadata": {
      "needs_background": "light"
     },
     "output_type": "display_data"
    },
    {
     "data": {
      "image/png": "[encoded data removed]",
      "text/plain": [
       "<Figure size 576x432 with 1 Axes>"
      ]
     },
     "metadata": {
      "needs_background": "light"
     },
     "output_type": "display_data"
    },
    {
     "data": {
      "image/png": "[encoded data removed]",
      "text/plain": [
       "<Figure size 720x432 with 1 Axes>"
      ]
     },
     "metadata": {
      "needs_background": "light"
     },
     "output_type": "display_data"
    }
   ],
   "source": [
    "# Определяем параметры для визуализации\n",
    "features = ['total_area', 'living_area', 'kitchen_area', 'rooms']\n",
    "\n",
    "fig, axes = plt.subplots(2, 2, figsize=(15, 12))  # Создаём сетку графиков\n",
    "axes = axes.flatten()\n",
    "\n",
    "# Строим scatterplot для непрерывных переменных\n",
    "for i, feature in enumerate(features):\n",
    "    sns.scatterplot(data=data, x=feature, y='last_price', alpha=0.3, ax=axes[i])\n",
    "    axes[i].set_title(f'Зависимость цены от {feature}')\n",
    "    axes[i].set_xlabel(feature)\n",
    "    axes[i].set_ylabel('last_price')\n",
    "\n",
    "plt.tight_layout()\n",
    "plt.show()\n",
    "\n",
    "# Boxplot для категориального признака \"тип этажа\"\n",
    "plt.figure(figsize=(8, 6))\n",
    "sns.boxplot(data=data, x='floor_type_encoded', y='last_price')\n",
    "plt.title('Распределение цены по типу этажа')\n",
    "plt.xlabel('Тип этажа (0 - первый, 1 - другой, 2 - последний)')\n",
    "plt.ylabel('last_price')\n",
    "plt.show()\n",
    "\n",
    "# Boxplot для месяца размещения объявления\n",
    "plt.figure(figsize=(10, 6))\n",
    "sns.boxplot(data=data, x='exposition_month', y='last_price')\n",
    "plt.title('Распределение цены по месяцу размещения')\n",
    "plt.xlabel('Месяц размещения')\n",
    "plt.ylabel('last_price')\n",
    "plt.show()\n"
   ]
  },
  {
   "cell_type": "code",
   "execution_count": null,
   "id": "0e4dc3d5",
   "metadata": {},
   "outputs": [
    {
     "data": {
      "image/png": "[encoded data removed]",
      "text/plain": [
       "<Figure size 792x504 with 1 Axes>"
      ]
     },
     "metadata": {
      "needs_background": "light"
     },
     "output_type": "display_data"
    }
   ],
   "source": [
    "# код\n",
    "\n",
    "data.groupby('floor_type')['last_price'].mean().plot(kind='bar', figsize=(11, 7), color='#73A9AD')\n",
    "\n",
    "plt.xticks(rotation=0)\n",
    "plt.title('Средняя цена квартиры в зависимости от категории этажа', size=15)\n",
    "plt.xlabel('Категория этажа', size=12)\n",
    "plt.ylabel('Средняя цена квартиры', size=12)\n",
    "\n",
    "plt.show()"
   ]
  },
  {
   "cell_type": "markdown",
   "metadata": {},
   "source": [
    "Выводы по влиянию факторов на стоимость:\n",
    "Общая площадь (total_area) — 0.66. Это самый сильный фактор: чем больше площадь, тем дороже квартира.\n",
    "Жилая площадь (living_area) — 0.55. Также имеет значительное влияние, но слабее, чем общая площадь.\n",
    "Площадь кухни (kitchen_area) — 0.54. Важный фактор, особенно для больших квартир.\n",
    "Количество комнат (rooms) — 0.38. Количество комнат влияет, но слабее, чем площадь\n",
    "Тип этажа (floor_type_encoded) — 0.045. Очень слабая корреляция, почти не влияет на цену."
   ]
  },
  {
   "cell_type": "markdown",
   "metadata": {},
   "source": [
    "Анализ графиков:\n",
    "\n",
    "Зависимость цены от площади:\n",
    "Общая площадь (total_area) показывает наибольшую корреляцию с ценой. Видно, что с увеличением площади стоимость также возрастает, хотя есть выбросы, особенно в диапазоне больших площадей.\n",
    "\n",
    "Жилая площадь (living_area) и площадь кухни (kitchen_area) также имеют положительную зависимость от цены, но связь менее выражена по сравнению с общей площадью.\n",
    "\n",
    "Количество комнат (rooms) демонстрирует слабую зависимость, так как цена растет не строго линейно с увеличением числа комнат. Возможны случаи небольших дорогих квартир с малым числом комнат.\n",
    "\n",
    "Распределение цены по типу этажа:\n",
    "Тип этажа (первый, другой, последний) практически не оказывает значимого влияния на цену.\n",
    "Наблюдаются выбросы (очень дорогие квартиры) во всех категориях, но медиана стоимости остается примерно одинаковой.\n",
    "\n",
    "Распределение цены по месяцу размещения:\n",
    "Явных сезонных колебаний в цене не наблюдается, что подтверждается низким коэффициентом корреляции.\n",
    "Выбросы присутствуют в разных месяцах, но медианы цен остаются стабильными.\n",
    "\n",
    "Выводы:\n",
    "Общая площадь — ключевой фактор, влияющий на цену. Жилая площадь и площадь кухни также значимы, но в меньшей степени. Количество комнат влияет на цену, но слабее, чем площадь. Вероятно, ценность определяется функциональностью, а не просто числом комнат. Тип этажа почти не влияет на цену. Возможно, другие характеристики (расположение, инфраструктура) оказывают большее влияние. Сезонность размещения объявлений не оказывает значительного влияния на цену. Цены остаются стабильными в течение года."
   ]
  },
  {
   "cell_type": "code",
   "execution_count": 37,
   "metadata": {},
   "outputs": [
    {
     "name": "stdout",
     "output_type": "stream",
     "text": [
      "locality_name\n",
      "санкт-петербург      113562.054344\n",
      "пушкин               103122.538929\n",
      "деревня кудрово       92473.547559\n",
      "посёлок парголово     90332.262638\n",
      "посёлок мурино        86018.851173\n",
      "посёлок шушары        78551.344647\n",
      "колпино               75333.295816\n",
      "гатчина               68746.146515\n",
      "всеволожск            68654.473970\n",
      "выборг                58141.909325\n",
      "Name: price_per_sq_m, dtype: float64\n"
     ]
    }
   ],
   "source": [
    "# Выполним анализ средней цены квадратного метра в 10 населённых пунктах с наибольшим числом объявлений.\n",
    "# Группируем по населенным пунктам и считаем количество объявлений\n",
    "top_localities = data['locality_name'].value_counts().head(10).index\n",
    "\n",
    "# Фильтруем данные по этим населённым пунктам\n",
    "top_data = data[data['locality_name'].isin(top_localities)]\n",
    "\n",
    "# Считаем среднюю цену за квадратный метр для каждого населённого пункта\n",
    "price_per_sqm = top_data.groupby('locality_name')['price_per_sq_m'].mean().sort_values(ascending=False)\n",
    "\n",
    "# Вывод результатов\n",
    "print(price_per_sqm)\n"
   ]
  },
  {
   "cell_type": "markdown",
   "metadata": {},
   "source": [
    "Выводы:\n",
    "Самая высокая стоимость квадратного метра — в Санкт-Петербурге.\n",
    "Самая низкая стоимость квадратного метра — в Выборге."
   ]
  },
  {
   "cell_type": "code",
   "execution_count": 38,
   "metadata": {},
   "outputs": [
    {
     "name": "stdout",
     "output_type": "stream",
     "text": [
      "['санкт-петербург' 'посёлок шушары' 'посёлок янино-1' 'посёлок парголово'\n",
      " 'посёлок мурино' 'ломоносов' 'сертолово' 'петергоф' 'пушкин'\n",
      " 'деревня кудрово' 'коммунар' 'колпино'\n",
      " 'поселок городского типа красный бор' 'гатчина' 'деревня фёдоровское'\n",
      " 'выборг' 'кронштадт' 'кировск' 'деревня новое девяткино'\n",
      " 'посёлок металлострой' 'посёлок городского типа лебяжье'\n",
      " 'посёлок городского типа сиверский' 'поселок молодцово'\n",
      " 'поселок городского типа кузьмоловский'\n",
      " 'садовое товарищество новая ропша' 'павловск' 'деревня пикколово'\n",
      " 'всеволожск' 'волхов' 'кингисепп' 'приозерск' 'сестрорецк'\n",
      " 'деревня куттузи' 'посёлок аннино' 'поселок городского типа ефимовский'\n",
      " 'посёлок плодовое' 'деревня заклинье' 'поселок торковичи'\n",
      " 'поселок первомайское' 'красное село' 'посёлок понтонный' 'сясьстрой'\n",
      " 'деревня старая' 'деревня лесколово' 'посёлок новый свет' 'сланцы'\n",
      " 'село путилово' 'ивангород' 'шлиссельбург' 'никольское' 'зеленогорск'\n",
      " 'сосновый бор' 'поселок новый свет' 'деревня оржицы' 'деревня кальтино'\n",
      " 'кудрово' 'поселок романовка' 'посёлок бугры'\n",
      " 'поселок городского типа рощино' 'кириши' 'луга' 'волосово' 'отрадное'\n",
      " 'село павлово' 'поселок оредеж' 'село копорье'\n",
      " 'посёлок городского типа красный бор' 'посёлок молодёжное' 'тихвин'\n",
      " 'посёлок победа' 'деревня нурма' 'поселок городского типа синявино'\n",
      " 'тосно' 'посёлок городского типа кузьмоловский' 'посёлок стрельна'\n",
      " 'бокситогорск' 'посёлок александровская' 'деревня лопухинка' 'пикалёво'\n",
      " 'поселок терволово' 'поселок городского типа советский' 'подпорожье'\n",
      " 'посёлок петровское' 'посёлок городского типа токсово' 'поселок сельцо'\n",
      " 'посёлок городского типа вырица' 'деревня кипень' 'деревня келози'\n",
      " 'деревня вартемяги' 'посёлок тельмана' 'поселок севастьяново'\n",
      " 'городской поселок большая ижора' nan 'городской посёлок павлово'\n",
      " 'деревня агалатово' 'посёлок новогорелово'\n",
      " 'городской посёлок лесогорский' 'деревня лаголово' 'поселок цвелодубово'\n",
      " 'поселок городского типа рахья' 'поселок городского типа вырица'\n",
      " 'деревня белогорка' 'поселок заводской' 'городской посёлок новоселье'\n",
      " 'деревня большие колпаны' 'деревня горбунки' 'деревня батово'\n",
      " 'деревня заневка' 'деревня иссад' 'приморск'\n",
      " 'городской посёлок фёдоровское' 'деревня мистолово' 'новая ладога'\n",
      " 'поселок зимитицы' 'поселок барышево' 'деревня разметелево'\n",
      " 'поселок городского типа имени свердлова' 'деревня пеники'\n",
      " 'поселок рябово' 'деревня пудомяги' 'поселок станции корнево'\n",
      " 'деревня низино' 'деревня бегуницы' 'посёлок поляны'\n",
      " 'городской посёлок мга' 'поселок елизаветино'\n",
      " 'посёлок городского типа кузнечное' 'деревня колтуши'\n",
      " 'поселок запорожское' 'посёлок городского типа рощино'\n",
      " 'деревня гостилицы' 'деревня малое карлино' 'посёлок мичуринское'\n",
      " 'посёлок городского типа имени морозова' 'посёлок песочный'\n",
      " 'посёлок сосново' 'деревня аро' 'поселок ильичёво'\n",
      " 'посёлок городского типа тайцы' 'деревня малое верево' 'деревня извара'\n",
      " 'поселок станции вещево' 'село паша' 'деревня калитино'\n",
      " 'посёлок городского типа ульяновка' 'деревня чудской бор'\n",
      " 'поселок городского типа дубровка' 'деревня мины' 'поселок войсковицы'\n",
      " 'посёлок городского типа имени свердлова' 'деревня коркино'\n",
      " 'посёлок ропша' 'поселок городского типа приладожский' 'посёлок щеглово'\n",
      " 'посёлок гаврилово' 'лодейное поле' 'деревня рабитицы'\n",
      " 'поселок городского типа никольский' 'деревня кузьмолово'\n",
      " 'деревня малые колпаны' 'поселок тельмана' 'посёлок петро-славянка'\n",
      " 'городской посёлок назия' 'посёлок репино' 'посёлок ильичёво'\n",
      " 'поселок углово' 'поселок старая малукса' 'садовое товарищество рахья'\n",
      " 'поселок аннино' 'поселок победа' 'деревня меньково'\n",
      " 'деревня старые бегуницы' 'посёлок сапёрный' 'поселок семрино'\n",
      " 'поселок гаврилово' 'поселок глажево' 'поселок кобринское'\n",
      " 'деревня гарболово' 'деревня юкки' 'поселок станции приветнинское'\n",
      " 'деревня мануйлово' 'деревня пчева' 'поселок поляны' 'поселок цвылёво'\n",
      " 'поселок мельниково' 'посёлок пудость' 'посёлок усть-луга' 'светогорск'\n",
      " 'любань' 'поселок селезнёво' 'поселок городского типа рябово'\n",
      " 'каменногорск' 'деревня кривко' 'поселок глебычево' 'деревня парицы'\n",
      " 'поселок жилпосёлок' 'посёлок городского типа мга'\n",
      " 'городской поселок янино-1' 'посёлок войскорово' 'село никольское'\n",
      " 'посёлок терволово' 'поселок стеклянный' 'посёлок городского типа важины'\n",
      " 'посёлок мыза-ивановка' 'село русско-высоцкое'\n",
      " 'поселок городского типа лебяжье' 'поселок городского типа форносово'\n",
      " 'село старая ладога' 'поселок житково' 'городской посёлок виллози'\n",
      " 'деревня лампово' 'деревня шпаньково' 'деревня лаврики' 'посёлок сумино'\n",
      " 'посёлок возрождение' 'деревня старосиверская' 'посёлок кикерино'\n",
      " 'поселок возрождение' 'деревня старое хинколово' 'посёлок пригородный'\n",
      " 'посёлок торфяное' 'городской посёлок будогощь' 'поселок суходолье'\n",
      " 'поселок красная долина' 'деревня хапо-ое'\n",
      " 'поселок городского типа дружная горка' 'поселок лисий нос'\n",
      " 'деревня яльгелево' 'посёлок стеклянный' 'село рождествено'\n",
      " 'деревня старополье' 'посёлок левашово' 'деревня сяськелево'\n",
      " 'деревня камышовка'\n",
      " 'садоводческое некоммерческое товарищество лесная поляна'\n",
      " 'поселок жилгородок' 'посёлок городского типа павлово' 'деревня ялгино'\n",
      " 'поселок новый учхоз' 'городской посёлок рощино' 'поселок гончарово'\n",
      " 'поселок почап' 'посёлок сапёрное' 'посёлок платформа 69-й километр'\n",
      " 'поселок каложицы' 'деревня фалилеево' 'деревня пельгора'\n",
      " 'поселок городского типа лесогорский' 'деревня торошковичи'\n",
      " 'посёлок белоостров' 'посёлок алексеевка' 'поселок серебрянский'\n",
      " 'поселок лукаши' 'поселок петровское' 'деревня щеглово'\n",
      " 'поселок мичуринское' 'деревня тарасово' 'поселок кингисеппский'\n",
      " 'посёлок при железнодорожной станции вещево' 'поселок ушаки'\n",
      " 'деревня котлы' 'деревня сижно' 'деревня торосово'\n",
      " 'посёлок форт красная горка' 'поселок городского типа токсово'\n",
      " 'деревня новолисино' 'посёлок станции громово' 'деревня глинка'\n",
      " 'посёлок мельниково' 'поселок городского типа назия'\n",
      " 'деревня старая пустошь' 'поселок коммунары' 'поселок починок'\n",
      " 'посёлок городского типа вознесенье' 'деревня разбегаево'\n",
      " 'посёлок городского типа рябово' 'поселок гладкое'\n",
      " 'посёлок при железнодорожной станции приветнинское' 'поселок тёсово-4'\n",
      " 'посёлок жилгородок' 'деревня бор' 'посёлок коробицыно'\n",
      " 'деревня большая вруда' 'деревня курковицы' 'посёлок лисий нос'\n",
      " 'городской посёлок советский' 'посёлок кобралово' 'деревня суоранда'\n",
      " 'поселок кобралово' 'поселок городского типа кондратьево'\n",
      " 'коттеджный поселок счастье' 'поселок любань' 'деревня реброво'\n",
      " 'деревня зимитицы' 'деревня тойворово' 'поселок семиозерье'\n",
      " 'поселок лесное' 'поселок совхозный' 'поселок усть-луга'\n",
      " 'посёлок ленинское' 'посёлок суйда' 'посёлок городского типа форносово'\n",
      " 'деревня нижние осельки' 'посёлок станции свирь' 'поселок перово'\n",
      " 'высоцк' 'поселок гарболово' 'село шум' 'поселок котельский'\n",
      " 'поселок станции лужайка' 'деревня большая пустомержа'\n",
      " 'поселок красносельское' 'деревня вахнова кара' 'деревня пижма'\n",
      " 'коттеджный поселок кивеннапа север' 'поселок коробицыно'\n",
      " 'поселок ромашки' 'посёлок перово' 'деревня каськово' 'деревня куровицы'\n",
      " 'посёлок плоское' 'поселок сумино'\n",
      " 'поселок городского типа большая ижора' 'поселок кирпичное'\n",
      " 'деревня ям-тесово' 'деревня раздолье' 'деревня терпилицы'\n",
      " 'посёлок шугозеро' 'деревня ваганово' 'поселок пушное'\n",
      " 'садовое товарищество садко' 'посёлок усть-ижора' 'деревня выскатка'\n",
      " 'городской посёлок свирьстрой' 'поселок громово' 'деревня кисельня'\n",
      " 'посёлок старая малукса' 'деревня трубников бор' 'поселок калитино'\n",
      " 'посёлок высокоключевой' 'садовое товарищество приладожский'\n",
      " 'посёлок пансионат зелёный бор' 'деревня ненимяки'\n",
      " 'поселок пансионат зелёный бор' 'деревня снегирёвка' 'деревня рапполово'\n",
      " 'деревня пустынка' 'поселок рабитицы' 'деревня большой сабск'\n",
      " 'деревня русско' 'деревня лупполово' 'деревня большое рейзино'\n",
      " 'деревня малая романовка' 'поселок дружноселье' 'поселок пчевжа'\n",
      " 'поселок володарское' 'деревня нижняя' 'коттеджный посёлок лесное'\n",
      " 'деревня тихковицы' 'деревня борисова грива' 'посёлок дзержинского']\n"
     ]
    }
   ],
   "source": [
    "# Выполним анализ зависимости средней стоимости квартир от расстояния до центра Санкт-Петербурга\n",
    "# Убедимся, как название города Санкт-Петербург записано в данных \n",
    "print(data['locality_name'].unique())"
   ]
  },
  {
   "cell_type": "code",
   "execution_count": 39,
   "metadata": {},
   "outputs": [
    {
     "data": {
      "image/png": "[encoded data removed]",
      "text/plain": [
       "<Figure size 720x360 with 1 Axes>"
      ]
     },
     "metadata": {
      "needs_background": "light"
     },
     "output_type": "display_data"
    }
   ],
   "source": [
    "# Фильтруем только квартиры в Санкт-Петербурге\n",
    "spb_flats = data[data['locality_name'] == 'санкт-петербург']\n",
    "\n",
    "# Группируем по километрам и считаем среднюю цену\n",
    "# Округлим расстояние cityCenters_nearest_km до целого числа и посчитаем среднюю цену для каждой группы.\n",
    "price_by_distance = spb_flats.groupby('cityCenters_nearest_km')['last_price'].mean()\n",
    "\n",
    "# Визуализация данных\n",
    "plt.figure(figsize=(10, 5))\n",
    "plt.plot(price_by_distance.index, price_by_distance.values, marker='o', linestyle='-')\n",
    "plt.xlabel('Расстояние до центра (км)')\n",
    "plt.ylabel('Средняя стоимость (млн рублей)')\n",
    "plt.title('Зависимость стоимости квартиры от расстояния до центра СПб')\n",
    "plt.grid()\n",
    "plt.show()\n"
   ]
  },
  {
   "cell_type": "markdown",
   "metadata": {},
   "source": [
    "Судя по графику, можно заметить несколько интересных трендов:\n",
    "Вблизи центра (до 3 км) цена значительно выше, но наблюдаются резкие скачки в районе 6-7 км.\n",
    "После 9 км цены становятся стабильнее и идут на снижение.\n",
    "Есть аномальные пики в районе 27-30 км, возможно, что это элитные загородные ЖК или просто выбросы."
   ]
  },
  {
   "cell_type": "markdown",
   "metadata": {
    "id": "h7VpzkIDAwb-"
   },
   "source": [
    "### Напишите общий вывод"
   ]
  },
  {
   "cell_type": "markdown",
   "metadata": {
    "id": "3H4lnp_KAwb-"
   },
   "source": [
    "Вывод по исследовательскому анализу данных о недвижимости Санкт-Петербурга и параметров, влияющих на цену:\n",
    "\n",
    "Влияние расстояния до центра\n",
    "\n",
    "Самые дорогие квартиры расположены в пределах 2-3 км от центра.\n",
    "После 8-9 км цены становятся стабильнее и идут на снижение.\n",
    "Есть выбросы в районе 27 км, возможно, элитные загородные ЖК.\n",
    "Факторы, влияющие на стоимость квартиры:\n",
    "Общая площадь - ключевой фактор: чем больше, тем дороже.\n",
    "Жилая площадь - важный, но слабее общего метража.\n",
    "Площадь кухни - особенно значима для больших квартир.\n",
    "Количество комнат - влияет, но не так сильно, как площадь.\n",
    "Этаж - слабая корреляция, почти не влияет.\n",
    "\n",
    "Распределение цен и характеристик квартир:\n",
    "\n",
    "Большинство квартир среднего размера (50–60 м²), основная масса до 100 м².\n",
    "Стандартные кухни около 12 м², редкие выбросы 40+ м² (элитная недвижимость).\n",
    "Основная масса квартир до 10 млн рублей, средняя цена ~6 млн рублей.\n",
    "Встречаются цены до 300 млн - это элитные объекты.\n",
    "\n",
    "По комнатам: преобладают 1–3-комнатные квартиры.\n",
    "\n",
    "Дополнительные наблюдения:\n",
    "\n",
    "Типичная квартира: 2-3 комнаты, 50-60 м², кухня ~10 м², в пределах 10-20 км от центра.\n",
    "Потолки в основном 2.6–2.7 м, но встречаются выбросы 4+ м (лофты, старый фонд).\n",
    "Большинство домов 5–16 этажей (старый фонд и новостройки).\n",
    "Основная часть квартир в пределах 15 км от центра, встречаются до 60 км (загородка).\n",
    "Близость к паркам: большинство квартир в пределах 1 км, удаленность от парков 3 км - районы без зелени.\n",
    "Данные демонстрируют сильную асимметрию, особенно по цене, площади и расстоянию.\n",
    "\n",
    "Заключение:\n",
    "\n",
    "Разброс цен большой, но главные тренды подтверждают, что цена падает с увеличением расстояния до центра, а элитное жилье сильно выделяется по характеристикам. "
   ]
  },
  {
   "cell_type": "markdown",
   "metadata": {
    "id": "A90mc0BgAwb-"
   },
   "source": [
    "**Чек-лист готовности проекта**\n",
    "\n",
    "Поставьте 'x' в выполненных пунктах. Далее нажмите Shift+Enter."
   ]
  },
  {
   "cell_type": "markdown",
   "metadata": {
    "id": "ME3sTWm6Awb-"
   },
   "source": [
    "- [x]  Файл с данными открыт.\n",
    "- [x]  Файл с данными изучен: выведены первые строки, использован метод `info()`, построены гистограммы.\n",
    "- [x]  Найдены пропущенные значения.\n",
    "- [x]  Пропущенные значения заполнены там, где это возможно.\n",
    "- [x]  Объяснено, какие пропущенные значения обнаружены.\n",
    "- [x]  В каждом столбце установлен корректный тип данных.\n",
    "- [x]  Объяснено, в каких столбцах изменён тип данных и почему.\n",
    "- [x]  Устранены неявные дубликаты в названиях населённых пунктов.\n",
    "- [x]  Обработаны редкие и выбивающиеся значения (аномалии).\n",
    "- [x]  В таблицу добавлены новые параметры:\n",
    "       – цена одного квадратного метра;\n",
    "       – день публикации объявления (0 - понедельник, 1 - вторник и т. д.);\n",
    "       – месяц публикации объявления;\n",
    "       – год публикации объявления;\n",
    "       – тип этажа квартиры (значения — «первый», «последний», «другой»);\n",
    "       – расстояние до центра города в километрах.\n",
    "- [x]  Изучены и описаны параметры:\n",
    "        - общая площадь;\n",
    "        - жилая площадь;\n",
    "        - площадь кухни;\n",
    "        - цена объекта;\n",
    "        - количество комнат;\n",
    "        - высота потолков;\n",
    "        - тип этажа квартиры («первый», «последний», «другой»);\n",
    "        - общее количество этажей в доме;\n",
    "        - расстояние до центра города в метрах;\n",
    "        - расстояние до ближайшего парка.\n",
    "- [x]  Выполнено задание «Изучите, как быстро продавались квартиры (столбец `days_exposition`)»:\n",
    "    - построена гистограмма;\n",
    "    - рассчитаны среднее и медиана;\n",
    "    - описано, сколько обычно занимает продажа и указано, какие продажи можно считать быстрыми, а какие — необычно долгими.\n",
    "- [x]  Выполнено задание «Определите факторы, которые больше всего влияют на общую (полную) стоимость объекта». Построены графики, которые показывают зависимость цены от параметров:\n",
    "        - общая площадь;\n",
    "        - жилая площадь;\n",
    "        - площадь кухни;\n",
    "        - количество комнат;\n",
    "        - тип этажа, на котором расположена квартира (первый, последний, другой);\n",
    "        - дата размещения (день недели, месяц, год).\n",
    "- [x]  Выполнено задание «Посчитайте среднюю цену одного квадратного метра в 10 населённых пунктах с наибольшим числом объявлений»:\n",
    "    - выделены населённые пункты с самой высокой и низкой стоимостью квадратного метра.\n",
    "- [x]  Выполнено задание «Выделите квартиры в Санкт-Петербурге с помощью столбца `locality_name` и вычислите их среднюю стоимость на разном удалении от центра»:\n",
    "    -  учтён каждый километр расстояния, известны средние цены квартир в одном километре от центра, в двух и так далее;\n",
    "    -  описано, как стоимость объекта зависит от расстояния до центра города;\n",
    "    -  построен график изменения средней цены для каждого километра от центра Петербурга.\n",
    "- [x]  На каждом этапе сделаны промежуточные выводы.\n",
    "- [x]  В конце проекта сделан общий вывод."
   ]
  }
 ],
 "metadata": {
  "ExecuteTimeLog": [
   {
    "duration": 395,
    "start_time": "2025-03-04T03:37:31.779Z"
   },
   {
    "duration": 97,
    "start_time": "2025-03-04T03:38:49.082Z"
   },
   {
    "duration": 13,
    "start_time": "2025-03-04T03:40:05.886Z"
   },
   {
    "duration": 94,
    "start_time": "2025-03-04T03:49:51.057Z"
   },
   {
    "duration": 12,
    "start_time": "2025-03-04T03:50:46.645Z"
   },
   {
    "duration": 11,
    "start_time": "2025-03-04T03:51:09.827Z"
   },
   {
    "duration": 83,
    "start_time": "2025-03-04T03:51:14.354Z"
   },
   {
    "duration": 17,
    "start_time": "2025-03-04T03:51:15.187Z"
   },
   {
    "duration": 433,
    "start_time": "2025-03-04T03:51:47.352Z"
   },
   {
    "duration": 3,
    "start_time": "2025-03-04T03:51:47.787Z"
   },
   {
    "duration": 4,
    "start_time": "2025-03-04T03:51:47.791Z"
   },
   {
    "duration": 4,
    "start_time": "2025-03-04T03:51:47.796Z"
   },
   {
    "duration": 96,
    "start_time": "2025-03-04T03:51:47.802Z"
   },
   {
    "duration": 69,
    "start_time": "2025-03-04T03:51:47.899Z"
   },
   {
    "duration": 8,
    "start_time": "2025-03-04T03:52:03.142Z"
   },
   {
    "duration": 8,
    "start_time": "2025-03-04T03:52:10.655Z"
   },
   {
    "duration": 3,
    "start_time": "2025-03-04T03:52:21.133Z"
   },
   {
    "duration": 3,
    "start_time": "2025-03-04T03:52:21.596Z"
   },
   {
    "duration": 3,
    "start_time": "2025-03-04T03:52:21.784Z"
   },
   {
    "duration": 3,
    "start_time": "2025-03-04T03:52:21.978Z"
   },
   {
    "duration": 86,
    "start_time": "2025-03-04T03:52:22.186Z"
   },
   {
    "duration": 19,
    "start_time": "2025-03-04T03:52:22.434Z"
   },
   {
    "duration": 83,
    "start_time": "2025-03-04T03:52:42.321Z"
   },
   {
    "duration": 15,
    "start_time": "2025-03-04T03:52:42.798Z"
   },
   {
    "duration": 3,
    "start_time": "2025-03-04T03:56:55.111Z"
   },
   {
    "duration": 2,
    "start_time": "2025-03-04T03:59:14.351Z"
   },
   {
    "duration": 3,
    "start_time": "2025-03-04T04:00:33.429Z"
   },
   {
    "duration": 10,
    "start_time": "2025-03-04T04:16:46.366Z"
   },
   {
    "duration": 8,
    "start_time": "2025-03-04T04:19:26.991Z"
   },
   {
    "duration": 2,
    "start_time": "2025-03-04T04:34:07.245Z"
   },
   {
    "duration": 34,
    "start_time": "2025-03-04T04:39:02.199Z"
   },
   {
    "duration": 10,
    "start_time": "2025-03-04T04:39:51.612Z"
   },
   {
    "duration": 11,
    "start_time": "2025-03-04T04:40:18.289Z"
   },
   {
    "duration": 11,
    "start_time": "2025-03-04T04:41:24.624Z"
   },
   {
    "duration": 11,
    "start_time": "2025-03-04T04:43:38.501Z"
   },
   {
    "duration": 5,
    "start_time": "2025-03-04T04:44:00.302Z"
   },
   {
    "duration": 4,
    "start_time": "2025-03-04T04:44:11.291Z"
   },
   {
    "duration": 10,
    "start_time": "2025-03-04T04:45:10.691Z"
   },
   {
    "duration": 10,
    "start_time": "2025-03-04T04:48:15.826Z"
   },
   {
    "duration": 15,
    "start_time": "2025-03-04T04:48:54.315Z"
   },
   {
    "duration": 11,
    "start_time": "2025-03-04T04:49:01.307Z"
   },
   {
    "duration": 2,
    "start_time": "2025-03-04T04:51:15.849Z"
   },
   {
    "duration": 5,
    "start_time": "2025-03-04T04:51:42.338Z"
   },
   {
    "duration": 4,
    "start_time": "2025-03-04T04:52:49.531Z"
   },
   {
    "duration": 9,
    "start_time": "2025-03-04T04:54:48.210Z"
   },
   {
    "duration": 366,
    "start_time": "2025-03-04T09:03:30.453Z"
   },
   {
    "duration": 2,
    "start_time": "2025-03-04T09:03:30.821Z"
   },
   {
    "duration": 33,
    "start_time": "2025-03-04T09:03:30.824Z"
   },
   {
    "duration": 18,
    "start_time": "2025-03-04T09:03:30.858Z"
   },
   {
    "duration": 120,
    "start_time": "2025-03-04T09:03:30.879Z"
   },
   {
    "duration": 15,
    "start_time": "2025-03-04T09:03:31.000Z"
   },
   {
    "duration": 18,
    "start_time": "2025-03-04T09:03:31.017Z"
   },
   {
    "duration": 21,
    "start_time": "2025-03-04T09:03:31.036Z"
   },
   {
    "duration": 10,
    "start_time": "2025-03-04T09:03:31.059Z"
   },
   {
    "duration": 5,
    "start_time": "2025-03-04T09:03:31.071Z"
   },
   {
    "duration": 23,
    "start_time": "2025-03-04T09:03:31.077Z"
   },
   {
    "duration": 8,
    "start_time": "2025-03-04T09:03:31.101Z"
   },
   {
    "duration": 109,
    "start_time": "2025-03-04T09:06:26.968Z"
   },
   {
    "duration": 7,
    "start_time": "2025-03-04T09:09:38.879Z"
   },
   {
    "duration": 3,
    "start_time": "2025-03-04T09:11:08.264Z"
   },
   {
    "duration": 9,
    "start_time": "2025-03-04T09:12:01.202Z"
   },
   {
    "duration": 3,
    "start_time": "2025-03-04T09:18:28.118Z"
   },
   {
    "duration": 8,
    "start_time": "2025-03-04T09:36:48.858Z"
   },
   {
    "duration": 8,
    "start_time": "2025-03-04T09:45:46.623Z"
   },
   {
    "duration": 6,
    "start_time": "2025-03-04T09:48:49.822Z"
   },
   {
    "duration": 12,
    "start_time": "2025-03-04T09:49:08.544Z"
   },
   {
    "duration": 7,
    "start_time": "2025-03-04T09:52:35.193Z"
   },
   {
    "duration": 13,
    "start_time": "2025-03-04T09:57:56.074Z"
   },
   {
    "duration": 14,
    "start_time": "2025-03-04T09:58:25.654Z"
   },
   {
    "duration": 11,
    "start_time": "2025-03-04T10:00:11.356Z"
   },
   {
    "duration": 7,
    "start_time": "2025-03-04T10:03:21.665Z"
   },
   {
    "duration": 2,
    "start_time": "2025-03-04T10:11:35.967Z"
   },
   {
    "duration": 2,
    "start_time": "2025-03-04T10:14:49.035Z"
   },
   {
    "duration": 6,
    "start_time": "2025-03-04T10:15:20.135Z"
   },
   {
    "duration": 47,
    "start_time": "2025-03-04T14:05:40.576Z"
   },
   {
    "duration": 359,
    "start_time": "2025-03-04T14:05:46.510Z"
   },
   {
    "duration": 3,
    "start_time": "2025-03-04T14:05:46.871Z"
   },
   {
    "duration": 4,
    "start_time": "2025-03-04T14:05:46.875Z"
   },
   {
    "duration": 3,
    "start_time": "2025-03-04T14:05:46.881Z"
   },
   {
    "duration": 99,
    "start_time": "2025-03-04T14:05:46.886Z"
   },
   {
    "duration": 15,
    "start_time": "2025-03-04T14:05:46.986Z"
   },
   {
    "duration": 2,
    "start_time": "2025-03-04T14:05:47.003Z"
   },
   {
    "duration": 3,
    "start_time": "2025-03-04T14:05:47.006Z"
   },
   {
    "duration": 8,
    "start_time": "2025-03-04T14:05:47.010Z"
   },
   {
    "duration": 2,
    "start_time": "2025-03-04T14:05:47.020Z"
   },
   {
    "duration": 103,
    "start_time": "2025-03-04T14:05:47.023Z"
   },
   {
    "duration": 2,
    "start_time": "2025-03-04T14:05:47.127Z"
   },
   {
    "duration": 5,
    "start_time": "2025-03-04T14:05:47.131Z"
   },
   {
    "duration": 8,
    "start_time": "2025-03-04T14:05:47.139Z"
   },
   {
    "duration": 10,
    "start_time": "2025-03-04T14:05:47.148Z"
   },
   {
    "duration": 6,
    "start_time": "2025-03-04T14:05:47.160Z"
   },
   {
    "duration": 12,
    "start_time": "2025-03-04T14:05:47.168Z"
   },
   {
    "duration": 6,
    "start_time": "2025-03-04T14:05:47.181Z"
   },
   {
    "duration": 14,
    "start_time": "2025-03-04T14:05:47.188Z"
   },
   {
    "duration": 5,
    "start_time": "2025-03-04T14:05:47.203Z"
   },
   {
    "duration": 10,
    "start_time": "2025-03-04T14:05:47.210Z"
   },
   {
    "duration": 37,
    "start_time": "2025-03-04T14:05:47.221Z"
   },
   {
    "duration": 5,
    "start_time": "2025-03-04T14:05:47.260Z"
   },
   {
    "duration": 5,
    "start_time": "2025-03-04T14:05:47.266Z"
   },
   {
    "duration": 5,
    "start_time": "2025-03-04T14:07:14.389Z"
   },
   {
    "duration": 27,
    "start_time": "2025-03-04T14:14:34.758Z"
   },
   {
    "duration": 16,
    "start_time": "2025-03-04T14:21:50.678Z"
   },
   {
    "duration": 15,
    "start_time": "2025-03-04T14:22:07.856Z"
   },
   {
    "duration": 22,
    "start_time": "2025-03-04T14:22:15.139Z"
   },
   {
    "duration": 65,
    "start_time": "2025-03-04T14:23:05.558Z"
   },
   {
    "duration": 135,
    "start_time": "2025-03-04T14:32:45.360Z"
   },
   {
    "duration": 421,
    "start_time": "2025-03-04T14:34:11.152Z"
   },
   {
    "duration": 340,
    "start_time": "2025-03-04T14:37:53.314Z"
   },
   {
    "duration": 49,
    "start_time": "2025-03-04T14:50:03.927Z"
   },
   {
    "duration": 1697,
    "start_time": "2025-03-04T14:57:38.943Z"
   },
   {
    "duration": 3,
    "start_time": "2025-03-04T15:47:21.969Z"
   },
   {
    "duration": 1104,
    "start_time": "2025-03-04T15:48:20.058Z"
   },
   {
    "duration": 6,
    "start_time": "2025-03-04T15:49:11.333Z"
   },
   {
    "duration": 7,
    "start_time": "2025-03-04T15:51:28.691Z"
   },
   {
    "duration": 397,
    "start_time": "2025-03-04T18:41:33.382Z"
   },
   {
    "duration": 2,
    "start_time": "2025-03-04T18:41:33.781Z"
   },
   {
    "duration": 16,
    "start_time": "2025-03-04T18:41:33.784Z"
   },
   {
    "duration": 6,
    "start_time": "2025-03-04T18:41:33.801Z"
   },
   {
    "duration": 104,
    "start_time": "2025-03-04T18:41:33.810Z"
   },
   {
    "duration": 15,
    "start_time": "2025-03-04T18:41:33.916Z"
   },
   {
    "duration": 3,
    "start_time": "2025-03-04T18:41:33.933Z"
   },
   {
    "duration": 21,
    "start_time": "2025-03-04T18:41:33.937Z"
   },
   {
    "duration": 9,
    "start_time": "2025-03-04T18:41:33.959Z"
   },
   {
    "duration": 2,
    "start_time": "2025-03-04T18:41:33.970Z"
   },
   {
    "duration": 16,
    "start_time": "2025-03-04T18:41:33.973Z"
   },
   {
    "duration": 5,
    "start_time": "2025-03-04T18:41:33.990Z"
   },
   {
    "duration": 5,
    "start_time": "2025-03-04T18:41:33.996Z"
   },
   {
    "duration": 8,
    "start_time": "2025-03-04T18:41:34.004Z"
   },
   {
    "duration": 13,
    "start_time": "2025-03-04T18:41:34.013Z"
   },
   {
    "duration": 34,
    "start_time": "2025-03-04T18:41:34.028Z"
   },
   {
    "duration": 81,
    "start_time": "2025-03-04T18:41:34.063Z"
   },
   {
    "duration": 27,
    "start_time": "2025-03-04T18:41:34.145Z"
   },
   {
    "duration": 33,
    "start_time": "2025-03-04T18:41:34.174Z"
   },
   {
    "duration": 7,
    "start_time": "2025-03-04T18:41:34.208Z"
   },
   {
    "duration": 7,
    "start_time": "2025-03-04T18:41:34.216Z"
   },
   {
    "duration": 21,
    "start_time": "2025-03-04T18:41:34.224Z"
   },
   {
    "duration": 14,
    "start_time": "2025-03-04T18:41:34.247Z"
   },
   {
    "duration": 12,
    "start_time": "2025-03-04T18:41:34.262Z"
   },
   {
    "duration": 178,
    "start_time": "2025-03-04T18:41:34.276Z"
   },
   {
    "duration": 16,
    "start_time": "2025-03-04T18:41:34.456Z"
   },
   {
    "duration": 2,
    "start_time": "2025-03-04T18:41:34.474Z"
   },
   {
    "duration": 24,
    "start_time": "2025-03-04T18:41:34.478Z"
   },
   {
    "duration": 464,
    "start_time": "2025-03-04T18:41:34.503Z"
   },
   {
    "duration": 46,
    "start_time": "2025-03-04T18:41:34.969Z"
   },
   {
    "duration": 1519,
    "start_time": "2025-03-04T18:41:35.016Z"
   },
   {
    "duration": 1126,
    "start_time": "2025-03-04T18:41:36.536Z"
   },
   {
    "duration": 5,
    "start_time": "2025-03-04T18:41:37.664Z"
   },
   {
    "duration": 103,
    "start_time": "2025-03-04T18:52:02.439Z"
   },
   {
    "duration": 371,
    "start_time": "2025-03-04T18:52:12.708Z"
   },
   {
    "duration": 2,
    "start_time": "2025-03-04T18:52:13.081Z"
   },
   {
    "duration": 3,
    "start_time": "2025-03-04T18:52:13.085Z"
   },
   {
    "duration": 2,
    "start_time": "2025-03-04T18:52:13.090Z"
   },
   {
    "duration": 97,
    "start_time": "2025-03-04T18:52:13.094Z"
   },
   {
    "duration": 15,
    "start_time": "2025-03-04T18:52:13.193Z"
   },
   {
    "duration": 2,
    "start_time": "2025-03-04T18:52:13.210Z"
   },
   {
    "duration": 3,
    "start_time": "2025-03-04T18:52:13.214Z"
   },
   {
    "duration": 9,
    "start_time": "2025-03-04T18:52:13.219Z"
   },
   {
    "duration": 3,
    "start_time": "2025-03-04T18:52:13.230Z"
   },
   {
    "duration": 12,
    "start_time": "2025-03-04T18:52:13.259Z"
   },
   {
    "duration": 2,
    "start_time": "2025-03-04T18:52:13.273Z"
   },
   {
    "duration": 4,
    "start_time": "2025-03-04T18:52:13.277Z"
   },
   {
    "duration": 8,
    "start_time": "2025-03-04T18:52:13.283Z"
   },
   {
    "duration": 12,
    "start_time": "2025-03-04T18:52:13.292Z"
   },
   {
    "duration": 7,
    "start_time": "2025-03-04T18:52:13.306Z"
   },
   {
    "duration": 49,
    "start_time": "2025-03-04T18:52:13.315Z"
   },
   {
    "duration": 6,
    "start_time": "2025-03-04T18:52:13.366Z"
   },
   {
    "duration": 8,
    "start_time": "2025-03-04T18:52:13.374Z"
   },
   {
    "duration": 7,
    "start_time": "2025-03-04T18:52:13.383Z"
   },
   {
    "duration": 7,
    "start_time": "2025-03-04T18:52:13.392Z"
   },
   {
    "duration": 126,
    "start_time": "2025-03-04T18:52:13.400Z"
   },
   {
    "duration": 89,
    "start_time": "2025-03-04T18:52:13.528Z"
   },
   {
    "duration": 5,
    "start_time": "2025-03-04T18:52:13.619Z"
   },
   {
    "duration": 28,
    "start_time": "2025-03-04T18:52:13.626Z"
   },
   {
    "duration": 16,
    "start_time": "2025-03-04T18:52:13.655Z"
   },
   {
    "duration": 3,
    "start_time": "2025-03-04T18:52:13.672Z"
   },
   {
    "duration": 4,
    "start_time": "2025-03-04T18:52:13.676Z"
   },
   {
    "duration": 415,
    "start_time": "2025-03-04T18:52:13.681Z"
   },
   {
    "duration": 60,
    "start_time": "2025-03-04T18:52:14.098Z"
   },
   {
    "duration": 1523,
    "start_time": "2025-03-04T18:52:14.159Z"
   },
   {
    "duration": 1076,
    "start_time": "2025-03-04T18:52:15.684Z"
   },
   {
    "duration": 5,
    "start_time": "2025-03-04T18:52:16.761Z"
   },
   {
    "duration": 114,
    "start_time": "2025-03-04T18:52:16.768Z"
   },
   {
    "duration": 4,
    "start_time": "2025-03-04T18:55:23.635Z"
   },
   {
    "duration": 12,
    "start_time": "2025-03-04T18:57:23.399Z"
   },
   {
    "duration": 13,
    "start_time": "2025-03-04T19:03:54.044Z"
   },
   {
    "duration": 13,
    "start_time": "2025-03-04T19:06:19.253Z"
   },
   {
    "duration": 3,
    "start_time": "2025-03-04T19:06:40.354Z"
   },
   {
    "duration": 107,
    "start_time": "2025-03-04T19:07:08.014Z"
   },
   {
    "duration": 16,
    "start_time": "2025-03-04T19:07:31.550Z"
   },
   {
    "duration": 9,
    "start_time": "2025-03-04T19:08:25.145Z"
   },
   {
    "duration": 5,
    "start_time": "2025-03-04T19:08:40.677Z"
   },
   {
    "duration": 17,
    "start_time": "2025-03-04T19:19:43.052Z"
   },
   {
    "duration": 16,
    "start_time": "2025-03-04T19:20:25.237Z"
   },
   {
    "duration": 15,
    "start_time": "2025-03-04T19:20:48.337Z"
   },
   {
    "duration": 16,
    "start_time": "2025-03-04T19:21:08.579Z"
   },
   {
    "duration": 5,
    "start_time": "2025-03-04T19:21:13.798Z"
   },
   {
    "duration": 16,
    "start_time": "2025-03-04T19:25:05.453Z"
   },
   {
    "duration": 17,
    "start_time": "2025-03-04T19:30:35.779Z"
   },
   {
    "duration": 385,
    "start_time": "2025-03-05T02:57:15.981Z"
   },
   {
    "duration": 2,
    "start_time": "2025-03-05T02:57:16.368Z"
   },
   {
    "duration": 21,
    "start_time": "2025-03-05T02:57:16.372Z"
   },
   {
    "duration": 5,
    "start_time": "2025-03-05T02:57:16.394Z"
   },
   {
    "duration": 102,
    "start_time": "2025-03-05T02:57:16.400Z"
   },
   {
    "duration": 15,
    "start_time": "2025-03-05T02:57:16.503Z"
   },
   {
    "duration": 3,
    "start_time": "2025-03-05T02:57:16.519Z"
   },
   {
    "duration": 4,
    "start_time": "2025-03-05T02:57:16.523Z"
   },
   {
    "duration": 11,
    "start_time": "2025-03-05T02:57:16.529Z"
   },
   {
    "duration": 3,
    "start_time": "2025-03-05T02:57:16.557Z"
   },
   {
    "duration": 23,
    "start_time": "2025-03-05T02:57:16.561Z"
   },
   {
    "duration": 2,
    "start_time": "2025-03-05T02:57:16.586Z"
   },
   {
    "duration": 9,
    "start_time": "2025-03-05T02:57:16.589Z"
   },
   {
    "duration": 7,
    "start_time": "2025-03-05T02:57:16.601Z"
   },
   {
    "duration": 11,
    "start_time": "2025-03-05T02:57:16.610Z"
   },
   {
    "duration": 7,
    "start_time": "2025-03-05T02:57:16.622Z"
   },
   {
    "duration": 38,
    "start_time": "2025-03-05T02:57:16.630Z"
   },
   {
    "duration": 5,
    "start_time": "2025-03-05T02:57:16.670Z"
   },
   {
    "duration": 9,
    "start_time": "2025-03-05T02:57:16.677Z"
   },
   {
    "duration": 17,
    "start_time": "2025-03-05T02:57:16.688Z"
   },
   {
    "duration": 7,
    "start_time": "2025-03-05T02:57:16.706Z"
   },
   {
    "duration": 4,
    "start_time": "2025-03-05T02:57:16.715Z"
   },
   {
    "duration": 23,
    "start_time": "2025-03-05T02:57:16.721Z"
   },
   {
    "duration": 6,
    "start_time": "2025-03-05T02:57:16.758Z"
   },
   {
    "duration": 29,
    "start_time": "2025-03-05T02:57:16.765Z"
   },
   {
    "duration": 15,
    "start_time": "2025-03-05T02:57:16.795Z"
   },
   {
    "duration": 59,
    "start_time": "2025-03-05T02:57:16.812Z"
   },
   {
    "duration": 9,
    "start_time": "2025-03-05T02:57:16.873Z"
   },
   {
    "duration": 380,
    "start_time": "2025-03-05T02:57:16.884Z"
   },
   {
    "duration": 46,
    "start_time": "2025-03-05T02:57:17.265Z"
   },
   {
    "duration": 1417,
    "start_time": "2025-03-05T02:57:17.313Z"
   },
   {
    "duration": 1016,
    "start_time": "2025-03-05T02:57:18.732Z"
   },
   {
    "duration": 5,
    "start_time": "2025-03-05T02:57:19.758Z"
   },
   {
    "duration": 88,
    "start_time": "2025-03-05T02:57:19.764Z"
   },
   {
    "duration": 16,
    "start_time": "2025-03-05T02:57:19.854Z"
   },
   {
    "duration": 10,
    "start_time": "2025-03-05T03:03:33.777Z"
   },
   {
    "duration": 9,
    "start_time": "2025-03-05T03:03:56.390Z"
   },
   {
    "duration": 9,
    "start_time": "2025-03-05T03:04:45.211Z"
   },
   {
    "duration": 9,
    "start_time": "2025-03-05T03:04:54.678Z"
   },
   {
    "duration": 102,
    "start_time": "2025-03-05T03:06:00.591Z"
   },
   {
    "duration": 9,
    "start_time": "2025-03-05T03:06:12.742Z"
   },
   {
    "duration": 136,
    "start_time": "2025-03-05T03:06:47.834Z"
   },
   {
    "duration": 9,
    "start_time": "2025-03-05T03:07:17.069Z"
   },
   {
    "duration": 21,
    "start_time": "2025-03-05T03:07:43.617Z"
   },
   {
    "duration": 29,
    "start_time": "2025-03-05T03:13:23.670Z"
   },
   {
    "duration": 29,
    "start_time": "2025-03-05T03:14:55.685Z"
   },
   {
    "duration": 31,
    "start_time": "2025-03-05T03:15:01.903Z"
   },
   {
    "duration": 143,
    "start_time": "2025-03-05T03:16:47.051Z"
   },
   {
    "duration": 6,
    "start_time": "2025-03-05T03:24:11.320Z"
   },
   {
    "duration": 4,
    "start_time": "2025-03-05T03:24:49.303Z"
   },
   {
    "duration": 31,
    "start_time": "2025-03-05T03:25:56.829Z"
   },
   {
    "duration": 136,
    "start_time": "2025-03-05T03:25:59.895Z"
   },
   {
    "duration": 6,
    "start_time": "2025-03-05T03:28:30.148Z"
   },
   {
    "duration": 12,
    "start_time": "2025-03-05T03:29:23.500Z"
   },
   {
    "duration": 6,
    "start_time": "2025-03-05T03:31:14.460Z"
   },
   {
    "duration": 164,
    "start_time": "2025-03-05T03:32:12.853Z"
   },
   {
    "duration": 6,
    "start_time": "2025-03-05T03:32:50.931Z"
   },
   {
    "duration": 14,
    "start_time": "2025-03-05T03:32:59.261Z"
   },
   {
    "duration": 11,
    "start_time": "2025-03-05T03:34:56.402Z"
   },
   {
    "duration": 15,
    "start_time": "2025-03-05T03:36:45.809Z"
   },
   {
    "duration": 12,
    "start_time": "2025-03-05T03:37:17.669Z"
   },
   {
    "duration": 14,
    "start_time": "2025-03-05T03:37:52.394Z"
   },
   {
    "duration": 7,
    "start_time": "2025-03-05T03:38:13.648Z"
   },
   {
    "duration": 169,
    "start_time": "2025-03-05T03:38:53.519Z"
   },
   {
    "duration": 149,
    "start_time": "2025-03-05T03:49:17.231Z"
   },
   {
    "duration": 161,
    "start_time": "2025-03-05T03:50:24.030Z"
   },
   {
    "duration": 236,
    "start_time": "2025-03-05T03:50:57.895Z"
   },
   {
    "duration": 96,
    "start_time": "2025-03-05T04:22:34.696Z"
   },
   {
    "duration": 8,
    "start_time": "2025-03-05T04:29:14.655Z"
   },
   {
    "duration": 3,
    "start_time": "2025-03-05T04:29:48.613Z"
   },
   {
    "duration": 10,
    "start_time": "2025-03-05T04:32:16.070Z"
   },
   {
    "duration": 5,
    "start_time": "2025-03-05T04:46:59.164Z"
   },
   {
    "duration": 426,
    "start_time": "2025-03-05T06:10:35.344Z"
   },
   {
    "duration": 3,
    "start_time": "2025-03-05T06:10:35.771Z"
   },
   {
    "duration": 24,
    "start_time": "2025-03-05T06:10:35.775Z"
   },
   {
    "duration": 130,
    "start_time": "2025-03-05T06:10:35.801Z"
   },
   {
    "duration": 8,
    "start_time": "2025-03-05T06:10:35.934Z"
   },
   {
    "duration": 23,
    "start_time": "2025-03-05T06:10:35.943Z"
   },
   {
    "duration": 16,
    "start_time": "2025-03-05T06:10:35.968Z"
   },
   {
    "duration": 29,
    "start_time": "2025-03-05T06:10:35.986Z"
   },
   {
    "duration": 10,
    "start_time": "2025-03-05T06:10:36.016Z"
   },
   {
    "duration": 6,
    "start_time": "2025-03-05T06:10:36.028Z"
   },
   {
    "duration": 36,
    "start_time": "2025-03-05T06:10:36.036Z"
   },
   {
    "duration": 36,
    "start_time": "2025-03-05T06:10:36.074Z"
   },
   {
    "duration": 17,
    "start_time": "2025-03-05T06:10:36.112Z"
   },
   {
    "duration": 6,
    "start_time": "2025-03-05T06:10:36.132Z"
   },
   {
    "duration": 20,
    "start_time": "2025-03-05T06:10:36.140Z"
   },
   {
    "duration": 7,
    "start_time": "2025-03-05T06:10:36.162Z"
   },
   {
    "duration": 17,
    "start_time": "2025-03-05T06:10:36.170Z"
   },
   {
    "duration": 12,
    "start_time": "2025-03-05T06:10:36.188Z"
   },
   {
    "duration": 31,
    "start_time": "2025-03-05T06:10:36.202Z"
   },
   {
    "duration": 23,
    "start_time": "2025-03-05T06:10:36.235Z"
   },
   {
    "duration": 450,
    "start_time": "2025-03-05T06:10:36.259Z"
   },
   {
    "duration": 52,
    "start_time": "2025-03-05T06:10:36.711Z"
   },
   {
    "duration": 1657,
    "start_time": "2025-03-05T06:10:36.765Z"
   },
   {
    "duration": 1141,
    "start_time": "2025-03-05T06:10:38.423Z"
   },
   {
    "duration": 5,
    "start_time": "2025-03-05T06:10:39.566Z"
   },
   {
    "duration": 96,
    "start_time": "2025-03-05T06:10:39.573Z"
   },
   {
    "duration": 97,
    "start_time": "2025-03-05T06:10:39.670Z"
   },
   {
    "duration": 8,
    "start_time": "2025-03-05T06:10:39.769Z"
   },
   {
    "duration": 189,
    "start_time": "2025-03-05T06:10:39.779Z"
   },
   {
    "duration": 5,
    "start_time": "2025-03-05T06:21:49.243Z"
   },
   {
    "duration": 393,
    "start_time": "2025-03-05T06:33:35.184Z"
   },
   {
    "duration": 2,
    "start_time": "2025-03-05T06:33:35.580Z"
   },
   {
    "duration": 32,
    "start_time": "2025-03-05T06:33:35.583Z"
   },
   {
    "duration": 176,
    "start_time": "2025-03-05T06:33:35.617Z"
   },
   {
    "duration": 9,
    "start_time": "2025-03-05T06:33:35.795Z"
   },
   {
    "duration": 21,
    "start_time": "2025-03-05T06:33:35.805Z"
   },
   {
    "duration": 3,
    "start_time": "2025-03-05T06:33:35.828Z"
   },
   {
    "duration": 40,
    "start_time": "2025-03-05T06:33:35.833Z"
   },
   {
    "duration": 10,
    "start_time": "2025-03-05T06:33:35.875Z"
   },
   {
    "duration": 11,
    "start_time": "2025-03-05T06:33:35.887Z"
   },
   {
    "duration": 12,
    "start_time": "2025-03-05T06:33:35.900Z"
   },
   {
    "duration": 6,
    "start_time": "2025-03-05T06:33:35.914Z"
   },
   {
    "duration": 10,
    "start_time": "2025-03-05T06:33:35.921Z"
   },
   {
    "duration": 25,
    "start_time": "2025-03-05T06:33:35.934Z"
   },
   {
    "duration": 9,
    "start_time": "2025-03-05T06:33:35.960Z"
   },
   {
    "duration": 25,
    "start_time": "2025-03-05T06:33:35.971Z"
   },
   {
    "duration": 10,
    "start_time": "2025-03-05T06:33:35.998Z"
   },
   {
    "duration": 20,
    "start_time": "2025-03-05T06:33:36.009Z"
   },
   {
    "duration": 19,
    "start_time": "2025-03-05T06:33:36.031Z"
   },
   {
    "duration": 28,
    "start_time": "2025-03-05T06:33:36.051Z"
   },
   {
    "duration": 17,
    "start_time": "2025-03-05T06:33:36.080Z"
   },
   {
    "duration": 421,
    "start_time": "2025-03-05T06:33:36.098Z"
   },
   {
    "duration": 52,
    "start_time": "2025-03-05T06:33:36.521Z"
   },
   {
    "duration": 1445,
    "start_time": "2025-03-05T06:33:36.575Z"
   },
   {
    "duration": 1044,
    "start_time": "2025-03-05T06:33:38.021Z"
   },
   {
    "duration": 5,
    "start_time": "2025-03-05T06:33:39.066Z"
   },
   {
    "duration": 19,
    "start_time": "2025-03-05T06:33:39.072Z"
   },
   {
    "duration": 32,
    "start_time": "2025-03-05T06:33:39.092Z"
   },
   {
    "duration": 6,
    "start_time": "2025-03-05T06:33:39.126Z"
   },
   {
    "duration": 178,
    "start_time": "2025-03-05T06:33:39.133Z"
   },
   {
    "duration": 3,
    "start_time": "2025-03-05T09:25:13.820Z"
   },
   {
    "duration": 48,
    "start_time": "2025-03-05T09:26:07.370Z"
   },
   {
    "duration": 7,
    "start_time": "2025-03-05T09:26:25.993Z"
   },
   {
    "duration": 371,
    "start_time": "2025-03-05T09:26:34.804Z"
   },
   {
    "duration": 2,
    "start_time": "2025-03-05T09:26:35.177Z"
   },
   {
    "duration": 23,
    "start_time": "2025-03-05T09:26:35.181Z"
   },
   {
    "duration": 116,
    "start_time": "2025-03-05T09:26:35.206Z"
   },
   {
    "duration": 15,
    "start_time": "2025-03-05T09:26:35.325Z"
   },
   {
    "duration": 25,
    "start_time": "2025-03-05T09:26:35.348Z"
   },
   {
    "duration": 20,
    "start_time": "2025-03-05T09:26:35.374Z"
   },
   {
    "duration": 3,
    "start_time": "2025-03-05T09:26:35.395Z"
   },
   {
    "duration": 55,
    "start_time": "2025-03-05T09:26:35.399Z"
   },
   {
    "duration": 34,
    "start_time": "2025-03-05T09:26:35.455Z"
   },
   {
    "duration": 7,
    "start_time": "2025-03-05T09:26:35.491Z"
   },
   {
    "duration": 25,
    "start_time": "2025-03-05T09:26:35.500Z"
   },
   {
    "duration": 21,
    "start_time": "2025-03-05T09:26:35.527Z"
   },
   {
    "duration": 147,
    "start_time": "2025-03-05T09:26:35.551Z"
   },
   {
    "duration": 171,
    "start_time": "2025-03-05T09:26:35.700Z"
   },
   {
    "duration": 43,
    "start_time": "2025-03-05T09:26:35.873Z"
   },
   {
    "duration": 7,
    "start_time": "2025-03-05T09:26:35.918Z"
   },
   {
    "duration": 16,
    "start_time": "2025-03-05T09:26:35.926Z"
   },
   {
    "duration": 27,
    "start_time": "2025-03-05T09:26:35.943Z"
   },
   {
    "duration": 18,
    "start_time": "2025-03-05T09:26:35.973Z"
   },
   {
    "duration": 33,
    "start_time": "2025-03-05T09:26:35.992Z"
   },
   {
    "duration": 61,
    "start_time": "2025-03-05T09:26:36.027Z"
   },
   {
    "duration": 481,
    "start_time": "2025-03-05T09:26:36.090Z"
   },
   {
    "duration": 48,
    "start_time": "2025-03-05T09:26:36.573Z"
   },
   {
    "duration": 1608,
    "start_time": "2025-03-05T09:26:36.623Z"
   },
   {
    "duration": 1093,
    "start_time": "2025-03-05T09:26:38.234Z"
   },
   {
    "duration": 5,
    "start_time": "2025-03-05T09:26:39.329Z"
   },
   {
    "duration": 31,
    "start_time": "2025-03-05T09:26:39.335Z"
   },
   {
    "duration": 21,
    "start_time": "2025-03-05T09:26:39.368Z"
   },
   {
    "duration": 6,
    "start_time": "2025-03-05T09:26:39.391Z"
   },
   {
    "duration": 162,
    "start_time": "2025-03-05T09:26:39.398Z"
   },
   {
    "duration": 12,
    "start_time": "2025-03-05T09:43:50.576Z"
   },
   {
    "duration": 7,
    "start_time": "2025-03-05T10:06:07.719Z"
   },
   {
    "duration": 7,
    "start_time": "2025-03-05T10:06:23.144Z"
   },
   {
    "duration": 8,
    "start_time": "2025-03-05T10:06:54.201Z"
   },
   {
    "duration": 15,
    "start_time": "2025-03-05T10:33:26.483Z"
   },
   {
    "duration": 8,
    "start_time": "2025-03-05T10:35:05.977Z"
   },
   {
    "duration": 31,
    "start_time": "2025-03-05T10:42:54.279Z"
   },
   {
    "duration": 336,
    "start_time": "2025-03-05T10:52:11.576Z"
   },
   {
    "duration": 3730,
    "start_time": "2025-03-05T11:59:28.835Z"
   },
   {
    "duration": 3525,
    "start_time": "2025-03-05T12:07:50.301Z"
   },
   {
    "duration": 423,
    "start_time": "2025-03-05T13:34:32.380Z"
   },
   {
    "duration": 2,
    "start_time": "2025-03-05T13:34:32.805Z"
   },
   {
    "duration": 25,
    "start_time": "2025-03-05T13:34:32.809Z"
   },
   {
    "duration": 149,
    "start_time": "2025-03-05T13:34:32.835Z"
   },
   {
    "duration": 20,
    "start_time": "2025-03-05T13:34:32.987Z"
   },
   {
    "duration": 22,
    "start_time": "2025-03-05T13:34:33.009Z"
   },
   {
    "duration": 19,
    "start_time": "2025-03-05T13:34:33.033Z"
   },
   {
    "duration": 9,
    "start_time": "2025-03-05T13:34:33.054Z"
   },
   {
    "duration": 12,
    "start_time": "2025-03-05T13:34:33.065Z"
   },
   {
    "duration": 16,
    "start_time": "2025-03-05T13:34:33.079Z"
   },
   {
    "duration": 28,
    "start_time": "2025-03-05T13:34:33.096Z"
   },
   {
    "duration": 12,
    "start_time": "2025-03-05T13:34:33.125Z"
   },
   {
    "duration": 29,
    "start_time": "2025-03-05T13:34:33.139Z"
   },
   {
    "duration": 8,
    "start_time": "2025-03-05T13:34:33.171Z"
   },
   {
    "duration": 40,
    "start_time": "2025-03-05T13:34:33.180Z"
   },
   {
    "duration": 8,
    "start_time": "2025-03-05T13:34:33.222Z"
   },
   {
    "duration": 6,
    "start_time": "2025-03-05T13:34:33.231Z"
   },
   {
    "duration": 27,
    "start_time": "2025-03-05T13:34:33.239Z"
   },
   {
    "duration": 10,
    "start_time": "2025-03-05T13:34:33.267Z"
   },
   {
    "duration": 8,
    "start_time": "2025-03-05T13:34:33.279Z"
   },
   {
    "duration": 5,
    "start_time": "2025-03-05T13:34:33.288Z"
   },
   {
    "duration": 34,
    "start_time": "2025-03-05T13:34:33.294Z"
   },
   {
    "duration": 9,
    "start_time": "2025-03-05T13:34:33.329Z"
   },
   {
    "duration": 37,
    "start_time": "2025-03-05T13:34:33.339Z"
   },
   {
    "duration": 7,
    "start_time": "2025-03-05T13:34:33.378Z"
   },
   {
    "duration": 26,
    "start_time": "2025-03-05T13:34:33.386Z"
   },
   {
    "duration": 379,
    "start_time": "2025-03-05T13:34:33.413Z"
   },
   {
    "duration": 49,
    "start_time": "2025-03-05T13:34:33.794Z"
   },
   {
    "duration": 1595,
    "start_time": "2025-03-05T13:34:33.844Z"
   },
   {
    "duration": 3417,
    "start_time": "2025-03-05T13:34:35.442Z"
   },
   {
    "duration": 1041,
    "start_time": "2025-03-05T13:34:38.861Z"
   },
   {
    "duration": 7,
    "start_time": "2025-03-05T13:34:39.903Z"
   },
   {
    "duration": 24,
    "start_time": "2025-03-05T13:34:39.911Z"
   },
   {
    "duration": 14,
    "start_time": "2025-03-05T13:34:39.936Z"
   },
   {
    "duration": 14,
    "start_time": "2025-03-05T13:34:39.952Z"
   },
   {
    "duration": 174,
    "start_time": "2025-03-05T13:34:39.968Z"
   },
   {
    "duration": 10,
    "start_time": "2025-03-05T13:42:25.486Z"
   },
   {
    "duration": 9,
    "start_time": "2025-03-05T13:46:40.181Z"
   },
   {
    "duration": 17,
    "start_time": "2025-03-05T13:47:07.442Z"
   },
   {
    "duration": 9,
    "start_time": "2025-03-05T13:50:39.292Z"
   },
   {
    "duration": 11,
    "start_time": "2025-03-05T13:51:07.425Z"
   },
   {
    "duration": 9,
    "start_time": "2025-03-05T13:51:28.512Z"
   },
   {
    "duration": 10,
    "start_time": "2025-03-05T13:51:37.616Z"
   },
   {
    "duration": 11,
    "start_time": "2025-03-05T13:52:02.558Z"
   },
   {
    "duration": 10,
    "start_time": "2025-03-05T13:54:48.144Z"
   },
   {
    "duration": 1382,
    "start_time": "2025-03-05T14:02:44.431Z"
   },
   {
    "duration": 8,
    "start_time": "2025-03-05T15:27:38.328Z"
   },
   {
    "duration": 411,
    "start_time": "2025-03-06T07:09:59.089Z"
   },
   {
    "duration": 2,
    "start_time": "2025-03-06T07:09:59.502Z"
   },
   {
    "duration": 17,
    "start_time": "2025-03-06T07:09:59.505Z"
   },
   {
    "duration": 118,
    "start_time": "2025-03-06T07:09:59.523Z"
   },
   {
    "duration": 66,
    "start_time": "2025-03-06T07:09:59.644Z"
   },
   {
    "duration": 0,
    "start_time": "2025-03-06T07:09:59.712Z"
   },
   {
    "duration": 0,
    "start_time": "2025-03-06T07:09:59.713Z"
   },
   {
    "duration": 0,
    "start_time": "2025-03-06T07:09:59.714Z"
   },
   {
    "duration": 0,
    "start_time": "2025-03-06T07:09:59.715Z"
   },
   {
    "duration": 0,
    "start_time": "2025-03-06T07:09:59.716Z"
   },
   {
    "duration": 0,
    "start_time": "2025-03-06T07:09:59.717Z"
   },
   {
    "duration": 0,
    "start_time": "2025-03-06T07:09:59.718Z"
   },
   {
    "duration": 0,
    "start_time": "2025-03-06T07:09:59.719Z"
   },
   {
    "duration": 0,
    "start_time": "2025-03-06T07:09:59.720Z"
   },
   {
    "duration": 0,
    "start_time": "2025-03-06T07:09:59.721Z"
   },
   {
    "duration": 0,
    "start_time": "2025-03-06T07:09:59.722Z"
   },
   {
    "duration": 0,
    "start_time": "2025-03-06T07:09:59.723Z"
   },
   {
    "duration": 0,
    "start_time": "2025-03-06T07:09:59.724Z"
   },
   {
    "duration": 0,
    "start_time": "2025-03-06T07:09:59.725Z"
   },
   {
    "duration": 0,
    "start_time": "2025-03-06T07:09:59.726Z"
   },
   {
    "duration": 0,
    "start_time": "2025-03-06T07:09:59.727Z"
   },
   {
    "duration": 0,
    "start_time": "2025-03-06T07:09:59.728Z"
   },
   {
    "duration": 0,
    "start_time": "2025-03-06T07:09:59.729Z"
   },
   {
    "duration": 0,
    "start_time": "2025-03-06T07:09:59.730Z"
   },
   {
    "duration": 0,
    "start_time": "2025-03-06T07:09:59.731Z"
   },
   {
    "duration": 0,
    "start_time": "2025-03-06T07:09:59.732Z"
   },
   {
    "duration": 0,
    "start_time": "2025-03-06T07:09:59.733Z"
   },
   {
    "duration": 0,
    "start_time": "2025-03-06T07:09:59.734Z"
   },
   {
    "duration": 0,
    "start_time": "2025-03-06T07:09:59.735Z"
   },
   {
    "duration": 0,
    "start_time": "2025-03-06T07:09:59.737Z"
   },
   {
    "duration": 0,
    "start_time": "2025-03-06T07:09:59.738Z"
   },
   {
    "duration": 0,
    "start_time": "2025-03-06T07:09:59.739Z"
   },
   {
    "duration": 0,
    "start_time": "2025-03-06T07:09:59.739Z"
   },
   {
    "duration": 0,
    "start_time": "2025-03-06T07:09:59.740Z"
   },
   {
    "duration": 0,
    "start_time": "2025-03-06T07:09:59.741Z"
   },
   {
    "duration": 0,
    "start_time": "2025-03-06T07:09:59.742Z"
   },
   {
    "duration": 0,
    "start_time": "2025-03-06T07:09:59.742Z"
   },
   {
    "duration": 0,
    "start_time": "2025-03-06T07:09:59.743Z"
   },
   {
    "duration": 0,
    "start_time": "2025-03-06T07:09:59.744Z"
   },
   {
    "duration": 0,
    "start_time": "2025-03-06T07:09:59.745Z"
   },
   {
    "duration": 0,
    "start_time": "2025-03-06T07:09:59.746Z"
   },
   {
    "duration": 384,
    "start_time": "2025-03-06T07:10:17.633Z"
   },
   {
    "duration": 2,
    "start_time": "2025-03-06T07:10:18.019Z"
   },
   {
    "duration": 10,
    "start_time": "2025-03-06T07:10:18.022Z"
   },
   {
    "duration": 110,
    "start_time": "2025-03-06T07:10:18.033Z"
   },
   {
    "duration": 15,
    "start_time": "2025-03-06T07:10:18.145Z"
   },
   {
    "duration": 9,
    "start_time": "2025-03-06T07:10:18.162Z"
   },
   {
    "duration": 11,
    "start_time": "2025-03-06T07:10:18.172Z"
   },
   {
    "duration": 24,
    "start_time": "2025-03-06T07:10:18.185Z"
   },
   {
    "duration": 7,
    "start_time": "2025-03-06T07:10:18.211Z"
   },
   {
    "duration": 11,
    "start_time": "2025-03-06T07:10:18.219Z"
   },
   {
    "duration": 7,
    "start_time": "2025-03-06T07:10:18.231Z"
   },
   {
    "duration": 35,
    "start_time": "2025-03-06T07:10:18.240Z"
   },
   {
    "duration": 6,
    "start_time": "2025-03-06T07:10:18.277Z"
   },
   {
    "duration": 11,
    "start_time": "2025-03-06T07:10:18.286Z"
   },
   {
    "duration": 0,
    "start_time": "2025-03-06T07:10:18.299Z"
   },
   {
    "duration": 0,
    "start_time": "2025-03-06T07:10:18.300Z"
   },
   {
    "duration": 0,
    "start_time": "2025-03-06T07:10:18.309Z"
   },
   {
    "duration": 0,
    "start_time": "2025-03-06T07:10:18.310Z"
   },
   {
    "duration": 0,
    "start_time": "2025-03-06T07:10:18.311Z"
   },
   {
    "duration": 0,
    "start_time": "2025-03-06T07:10:18.312Z"
   },
   {
    "duration": 0,
    "start_time": "2025-03-06T07:10:18.313Z"
   },
   {
    "duration": 0,
    "start_time": "2025-03-06T07:10:18.314Z"
   },
   {
    "duration": 0,
    "start_time": "2025-03-06T07:10:18.315Z"
   },
   {
    "duration": 0,
    "start_time": "2025-03-06T07:10:18.316Z"
   },
   {
    "duration": 0,
    "start_time": "2025-03-06T07:10:18.317Z"
   },
   {
    "duration": 0,
    "start_time": "2025-03-06T07:10:18.318Z"
   },
   {
    "duration": 0,
    "start_time": "2025-03-06T07:10:18.319Z"
   },
   {
    "duration": 0,
    "start_time": "2025-03-06T07:10:18.320Z"
   },
   {
    "duration": 0,
    "start_time": "2025-03-06T07:10:18.321Z"
   },
   {
    "duration": 0,
    "start_time": "2025-03-06T07:10:18.322Z"
   },
   {
    "duration": 0,
    "start_time": "2025-03-06T07:10:18.323Z"
   },
   {
    "duration": 0,
    "start_time": "2025-03-06T07:10:18.324Z"
   },
   {
    "duration": 0,
    "start_time": "2025-03-06T07:10:18.325Z"
   },
   {
    "duration": 0,
    "start_time": "2025-03-06T07:10:18.326Z"
   },
   {
    "duration": 0,
    "start_time": "2025-03-06T07:10:18.327Z"
   },
   {
    "duration": 0,
    "start_time": "2025-03-06T07:10:18.328Z"
   },
   {
    "duration": 0,
    "start_time": "2025-03-06T07:10:18.329Z"
   },
   {
    "duration": 0,
    "start_time": "2025-03-06T07:10:18.330Z"
   },
   {
    "duration": 0,
    "start_time": "2025-03-06T07:10:18.331Z"
   },
   {
    "duration": 0,
    "start_time": "2025-03-06T07:10:18.332Z"
   },
   {
    "duration": 416,
    "start_time": "2025-03-06T07:10:45.789Z"
   },
   {
    "duration": 2,
    "start_time": "2025-03-06T07:10:46.207Z"
   },
   {
    "duration": 7,
    "start_time": "2025-03-06T07:10:46.211Z"
   },
   {
    "duration": 100,
    "start_time": "2025-03-06T07:10:46.219Z"
   },
   {
    "duration": 15,
    "start_time": "2025-03-06T07:10:46.321Z"
   },
   {
    "duration": 10,
    "start_time": "2025-03-06T07:10:46.337Z"
   },
   {
    "duration": 10,
    "start_time": "2025-03-06T07:10:46.349Z"
   },
   {
    "duration": 6,
    "start_time": "2025-03-06T07:10:46.361Z"
   },
   {
    "duration": 8,
    "start_time": "2025-03-06T07:10:46.369Z"
   },
   {
    "duration": 36,
    "start_time": "2025-03-06T07:10:46.378Z"
   },
   {
    "duration": 7,
    "start_time": "2025-03-06T07:10:46.415Z"
   },
   {
    "duration": 13,
    "start_time": "2025-03-06T07:10:46.423Z"
   },
   {
    "duration": 5,
    "start_time": "2025-03-06T07:10:46.438Z"
   },
   {
    "duration": 9,
    "start_time": "2025-03-06T07:10:46.446Z"
   },
   {
    "duration": 5,
    "start_time": "2025-03-06T07:10:46.457Z"
   },
   {
    "duration": 21,
    "start_time": "2025-03-06T07:10:46.463Z"
   },
   {
    "duration": 10,
    "start_time": "2025-03-06T07:10:46.485Z"
   },
   {
    "duration": 4,
    "start_time": "2025-03-06T07:10:46.509Z"
   },
   {
    "duration": 29,
    "start_time": "2025-03-06T07:10:46.514Z"
   },
   {
    "duration": 19,
    "start_time": "2025-03-06T07:10:46.544Z"
   },
   {
    "duration": 14,
    "start_time": "2025-03-06T07:10:46.564Z"
   },
   {
    "duration": 33,
    "start_time": "2025-03-06T07:10:46.579Z"
   },
   {
    "duration": 11,
    "start_time": "2025-03-06T07:10:46.614Z"
   },
   {
    "duration": 15,
    "start_time": "2025-03-06T07:10:46.626Z"
   },
   {
    "duration": 6,
    "start_time": "2025-03-06T07:10:46.643Z"
   },
   {
    "duration": 72,
    "start_time": "2025-03-06T07:10:46.651Z"
   },
   {
    "duration": 0,
    "start_time": "2025-03-06T07:10:46.725Z"
   },
   {
    "duration": 0,
    "start_time": "2025-03-06T07:10:46.726Z"
   },
   {
    "duration": 0,
    "start_time": "2025-03-06T07:10:46.727Z"
   },
   {
    "duration": 0,
    "start_time": "2025-03-06T07:10:46.728Z"
   },
   {
    "duration": 0,
    "start_time": "2025-03-06T07:10:46.729Z"
   },
   {
    "duration": 1,
    "start_time": "2025-03-06T07:10:46.730Z"
   },
   {
    "duration": 0,
    "start_time": "2025-03-06T07:10:46.731Z"
   },
   {
    "duration": 0,
    "start_time": "2025-03-06T07:10:46.733Z"
   },
   {
    "duration": 0,
    "start_time": "2025-03-06T07:10:46.734Z"
   },
   {
    "duration": 0,
    "start_time": "2025-03-06T07:10:46.735Z"
   },
   {
    "duration": 0,
    "start_time": "2025-03-06T07:10:46.736Z"
   },
   {
    "duration": 0,
    "start_time": "2025-03-06T07:10:46.737Z"
   },
   {
    "duration": 0,
    "start_time": "2025-03-06T07:10:46.738Z"
   },
   {
    "duration": 350,
    "start_time": "2025-03-06T07:11:06.563Z"
   },
   {
    "duration": 2,
    "start_time": "2025-03-06T07:11:06.915Z"
   },
   {
    "duration": 11,
    "start_time": "2025-03-06T07:11:06.919Z"
   },
   {
    "duration": 140,
    "start_time": "2025-03-06T07:11:06.931Z"
   },
   {
    "duration": 14,
    "start_time": "2025-03-06T07:11:07.073Z"
   },
   {
    "duration": 28,
    "start_time": "2025-03-06T07:11:07.088Z"
   },
   {
    "duration": 16,
    "start_time": "2025-03-06T07:11:07.117Z"
   },
   {
    "duration": 7,
    "start_time": "2025-03-06T07:11:07.135Z"
   },
   {
    "duration": 27,
    "start_time": "2025-03-06T07:11:07.143Z"
   },
   {
    "duration": 20,
    "start_time": "2025-03-06T07:11:07.172Z"
   },
   {
    "duration": 9,
    "start_time": "2025-03-06T07:11:07.194Z"
   },
   {
    "duration": 27,
    "start_time": "2025-03-06T07:11:07.205Z"
   },
   {
    "duration": 8,
    "start_time": "2025-03-06T07:11:07.234Z"
   },
   {
    "duration": 8,
    "start_time": "2025-03-06T07:11:07.245Z"
   },
   {
    "duration": 21,
    "start_time": "2025-03-06T07:11:07.255Z"
   },
   {
    "duration": 30,
    "start_time": "2025-03-06T07:11:07.278Z"
   },
   {
    "duration": 25,
    "start_time": "2025-03-06T07:11:07.310Z"
   },
   {
    "duration": 32,
    "start_time": "2025-03-06T07:11:07.336Z"
   },
   {
    "duration": 35,
    "start_time": "2025-03-06T07:11:07.370Z"
   },
   {
    "duration": 18,
    "start_time": "2025-03-06T07:11:07.407Z"
   },
   {
    "duration": 6,
    "start_time": "2025-03-06T07:11:07.427Z"
   },
   {
    "duration": 24,
    "start_time": "2025-03-06T07:11:07.435Z"
   },
   {
    "duration": 8,
    "start_time": "2025-03-06T07:11:07.460Z"
   },
   {
    "duration": 71,
    "start_time": "2025-03-06T07:11:07.470Z"
   },
   {
    "duration": 7,
    "start_time": "2025-03-06T07:11:07.543Z"
   },
   {
    "duration": 40,
    "start_time": "2025-03-06T07:11:07.551Z"
   },
   {
    "duration": 402,
    "start_time": "2025-03-06T07:11:07.593Z"
   },
   {
    "duration": 52,
    "start_time": "2025-03-06T07:11:07.997Z"
   },
   {
    "duration": 1446,
    "start_time": "2025-03-06T07:11:08.051Z"
   },
   {
    "duration": 3415,
    "start_time": "2025-03-06T07:11:09.499Z"
   },
   {
    "duration": 1075,
    "start_time": "2025-03-06T07:11:12.916Z"
   },
   {
    "duration": 18,
    "start_time": "2025-03-06T07:11:13.992Z"
   },
   {
    "duration": 8,
    "start_time": "2025-03-06T07:11:14.012Z"
   },
   {
    "duration": 16,
    "start_time": "2025-03-06T07:11:14.022Z"
   },
   {
    "duration": 1284,
    "start_time": "2025-03-06T07:11:14.040Z"
   },
   {
    "duration": 16,
    "start_time": "2025-03-06T07:11:15.325Z"
   },
   {
    "duration": 29,
    "start_time": "2025-03-06T07:11:15.343Z"
   },
   {
    "duration": 336,
    "start_time": "2025-03-06T07:11:15.374Z"
   },
   {
    "duration": 145,
    "start_time": "2025-03-06T07:49:16.800Z"
   },
   {
    "duration": 386,
    "start_time": "2025-03-06T15:26:25.159Z"
   },
   {
    "duration": 3,
    "start_time": "2025-03-06T15:26:25.547Z"
   },
   {
    "duration": 3,
    "start_time": "2025-03-06T15:26:25.551Z"
   },
   {
    "duration": 126,
    "start_time": "2025-03-06T15:26:25.557Z"
   },
   {
    "duration": 16,
    "start_time": "2025-03-06T15:26:25.685Z"
   },
   {
    "duration": 18,
    "start_time": "2025-03-06T15:26:25.703Z"
   },
   {
    "duration": 13,
    "start_time": "2025-03-06T15:26:25.723Z"
   },
   {
    "duration": 4,
    "start_time": "2025-03-06T15:26:25.738Z"
   },
   {
    "duration": 9,
    "start_time": "2025-03-06T15:26:25.743Z"
   },
   {
    "duration": 12,
    "start_time": "2025-03-06T15:26:25.755Z"
   },
   {
    "duration": 7,
    "start_time": "2025-03-06T15:26:25.769Z"
   },
   {
    "duration": 15,
    "start_time": "2025-03-06T15:26:25.813Z"
   },
   {
    "duration": 9,
    "start_time": "2025-03-06T15:26:25.830Z"
   },
   {
    "duration": 9,
    "start_time": "2025-03-06T15:26:25.841Z"
   },
   {
    "duration": 5,
    "start_time": "2025-03-06T15:26:25.851Z"
   },
   {
    "duration": 8,
    "start_time": "2025-03-06T15:26:25.858Z"
   },
   {
    "duration": 46,
    "start_time": "2025-03-06T15:26:25.868Z"
   },
   {
    "duration": 6,
    "start_time": "2025-03-06T15:26:25.916Z"
   },
   {
    "duration": 12,
    "start_time": "2025-03-06T15:26:25.923Z"
   },
   {
    "duration": 8,
    "start_time": "2025-03-06T15:26:25.937Z"
   },
   {
    "duration": 6,
    "start_time": "2025-03-06T15:26:25.947Z"
   },
   {
    "duration": 66,
    "start_time": "2025-03-06T15:26:25.955Z"
   },
   {
    "duration": 11,
    "start_time": "2025-03-06T15:26:26.023Z"
   },
   {
    "duration": 32,
    "start_time": "2025-03-06T15:26:26.035Z"
   },
   {
    "duration": 7,
    "start_time": "2025-03-06T15:26:26.069Z"
   },
   {
    "duration": 38,
    "start_time": "2025-03-06T15:26:26.078Z"
   },
   {
    "duration": 451,
    "start_time": "2025-03-06T15:26:26.117Z"
   },
   {
    "duration": 59,
    "start_time": "2025-03-06T15:26:26.573Z"
   },
   {
    "duration": 1665,
    "start_time": "2025-03-06T15:26:26.634Z"
   },
   {
    "duration": 3757,
    "start_time": "2025-03-06T15:26:28.301Z"
   },
   {
    "duration": 1208,
    "start_time": "2025-03-06T15:26:32.060Z"
   },
   {
    "duration": 7,
    "start_time": "2025-03-06T15:26:33.269Z"
   },
   {
    "duration": 21,
    "start_time": "2025-03-06T15:26:33.278Z"
   },
   {
    "duration": 30,
    "start_time": "2025-03-06T15:26:33.301Z"
   },
   {
    "duration": 1535,
    "start_time": "2025-03-06T15:26:33.333Z"
   },
   {
    "duration": 161,
    "start_time": "2025-03-06T15:26:34.870Z"
   },
   {
    "duration": 17,
    "start_time": "2025-03-06T15:26:35.033Z"
   },
   {
    "duration": 111,
    "start_time": "2025-03-06T15:26:35.052Z"
   },
   {
    "duration": 176,
    "start_time": "2025-03-06T15:26:35.165Z"
   },
   {
    "duration": 43,
    "start_time": "2025-03-06T15:27:26.507Z"
   }
  ],
  "colab": {
   "provenance": []
  },
  "kernelspec": {
   "display_name": "Python 3 (ipykernel)",
   "language": "python",
   "name": "python3"
  },
  "language_info": {
   "codemirror_mode": {
    "name": "ipython",
    "version": 3
   },
   "file_extension": ".py",
   "mimetype": "text/x-python",
   "name": "python",
   "nbconvert_exporter": "python",
   "pygments_lexer": "ipython3",
   "version": "3.9.5"
  },
  "toc": {
   "base_numbering": 1,
   "nav_menu": {},
   "number_sections": true,
   "sideBar": true,
   "skip_h1_title": true,
   "title_cell": "Table of Contents",
   "title_sidebar": "Contents",
   "toc_cell": false,
   "toc_position": {},
   "toc_section_display": true,
   "toc_window_display": false
  }
 },
 "nbformat": 4,
 "nbformat_minor": 1
}
