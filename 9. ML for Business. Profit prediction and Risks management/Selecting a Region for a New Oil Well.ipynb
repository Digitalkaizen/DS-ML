{
 "cells": [
  {
   "cell_type": "markdown",
   "metadata": {},
   "source": [
    "# Выбор локации для скважины"
   ]
  },
  {
   "cell_type": "markdown",
   "metadata": {},
   "source": [
    "Для добывающей компании нужно решить, где бурить новую скважину.\n",
    "\n",
    "Вам предоставлены пробы нефти в трёх регионах: в каждом 100 000 месторождений, где измерили качество нефти и объём её запасов. Постройте модель машинного обучения, которая поможет определить регион, где добыча принесёт наибольшую прибыль. Проанализируйте возможную прибыль и риски техникой *Bootstrap.*\n",
    "\n",
    "Шаги для выбора локации:\n",
    "\n",
    "- В избранном регионе ищут месторождения, для каждого определяют значения признаков;\n",
    "- Строят модель и оценивают объём запасов;\n",
    "- Выбирают месторождения с самым высокими оценками значений. Количество месторождений зависит от бюджета компании и стоимости разработки одной скважины;\n",
    "- Прибыль равна суммарной прибыли отобранных месторождений."
   ]
  },
  {
   "cell_type": "markdown",
   "metadata": {},
   "source": [
    "**Описание проекта**\n",
    "\n",
    "Компания планирует расширение добычи и рассматривает три региона для бурения новой нефтяной скважины. Для выбора наиболее перспективного региона необходимо спрогнозировать объёмы нефти, которые можно получить из скважин, и оценить потенциальную прибыль и риски.\n",
    "\n",
    "**Задачи:**\n",
    "\n",
    "- Изучить и подготовить данные по трём регионам.\n",
    "\n",
    "- Построить модели линейной регрессии для предсказания объёма запасов нефти.\n",
    "\n",
    "- Выбрать 200 скважин с максимальным предсказанным объёмом в каждом регионе.\n",
    "\n",
    "- Рассчитать прибыль от этих скважин.\n",
    "\n",
    "- Оценить риски с помощью Bootstrap-анализа: определить вероятность убытков и доверительный интервал прибыли.\n",
    "\n",
    "**Входные данные**\n",
    "\n",
    "Доступны три файла (по одному на регион), содержащие данные о скважинах:\n",
    "\n",
    "- geo_data_0.csv\n",
    "\n",
    "- geo_data_1.csv\n",
    "\n",
    "- geo_data_2.csv\n",
    "\n",
    "**Дополнительно даны бизнес-условия:**\n",
    "\n",
    "- Доход с 1000 баррелей — 450 000 рублей.\n",
    "\n",
    "- Бюджет на бурение — 10 млрд рублей.\n",
    "\n",
    "- Можно бурить не более 200 скважин в регионе.\n",
    "\n",
    "- Необходимо обеспечить риск убытков < 2.5%.\n",
    "\n",
    "**План работы**\n",
    "\n",
    "1. Загрузка и предварительный анализ данных\n",
    "\n",
    "- Проверка на пропуски, типы данных, распределения.\n",
    "\n",
    "2. Обучение модели\n",
    "\n",
    "- Обучение линейной регрессии для каждого региона.\n",
    "\n",
    "- Оценка качества предсказаний (RMSE).\n",
    "\n",
    "3. Анализ прибыльности\n",
    "\n",
    "- Расчёт минимального объёма нефти для безубыточности.\n",
    "\n",
    "- Предсказание объёмов нефти на тестовой выборке.\n",
    "\n",
    "- Расчёт прибыли от 200 лучших скважин.\n",
    "\n",
    "4. Оценка рисков (Bootstrap)\n",
    "\n",
    "- Проведение 1000 итераций случайной выборки.\n",
    "\n",
    "- Определение 95% доверительного интервала прибыли.\n",
    "\n",
    "- Оценка вероятности убытков.\n",
    "\n",
    "5. Выводы\n",
    "\n",
    "- Выбор лучшего региона.\n",
    "\n",
    "- Рекомендации для бизнеса."
   ]
  },
  {
   "cell_type": "code",
   "execution_count": 1,
   "metadata": {},
   "outputs": [],
   "source": [
    "import numpy as np\n",
    "import pandas as pd\n",
    "from sklearn.model_selection import train_test_split\n",
    "from sklearn.linear_model import LinearRegression\n",
    "from sklearn.metrics import mean_squared_error\n",
    "import matplotlib.pyplot as plt"
   ]
  },
  {
   "cell_type": "markdown",
   "metadata": {},
   "source": [
    "## Загрузка и подготовка данных"
   ]
  },
  {
   "cell_type": "code",
   "execution_count": 2,
   "metadata": {},
   "outputs": [
    {
     "name": "stdout",
     "output_type": "stream",
     "text": [
      "Регион 0: (100000, 5)\n",
      "Регион 1: (100000, 5)\n",
      "Регион 2: (100000, 5)\n"
     ]
    }
   ],
   "source": [
    "# Пути к файлам\n",
    "path_0 = '/datasets/geo_data_0.csv'\n",
    "path_1 = '/datasets/geo_data_1.csv'\n",
    "path_2 = '/datasets/geo_data_2.csv'\n",
    "\n",
    "# Загрузка\n",
    "data_0 = pd.read_csv(path_0)\n",
    "data_1 = pd.read_csv(path_1)\n",
    "data_2 = pd.read_csv(path_2)\n",
    "\n",
    "# Проверка размеров\n",
    "print('Регион 0:', data_0.shape)\n",
    "print('Регион 1:', data_1.shape)\n",
    "print('Регион 2:', data_2.shape)"
   ]
  },
  {
   "cell_type": "markdown",
   "metadata": {},
   "source": [
    "Данные загружены — по 100 000 строк на регион, по 5 колонок: id, f0, f1, f2, product."
   ]
  },
  {
   "cell_type": "code",
   "execution_count": 3,
   "metadata": {},
   "outputs": [
    {
     "name": "stdout",
     "output_type": "stream",
     "text": [
      "Регион 0:\n",
      "\n",
      "<class 'pandas.core.frame.DataFrame'>\n",
      "RangeIndex: 100000 entries, 0 to 99999\n",
      "Data columns (total 5 columns):\n",
      " #   Column   Non-Null Count   Dtype  \n",
      "---  ------   --------------   -----  \n",
      " 0   id       100000 non-null  object \n",
      " 1   f0       100000 non-null  float64\n",
      " 2   f1       100000 non-null  float64\n",
      " 3   f2       100000 non-null  float64\n",
      " 4   product  100000 non-null  float64\n",
      "dtypes: float64(4), object(1)\n",
      "memory usage: 3.8+ MB\n",
      "\n",
      "Регион 1:\n",
      "\n",
      "<class 'pandas.core.frame.DataFrame'>\n",
      "RangeIndex: 100000 entries, 0 to 99999\n",
      "Data columns (total 5 columns):\n",
      " #   Column   Non-Null Count   Dtype  \n",
      "---  ------   --------------   -----  \n",
      " 0   id       100000 non-null  object \n",
      " 1   f0       100000 non-null  float64\n",
      " 2   f1       100000 non-null  float64\n",
      " 3   f2       100000 non-null  float64\n",
      " 4   product  100000 non-null  float64\n",
      "dtypes: float64(4), object(1)\n",
      "memory usage: 3.8+ MB\n",
      "\n",
      "Регион 2:\n",
      "\n",
      "<class 'pandas.core.frame.DataFrame'>\n",
      "RangeIndex: 100000 entries, 0 to 99999\n",
      "Data columns (total 5 columns):\n",
      " #   Column   Non-Null Count   Dtype  \n",
      "---  ------   --------------   -----  \n",
      " 0   id       100000 non-null  object \n",
      " 1   f0       100000 non-null  float64\n",
      " 2   f1       100000 non-null  float64\n",
      " 3   f2       100000 non-null  float64\n",
      " 4   product  100000 non-null  float64\n",
      "dtypes: float64(4), object(1)\n",
      "memory usage: 3.8+ MB\n"
     ]
    }
   ],
   "source": [
    "# Базовая информация\n",
    "print('Регион 0:\\n')\n",
    "data_0.info()\n",
    "\n",
    "print('\\nРегион 1:\\n')\n",
    "data_1.info()\n",
    "\n",
    "print('\\nРегион 2:\\n')\n",
    "data_2.info()"
   ]
  },
  {
   "cell_type": "markdown",
   "metadata": {},
   "source": [
    "Bсе три датасета:\n",
    "\n",
    "- Имеют 100 000 строк без пропусков;\n",
    "\n",
    "- Структурно идентичны;\n",
    "\n",
    "- Типы данных корректные."
   ]
  },
  {
   "cell_type": "code",
   "execution_count": 4,
   "metadata": {},
   "outputs": [
    {
     "name": "stdout",
     "output_type": "stream",
     "text": [
      "Регион 0:\n"
     ]
    },
    {
     "data": {
      "text/html": [
       "<div>\n",
       "<style scoped>\n",
       "    .dataframe tbody tr th:only-of-type {\n",
       "        vertical-align: middle;\n",
       "    }\n",
       "\n",
       "    .dataframe tbody tr th {\n",
       "        vertical-align: top;\n",
       "    }\n",
       "\n",
       "    .dataframe thead th {\n",
       "        text-align: right;\n",
       "    }\n",
       "</style>\n",
       "<table border=\"1\" class=\"dataframe\">\n",
       "  <thead>\n",
       "    <tr style=\"text-align: right;\">\n",
       "      <th></th>\n",
       "      <th>id</th>\n",
       "      <th>f0</th>\n",
       "      <th>f1</th>\n",
       "      <th>f2</th>\n",
       "      <th>product</th>\n",
       "    </tr>\n",
       "  </thead>\n",
       "  <tbody>\n",
       "    <tr>\n",
       "      <th>0</th>\n",
       "      <td>txEyH</td>\n",
       "      <td>0.705745</td>\n",
       "      <td>-0.497823</td>\n",
       "      <td>1.221170</td>\n",
       "      <td>105.280062</td>\n",
       "    </tr>\n",
       "    <tr>\n",
       "      <th>1</th>\n",
       "      <td>2acmU</td>\n",
       "      <td>1.334711</td>\n",
       "      <td>-0.340164</td>\n",
       "      <td>4.365080</td>\n",
       "      <td>73.037750</td>\n",
       "    </tr>\n",
       "    <tr>\n",
       "      <th>2</th>\n",
       "      <td>409Wp</td>\n",
       "      <td>1.022732</td>\n",
       "      <td>0.151990</td>\n",
       "      <td>1.419926</td>\n",
       "      <td>85.265647</td>\n",
       "    </tr>\n",
       "    <tr>\n",
       "      <th>3</th>\n",
       "      <td>iJLyR</td>\n",
       "      <td>-0.032172</td>\n",
       "      <td>0.139033</td>\n",
       "      <td>2.978566</td>\n",
       "      <td>168.620776</td>\n",
       "    </tr>\n",
       "    <tr>\n",
       "      <th>4</th>\n",
       "      <td>Xdl7t</td>\n",
       "      <td>1.988431</td>\n",
       "      <td>0.155413</td>\n",
       "      <td>4.751769</td>\n",
       "      <td>154.036647</td>\n",
       "    </tr>\n",
       "  </tbody>\n",
       "</table>\n",
       "</div>"
      ],
      "text/plain": [
       "      id        f0        f1        f2     product\n",
       "0  txEyH  0.705745 -0.497823  1.221170  105.280062\n",
       "1  2acmU  1.334711 -0.340164  4.365080   73.037750\n",
       "2  409Wp  1.022732  0.151990  1.419926   85.265647\n",
       "3  iJLyR -0.032172  0.139033  2.978566  168.620776\n",
       "4  Xdl7t  1.988431  0.155413  4.751769  154.036647"
      ]
     },
     "metadata": {},
     "output_type": "display_data"
    },
    {
     "name": "stdout",
     "output_type": "stream",
     "text": [
      "Регион 1:\n"
     ]
    },
    {
     "data": {
      "text/html": [
       "<div>\n",
       "<style scoped>\n",
       "    .dataframe tbody tr th:only-of-type {\n",
       "        vertical-align: middle;\n",
       "    }\n",
       "\n",
       "    .dataframe tbody tr th {\n",
       "        vertical-align: top;\n",
       "    }\n",
       "\n",
       "    .dataframe thead th {\n",
       "        text-align: right;\n",
       "    }\n",
       "</style>\n",
       "<table border=\"1\" class=\"dataframe\">\n",
       "  <thead>\n",
       "    <tr style=\"text-align: right;\">\n",
       "      <th></th>\n",
       "      <th>id</th>\n",
       "      <th>f0</th>\n",
       "      <th>f1</th>\n",
       "      <th>f2</th>\n",
       "      <th>product</th>\n",
       "    </tr>\n",
       "  </thead>\n",
       "  <tbody>\n",
       "    <tr>\n",
       "      <th>0</th>\n",
       "      <td>kBEdx</td>\n",
       "      <td>-15.001348</td>\n",
       "      <td>-8.276000</td>\n",
       "      <td>-0.005876</td>\n",
       "      <td>3.179103</td>\n",
       "    </tr>\n",
       "    <tr>\n",
       "      <th>1</th>\n",
       "      <td>62mP7</td>\n",
       "      <td>14.272088</td>\n",
       "      <td>-3.475083</td>\n",
       "      <td>0.999183</td>\n",
       "      <td>26.953261</td>\n",
       "    </tr>\n",
       "    <tr>\n",
       "      <th>2</th>\n",
       "      <td>vyE1P</td>\n",
       "      <td>6.263187</td>\n",
       "      <td>-5.948386</td>\n",
       "      <td>5.001160</td>\n",
       "      <td>134.766305</td>\n",
       "    </tr>\n",
       "    <tr>\n",
       "      <th>3</th>\n",
       "      <td>KcrkZ</td>\n",
       "      <td>-13.081196</td>\n",
       "      <td>-11.506057</td>\n",
       "      <td>4.999415</td>\n",
       "      <td>137.945408</td>\n",
       "    </tr>\n",
       "    <tr>\n",
       "      <th>4</th>\n",
       "      <td>AHL4O</td>\n",
       "      <td>12.702195</td>\n",
       "      <td>-8.147433</td>\n",
       "      <td>5.004363</td>\n",
       "      <td>134.766305</td>\n",
       "    </tr>\n",
       "  </tbody>\n",
       "</table>\n",
       "</div>"
      ],
      "text/plain": [
       "      id         f0         f1        f2     product\n",
       "0  kBEdx -15.001348  -8.276000 -0.005876    3.179103\n",
       "1  62mP7  14.272088  -3.475083  0.999183   26.953261\n",
       "2  vyE1P   6.263187  -5.948386  5.001160  134.766305\n",
       "3  KcrkZ -13.081196 -11.506057  4.999415  137.945408\n",
       "4  AHL4O  12.702195  -8.147433  5.004363  134.766305"
      ]
     },
     "metadata": {},
     "output_type": "display_data"
    },
    {
     "name": "stdout",
     "output_type": "stream",
     "text": [
      "Регион 2:\n"
     ]
    },
    {
     "data": {
      "text/html": [
       "<div>\n",
       "<style scoped>\n",
       "    .dataframe tbody tr th:only-of-type {\n",
       "        vertical-align: middle;\n",
       "    }\n",
       "\n",
       "    .dataframe tbody tr th {\n",
       "        vertical-align: top;\n",
       "    }\n",
       "\n",
       "    .dataframe thead th {\n",
       "        text-align: right;\n",
       "    }\n",
       "</style>\n",
       "<table border=\"1\" class=\"dataframe\">\n",
       "  <thead>\n",
       "    <tr style=\"text-align: right;\">\n",
       "      <th></th>\n",
       "      <th>id</th>\n",
       "      <th>f0</th>\n",
       "      <th>f1</th>\n",
       "      <th>f2</th>\n",
       "      <th>product</th>\n",
       "    </tr>\n",
       "  </thead>\n",
       "  <tbody>\n",
       "    <tr>\n",
       "      <th>0</th>\n",
       "      <td>fwXo0</td>\n",
       "      <td>-1.146987</td>\n",
       "      <td>0.963328</td>\n",
       "      <td>-0.828965</td>\n",
       "      <td>27.758673</td>\n",
       "    </tr>\n",
       "    <tr>\n",
       "      <th>1</th>\n",
       "      <td>WJtFt</td>\n",
       "      <td>0.262778</td>\n",
       "      <td>0.269839</td>\n",
       "      <td>-2.530187</td>\n",
       "      <td>56.069697</td>\n",
       "    </tr>\n",
       "    <tr>\n",
       "      <th>2</th>\n",
       "      <td>ovLUW</td>\n",
       "      <td>0.194587</td>\n",
       "      <td>0.289035</td>\n",
       "      <td>-5.586433</td>\n",
       "      <td>62.871910</td>\n",
       "    </tr>\n",
       "    <tr>\n",
       "      <th>3</th>\n",
       "      <td>q6cA6</td>\n",
       "      <td>2.236060</td>\n",
       "      <td>-0.553760</td>\n",
       "      <td>0.930038</td>\n",
       "      <td>114.572842</td>\n",
       "    </tr>\n",
       "    <tr>\n",
       "      <th>4</th>\n",
       "      <td>WPMUX</td>\n",
       "      <td>-0.515993</td>\n",
       "      <td>1.716266</td>\n",
       "      <td>5.899011</td>\n",
       "      <td>149.600746</td>\n",
       "    </tr>\n",
       "  </tbody>\n",
       "</table>\n",
       "</div>"
      ],
      "text/plain": [
       "      id        f0        f1        f2     product\n",
       "0  fwXo0 -1.146987  0.963328 -0.828965   27.758673\n",
       "1  WJtFt  0.262778  0.269839 -2.530187   56.069697\n",
       "2  ovLUW  0.194587  0.289035 -5.586433   62.871910\n",
       "3  q6cA6  2.236060 -0.553760  0.930038  114.572842\n",
       "4  WPMUX -0.515993  1.716266  5.899011  149.600746"
      ]
     },
     "metadata": {},
     "output_type": "display_data"
    }
   ],
   "source": [
    "# Просмотр первых 5 строк каждого региона\n",
    "print('Регион 0:')\n",
    "display(data_0.head())\n",
    "\n",
    "print('Регион 1:')\n",
    "display(data_1.head())\n",
    "\n",
    "print('Регион 2:')\n",
    "display(data_2.head())\n"
   ]
  },
  {
   "cell_type": "markdown",
   "metadata": {},
   "source": [
    "Структура всех трёх датафреймов идентична:\n",
    "\n",
    "Столбцы: id, f0, f1, f2, product\n",
    "\n",
    "Целевой признак: product (объём запасов нефти в тыс. баррелей)\n",
    "\n",
    "Признаки: f0, f1, f2 — синтетические, но значимые"
   ]
  },
  {
   "cell_type": "code",
   "execution_count": 5,
   "metadata": {},
   "outputs": [
    {
     "name": "stdout",
     "output_type": "stream",
     "text": [
      "Пропуски в данных:\n",
      "\n",
      "Регион 0:\n",
      " id         0\n",
      "f0         0\n",
      "f1         0\n",
      "f2         0\n",
      "product    0\n",
      "dtype: int64\n",
      "\n",
      "Регион 1:\n",
      " id         0\n",
      "f0         0\n",
      "f1         0\n",
      "f2         0\n",
      "product    0\n",
      "dtype: int64\n",
      "\n",
      "Регион 2:\n",
      " id         0\n",
      "f0         0\n",
      "f1         0\n",
      "f2         0\n",
      "product    0\n",
      "dtype: int64\n",
      "\n",
      "Дубликаты в данных:\n",
      "\n",
      "Регион 0: 0\n",
      "\n",
      "Регион 1: 0\n",
      "\n",
      "Регион 2: 0\n"
     ]
    }
   ],
   "source": [
    "# Проверка пропусков\n",
    "print('Пропуски в данных:')\n",
    "print('\\nРегион 0:\\n', data_0.isnull().sum())\n",
    "print('\\nРегион 1:\\n', data_1.isnull().sum())\n",
    "print('\\nРегион 2:\\n', data_2.isnull().sum())\n",
    "\n",
    "# Проверка дубликатов\n",
    "print('\\nДубликаты в данных:\\n')\n",
    "print('Регион 0:', data_0.duplicated().sum())\n",
    "print('\\nРегион 1:', data_1.duplicated().sum())\n",
    "print('\\nРегион 2:', data_2.duplicated().sum())\n"
   ]
  },
  {
   "cell_type": "markdown",
   "metadata": {},
   "source": [
    "Выводы:\n",
    "\n",
    "- Пропусков нет во всех трёх регионах.\n",
    "\n",
    "- Дубликатов тоже нет."
   ]
  },
  {
   "cell_type": "code",
   "execution_count": 6,
   "metadata": {},
   "outputs": [
    {
     "name": "stdout",
     "output_type": "stream",
     "text": [
      "Регион 0: всего строк = 100000, уникальных id = 99990, дубликатов id = 10\n",
      "Регион 1: всего строк = 100000, уникальных id = 99996, дубликатов id = 4\n",
      "Регион 2: всего строк = 100000, уникальных id = 99996, дубликатов id = 4\n"
     ]
    }
   ],
   "source": [
    "# Проверим уникальность id в каждом из трёх датасетов\n",
    "for i, data in enumerate([data_0, data_1, data_2]):\n",
    "    total = len(data)\n",
    "    unique = data['id'].nunique()\n",
    "    duplicates = total - unique\n",
    "    print(f'Регион {i}: всего строк = {total}, уникальных id = {unique}, дубликатов id = {duplicates}')\n"
   ]
  },
  {
   "cell_type": "markdown",
   "metadata": {},
   "source": [
    "Вывод:\n",
    "\n",
    "Есть повторяющиеся id с разными признаками, но это не дубликаты, а возможные опечатки идентификаторов. Удалять дублирующиеся id не будем, потому что id - просто технический идентификатор, мы его не используем в модели. Данные разные по признакам и целевому признаку, значит, они валидны."
   ]
  },
  {
   "cell_type": "code",
   "execution_count": 7,
   "metadata": {},
   "outputs": [
    {
     "name": "stdout",
     "output_type": "stream",
     "text": [
      "Типы данных — Регион 0:\n",
      "id          object\n",
      "f0         float64\n",
      "f1         float64\n",
      "f2         float64\n",
      "product    float64\n",
      "dtype: object\n",
      "\n",
      "Типы данных — Регион 1:\n",
      "id          object\n",
      "f0         float64\n",
      "f1         float64\n",
      "f2         float64\n",
      "product    float64\n",
      "dtype: object\n",
      "\n",
      "Типы данных — Регион 2:\n",
      "id          object\n",
      "f0         float64\n",
      "f1         float64\n",
      "f2         float64\n",
      "product    float64\n",
      "dtype: object\n"
     ]
    }
   ],
   "source": [
    "print('Типы данных — Регион 0:')\n",
    "print(data_0.dtypes, end='\\n\\n')\n",
    "\n",
    "print('Типы данных — Регион 1:')\n",
    "print(data_1.dtypes, end='\\n\\n')\n",
    "\n",
    "print('Типы данных — Регион 2:')\n",
    "print(data_2.dtypes)\n"
   ]
  },
  {
   "cell_type": "markdown",
   "metadata": {},
   "source": [
    "Вывод:\n",
    "\n",
    "Все числовые признаки (f0, f1, f2, product) имеют тип float64 — правильно;\n",
    "\n",
    "Столбец id имеет тип object, что тоже ожидаемо — но он нам не нужен для обучения.\n",
    "\n",
    "Всё готово к построению моделей."
   ]
  },
  {
   "cell_type": "code",
   "execution_count": 8,
   "metadata": {},
   "outputs": [
    {
     "name": "stdout",
     "output_type": "stream",
     "text": [
      "Регион 0 — описательная статистика:\n",
      "                  f0             f1             f2        product\n",
      "count  100000.000000  100000.000000  100000.000000  100000.000000\n",
      "mean        0.500419       0.250143       2.502647      92.500000\n",
      "std         0.871832       0.504433       3.248248      44.288691\n",
      "min        -1.408605      -0.848218     -12.088328       0.000000\n",
      "25%        -0.072580      -0.200881       0.287748      56.497507\n",
      "50%         0.502360       0.250252       2.515969      91.849972\n",
      "75%         1.073581       0.700646       4.715088     128.564089\n",
      "max         2.362331       1.343769      16.003790     185.364347\n",
      "\n",
      "Регион 1 — описательная статистика:\n",
      "                  f0             f1             f2        product\n",
      "count  100000.000000  100000.000000  100000.000000  100000.000000\n",
      "mean        1.141296      -4.796579       2.494541      68.825000\n",
      "std         8.965932       5.119872       1.703572      45.944423\n",
      "min       -31.609576     -26.358598      -0.018144       0.000000\n",
      "25%        -6.298551      -8.267985       1.000021      26.953261\n",
      "50%         1.153055      -4.813172       2.011479      57.085625\n",
      "75%         8.621015      -1.332816       3.999904     107.813044\n",
      "max        29.421755      18.734063       5.019721     137.945408\n",
      "\n",
      "Регион 2 — описательная статистика:\n",
      "                  f0             f1             f2        product\n",
      "count  100000.000000  100000.000000  100000.000000  100000.000000\n",
      "mean        0.002023      -0.002081       2.495128      95.000000\n",
      "std         1.732045       1.730417       3.473445      44.749921\n",
      "min        -8.760004      -7.084020     -11.970335       0.000000\n",
      "25%        -1.162288      -1.174820       0.130359      59.450441\n",
      "50%         0.009424      -0.009482       2.484236      94.925613\n",
      "75%         1.158535       1.163678       4.858794     130.595027\n",
      "max         7.238262       7.844801      16.739402     190.029838\n"
     ]
    }
   ],
   "source": [
    "# Построим отдельные таблицы с описательной статистикой по регионам\n",
    "print('Регион 0 — описательная статистика:')\n",
    "print(data_0.describe())\n",
    "\n",
    "print('\\nРегион 1 — описательная статистика:')\n",
    "print(data_1.describe())\n",
    "\n",
    "print('\\nРегион 2 — описательная статистика:')\n",
    "print(data_2.describe())"
   ]
  },
  {
   "cell_type": "markdown",
   "metadata": {},
   "source": [
    "Сравнение регионов по запасам нефти (product)\n",
    "\n",
    "- Регион 2 имеет наивысший средний и медианный объём запасов.\n",
    "\n",
    "- Регион 1 значительно уступает по объёмам.\n",
    "\n",
    "- Везде есть скважины с нулевыми запасами — они негативно влияют на прибыль, особенно при случайном выборе точек.\n",
    "\n",
    "- Разброс (std) — примерно одинаковый у всех.\n",
    "\n",
    "Признаки (f0, f1, f2)\n",
    "\n",
    "- В регионе 1 признаки f0 и f1 имеют аномально широкий диапазон (от -30 до +30), тогда как в других регионах они варьируются в пределах (от -8 до +8) максимум.\n",
    "\n",
    "- В регионах 0 и 2 признаки имеют умеренные значения."
   ]
  },
  {
   "cell_type": "code",
   "execution_count": 9,
   "metadata": {},
   "outputs": [
    {
     "data": {
      "image/png": "[encoded data removed]",
      "text/plain": [
       "<Figure size 576x288 with 1 Axes>"
      ]
     },
     "metadata": {
      "needs_background": "light"
     },
     "output_type": "display_data"
    },
    {
     "data": {
      "image/png": "[encoded data removed]",
      "text/plain": [
       "<Figure size 576x288 with 1 Axes>"
      ]
     },
     "metadata": {
      "needs_background": "light"
     },
     "output_type": "display_data"
    },
    {
     "data": {
      "image/png": "[encoded data removed]",
      "text/plain": [
       "<Figure size 576x288 with 1 Axes>"
      ]
     },
     "metadata": {
      "needs_background": "light"
     },
     "output_type": "display_data"
    },
    {
     "data": {
      "image/png": "[encoded data removed]",
      "text/plain": [
       "<Figure size 720x360 with 1 Axes>"
      ]
     },
     "metadata": {
      "needs_background": "light"
     },
     "output_type": "display_data"
    }
   ],
   "source": [
    "# Гистограммы распределения product\n",
    "datasets = [data_0, data_1, data_2]\n",
    "\n",
    "for i, data in enumerate(datasets):\n",
    "    plt.figure(figsize=(8, 4))\n",
    "    plt.hist(data['product'], bins=100, alpha=0.7, color='steelblue')\n",
    "    plt.title(f'Распределение запасов нефти — Регион {i}')\n",
    "    plt.xlabel('Запасы (тыс. баррелей)')\n",
    "    plt.ylabel('Частота')\n",
    "    plt.grid(True)\n",
    "    plt.show()\n",
    "\n",
    "# Boxplot ящик с усами\n",
    "plt.figure(figsize=(10, 5))\n",
    "plt.boxplot([data_0['product'], data_1['product'], data_2['product']],\n",
    "            labels=['Регион 0', 'Регион 1', 'Регион 2'])\n",
    "plt.title('Boxplot распределения product по регионам')\n",
    "plt.ylabel('Запасы (тыс. баррелей)')\n",
    "plt.grid(True)\n",
    "plt.show()\n"
   ]
  },
  {
   "cell_type": "markdown",
   "metadata": {},
   "source": [
    "Выводы:\n",
    "\n",
    "Гистограммы\n",
    "\n",
    "Регион 0\n",
    "\n",
    "- Распределение равномерно-гребенчатое, с «пиками» каждые 10–20 тыс. баррелей.\n",
    "\n",
    "- Центр массы — примерно от 50 до 140 тыс. баррелей.\n",
    "\n",
    "Регион 1\n",
    "\n",
    "- Явно видно: дискретное распределение — всего около 10 уникальных значений product\n",
    "\n",
    "- Но запасы — низкие по сравнению с другими регионами.\n",
    "\n",
    "Регион 2\n",
    "\n",
    "- Распределение похоже на регион 0: тоже гребенчатое.\n",
    "\n",
    "- Видно, что большая часть скважин имеет запасы от 60 до 150 тыс. баррелей.\n",
    "\n",
    "- Медиана и среднее — самые высокие среди всех регионов.\n",
    "\n",
    "Boxplot (ящик с усами)\n",
    "\n",
    "\n",
    "- Медиана (оранжевая линия) выше всего в регионе 2, затем — в 0, и наименьшая в 1.\n",
    "\n",
    "Везде есть выбросы в нижней части — скважины с нулевыми или близкими к нулю запасами.\n",
    "\n",
    "Разброс (IQR, межквартильный диапазон) у всех регионов примерно сопоставим, но у регионов 0 и 2 он смещён вверх, что говорит о более высоких запасах в этих регионах."
   ]
  },
  {
   "cell_type": "code",
   "execution_count": 10,
   "metadata": {},
   "outputs": [
    {
     "name": "stdout",
     "output_type": "stream",
     "text": [
      "Регион 0: 1966 скважин с запасом < 10 тыс. баррелей (1.97%)\n",
      "Регион 1: 16572 скважин с запасом < 10 тыс. баррелей (16.57%)\n",
      "Регион 2: 1948 скважин с запасом < 10 тыс. баррелей (1.95%)\n"
     ]
    }
   ],
   "source": [
    "# Оценим долю \"плохих\" скважин (с малыми запасами)\n",
    "threshold = 10  # например, ниже 10 тыс. баррелей\n",
    "for i, data in enumerate(datasets):\n",
    "    low_count = (data['product'] < threshold).sum()\n",
    "    total = len(data)\n",
    "    percent = low_count / total * 100\n",
    "    print(f'Регион {i}: {low_count} скважин с запасом < {threshold} тыс. баррелей ({percent:.2f}%)')\n"
   ]
  },
  {
   "cell_type": "markdown",
   "metadata": {},
   "source": [
    "Вывод:\n",
    "\n",
    "- Регион 1 резко выделяется: почти каждая шестая скважина (16.6%) содержит крайне малый объём нефти. Это указывает на высокую плотность «пустых» точек, несмотря на хорошее качество модели.\n",
    "\n",
    "- В регионах 0 и 2 доля таких скважин ниже 2%, что делает их более устойчивыми при случайной разведке.\n",
    "\n",
    "Это подчёркивает необходимость:\n",
    "\n",
    "- не использовать случайный выбор скважин;\n",
    "\n",
    "- опираться на предсказания модели для фильтрации нерентабельных точек;\n",
    "\n",
    "- при анализе региона 1 учитывать высокую вероятность «пустых» скважин, даже несмотря на точную модель."
   ]
  },
  {
   "cell_type": "markdown",
   "metadata": {},
   "source": [
    "**Измерим линейную зависимость между признаками.**\n",
    "\n",
    "Проведем корреляционый анализ по Пирсону, данный метод имеет смысл использовать для линейной регрессии, так как он оценивает насколько хорошо признак линейно связан с целевым."
   ]
  },
  {
   "cell_type": "code",
   "execution_count": 11,
   "metadata": {},
   "outputs": [
    {
     "name": "stdout",
     "output_type": "stream",
     "text": [
      "Регион 0 — корреляция с product:\n",
      "f2    0.483663\n",
      "f0    0.143536\n",
      "f1   -0.192356\n",
      "Name: product, dtype: float64 \n",
      "\n",
      "Регион 1 — корреляция с product:\n",
      "f2    0.999397\n",
      "f1   -0.010155\n",
      "f0   -0.030491\n",
      "Name: product, dtype: float64 \n",
      "\n",
      "Регион 2 — корреляция с product:\n",
      "f2    0.445871\n",
      "f1   -0.001012\n",
      "f0   -0.001987\n",
      "Name: product, dtype: float64 \n",
      "\n"
     ]
    }
   ],
   "source": [
    "# Корреляционный анализ по Пирсону\n",
    "for i, data in enumerate([data_0, data_1, data_2]):\n",
    "    print(f'Регион {i} — корреляция с product:')\n",
    "    corr = data.corr(method='pearson')['product'].drop('product').sort_values(ascending=False)\n",
    "    print(corr, '\\n')\n"
   ]
  },
  {
   "cell_type": "markdown",
   "metadata": {},
   "source": [
    "Выводы по регионам\n",
    "\n",
    "Регион 0:\n",
    "\n",
    "- f2 — умеренно полезен, f0 и f1 — слабо;\n",
    "\n",
    "Надо будет отбирать только лучшие скважины.\n",
    "\n",
    "Регион 1:\n",
    "\n",
    "- Одна переменная (f2) объясняет почти 100% дисперсии;\n",
    "\n",
    "- Модель линейной регрессии предсказывает идеально;\n",
    "\n",
    "Но сами значения product низкие, регион невыгоден по прибыли.\n",
    "\n",
    "Регион 2:\n",
    "\n",
    "- Очень похож на регион 0 — зависимость от f2, остальные бесполезны;\n",
    "\n",
    "- Средний product выше, потенциал выше, несмотря на слабую предсказуемость.\n"
   ]
  },
  {
   "cell_type": "markdown",
   "metadata": {},
   "source": [
    "## Обучение и проверка модели"
   ]
  },
  {
   "cell_type": "code",
   "execution_count": 12,
   "metadata": {},
   "outputs": [
    {
     "name": "stdout",
     "output_type": "stream",
     "text": [
      "Регион 0\n",
      "Средний предсказанный запас: 92.40 тыс. баррелей\n",
      "RMSE модели: 37.76 тыс. баррелей\n",
      "\n",
      "Регион 1\n",
      "Средний предсказанный запас: 68.71 тыс. баррелей\n",
      "RMSE модели: 0.89 тыс. баррелей\n",
      "\n",
      "Регион 2\n",
      "Средний предсказанный запас: 94.77 тыс. баррелей\n",
      "RMSE модели: 40.15 тыс. баррелей\n",
      "\n"
     ]
    }
   ],
   "source": [
    "# Функция для обучения и оценки модели\n",
    "def train_and_evaluate(data, region_name):\n",
    "    # Выделяем признаки и целевой столбец\n",
    "    features = data.drop(columns=['product', 'id'])\n",
    "    target = data['product']\n",
    "    \n",
    "    # Делим выборку\n",
    "    X_train, X_valid, y_train, y_valid = train_test_split(\n",
    "        features, target, test_size=0.25, random_state=42\n",
    "    )\n",
    "    \n",
    "    # Обучение модели\n",
    "    model = LinearRegression()\n",
    "    model.fit(X_train, y_train)\n",
    "    \n",
    "    # Предсказания\n",
    "    predictions = model.predict(X_valid)\n",
    "    \n",
    "    # Метрики\n",
    "    rmse = mean_squared_error(y_valid, predictions, squared=False)\n",
    "    mean_predicted = predictions.mean()\n",
    "    \n",
    "    print(f'{region_name}')\n",
    "    print(f'Средний предсказанный запас: {mean_predicted:.2f} тыс. баррелей')\n",
    "    print(f'RMSE модели: {rmse:.2f} тыс. баррелей\\n')\n",
    "    \n",
    "    return y_valid.reset_index(drop=True), pd.Series(predictions)\n",
    "\n",
    "# Запускаем для всех трёх регионов\n",
    "actual_0, pred_0 = train_and_evaluate(data_0, 'Регион 0')\n",
    "actual_1, pred_1 = train_and_evaluate(data_1, 'Регион 1')\n",
    "actual_2, pred_2 = train_and_evaluate(data_2, 'Регион 2')\n"
   ]
  },
  {
   "cell_type": "markdown",
   "metadata": {},
   "source": [
    "Выводы по моделям: **Регион 1 — лучший по качеству модели** \n",
    "\n",
    "RMSE почти нулевая, значит, линейная регрессия отлично объясняет product.\n",
    "\n",
    "Регионы 0 и 2 — слабее предсказуемы, модели дают ошибки в 40+ тыс. баррелей.\n",
    "\n",
    "Однако средние предсказанные запасы в регионах 0 и 2 выше, чем в регионе 1 — значит, их нельзя исключать только на основании RMSE."
   ]
  },
  {
   "cell_type": "markdown",
   "metadata": {},
   "source": [
    "## Подготовка к расчёту прибыли"
   ]
  },
  {
   "cell_type": "code",
   "execution_count": 13,
   "metadata": {},
   "outputs": [],
   "source": [
    "# 3.1. Базовые параметры для расчётов\n",
    "BUDGET = 10_000_000_000                    # общий бюджет на регион (10 млрд руб)\n",
    "INCOME_PER_1000_BARRELS = 450_000          # доход с 1000 баррелей в рублях\n",
    "WELLS_TOTAL = 500                          # всего исследуют 500 точек\n",
    "WELLS_TO_SELECT = 200                      # для разработки выбирают 200 лучших\n",
    "\n",
    "# Производные переменные\n",
    "REVENUE_PER_BARREL = INCOME_PER_1000_BARRELS / 1000  # 450 руб за баррель\n"
   ]
  },
  {
   "cell_type": "code",
   "execution_count": 14,
   "metadata": {},
   "outputs": [
    {
     "name": "stdout",
     "output_type": "stream",
     "text": [
      "Безубыточность достигается при объёме: 22222 тыс. баррелей\n",
      "Требуемый средний объём на 1 скважину: 111.11 тыс. баррелей\n"
     ]
    }
   ],
   "source": [
    "# 3.2. Расчёт достаточного общего и среднего объёма сырья (в тыс. баррелей)\n",
    "required_total_oil = BUDGET / INCOME_PER_1000_BARRELS         # сколько всего нужно (в тыс. баррелей)\n",
    "required_oil_per_well = required_total_oil / WELLS_TO_SELECT  # на одну скважину\n",
    "\n",
    "print(f'Безубыточность достигается при объёме: {required_total_oil:.0f} тыс. баррелей')\n",
    "print(f'Требуемый средний объём на 1 скважину: {required_oil_per_well:.2f} тыс. баррелей')\n"
   ]
  },
  {
   "cell_type": "markdown",
   "metadata": {},
   "source": [
    "3.3. Выводы по этапу подготовки расчёта прибыли.\n",
    "\n",
    "1. Бюджет на разработку составляет 10 млрд рублей.\n",
    "\n",
    "2. Доход с 1000 баррелей нефти составляет 450 тыс. рублей, следовательно:\n",
    "\n",
    "- Чтобы выйти на точку безубыточности, необходимо добыть как минимум 22 222 тыс. баррелей нефти.\n",
    "\n",
    "- Это соответствует в среднем 111.11 тыс. баррелей на одну скважину (при разработке 200 скважин).\n",
    "\n",
    "Вывод:\n",
    "\n",
    "Ни один из регионов в среднем не обеспечивает достаточного объёма сырья для безубыточной разработки при случайном выборе скважин. Следовательно, необходимо использовать модель, чтобы выбрать только наиболее перспективные 200 скважин по предсказанным значениям."
   ]
  },
  {
   "cell_type": "markdown",
   "metadata": {},
   "source": [
    "## Расчёт прибыли и рисков "
   ]
  },
  {
   "cell_type": "markdown",
   "metadata": {},
   "source": [
    "Наша цель:\n",
    "- Выбрать 200 скважин с максимальным предсказанным объёмом;\n",
    "- Посмотреть, сколько фактической нефти в этих скважинах (y_valid);\n",
    "- Рассчитать прибыль: product × 450_000."
   ]
  },
  {
   "cell_type": "code",
   "execution_count": 15,
   "metadata": {},
   "outputs": [
    {
     "name": "stdout",
     "output_type": "stream",
     "text": [
      "Регион 0\n",
      "Выбрано 200 уникальных скважин\n",
      "Общий фактический объём нефти в топ-200: 29686.98 тыс. баррелей\n",
      "Выручка: 13,359,141,114 руб.\n",
      "Прибыль: 3,359,141,114 руб.\n",
      "\n",
      "Регион 1\n",
      "Выбрано 200 уникальных скважин\n",
      "Общий фактический объём нефти в топ-200: 27589.08 тыс. баррелей\n",
      "Выручка: 12,415,086,697 руб.\n",
      "Прибыль: 2,415,086,697 руб.\n",
      "\n",
      "Регион 2\n",
      "Выбрано 200 уникальных скважин\n",
      "Общий фактический объём нефти в топ-200: 27996.83 тыс. баррелей\n",
      "Выручка: 12,598,571,759 руб.\n",
      "Прибыль: 2,598,571,759 руб.\n",
      "\n"
     ]
    }
   ],
   "source": [
    "def calculate_profit(y_valid, predictions, region_name):\n",
    "    # Используем заданные параметры\n",
    "    selected_count = WELLS_TO_SELECT\n",
    "    price_per_thousand_barrels = INCOME_PER_1000_BARRELS\n",
    "\n",
    "    # Получаем индексы лучших по предсказанному объёму\n",
    "    top_200_idx = predictions.sort_values(ascending=False).index[:selected_count]\n",
    "    top_200_idx = top_200_idx.drop_duplicates()  # Исключаем повторяющиеся индексы (на всякий случай)\n",
    "\n",
    "    # Суммируем фактические значения product\n",
    "    selected_product = y_valid.loc[top_200_idx]\n",
    "    total_oil_volume = selected_product.sum()\n",
    "\n",
    "    # Расчёт выручки и прибыли\n",
    "    revenue = total_oil_volume * price_per_thousand_barrels\n",
    "    profit = revenue - BUDGET\n",
    "\n",
    "    # Отображаем размер и финансы\n",
    "    print(f'{region_name}')\n",
    "    print(f'Выбрано {len(top_200_idx)} уникальных скважин')\n",
    "    print(f'Общий фактический объём нефти в топ-{selected_count}: {total_oil_volume:.2f} тыс. баррелей')\n",
    "    print(f'Выручка: {revenue:,.0f} руб.')\n",
    "    print(f'Прибыль: {profit:,.0f} руб.\\n')\n",
    "\n",
    "    return profit\n",
    "\n",
    "profit_0 = calculate_profit(actual_0, pred_0, 'Регион 0')\n",
    "profit_1 = calculate_profit(actual_1, pred_1, 'Регион 1')\n",
    "profit_2 = calculate_profit(actual_2, pred_2, 'Регион 2')"
   ]
  },
  {
   "cell_type": "markdown",
   "metadata": {},
   "source": [
    "Выводы по Шагу 4:\n",
    "\n",
    "Выводы по расчёту прибыли и выручки\n",
    "Были выбраны по 200 лучших скважин в каждом регионе на основе предсказанных объёмов нефти. Далее рассчитана фактическая выручка и прибыль, исходя из объёмов product и цены 450 000 рублей за 1000 баррелей. Напомним, бюджет на разработку составляет 10 млрд рублей.\n",
    "\n",
    "Результаты:\n",
    "\n",
    "Регион 0\n",
    "\n",
    "- Общий объём нефти: 29 687 тыс. баррелей\n",
    "\n",
    "- Выручка: 13.36 млрд руб.\n",
    "\n",
    "- Прибыль: 3.36 млрд руб.\n",
    "\n",
    "Регион 1\n",
    "\n",
    "- Общий объём нефти: 27 589 тыс. баррелей\n",
    "\n",
    "- Выручка: 12.42 млрд руб.\n",
    "\n",
    "- Прибыль: 2.42 млрд руб.\n",
    "\n",
    "Регион 2\n",
    "\n",
    "- Общий объём нефти: 27 997 тыс. баррелей\n",
    "\n",
    "- Выручка: 12.60 млрд руб.\n",
    "\n",
    "- Прибыль: 2.60 млрд руб.\n",
    "\n",
    "Выводы:\n",
    "\n",
    "Все три региона обеспечивают выручку выше бюджета (10 млрд руб.), то есть проекты потенциально прибыльны.\n",
    "\n",
    "Регион 0 приносит наибольшую фактическую прибыль — более 3.36 млрд руб.\n",
    "\n",
    "Регион 2 немного обгоняет регион 1 по прибыли, несмотря на чуть меньшую точность модели.\n",
    "\n",
    "Эти оценки — без учёта риска. Чтобы принять окончательное решение, необходимо дополнительно проанализировать риски убытков и доверительный интервал прибыли (Bootstrap)."
   ]
  },
  {
   "cell_type": "markdown",
   "metadata": {},
   "source": [
    "## Посчитайте риски и прибыль для каждого региона"
   ]
  },
  {
   "cell_type": "code",
   "execution_count": 16,
   "metadata": {},
   "outputs": [
    {
     "name": "stdout",
     "output_type": "stream",
     "text": [
      "Регион 0\n",
      "Средняя выручка: 10,487,488,185 руб.\n",
      "Средняя прибыль: 487,488,185 руб.\n",
      "95%-й доверительный интервал прибыли: [-48,168,641, 1,007,805,591]\n",
      "Риск убытков: 4.30%\n",
      "\n",
      "Регион 1\n",
      "Средняя выручка: 10,529,451,732 руб.\n",
      "Средняя прибыль: 529,451,732 руб.\n",
      "95%-й доверительный интервал прибыли: [120,250,288, 949,481,358]\n",
      "Риск убытков: 0.80%\n",
      "\n",
      "Регион 2\n",
      "Средняя выручка: 10,465,614,044 руб.\n",
      "Средняя прибыль: 465,614,044 руб.\n",
      "95%-й доверительный интервал прибыли: [-75,784,770, 1,007,725,888]\n",
      "Риск убытков: 4.20%\n",
      "\n"
     ]
    }
   ],
   "source": [
    "def bootstrap_profit(y_valid, predictions, region_name, n_bootstrap=1000, random_state=42):\n",
    "    state = np.random.RandomState(random_state)\n",
    "    revenues = []  # валовая выручка\n",
    "    profits = []   # прибыль (выручка - затраты)\n",
    "\n",
    "    for _ in range(n_bootstrap):\n",
    "        # Случайная выборка 500 скважин с возвращением\n",
    "        sample_idx = state.choice(y_valid.index, size=WELLS_TOTAL, replace=True)\n",
    "        sample_preds = predictions.loc[sample_idx]\n",
    "        sample_targets = y_valid.loc[sample_idx]\n",
    "\n",
    "        # Отбор top-200 уникальных по предсказаниям\n",
    "        top_200_idx = sample_preds.sort_values(ascending=False).index.drop_duplicates()[:WELLS_TO_SELECT]\n",
    "        selected_product = sample_targets.loc[top_200_idx]\n",
    "\n",
    "        # Диагностика: печатаем, если < 200\n",
    "        if len(selected_product) < WELLS_TO_SELECT:\n",
    "            print(f'{region_name}: выбрано только {len(selected_product)} скважин вместо 200')\n",
    "\n",
    "        # Расчёт выручки и прибыли\n",
    "        total_volume = selected_product.sum()\n",
    "        revenue = total_volume * REVENUE_PER_BARREL * 1000  # product в тыс. баррелей\n",
    "        profit = revenue - BUDGET\n",
    "\n",
    "        revenues.append(revenue)\n",
    "        profits.append(profit)\n",
    "\n",
    "    # Преобразуем в Series\n",
    "    revenues = pd.Series(revenues)\n",
    "    profits = pd.Series(profits)\n",
    "\n",
    "    # Расчёты\n",
    "    mean_revenue = revenues.mean()\n",
    "    mean_profit = profits.mean()\n",
    "    confidence_interval = profits.quantile([0.025, 0.975])\n",
    "    risk = (profits < 0).mean()\n",
    "\n",
    "    # Вывод\n",
    "    print(f'{region_name}')\n",
    "    print(f'Средняя выручка: {mean_revenue:,.0f} руб.')\n",
    "    print(f'Средняя прибыль: {mean_profit:,.0f} руб.')\n",
    "    print(f'95%-й доверительный интервал прибыли: [{confidence_interval.iloc[0]:,.0f}, {confidence_interval.iloc[1]:,.0f}]')\n",
    "    print(f'Риск убытков: {risk:.2%}\\n')\n",
    "\n",
    "    return profits, revenues\n",
    "\n",
    "profits_0, revenues_0 = bootstrap_profit(actual_0, pred_0, 'Регион 0')\n",
    "profits_1, revenues_1 = bootstrap_profit(actual_1, pred_1, 'Регион 1')\n",
    "profits_2, revenues_2 = bootstrap_profit(actual_2, pred_2, 'Регион 2')\n"
   ]
  },
  {
   "cell_type": "markdown",
   "metadata": {},
   "source": [
    "Выводы по расчёту прибыли и рисков:\n",
    "\n",
    "Только регион 1 соответствует критерию по риску (менее 2.5%) и демонстрирует устойчивую, предсказуемую прибыль. Он остаётся оптимальным кандидатом для инвестиций, несмотря на то, что другие регионы показывают схожий уровень средней выручки."
   ]
  },
  {
   "cell_type": "markdown",
   "metadata": {},
   "source": [
    "**Финальный вывод по проекту**\n",
    "\n",
    "Цель проекта — определить, в каком из трёх регионов целесообразнее бурить новые нефтяные скважины, используя данные геологоразведки и прогнозы линейной регрессии.\n",
    "\n",
    "Анализ распределения запасов нефти:\n",
    "\n",
    "- Во всех трёх регионах распределения признака product различаются.\n",
    "\n",
    "- В регионе 1 обнаружено дискретное распределение и высокая доля скважин с малыми запасами (16.6% имеют менее 10 тыс. баррелей).\n",
    "\n",
    "Корреляционный анализ:\n",
    "\n",
    "- Только признак f2 показывает существенную корреляцию с целевым признаком product.\n",
    "\n",
    "- В регионе 1 корреляция между f2 и product практически идеальна (0.999), что обеспечивает линейной модели максимальную точность (RMSE < 1).\n",
    "\n",
    "Обучение моделей:\n",
    "\n",
    "- Для каждого региона была построена своя линейная модель.\n",
    "\n",
    "- При случайном выборе 500 скважин средний объём нефти не обеспечивает безубыточность.\n",
    "\n",
    "Оценка выручки по 200 лучшим скважинам:\n",
    "\n",
    "- Регион 0: 13.36 млрд руб.\n",
    "\n",
    "- Регион 1: 12.42 млрд руб.\n",
    "\n",
    "- Регион 2: 12.60 млрд руб.\n",
    "\n",
    "Вывод:\n",
    "\n",
    "- Только регионы 0 и 1 соответствуют порогу риска < 2.5%.\n",
    "\n",
    "- Регион 1 демонстрирует наименьший риск убытков, высокую стабильность модели, предсказуемость данных и уверенную прибыль.\n",
    "\n",
    "- Несмотря на немного меньшую выручку, Регион 1 — наиболее надёжный и управляемый с точки зрения рисков и бизнес-результата.\n",
    "\n",
    "Рекомендация:\n",
    "\n",
    "**Рекомендуется выбрать Регион 1 для бурения новых нефтяных скважин** — как наиболее безопасный и экономически оправданный вариант."
   ]
  },
  {
   "cell_type": "markdown",
   "metadata": {},
   "source": [
    "## Чек-лист готовности проекта"
   ]
  },
  {
   "cell_type": "markdown",
   "metadata": {},
   "source": [
    "Поставьте 'x' в выполненных пунктах. Далее нажмите Shift+Enter."
   ]
  },
  {
   "cell_type": "markdown",
   "metadata": {},
   "source": [
    "- [x]  Jupyter Notebook открыт\n",
    "- [x]  Весь код выполняется без ошибок\n",
    "- [x]  Ячейки с кодом расположены в порядке исполнения\n",
    "- [x]  Выполнен шаг 1: данные подготовлены\n",
    "- [x]  Выполнен шаг 2: модели обучены и проверены\n",
    "    - [x]  Данные корректно разбиты на обучающую и валидационную выборки\n",
    "    - [x]  Модели обучены, предсказания сделаны\n",
    "    - [x]  Предсказания и правильные ответы на валидационной выборке сохранены\n",
    "    - [x]  На экране напечатаны результаты\n",
    "    - [x]  Сделаны выводы\n",
    "- [x]  Выполнен шаг 3: проведена подготовка к расчёту прибыли\n",
    "    - [x]  Для всех ключевых значений созданы константы Python\n",
    "    - [x]  Посчитано минимальное среднее количество продукта в месторождениях региона, достаточное для разработки\n",
    "    - [x]  По предыдущему пункту сделаны выводы\n",
    "    - [x]  Написана функция расчёта прибыли\n",
    "- [x]  Выполнен шаг 4: посчитаны риски и прибыль\n",
    "    - [x]  Проведена процедура *Bootstrap*\n",
    "    - [x]  Все параметры бутстрепа соответствуют условию\n",
    "    - [x]  Найдены все нужные величины\n",
    "    - [x]  Предложен регион для разработки месторождения\n",
    "    - [x]  Выбор региона обоснован"
   ]
  },
  {
   "cell_type": "code",
   "execution_count": null,
   "metadata": {},
   "outputs": [],
   "source": []
  }
 ],
 "metadata": {
  "ExecuteTimeLog": [
   {
    "duration": 12,
    "start_time": "2025-03-28T16:34:30.916Z"
   },
   {
    "duration": 411,
    "start_time": "2025-06-02T10:21:52.165Z"
   },
   {
    "duration": 462,
    "start_time": "2025-06-02T10:22:12.683Z"
   },
   {
    "duration": 34,
    "start_time": "2025-06-02T10:24:31.292Z"
   },
   {
    "duration": 162,
    "start_time": "2025-06-02T10:28:43.284Z"
   },
   {
    "duration": 6,
    "start_time": "2025-06-02T10:30:42.804Z"
   },
   {
    "duration": 89,
    "start_time": "2025-06-02T10:31:59.924Z"
   },
   {
    "duration": 771,
    "start_time": "2025-06-02T10:32:42.034Z"
   },
   {
    "duration": 365,
    "start_time": "2025-06-02T10:33:39.290Z"
   },
   {
    "duration": 371,
    "start_time": "2025-06-02T10:33:50.884Z"
   },
   {
    "duration": 445,
    "start_time": "2025-06-02T10:34:06.805Z"
   },
   {
    "duration": 1259,
    "start_time": "2025-06-02T13:46:13.176Z"
   },
   {
    "duration": 425,
    "start_time": "2025-06-02T13:46:16.420Z"
   },
   {
    "duration": 44,
    "start_time": "2025-06-02T13:46:17.898Z"
   },
   {
    "duration": 185,
    "start_time": "2025-06-02T13:46:19.979Z"
   },
   {
    "duration": 7,
    "start_time": "2025-06-02T13:46:21.900Z"
   },
   {
    "duration": 40,
    "start_time": "2025-06-02T13:46:52.626Z"
   },
   {
    "duration": 41,
    "start_time": "2025-06-02T13:47:44.738Z"
   },
   {
    "duration": 38,
    "start_time": "2025-06-02T13:48:02.498Z"
   },
   {
    "duration": 93,
    "start_time": "2025-06-02T13:48:12.698Z"
   },
   {
    "duration": 39,
    "start_time": "2025-06-02T13:48:47.226Z"
   },
   {
    "duration": 38,
    "start_time": "2025-06-02T13:51:11.226Z"
   },
   {
    "duration": 138,
    "start_time": "2025-06-02T13:51:27.906Z"
   },
   {
    "duration": 99,
    "start_time": "2025-06-02T13:51:36.506Z"
   },
   {
    "duration": 38,
    "start_time": "2025-06-02T13:51:47.340Z"
   },
   {
    "duration": 3,
    "start_time": "2025-06-02T13:52:02.298Z"
   },
   {
    "duration": 41,
    "start_time": "2025-06-02T13:52:12.360Z"
   },
   {
    "duration": 42,
    "start_time": "2025-06-02T13:53:53.419Z"
   },
   {
    "duration": 40,
    "start_time": "2025-06-02T13:54:08.762Z"
   },
   {
    "duration": 168,
    "start_time": "2025-06-02T13:56:52.386Z"
   },
   {
    "duration": 170,
    "start_time": "2025-06-02T13:57:39.266Z"
   },
   {
    "duration": 167,
    "start_time": "2025-06-02T13:58:24.123Z"
   },
   {
    "duration": 172,
    "start_time": "2025-06-02T13:58:41.303Z"
   },
   {
    "duration": 156,
    "start_time": "2025-06-02T13:58:54.780Z"
   },
   {
    "duration": 1504,
    "start_time": "2025-06-02T14:00:02.639Z"
   },
   {
    "duration": 24,
    "start_time": "2025-06-02T14:02:58.187Z"
   },
   {
    "duration": 71,
    "start_time": "2025-06-02T14:05:23.845Z"
   },
   {
    "duration": 4,
    "start_time": "2025-06-02T14:15:24.355Z"
   },
   {
    "duration": 93,
    "start_time": "2025-06-02T14:15:57.187Z"
   },
   {
    "duration": 104,
    "start_time": "2025-06-02T14:17:02.990Z"
   },
   {
    "duration": 181,
    "start_time": "2025-06-02T14:20:09.585Z"
   },
   {
    "duration": 930,
    "start_time": "2025-06-02T14:26:15.156Z"
   },
   {
    "duration": 115,
    "start_time": "2025-06-02T14:28:32.629Z"
   },
   {
    "duration": 109,
    "start_time": "2025-06-02T14:28:53.528Z"
   },
   {
    "duration": 1116,
    "start_time": "2025-06-02T14:29:04.198Z"
   },
   {
    "duration": 29,
    "start_time": "2025-06-02T14:39:45.752Z"
   },
   {
    "duration": 27,
    "start_time": "2025-06-02T14:39:52.518Z"
   },
   {
    "duration": 363,
    "start_time": "2025-06-02T14:49:20.315Z"
   },
   {
    "duration": 104,
    "start_time": "2025-06-02T14:51:43.718Z"
   },
   {
    "duration": 4,
    "start_time": "2025-06-02T14:52:12.579Z"
   },
   {
    "duration": 5,
    "start_time": "2025-06-02T14:52:52.182Z"
   },
   {
    "duration": 4,
    "start_time": "2025-06-02T15:03:53.192Z"
   },
   {
    "duration": 16,
    "start_time": "2025-06-02T15:23:45.556Z"
   },
   {
    "duration": 1521,
    "start_time": "2025-06-03T04:34:21.591Z"
   },
   {
    "duration": 403,
    "start_time": "2025-06-03T04:34:24.089Z"
   },
   {
    "duration": 37,
    "start_time": "2025-06-03T04:34:25.631Z"
   },
   {
    "duration": 37,
    "start_time": "2025-06-03T04:35:01.004Z"
   },
   {
    "duration": 26,
    "start_time": "2025-06-03T04:35:03.604Z"
   },
   {
    "duration": 143,
    "start_time": "2025-06-03T04:35:33.123Z"
   },
   {
    "duration": 161,
    "start_time": "2025-06-03T04:36:31.364Z"
   },
   {
    "duration": 156,
    "start_time": "2025-06-03T04:36:50.678Z"
   },
   {
    "duration": 155,
    "start_time": "2025-06-03T04:37:02.363Z"
   },
   {
    "duration": 7,
    "start_time": "2025-06-03T04:38:58.075Z"
   },
   {
    "duration": 1037,
    "start_time": "2025-06-03T04:42:07.293Z"
   },
   {
    "duration": 9,
    "start_time": "2025-06-03T04:43:53.282Z"
   },
   {
    "duration": 506,
    "start_time": "2025-06-03T04:50:01.852Z"
   },
   {
    "duration": 3,
    "start_time": "2025-06-03T04:50:33.971Z"
   },
   {
    "duration": 3,
    "start_time": "2025-06-03T04:50:35.476Z"
   },
   {
    "duration": 15,
    "start_time": "2025-06-03T04:50:38.957Z"
   },
   {
    "duration": 3687,
    "start_time": "2025-06-03T04:50:45.079Z"
   },
   {
    "duration": 776,
    "start_time": "2025-06-03T04:59:05.876Z"
   },
   {
    "duration": 3767,
    "start_time": "2025-06-03T05:34:21.251Z"
   },
   {
    "duration": 1377,
    "start_time": "2025-06-03T05:36:36.421Z"
   },
   {
    "duration": 406,
    "start_time": "2025-06-03T05:36:37.800Z"
   },
   {
    "duration": 38,
    "start_time": "2025-06-03T05:36:38.207Z"
   },
   {
    "duration": 27,
    "start_time": "2025-06-03T05:36:38.258Z"
   },
   {
    "duration": 171,
    "start_time": "2025-06-03T05:36:38.287Z"
   },
   {
    "duration": 63,
    "start_time": "2025-06-03T05:36:38.459Z"
   },
   {
    "duration": 57,
    "start_time": "2025-06-03T05:36:38.524Z"
   },
   {
    "duration": 95,
    "start_time": "2025-06-03T05:36:38.582Z"
   },
   {
    "duration": 1052,
    "start_time": "2025-06-03T05:36:38.679Z"
   },
   {
    "duration": 7,
    "start_time": "2025-06-03T05:36:39.732Z"
   },
   {
    "duration": 40,
    "start_time": "2025-06-03T05:36:39.740Z"
   },
   {
    "duration": 381,
    "start_time": "2025-06-03T05:36:39.782Z"
   },
   {
    "duration": 94,
    "start_time": "2025-06-03T05:36:40.165Z"
   },
   {
    "duration": 95,
    "start_time": "2025-06-03T05:36:40.263Z"
   },
   {
    "duration": 18,
    "start_time": "2025-06-03T05:36:40.360Z"
   },
   {
    "duration": 3921,
    "start_time": "2025-06-03T05:36:40.380Z"
   },
   {
    "duration": 1308,
    "start_time": "2025-06-03T05:45:33.414Z"
   },
   {
    "duration": 414,
    "start_time": "2025-06-03T05:45:34.723Z"
   },
   {
    "duration": 64,
    "start_time": "2025-06-03T05:45:35.139Z"
   },
   {
    "duration": 29,
    "start_time": "2025-06-03T05:45:35.205Z"
   },
   {
    "duration": 179,
    "start_time": "2025-06-03T05:45:35.236Z"
   },
   {
    "duration": 78,
    "start_time": "2025-06-03T05:45:35.416Z"
   },
   {
    "duration": 7,
    "start_time": "2025-06-03T05:45:35.495Z"
   },
   {
    "duration": 116,
    "start_time": "2025-06-03T05:45:35.504Z"
   },
   {
    "duration": 1079,
    "start_time": "2025-06-03T05:45:35.622Z"
   },
   {
    "duration": 7,
    "start_time": "2025-06-03T05:45:36.703Z"
   },
   {
    "duration": 29,
    "start_time": "2025-06-03T05:45:36.712Z"
   },
   {
    "duration": 403,
    "start_time": "2025-06-03T05:45:36.759Z"
   },
   {
    "duration": 94,
    "start_time": "2025-06-03T05:45:37.165Z"
   },
   {
    "duration": 16,
    "start_time": "2025-06-03T05:45:37.261Z"
   },
   {
    "duration": 31,
    "start_time": "2025-06-03T05:45:37.278Z"
   },
   {
    "duration": 3740,
    "start_time": "2025-06-03T05:45:37.312Z"
   },
   {
    "duration": 127,
    "start_time": "2025-06-03T08:29:59.105Z"
   },
   {
    "duration": 44,
    "start_time": "2025-06-03T08:33:15.602Z"
   },
   {
    "duration": 1824,
    "start_time": "2025-06-03T08:33:27.926Z"
   },
   {
    "duration": 418,
    "start_time": "2025-06-03T08:33:31.844Z"
   },
   {
    "duration": 37,
    "start_time": "2025-06-03T08:33:33.064Z"
   },
   {
    "duration": 25,
    "start_time": "2025-06-03T08:33:33.412Z"
   },
   {
    "duration": 142,
    "start_time": "2025-06-03T08:33:33.745Z"
   },
   {
    "duration": 67,
    "start_time": "2025-06-03T08:33:34.085Z"
   },
   {
    "duration": 7,
    "start_time": "2025-06-03T08:33:34.385Z"
   },
   {
    "duration": 88,
    "start_time": "2025-06-03T08:33:34.727Z"
   },
   {
    "duration": 940,
    "start_time": "2025-06-03T08:33:35.087Z"
   },
   {
    "duration": 11,
    "start_time": "2025-06-03T08:33:36.028Z"
   },
   {
    "duration": 30,
    "start_time": "2025-06-03T08:33:39.705Z"
   },
   {
    "duration": 445,
    "start_time": "2025-06-03T08:33:41.004Z"
   },
   {
    "duration": 3,
    "start_time": "2025-06-03T08:33:42.207Z"
   },
   {
    "duration": 4,
    "start_time": "2025-06-03T08:33:42.444Z"
   },
   {
    "duration": 15,
    "start_time": "2025-06-03T08:33:44.604Z"
   },
   {
    "duration": 64,
    "start_time": "2025-06-03T08:33:45.484Z"
   },
   {
    "duration": 6,
    "start_time": "2025-06-03T08:38:09.272Z"
   },
   {
    "duration": 6,
    "start_time": "2025-06-03T08:38:25.985Z"
   },
   {
    "duration": 3,
    "start_time": "2025-06-03T08:39:08.785Z"
   },
   {
    "duration": 4,
    "start_time": "2025-06-03T08:39:09.384Z"
   },
   {
    "duration": 6,
    "start_time": "2025-06-03T08:39:11.832Z"
   },
   {
    "duration": 14,
    "start_time": "2025-06-03T08:45:21.598Z"
   },
   {
    "duration": 3627,
    "start_time": "2025-06-03T09:00:22.911Z"
   },
   {
    "duration": 5,
    "start_time": "2025-06-03T09:02:56.289Z"
   },
   {
    "duration": 3497,
    "start_time": "2025-06-03T09:04:31.421Z"
   },
   {
    "duration": 3,
    "start_time": "2025-06-03T09:34:28.703Z"
   },
   {
    "duration": 381,
    "start_time": "2025-06-03T09:34:30.377Z"
   },
   {
    "duration": 39,
    "start_time": "2025-06-03T09:34:31.698Z"
   },
   {
    "duration": 24,
    "start_time": "2025-06-03T09:34:32.151Z"
   },
   {
    "duration": 151,
    "start_time": "2025-06-03T09:34:32.625Z"
   },
   {
    "duration": 62,
    "start_time": "2025-06-03T09:34:32.963Z"
   },
   {
    "duration": 7,
    "start_time": "2025-06-03T09:34:33.323Z"
   },
   {
    "duration": 89,
    "start_time": "2025-06-03T09:34:33.665Z"
   },
   {
    "duration": 962,
    "start_time": "2025-06-03T09:34:34.016Z"
   },
   {
    "duration": 6,
    "start_time": "2025-06-03T09:34:34.980Z"
   },
   {
    "duration": 26,
    "start_time": "2025-06-03T09:34:34.988Z"
   },
   {
    "duration": 362,
    "start_time": "2025-06-03T09:34:35.584Z"
   },
   {
    "duration": 3,
    "start_time": "2025-06-03T09:34:38.943Z"
   },
   {
    "duration": 4,
    "start_time": "2025-06-03T09:34:39.679Z"
   },
   {
    "duration": 6,
    "start_time": "2025-06-03T09:34:43.361Z"
   },
   {
    "duration": 12,
    "start_time": "2025-06-03T09:34:46.669Z"
   },
   {
    "duration": 17,
    "start_time": "2025-06-03T09:34:56.929Z"
   },
   {
    "duration": 3504,
    "start_time": "2025-06-03T09:35:09.726Z"
   },
   {
    "duration": 18,
    "start_time": "2025-06-03T09:45:41.024Z"
   },
   {
    "duration": 1473,
    "start_time": "2025-06-03T09:51:34.404Z"
   },
   {
    "duration": 394,
    "start_time": "2025-06-03T09:51:35.879Z"
   },
   {
    "duration": 38,
    "start_time": "2025-06-03T09:51:36.275Z"
   },
   {
    "duration": 95,
    "start_time": "2025-06-03T09:51:36.315Z"
   },
   {
    "duration": 172,
    "start_time": "2025-06-03T09:51:36.412Z"
   },
   {
    "duration": 71,
    "start_time": "2025-06-03T09:51:36.585Z"
   },
   {
    "duration": 7,
    "start_time": "2025-06-03T09:51:36.657Z"
   },
   {
    "duration": 114,
    "start_time": "2025-06-03T09:51:36.666Z"
   },
   {
    "duration": 1013,
    "start_time": "2025-06-03T09:51:36.782Z"
   },
   {
    "duration": 7,
    "start_time": "2025-06-03T09:51:37.796Z"
   },
   {
    "duration": 58,
    "start_time": "2025-06-03T09:51:37.805Z"
   },
   {
    "duration": 377,
    "start_time": "2025-06-03T09:51:37.865Z"
   },
   {
    "duration": 95,
    "start_time": "2025-06-03T09:51:38.244Z"
   },
   {
    "duration": 111,
    "start_time": "2025-06-03T09:51:38.343Z"
   },
   {
    "duration": 111,
    "start_time": "2025-06-03T09:51:38.456Z"
   },
   {
    "duration": 0,
    "start_time": "2025-06-03T09:51:38.569Z"
   },
   {
    "duration": 1387,
    "start_time": "2025-06-03T09:52:02.352Z"
   },
   {
    "duration": 404,
    "start_time": "2025-06-03T09:52:03.741Z"
   },
   {
    "duration": 50,
    "start_time": "2025-06-03T09:52:04.146Z"
   },
   {
    "duration": 24,
    "start_time": "2025-06-03T09:52:04.197Z"
   },
   {
    "duration": 224,
    "start_time": "2025-06-03T09:52:04.223Z"
   },
   {
    "duration": 86,
    "start_time": "2025-06-03T09:52:04.449Z"
   },
   {
    "duration": 7,
    "start_time": "2025-06-03T09:52:04.537Z"
   },
   {
    "duration": 136,
    "start_time": "2025-06-03T09:52:04.546Z"
   },
   {
    "duration": 1027,
    "start_time": "2025-06-03T09:52:04.684Z"
   },
   {
    "duration": 7,
    "start_time": "2025-06-03T09:52:05.713Z"
   },
   {
    "duration": 40,
    "start_time": "2025-06-03T09:52:05.722Z"
   },
   {
    "duration": 477,
    "start_time": "2025-06-03T09:52:05.764Z"
   },
   {
    "duration": 93,
    "start_time": "2025-06-03T09:52:06.243Z"
   },
   {
    "duration": 111,
    "start_time": "2025-06-03T09:52:06.339Z"
   },
   {
    "duration": 141,
    "start_time": "2025-06-03T09:52:06.452Z"
   },
   {
    "duration": 0,
    "start_time": "2025-06-03T09:52:06.595Z"
   },
   {
    "duration": 1391,
    "start_time": "2025-06-03T09:52:46.042Z"
   },
   {
    "duration": 393,
    "start_time": "2025-06-03T09:52:47.435Z"
   },
   {
    "duration": 42,
    "start_time": "2025-06-03T09:52:47.830Z"
   },
   {
    "duration": 29,
    "start_time": "2025-06-03T09:52:47.874Z"
   },
   {
    "duration": 173,
    "start_time": "2025-06-03T09:52:47.905Z"
   },
   {
    "duration": 75,
    "start_time": "2025-06-03T09:52:48.079Z"
   },
   {
    "duration": 6,
    "start_time": "2025-06-03T09:52:48.156Z"
   },
   {
    "duration": 110,
    "start_time": "2025-06-03T09:52:48.164Z"
   },
   {
    "duration": 1003,
    "start_time": "2025-06-03T09:52:48.276Z"
   },
   {
    "duration": 7,
    "start_time": "2025-06-03T09:52:49.280Z"
   },
   {
    "duration": 75,
    "start_time": "2025-06-03T09:52:49.289Z"
   },
   {
    "duration": 379,
    "start_time": "2025-06-03T09:52:49.366Z"
   },
   {
    "duration": 89,
    "start_time": "2025-06-03T09:52:49.747Z"
   },
   {
    "duration": 134,
    "start_time": "2025-06-03T09:52:49.840Z"
   },
   {
    "duration": 104,
    "start_time": "2025-06-03T09:52:49.976Z"
   },
   {
    "duration": 0,
    "start_time": "2025-06-03T09:52:50.081Z"
   },
   {
    "duration": 3721,
    "start_time": "2025-06-03T09:54:03.043Z"
   },
   {
    "duration": 18,
    "start_time": "2025-06-03T09:56:44.142Z"
   },
   {
    "duration": 16,
    "start_time": "2025-06-03T09:56:57.502Z"
   },
   {
    "duration": 15,
    "start_time": "2025-06-03T10:02:36.343Z"
   },
   {
    "duration": 3638,
    "start_time": "2025-06-03T10:09:23.422Z"
   },
   {
    "duration": 1643,
    "start_time": "2025-06-03T10:09:53.783Z"
   },
   {
    "duration": 392,
    "start_time": "2025-06-03T10:09:55.429Z"
   },
   {
    "duration": 43,
    "start_time": "2025-06-03T10:09:55.823Z"
   },
   {
    "duration": 57,
    "start_time": "2025-06-03T10:09:55.868Z"
   },
   {
    "duration": 148,
    "start_time": "2025-06-03T10:09:55.928Z"
   },
   {
    "duration": 78,
    "start_time": "2025-06-03T10:09:56.077Z"
   },
   {
    "duration": 6,
    "start_time": "2025-06-03T10:09:56.156Z"
   },
   {
    "duration": 100,
    "start_time": "2025-06-03T10:09:56.164Z"
   },
   {
    "duration": 1037,
    "start_time": "2025-06-03T10:09:56.266Z"
   },
   {
    "duration": 7,
    "start_time": "2025-06-03T10:09:57.305Z"
   },
   {
    "duration": 83,
    "start_time": "2025-06-03T10:09:57.313Z"
   },
   {
    "duration": 449,
    "start_time": "2025-06-03T10:09:57.398Z"
   },
   {
    "duration": 86,
    "start_time": "2025-06-03T10:09:57.851Z"
   },
   {
    "duration": 95,
    "start_time": "2025-06-03T10:09:57.941Z"
   },
   {
    "duration": 27,
    "start_time": "2025-06-03T10:09:58.038Z"
   },
   {
    "duration": 3448,
    "start_time": "2025-06-03T10:09:58.067Z"
   },
   {
    "duration": 1383,
    "start_time": "2025-06-03T10:53:43.884Z"
   },
   {
    "duration": 1431,
    "start_time": "2025-06-03T10:54:48.408Z"
   },
   {
    "duration": 397,
    "start_time": "2025-06-03T10:54:49.840Z"
   },
   {
    "duration": 35,
    "start_time": "2025-06-03T10:54:50.238Z"
   },
   {
    "duration": 24,
    "start_time": "2025-06-03T10:54:50.274Z"
   },
   {
    "duration": 168,
    "start_time": "2025-06-03T10:54:50.300Z"
   },
   {
    "duration": 71,
    "start_time": "2025-06-03T10:54:50.469Z"
   },
   {
    "duration": 6,
    "start_time": "2025-06-03T10:54:50.542Z"
   },
   {
    "duration": 103,
    "start_time": "2025-06-03T10:54:50.550Z"
   },
   {
    "duration": 989,
    "start_time": "2025-06-03T10:54:50.655Z"
   },
   {
    "duration": 7,
    "start_time": "2025-06-03T10:54:51.646Z"
   },
   {
    "duration": 43,
    "start_time": "2025-06-03T10:54:51.654Z"
   },
   {
    "duration": 443,
    "start_time": "2025-06-03T10:54:51.699Z"
   },
   {
    "duration": 3,
    "start_time": "2025-06-03T10:54:52.144Z"
   },
   {
    "duration": 99,
    "start_time": "2025-06-03T10:54:52.238Z"
   },
   {
    "duration": 23,
    "start_time": "2025-06-03T10:54:52.339Z"
   },
   {
    "duration": 1382,
    "start_time": "2025-06-03T10:54:52.364Z"
   },
   {
    "duration": 1283,
    "start_time": "2025-06-03T10:56:24.552Z"
   },
   {
    "duration": 3784,
    "start_time": "2025-06-03T10:58:00.192Z"
   },
   {
    "duration": 15,
    "start_time": "2025-06-03T11:02:02.015Z"
   },
   {
    "duration": 16,
    "start_time": "2025-06-03T11:10:17.643Z"
   },
   {
    "duration": 1397,
    "start_time": "2025-06-03T11:11:29.704Z"
   },
   {
    "duration": 398,
    "start_time": "2025-06-03T11:11:31.103Z"
   },
   {
    "duration": 42,
    "start_time": "2025-06-03T11:11:31.502Z"
   },
   {
    "duration": 80,
    "start_time": "2025-06-03T11:11:31.545Z"
   },
   {
    "duration": 152,
    "start_time": "2025-06-03T11:11:31.628Z"
   },
   {
    "duration": 70,
    "start_time": "2025-06-03T11:11:31.781Z"
   },
   {
    "duration": 7,
    "start_time": "2025-06-03T11:11:31.852Z"
   },
   {
    "duration": 203,
    "start_time": "2025-06-03T11:11:31.860Z"
   },
   {
    "duration": 1002,
    "start_time": "2025-06-03T11:11:32.064Z"
   },
   {
    "duration": 8,
    "start_time": "2025-06-03T11:11:33.067Z"
   },
   {
    "duration": 40,
    "start_time": "2025-06-03T11:11:33.076Z"
   },
   {
    "duration": 425,
    "start_time": "2025-06-03T11:11:33.117Z"
   },
   {
    "duration": 92,
    "start_time": "2025-06-03T11:11:33.544Z"
   },
   {
    "duration": 95,
    "start_time": "2025-06-03T11:11:33.640Z"
   },
   {
    "duration": 15,
    "start_time": "2025-06-03T11:11:33.738Z"
   },
   {
    "duration": 3860,
    "start_time": "2025-06-03T11:11:33.755Z"
   },
   {
    "duration": 3963,
    "start_time": "2025-06-03T11:12:52.102Z"
   },
   {
    "duration": 1372,
    "start_time": "2025-06-03T11:15:54.582Z"
   },
   {
    "duration": 383,
    "start_time": "2025-06-03T11:15:55.956Z"
   },
   {
    "duration": 40,
    "start_time": "2025-06-03T11:15:56.340Z"
   },
   {
    "duration": 25,
    "start_time": "2025-06-03T11:15:56.382Z"
   },
   {
    "duration": 188,
    "start_time": "2025-06-03T11:15:56.409Z"
   },
   {
    "duration": 78,
    "start_time": "2025-06-03T11:15:56.599Z"
   },
   {
    "duration": 7,
    "start_time": "2025-06-03T11:15:56.679Z"
   },
   {
    "duration": 104,
    "start_time": "2025-06-03T11:15:56.687Z"
   },
   {
    "duration": 1027,
    "start_time": "2025-06-03T11:15:56.792Z"
   },
   {
    "duration": 15,
    "start_time": "2025-06-03T11:15:57.820Z"
   },
   {
    "duration": 25,
    "start_time": "2025-06-03T11:15:57.836Z"
   },
   {
    "duration": 385,
    "start_time": "2025-06-03T11:15:57.862Z"
   },
   {
    "duration": 84,
    "start_time": "2025-06-03T11:15:58.250Z"
   },
   {
    "duration": 100,
    "start_time": "2025-06-03T11:15:58.338Z"
   },
   {
    "duration": 26,
    "start_time": "2025-06-03T11:15:58.439Z"
   },
   {
    "duration": 3824,
    "start_time": "2025-06-03T11:15:58.466Z"
   }
  ],
  "kernelspec": {
   "display_name": "Python 3 (ipykernel)",
   "language": "python",
   "name": "python3"
  },
  "language_info": {
   "codemirror_mode": {
    "name": "ipython",
    "version": 3
   },
   "file_extension": ".py",
   "mimetype": "text/x-python",
   "name": "python",
   "nbconvert_exporter": "python",
   "pygments_lexer": "ipython3",
   "version": "3.9.5"
  },
  "toc": {
   "base_numbering": 1,
   "nav_menu": {},
   "number_sections": true,
   "sideBar": true,
   "skip_h1_title": true,
   "title_cell": "Table of Contents",
   "title_sidebar": "Contents",
   "toc_cell": false,
   "toc_position": {},
   "toc_section_display": true,
   "toc_window_display": false
  }
 },
 "nbformat": 4,
 "nbformat_minor": 2
}
