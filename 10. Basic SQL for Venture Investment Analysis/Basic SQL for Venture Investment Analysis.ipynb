{
 "cells": [
  {
   "cell_type": "code",
   "execution_count": null,
   "id": "93a003ab",
   "metadata": {},
   "outputs": [],
   "source": [
    "# Отобразите все записи из таблицы company по компаниям, которые закрылись.\n",
    "SELECT *\n",
    "FROM company\n",
    "WHERE status = 'closed'"
   ]
  },
  {
   "cell_type": "code",
   "execution_count": null,
   "id": "37ed49cf",
   "metadata": {},
   "outputs": [],
   "source": [
    "# Отобразите количество привлечённых средств для новостных компаний США. Используйте данные из таблицы company. Отсортируйте таблицу по убыванию значений в поле funding_total.\n",
    "SELECT funding_total\n",
    "FROM company\n",
    "WHERE category_code = 'news'\n",
    "  AND country_code = 'USA'\n",
    "ORDER BY funding_total DESC;"
   ]
  },
  {
   "cell_type": "code",
   "execution_count": null,
   "id": "3b481b7e",
   "metadata": {},
   "outputs": [],
   "source": [
    "# Найдите общую сумму сделок по покупке одних компаний другими в долларах. Отберите сделки, которые осуществлялись только за наличные с 2011 по 2013 год включительно.\n",
    "SELECT SUM(price_amount)\n",
    "FROM acquisition\n",
    "WHERE term_code = 'cash'\n",
    "  AND acquired_at BETWEEN '2011-01-01' AND '2013-12-31';"
   ]
  },
  {
   "cell_type": "code",
   "execution_count": null,
   "id": "09043a38",
   "metadata": {},
   "outputs": [],
   "source": [
    "# Отобразите имя, фамилию и названия аккаунтов людей в поле network_username, у которых названия аккаунтов начинаются на 'Silver'.\n",
    "SELECT\n",
    "    first_name,\n",
    "    last_name,\n",
    "    network_username\n",
    "FROM people\n",
    "WHERE network_username LIKE 'Silver%'\n"
   ]
  },
  {
   "cell_type": "code",
   "execution_count": null,
   "id": "3304d1dd",
   "metadata": {},
   "outputs": [],
   "source": [
    "# Выведите на экран всю информацию о людях, у которых названия аккаунтов в поле network_username содержат подстроку 'money', а фамилия начинается на 'K'.\n",
    "SELECT *\n",
    "FROM people\n",
    "WHERE network_username LIKE '%money%'\n",
    "    AND last_name LIKE 'K%'\n"
   ]
  },
  {
   "cell_type": "code",
   "execution_count": null,
   "id": "09a25068",
   "metadata": {},
   "outputs": [],
   "source": [
    "# Для каждой страны отобразите общую сумму привлечённых инвестиций, которые получили компании, зарегистрированные в этой стране. Страну, в которой зарегистрирована компания, можно определить по коду страны. Отсортируйте данные по убыванию суммы.\n",
    "SELECT\n",
    "  country_code,\n",
    "  SUM(COALESCE(funding_total, 0)) AS total_funding\n",
    "FROM company\n",
    "GROUP BY country_code\n",
    "ORDER BY total_funding DESC;"
   ]
  },
  {
   "cell_type": "code",
   "execution_count": null,
   "id": "691ed961",
   "metadata": {},
   "outputs": [],
   "source": [
    "# Составьте таблицу, в которую войдёт дата проведения раунда, а также минимальное и максимальное значения суммы инвестиций, привлечённых в эту дату.\n",
    "# Оставьте в итоговой таблице только те записи, в которых минимальное значение суммы инвестиций не равно нулю и не равно максимальному значению.\n",
    "SELECT funded_at,\n",
    "    MIN(raised_amount) AS min_investment,\n",
    "    MAX(raised_amount) AS max_investment\n",
    "FROM funding_round\n",
    "WHERE funded_at IS NOT NULL\n",
    "GROUP BY funded_at\n",
    "HAVING \n",
    "    MIN(raised_amount) != 0\n",
    "    AND MIN(raised_amount) <> MAX(raised_amount);"
   ]
  },
  {
   "cell_type": "code",
   "execution_count": null,
   "id": "69ff82fe",
   "metadata": {},
   "outputs": [],
   "source": [
    "# Создайте поле с категориями:\n",
    "# Для фондов, которые инвестируют в 100 и более компаний, назначьте категорию high_activity.\n",
    "# Для фондов, которые инвестируют в 20 и более компаний до 100, назначьте категорию middle_activity.\n",
    "# Если количество инвестируемых компаний фонда не достигает 20, назначьте категорию low_activity.\n",
    "# Отобразите все поля таблицы fund и новое поле с категориями.\n",
    "SELECT *,\n",
    "    CASE\n",
    "        WHEN invested_companies >= 100 THEN 'high_activity'\n",
    "        WHEN invested_companies >= 20 THEN 'middle_activity'\n",
    "        ELSE 'low_activity'\n",
    "    END AS activity_category\n",
    "FROM fund;\n"
   ]
  },
  {
   "cell_type": "code",
   "execution_count": null,
   "id": "56b80c3d",
   "metadata": {},
   "outputs": [],
   "source": [
    "# Для каждой из категорий, назначенных в предыдущем задании, посчитайте округлённое до ближайшего целого числа среднее количество инвестиционных раундов, в которых фонды принимали участие. Выведите на экран категории и среднее число инвестиционных раундов. Отсортируйте таблицу по возрастанию среднего.\n",
    "SELECT\n",
    "       CASE\n",
    "           WHEN invested_companies>=100 THEN 'high_activity'\n",
    "           WHEN invested_companies>=20 THEN 'middle_activity'\n",
    "           ELSE 'low_activity'\n",
    "       END AS activity,\n",
    "       ROUND(AVG(investment_rounds)) AS avg_rounds\n",
    "FROM fund\n",
    "GROUP BY activity\n",
    "ORDER BY avg_rounds;"
   ]
  },
  {
   "cell_type": "code",
   "execution_count": null,
   "id": "e79ab9b7",
   "metadata": {},
   "outputs": [],
   "source": [
    "# Проанализируйте, в каких странах находятся фонды, которые чаще всего инвестируют в стартапы. \n",
    "# Для каждой страны посчитайте минимальное, максимальное и среднее число компаний, в которые инвестировали фонды этой страны, основанные с 2010 по 2012 год включительно. Исключите страны с фондами, у которых минимальное число компаний, получивших инвестиции, равно нулю. \n",
    "# Выгрузите десять самых активных стран-инвесторов: отсортируйте таблицу по среднему количеству компаний от большего к меньшему. Затем добавьте сортировку по коду страны в лексикографическом порядке.\n",
    "SELECT\n",
    "    country_code,\n",
    "    MIN(invested_companies) AS min_invested,\n",
    "    MAX(invested_companies) AS max_invested,\n",
    "    AVG(invested_companies) AS avg_invested\n",
    "FROM fund\n",
    "WHERE founded_at BETWEEN '2010-01-01' AND '2012-12-31'\n",
    "    AND country_code IS NOT NULL\n",
    "GROUP BY country_code\n",
    "HAVING MIN(invested_companies) > 0\n",
    "ORDER BY avg_invested DESC, country_code ASC\n",
    "LIMIT 10;"
   ]
  },
  {
   "cell_type": "code",
   "execution_count": null,
   "id": "8222a327",
   "metadata": {},
   "outputs": [],
   "source": [
    "# Отобразите имя и фамилию всех сотрудников стартапов. Добавьте поле с названием учебного заведения, которое окончил сотрудник, если эта информация известна.\n",
    "SELECT\n",
    "  p.first_name,\n",
    "  p.last_name,\n",
    "  e.instituition\n",
    "FROM people AS p\n",
    "LEFT JOIN education AS e ON p.id = e.person_id;"
   ]
  },
  {
   "cell_type": "code",
   "execution_count": null,
   "id": "e144f233",
   "metadata": {},
   "outputs": [],
   "source": [
    "# Для каждой компании найдите количество учебных заведений, которые окончили её сотрудники. Выведите название компании и число уникальных названий учебных заведений. Составьте топ-5 компаний по количеству университетов.\n",
    "SELECT\n",
    "    c.name AS company_name,\n",
    "    COUNT(DISTINCT e.instituition) AS unique_universities\n",
    "FROM people AS p\n",
    "JOIN education AS e ON p.id = e.person_id\n",
    "JOIN company AS c ON p.company_id = c.id\n",
    "GROUP BY c.name \n",
    "ORDER BY unique_universities DESC\n",
    "LIMIT 5;"
   ]
  },
  {
   "cell_type": "code",
   "execution_count": null,
   "id": "e203d4a0",
   "metadata": {},
   "outputs": [],
   "source": [
    "# Составьте список с уникальными названиями закрытых компаний, для которых первый раунд финансирования оказался последним.\n",
    "SELECT DISTINCT c.name\n",
    "FROM company AS c\n",
    "JOIN funding_round AS f ON c.id = f.company_id\n",
    "WHERE c.status = 'closed'\n",
    "  AND f.is_first_round = 1\n",
    "  AND f.is_last_round = 1;"
   ]
  },
  {
   "cell_type": "code",
   "execution_count": null,
   "id": "dd2e2983",
   "metadata": {},
   "outputs": [],
   "source": [
    "# Составьте список уникальных номеров сотрудников, которые работают в компаниях, отобранных в предыдущем задании.\n",
    "SELECT DISTINCT p.id\n",
    "FROM people AS p\n",
    "JOIN company AS c ON p.company_id = c.id\n",
    "JOIN funding_round AS f ON c.id = f.company_id\n",
    "WHERE c.status = 'closed'\n",
    "  AND f.is_first_round = 1\n",
    "  AND f.is_last_round = 1;"
   ]
  },
  {
   "cell_type": "code",
   "execution_count": null,
   "id": "b7f65d58",
   "metadata": {},
   "outputs": [],
   "source": [
    "# Посчитайте количество учебных заведений для каждого сотрудника. При подсчёте учитывайте, что некоторые сотрудники могли окончить одно и то же заведение дважды.\n",
    "SELECT p.id AS person_id, COUNT(e.instituition) AS institution_count\n",
    "FROM people AS p\n",
    "JOIN education AS e ON p.id = e.person_id\n",
    "WHERE p.company_id IN (\n",
    "    SELECT f.company_id\n",
    "    FROM funding_round AS f\n",
    "    JOIN company AS c ON f.company_id = c.id\n",
    "    WHERE c.status = 'closed'\n",
    "      AND f.is_first_round = 1\n",
    "      AND f.is_last_round = 1\n",
    ")\n",
    "GROUP BY p.id;"
   ]
  },
  {
   "cell_type": "code",
   "execution_count": null,
   "id": "ae6420c3",
   "metadata": {},
   "outputs": [],
   "source": [
    "# Дополните предыдущий запрос и выведите среднее число учебных заведений (всех, не только уникальных), которые окончили сотрудники разных компаний. Нужно вывести только одну запись, группировка здесь не понадобится.\n",
    "SELECT AVG(edu_count) AS avg_institution_count\n",
    "FROM (\n",
    "    SELECT p.id AS person_id, COUNT(e.instituition) AS edu_count\n",
    "    FROM people AS p\n",
    "    JOIN education AS e ON p.id = e.person_id\n",
    "    WHERE p.company_id IN (\n",
    "        SELECT f.company_id\n",
    "        FROM funding_round AS f\n",
    "        JOIN company AS c ON f.company_id = c.id\n",
    "        WHERE c.status = 'closed'\n",
    "          AND f.is_first_round = 1\n",
    "          AND f.is_last_round = 1\n",
    "    )\n",
    "    GROUP BY p.id\n",
    ") AS subquery;\n"
   ]
  },
  {
   "cell_type": "code",
   "execution_count": null,
   "id": "78f75cb3",
   "metadata": {},
   "outputs": [],
   "source": [
    "# Напишите похожий запрос: выведите среднее число учебных заведений (всех, не только уникальных), которые окончили сотрудники Socialnet.\n",
    "SELECT AVG(edu_count) AS avg_institution_count\n",
    "FROM (\n",
    "    SELECT p.id AS person_id, COUNT(e.instituition) AS edu_count\n",
    "    FROM people AS p\n",
    "    JOIN education AS e ON p.id = e.person_id\n",
    "    JOIN company AS c ON p.company_id = c.id\n",
    "    WHERE c.name = 'Socialnet'\n",
    "    GROUP BY p.id\n",
    ") AS subquery;"
   ]
  },
  {
   "cell_type": "code",
   "execution_count": null,
   "id": "1b8d69c8",
   "metadata": {},
   "outputs": [],
   "source": [
    "# Составьте таблицу из полей:\n",
    "# name_of_fund — название фонда;\n",
    "# name_of_company — название компании;\n",
    "# amount — сумма инвестиций, которую привлекла компания в раунде.\n",
    "# В таблицу войдут данные о компаниях, в истории которых было больше шести важных этапов, а раунды финансирования проходили с 2012 по 2013 год включительно.\n",
    "SELECT \n",
    "    f.name AS name_of_fund,\n",
    "    c.name AS name_of_company,\n",
    "    fr.raised_amount AS amount\n",
    "FROM investment AS i\n",
    "JOIN fund AS f ON i.fund_id = f.id\n",
    "JOIN funding_round AS fr ON i.funding_round_id = fr.id\n",
    "JOIN company AS c ON fr.company_id = c.id\n",
    "WHERE c.milestones > 6\n",
    "  AND fr.funded_at BETWEEN '2012-01-01' AND '2013-12-31';"
   ]
  },
  {
   "cell_type": "code",
   "execution_count": null,
   "id": "a7614fe9",
   "metadata": {},
   "outputs": [],
   "source": [
    "# Выгрузите таблицу, в которой будут такие поля:\n",
    "# название компании-покупателя;\n",
    "# сумма сделки;\n",
    "# название компании, которую купили;\n",
    "# сумма инвестиций, вложенных в купленную компанию;\n",
    "# доля, которая отображает, во сколько раз сумма покупки превысила сумму вложенных в компанию инвестиций, округлённая до ближайшего целого числа.\n",
    "# Не учитывайте те сделки, в которых сумма покупки равна нулю. Если сумма инвестиций в компанию равна нулю, исключите такую компанию из таблицы. \n",
    "# Отсортируйте таблицу по сумме сделки от большей к меньшей, а затем по названию купленной компании в лексикографическом порядке. Ограничьте таблицу первыми десятью записями.\n",
    "SELECT \n",
    "    buyer.name AS acquiring_company,\n",
    "    a.price_amount,\n",
    "    target.name AS acquired_company,\n",
    "    target.funding_total,\n",
    "    ROUND(a.price_amount / target.funding_total) AS multiple\n",
    "FROM acquisition AS a\n",
    "JOIN company AS buyer ON a.acquiring_company_id = buyer.id\n",
    "JOIN company AS target ON a.acquired_company_id = target.id\n",
    "WHERE a.price_amount > 0\n",
    "  AND target.funding_total > 0\n",
    "ORDER BY a.price_amount DESC, target.name ASC\n",
    "LIMIT 10;"
   ]
  },
  {
   "cell_type": "code",
   "execution_count": null,
   "id": "de73f05f",
   "metadata": {},
   "outputs": [],
   "source": [
    "# Выгрузите таблицу, в которую войдут названия компаний из категории social, получившие финансирование с 2010 по 2013 год включительно. Проверьте, что сумма инвестиций не равна нулю. Выведите также номер месяца, в котором проходил раунд финансирования.\n",
    "SELECT company.name,\n",
    "EXTRACT(MONTH FROM funding_round.funded_at) AS month\n",
    "FROM company\n",
    "JOIN funding_round ON funding_round.company_id = company.id\n",
    "WHERE company.category_code = 'social'\n",
    "AND funding_round.raised_amount > 0\n",
    "AND funding_round.funded_at >= '2010-01-01'\n",
    "AND funding_round.funded_at < '2014-01-01'\n",
    "ORDER BY company.name, month;"
   ]
  },
  {
   "cell_type": "code",
   "execution_count": null,
   "id": "abdfafc9",
   "metadata": {},
   "outputs": [],
   "source": [
    "# Отберите данные по месяцам с 2010 по 2013 год, когда проходили инвестиционные раунды. Сгруппируйте данные по номеру месяца и получите таблицу, в которой будут поля:\n",
    "# номер месяца, в котором проходили раунды;\n",
    "# количество уникальных названий фондов из США, которые инвестировали в этом месяце;\n",
    "# количество компаний, купленных за этот месяц;\n",
    "# общая сумма сделок по покупкам в этом месяце.\n",
    "WITH investment_data AS (\n",
    "    -- Инвестиции от фондов из США, с датой в периоде 2010–2013 гг.\n",
    "    SELECT \n",
    "        EXTRACT(MONTH FROM f.funded_at) AS month_number,\n",
    "        i.fund_id\n",
    "    FROM funding_round f\n",
    "    JOIN investment i ON f.id = i.funding_round_id\n",
    "    JOIN fund fd ON i.fund_id = fd.id\n",
    "    WHERE EXTRACT(YEAR FROM f.funded_at) BETWEEN 2010 AND 2013\n",
    "      AND fd.country_code = 'USA'\n",
    "),\n",
    "\n",
    "unique_funds_per_month AS (\n",
    "    -- Уникальные фонды из США по месяцам\n",
    "    SELECT \n",
    "        month_number,\n",
    "        COUNT(DISTINCT fund_id) AS us_funds_count\n",
    "    FROM investment_data\n",
    "    GROUP BY month_number\n",
    "),\n",
    "\n",
    "acquisition_data AS (\n",
    "    -- Данные о покупках компаний в тот же период\n",
    "    SELECT \n",
    "        EXTRACT(MONTH FROM acquired_at) AS month_number,\n",
    "        COUNT(*) AS companies_acquired,\n",
    "        SUM(price_amount) AS total_deal_value\n",
    "    FROM acquisition\n",
    "    WHERE EXTRACT(YEAR FROM acquired_at) BETWEEN 2010 AND 2013\n",
    "    GROUP BY EXTRACT(MONTH FROM acquired_at)\n",
    ")\n",
    "\n",
    "-- Соединяем оба результата по номеру месяца\n",
    "SELECT \n",
    "    COALESCE(u.month_number, a.month_number) AS month_number,\n",
    "    COALESCE(u.us_funds_count, 0) AS us_funds_count,\n",
    "    COALESCE(a.companies_acquired, 0) AS companies_acquired,\n",
    "    COALESCE(a.total_deal_value, 0) AS total_deal_value\n",
    "FROM unique_funds_per_month u\n",
    "FULL OUTER JOIN acquisition_data a\n",
    "ON u.month_number = a.month_number\n",
    "ORDER BY month_number;"
   ]
  },
  {
   "cell_type": "code",
   "execution_count": null,
   "id": "ecdb7a86",
   "metadata": {},
   "outputs": [],
   "source": [
    "# Составьте сводную таблицу и выведите среднюю сумму инвестиций для стран, в которых есть стартапы, зарегистрированные в 2011, 2012 и 2013 годах. Данные за каждый год должны быть в отдельном поле. Отсортируйте таблицу по среднему значению инвестиций за 2011 год от большего к меньшему.\n",
    "WITH\n",
    "     inv_2011 AS (SELECT country_code,\n",
    "                         AVG(funding_total) AS avg_2011\n",
    "                  FROM company\n",
    "                  WHERE EXTRACT(YEAR FROM founded_at) = 2011\n",
    "                  GROUP BY country_code),\n",
    "     inv_2012 AS (SELECT country_code,\n",
    "                         AVG(funding_total) AS avg_2012\n",
    "                  FROM company\n",
    "                  WHERE EXTRACT(YEAR FROM founded_at) = 2012\n",
    "                  GROUP BY country_code),\n",
    "     inv_2013 AS (SELECT country_code,\n",
    "                         AVG(funding_total) AS avg_2013\n",
    "                  FROM company\n",
    "                  WHERE EXTRACT(YEAR FROM founded_at) = 2013\n",
    "                  GROUP BY country_code)\n",
    "SELECT inv_2011.country_code,\n",
    "       inv_2011.avg_2011,\n",
    "       inv_2012.avg_2012,\n",
    "       inv_2013.avg_2013\n",
    "FROM inv_2011\n",
    "INNER JOIN inv_2012 ON inv_2011.country_code = inv_2012.country_code\n",
    "INNER JOIN inv_2013 ON inv_2013.country_code = inv_2012.country_code\n",
    "ORDER BY inv_2011.avg_2011 DESC;"
   ]
  },
  {
   "cell_type": "code",
   "execution_count": null,
   "id": "37c78cf6",
   "metadata": {},
   "outputs": [],
   "source": []
  },
  {
   "cell_type": "code",
   "execution_count": null,
   "id": "27af59cc",
   "metadata": {},
   "outputs": [],
   "source": []
  }
 ],
 "metadata": {
  "language_info": {
   "name": "python"
  }
 },
 "nbformat": 4,
 "nbformat_minor": 5
}
