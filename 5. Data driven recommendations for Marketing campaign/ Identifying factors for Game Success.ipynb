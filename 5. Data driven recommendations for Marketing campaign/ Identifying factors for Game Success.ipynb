{
 "cells": [
  {
   "cell_type": "markdown",
   "metadata": {},
   "source": [
    "## Описание проекта"
   ]
  },
  {
   "cell_type": "markdown",
   "metadata": {},
   "source": [
    "Проализируем данные интернет-магазина «Стрим», продающего компьютерные игры. Датасет содержит информацию о продажах, жанрах, платформах, оценках пользователей и критиков, а также возрастных рейтингах игр до 2016 года.\n",
    "\n",
    "Цель проекта:\n",
    "\n",
    "Выявить закономерности и факторы, позволяющие интернет-магазину «Стримчик» прогнозировать наиболее перспективные игры и платформы для продаж в 2017 году.\n",
    "\n",
    "План работы:\n",
    "\n",
    "Откроем файл с данными и изучим общую информацию\n",
    "\n",
    "Подготовим данные\n",
    "\n",
    "Проведем исследовательский анализ\n",
    "\n",
    "Составим портрет пользователя каждого региона\n",
    "\n",
    "Сформулируем и проверим гипотезы\n",
    "\n",
    "Общий вывод"
   ]
  },
  {
   "cell_type": "code",
   "execution_count": 1,
   "metadata": {},
   "outputs": [
    {
     "name": "stdout",
     "output_type": "stream",
     "text": [
      "Requirement already satisfied: missingno in /opt/conda/lib/python3.9/site-packages (0.5.2)\n",
      "Requirement already satisfied: numpy in /opt/conda/lib/python3.9/site-packages (from missingno) (1.21.1)\n",
      "Requirement already satisfied: matplotlib in /opt/conda/lib/python3.9/site-packages (from missingno) (3.3.4)\n",
      "Requirement already satisfied: scipy in /opt/conda/lib/python3.9/site-packages (from missingno) (1.9.1)\n",
      "Requirement already satisfied: seaborn in /opt/conda/lib/python3.9/site-packages (from missingno) (0.11.1)\n",
      "Requirement already satisfied: cycler>=0.10 in /opt/conda/lib/python3.9/site-packages (from matplotlib->missingno) (0.11.0)\n",
      "Requirement already satisfied: pillow>=6.2.0 in /opt/conda/lib/python3.9/site-packages (from matplotlib->missingno) (8.4.0)\n",
      "Requirement already satisfied: kiwisolver>=1.0.1 in /opt/conda/lib/python3.9/site-packages (from matplotlib->missingno) (1.4.4)\n",
      "Requirement already satisfied: pyparsing!=2.0.4,!=2.1.2,!=2.1.6,>=2.0.3 in /opt/conda/lib/python3.9/site-packages (from matplotlib->missingno) (2.4.7)\n",
      "Requirement already satisfied: python-dateutil>=2.1 in /opt/conda/lib/python3.9/site-packages (from matplotlib->missingno) (2.8.1)\n",
      "Requirement already satisfied: six>=1.5 in /opt/conda/lib/python3.9/site-packages (from python-dateutil>=2.1->matplotlib->missingno) (1.16.0)\n",
      "Requirement already satisfied: pandas>=0.23 in /opt/conda/lib/python3.9/site-packages (from seaborn->missingno) (1.2.4)\n",
      "Requirement already satisfied: pytz>=2017.3 in /opt/conda/lib/python3.9/site-packages (from pandas>=0.23->seaborn->missingno) (2021.1)\n",
      "Note: you may need to restart the kernel to use updated packages.\n"
     ]
    }
   ],
   "source": [
    "pip install missingno"
   ]
  },
  {
   "cell_type": "code",
   "execution_count": 2,
   "metadata": {},
   "outputs": [],
   "source": [
    "import pandas as pd\n",
    "import matplotlib.pyplot as plt\n",
    "import seaborn as sns\n",
    "import scipy.stats as stats\n",
    "import missingno as msno"
   ]
  },
  {
   "cell_type": "markdown",
   "metadata": {},
   "source": [
    "## Откроем файл с данными и изучим общую информацию"
   ]
  },
  {
   "cell_type": "code",
   "execution_count": 3,
   "metadata": {},
   "outputs": [],
   "source": [
    "# Загрузим датасет и создадим датафрейм\n",
    "file_path = \"/datasets/games.csv\"\n",
    "df = pd.read_csv(file_path)"
   ]
  },
  {
   "cell_type": "code",
   "execution_count": 4,
   "metadata": {},
   "outputs": [
    {
     "name": "stdout",
     "output_type": "stream",
     "text": [
      "<class 'pandas.core.frame.DataFrame'>\n",
      "RangeIndex: 16715 entries, 0 to 16714\n",
      "Data columns (total 11 columns):\n",
      " #   Column           Non-Null Count  Dtype  \n",
      "---  ------           --------------  -----  \n",
      " 0   Name             16713 non-null  object \n",
      " 1   Platform         16715 non-null  object \n",
      " 2   Year_of_Release  16446 non-null  float64\n",
      " 3   Genre            16713 non-null  object \n",
      " 4   NA_sales         16715 non-null  float64\n",
      " 5   EU_sales         16715 non-null  float64\n",
      " 6   JP_sales         16715 non-null  float64\n",
      " 7   Other_sales      16715 non-null  float64\n",
      " 8   Critic_Score     8137 non-null   float64\n",
      " 9   User_Score       10014 non-null  object \n",
      " 10  Rating           9949 non-null   object \n",
      "dtypes: float64(6), object(5)\n",
      "memory usage: 1.4+ MB\n"
     ]
    }
   ],
   "source": [
    "# Посмотрим на общую информацию датафрейма\n",
    "df.info()"
   ]
  },
  {
   "cell_type": "markdown",
   "metadata": {},
   "source": [
    "Размер данных: 16715 строк, 11 столбцов.\n",
    "\n",
    "В ряде столбцов имеются пропуски.\n",
    "\n",
    "Замечания по типам данных:\n",
    "\n",
    "Year_of_Release - float64, а должен быть целочисленный Int64 (год выпуска).\n",
    "User_Score - object, а должен быть float64 (оценки пользователей).\n",
    "Rating - object, но логично перевести в category (ограниченный список значений)."
   ]
  },
  {
   "cell_type": "code",
   "execution_count": 5,
   "metadata": {},
   "outputs": [
    {
     "data": {
      "text/html": [
       "<div>\n",
       "<style scoped>\n",
       "    .dataframe tbody tr th:only-of-type {\n",
       "        vertical-align: middle;\n",
       "    }\n",
       "\n",
       "    .dataframe tbody tr th {\n",
       "        vertical-align: top;\n",
       "    }\n",
       "\n",
       "    .dataframe thead th {\n",
       "        text-align: right;\n",
       "    }\n",
       "</style>\n",
       "<table border=\"1\" class=\"dataframe\">\n",
       "  <thead>\n",
       "    <tr style=\"text-align: right;\">\n",
       "      <th></th>\n",
       "      <th>Name</th>\n",
       "      <th>Platform</th>\n",
       "      <th>Year_of_Release</th>\n",
       "      <th>Genre</th>\n",
       "      <th>NA_sales</th>\n",
       "      <th>EU_sales</th>\n",
       "      <th>JP_sales</th>\n",
       "      <th>Other_sales</th>\n",
       "      <th>Critic_Score</th>\n",
       "      <th>User_Score</th>\n",
       "      <th>Rating</th>\n",
       "    </tr>\n",
       "  </thead>\n",
       "  <tbody>\n",
       "    <tr>\n",
       "      <th>0</th>\n",
       "      <td>Wii Sports</td>\n",
       "      <td>Wii</td>\n",
       "      <td>2006.0</td>\n",
       "      <td>Sports</td>\n",
       "      <td>41.36</td>\n",
       "      <td>28.96</td>\n",
       "      <td>3.77</td>\n",
       "      <td>8.45</td>\n",
       "      <td>76.0</td>\n",
       "      <td>8</td>\n",
       "      <td>E</td>\n",
       "    </tr>\n",
       "    <tr>\n",
       "      <th>1</th>\n",
       "      <td>Super Mario Bros.</td>\n",
       "      <td>NES</td>\n",
       "      <td>1985.0</td>\n",
       "      <td>Platform</td>\n",
       "      <td>29.08</td>\n",
       "      <td>3.58</td>\n",
       "      <td>6.81</td>\n",
       "      <td>0.77</td>\n",
       "      <td>NaN</td>\n",
       "      <td>NaN</td>\n",
       "      <td>NaN</td>\n",
       "    </tr>\n",
       "    <tr>\n",
       "      <th>2</th>\n",
       "      <td>Mario Kart Wii</td>\n",
       "      <td>Wii</td>\n",
       "      <td>2008.0</td>\n",
       "      <td>Racing</td>\n",
       "      <td>15.68</td>\n",
       "      <td>12.76</td>\n",
       "      <td>3.79</td>\n",
       "      <td>3.29</td>\n",
       "      <td>82.0</td>\n",
       "      <td>8.3</td>\n",
       "      <td>E</td>\n",
       "    </tr>\n",
       "    <tr>\n",
       "      <th>3</th>\n",
       "      <td>Wii Sports Resort</td>\n",
       "      <td>Wii</td>\n",
       "      <td>2009.0</td>\n",
       "      <td>Sports</td>\n",
       "      <td>15.61</td>\n",
       "      <td>10.93</td>\n",
       "      <td>3.28</td>\n",
       "      <td>2.95</td>\n",
       "      <td>80.0</td>\n",
       "      <td>8</td>\n",
       "      <td>E</td>\n",
       "    </tr>\n",
       "    <tr>\n",
       "      <th>4</th>\n",
       "      <td>Pokemon Red/Pokemon Blue</td>\n",
       "      <td>GB</td>\n",
       "      <td>1996.0</td>\n",
       "      <td>Role-Playing</td>\n",
       "      <td>11.27</td>\n",
       "      <td>8.89</td>\n",
       "      <td>10.22</td>\n",
       "      <td>1.00</td>\n",
       "      <td>NaN</td>\n",
       "      <td>NaN</td>\n",
       "      <td>NaN</td>\n",
       "    </tr>\n",
       "  </tbody>\n",
       "</table>\n",
       "</div>"
      ],
      "text/plain": [
       "                       Name Platform  Year_of_Release         Genre  NA_sales  \\\n",
       "0                Wii Sports      Wii           2006.0        Sports     41.36   \n",
       "1         Super Mario Bros.      NES           1985.0      Platform     29.08   \n",
       "2            Mario Kart Wii      Wii           2008.0        Racing     15.68   \n",
       "3         Wii Sports Resort      Wii           2009.0        Sports     15.61   \n",
       "4  Pokemon Red/Pokemon Blue       GB           1996.0  Role-Playing     11.27   \n",
       "\n",
       "   EU_sales  JP_sales  Other_sales  Critic_Score User_Score Rating  \n",
       "0     28.96      3.77         8.45          76.0          8      E  \n",
       "1      3.58      6.81         0.77           NaN        NaN    NaN  \n",
       "2     12.76      3.79         3.29          82.0        8.3      E  \n",
       "3     10.93      3.28         2.95          80.0          8      E  \n",
       "4      8.89     10.22         1.00           NaN        NaN    NaN  "
      ]
     },
     "execution_count": 5,
     "metadata": {},
     "output_type": "execute_result"
    }
   ],
   "source": [
    "# Посмотрим на первые строки датафейма\n",
    "df.head()"
   ]
  },
  {
   "cell_type": "markdown",
   "metadata": {},
   "source": [
    "Анализ первых 5 строк:\n",
    "\n",
    "Некоторые игры не имеют оценок (значение NaN в Critic_Score и User_Score).\n",
    "Некоторые рейтинги не имеют оценок (значение NaN в Rating).\n",
    "Продажи сильно варьируются (от 11 до 41 млн копий)."
   ]
  },
  {
   "cell_type": "code",
   "execution_count": 6,
   "metadata": {},
   "outputs": [
    {
     "data": {
      "text/html": [
       "<div>\n",
       "<style scoped>\n",
       "    .dataframe tbody tr th:only-of-type {\n",
       "        vertical-align: middle;\n",
       "    }\n",
       "\n",
       "    .dataframe tbody tr th {\n",
       "        vertical-align: top;\n",
       "    }\n",
       "\n",
       "    .dataframe thead th {\n",
       "        text-align: right;\n",
       "    }\n",
       "</style>\n",
       "<table border=\"1\" class=\"dataframe\">\n",
       "  <thead>\n",
       "    <tr style=\"text-align: right;\">\n",
       "      <th></th>\n",
       "      <th>Name</th>\n",
       "      <th>Platform</th>\n",
       "      <th>Year_of_Release</th>\n",
       "      <th>Genre</th>\n",
       "      <th>NA_sales</th>\n",
       "      <th>EU_sales</th>\n",
       "      <th>JP_sales</th>\n",
       "      <th>Other_sales</th>\n",
       "      <th>Critic_Score</th>\n",
       "      <th>User_Score</th>\n",
       "      <th>Rating</th>\n",
       "    </tr>\n",
       "  </thead>\n",
       "  <tbody>\n",
       "    <tr>\n",
       "      <th>count</th>\n",
       "      <td>16713</td>\n",
       "      <td>16715</td>\n",
       "      <td>16446.000000</td>\n",
       "      <td>16713</td>\n",
       "      <td>16715.000000</td>\n",
       "      <td>16715.000000</td>\n",
       "      <td>16715.000000</td>\n",
       "      <td>16715.000000</td>\n",
       "      <td>8137.000000</td>\n",
       "      <td>10014</td>\n",
       "      <td>9949</td>\n",
       "    </tr>\n",
       "    <tr>\n",
       "      <th>unique</th>\n",
       "      <td>11559</td>\n",
       "      <td>31</td>\n",
       "      <td>NaN</td>\n",
       "      <td>12</td>\n",
       "      <td>NaN</td>\n",
       "      <td>NaN</td>\n",
       "      <td>NaN</td>\n",
       "      <td>NaN</td>\n",
       "      <td>NaN</td>\n",
       "      <td>96</td>\n",
       "      <td>8</td>\n",
       "    </tr>\n",
       "    <tr>\n",
       "      <th>top</th>\n",
       "      <td>Need for Speed: Most Wanted</td>\n",
       "      <td>PS2</td>\n",
       "      <td>NaN</td>\n",
       "      <td>Action</td>\n",
       "      <td>NaN</td>\n",
       "      <td>NaN</td>\n",
       "      <td>NaN</td>\n",
       "      <td>NaN</td>\n",
       "      <td>NaN</td>\n",
       "      <td>tbd</td>\n",
       "      <td>E</td>\n",
       "    </tr>\n",
       "    <tr>\n",
       "      <th>freq</th>\n",
       "      <td>12</td>\n",
       "      <td>2161</td>\n",
       "      <td>NaN</td>\n",
       "      <td>3369</td>\n",
       "      <td>NaN</td>\n",
       "      <td>NaN</td>\n",
       "      <td>NaN</td>\n",
       "      <td>NaN</td>\n",
       "      <td>NaN</td>\n",
       "      <td>2424</td>\n",
       "      <td>3990</td>\n",
       "    </tr>\n",
       "    <tr>\n",
       "      <th>mean</th>\n",
       "      <td>NaN</td>\n",
       "      <td>NaN</td>\n",
       "      <td>2006.484616</td>\n",
       "      <td>NaN</td>\n",
       "      <td>0.263377</td>\n",
       "      <td>0.145060</td>\n",
       "      <td>0.077617</td>\n",
       "      <td>0.047342</td>\n",
       "      <td>68.967679</td>\n",
       "      <td>NaN</td>\n",
       "      <td>NaN</td>\n",
       "    </tr>\n",
       "    <tr>\n",
       "      <th>std</th>\n",
       "      <td>NaN</td>\n",
       "      <td>NaN</td>\n",
       "      <td>5.877050</td>\n",
       "      <td>NaN</td>\n",
       "      <td>0.813604</td>\n",
       "      <td>0.503339</td>\n",
       "      <td>0.308853</td>\n",
       "      <td>0.186731</td>\n",
       "      <td>13.938165</td>\n",
       "      <td>NaN</td>\n",
       "      <td>NaN</td>\n",
       "    </tr>\n",
       "    <tr>\n",
       "      <th>min</th>\n",
       "      <td>NaN</td>\n",
       "      <td>NaN</td>\n",
       "      <td>1980.000000</td>\n",
       "      <td>NaN</td>\n",
       "      <td>0.000000</td>\n",
       "      <td>0.000000</td>\n",
       "      <td>0.000000</td>\n",
       "      <td>0.000000</td>\n",
       "      <td>13.000000</td>\n",
       "      <td>NaN</td>\n",
       "      <td>NaN</td>\n",
       "    </tr>\n",
       "    <tr>\n",
       "      <th>25%</th>\n",
       "      <td>NaN</td>\n",
       "      <td>NaN</td>\n",
       "      <td>2003.000000</td>\n",
       "      <td>NaN</td>\n",
       "      <td>0.000000</td>\n",
       "      <td>0.000000</td>\n",
       "      <td>0.000000</td>\n",
       "      <td>0.000000</td>\n",
       "      <td>60.000000</td>\n",
       "      <td>NaN</td>\n",
       "      <td>NaN</td>\n",
       "    </tr>\n",
       "    <tr>\n",
       "      <th>50%</th>\n",
       "      <td>NaN</td>\n",
       "      <td>NaN</td>\n",
       "      <td>2007.000000</td>\n",
       "      <td>NaN</td>\n",
       "      <td>0.080000</td>\n",
       "      <td>0.020000</td>\n",
       "      <td>0.000000</td>\n",
       "      <td>0.010000</td>\n",
       "      <td>71.000000</td>\n",
       "      <td>NaN</td>\n",
       "      <td>NaN</td>\n",
       "    </tr>\n",
       "    <tr>\n",
       "      <th>75%</th>\n",
       "      <td>NaN</td>\n",
       "      <td>NaN</td>\n",
       "      <td>2010.000000</td>\n",
       "      <td>NaN</td>\n",
       "      <td>0.240000</td>\n",
       "      <td>0.110000</td>\n",
       "      <td>0.040000</td>\n",
       "      <td>0.030000</td>\n",
       "      <td>79.000000</td>\n",
       "      <td>NaN</td>\n",
       "      <td>NaN</td>\n",
       "    </tr>\n",
       "    <tr>\n",
       "      <th>max</th>\n",
       "      <td>NaN</td>\n",
       "      <td>NaN</td>\n",
       "      <td>2016.000000</td>\n",
       "      <td>NaN</td>\n",
       "      <td>41.360000</td>\n",
       "      <td>28.960000</td>\n",
       "      <td>10.220000</td>\n",
       "      <td>10.570000</td>\n",
       "      <td>98.000000</td>\n",
       "      <td>NaN</td>\n",
       "      <td>NaN</td>\n",
       "    </tr>\n",
       "  </tbody>\n",
       "</table>\n",
       "</div>"
      ],
      "text/plain": [
       "                               Name Platform  Year_of_Release   Genre  \\\n",
       "count                         16713    16715     16446.000000   16713   \n",
       "unique                        11559       31              NaN      12   \n",
       "top     Need for Speed: Most Wanted      PS2              NaN  Action   \n",
       "freq                             12     2161              NaN    3369   \n",
       "mean                            NaN      NaN      2006.484616     NaN   \n",
       "std                             NaN      NaN         5.877050     NaN   \n",
       "min                             NaN      NaN      1980.000000     NaN   \n",
       "25%                             NaN      NaN      2003.000000     NaN   \n",
       "50%                             NaN      NaN      2007.000000     NaN   \n",
       "75%                             NaN      NaN      2010.000000     NaN   \n",
       "max                             NaN      NaN      2016.000000     NaN   \n",
       "\n",
       "            NA_sales      EU_sales      JP_sales   Other_sales  Critic_Score  \\\n",
       "count   16715.000000  16715.000000  16715.000000  16715.000000   8137.000000   \n",
       "unique           NaN           NaN           NaN           NaN           NaN   \n",
       "top              NaN           NaN           NaN           NaN           NaN   \n",
       "freq             NaN           NaN           NaN           NaN           NaN   \n",
       "mean        0.263377      0.145060      0.077617      0.047342     68.967679   \n",
       "std         0.813604      0.503339      0.308853      0.186731     13.938165   \n",
       "min         0.000000      0.000000      0.000000      0.000000     13.000000   \n",
       "25%         0.000000      0.000000      0.000000      0.000000     60.000000   \n",
       "50%         0.080000      0.020000      0.000000      0.010000     71.000000   \n",
       "75%         0.240000      0.110000      0.040000      0.030000     79.000000   \n",
       "max        41.360000     28.960000     10.220000     10.570000     98.000000   \n",
       "\n",
       "       User_Score Rating  \n",
       "count       10014   9949  \n",
       "unique         96      8  \n",
       "top           tbd      E  \n",
       "freq         2424   3990  \n",
       "mean          NaN    NaN  \n",
       "std           NaN    NaN  \n",
       "min           NaN    NaN  \n",
       "25%           NaN    NaN  \n",
       "50%           NaN    NaN  \n",
       "75%           NaN    NaN  \n",
       "max           NaN    NaN  "
      ]
     },
     "execution_count": 6,
     "metadata": {},
     "output_type": "execute_result"
    }
   ],
   "source": [
    "# Отобразим расширенные статистические характеристики датафрейма\n",
    "df.describe(include='all')"
   ]
  },
  {
   "cell_type": "markdown",
   "metadata": {},
   "source": [
    "Интерпретация расширенных статистических характеристик датасета:\n",
    "\n",
    "Название игры (Name)\n",
    "Уникальных игр: 11 559\n",
    "Вывод: Самая частая игра: Need for Speed: Most Wanted (встречается 12 раз)\n",
    "\n",
    "Платформа (Platform)\n",
    "31 уникальных платформ\n",
    "Самая насыщенная играми платформа: PS2 (2161 игр)\n",
    "Вывод: Большинство игр выходило на PlayStation 2, стоит проверить популярность других платформ.\n",
    "\n",
    "Жанр (Genre)\n",
    "12 уникальных жанров\n",
    "Самый популярный: Action (3369 игр)\n",
    "Вывод: Экшен-игры доминируют, стоит проверить продажи по жанрам.\n",
    "\n",
    "Рейтинг (Rating)\n",
    "8 уникальных рейтингов ESRB\n",
    "Самый частый: E (Everyone) – 3990 игр\n",
    "Вывод: Большинство игр рассчитано на широкий круг игроков.\n",
    "\n",
    "Год выпуска (Year_of_Release)\n",
    "Даннные надо будет привести к целочисленным значениям\n",
    "Диапазон: 1980 – 2016\n",
    "Вывод: Большинство игр вышло после 2000 года, но есть ретро-игры.\n",
    "\n",
    "Продажи по регионам (NA_sales, EU_sales, JP_sales, Other_sales)\n",
    "\n",
    "Средние продажи:\n",
    "Северная Америка: 0.26 млн\n",
    "Европа: 0.14 млн\n",
    "Япония: 0.08 млн\n",
    "Остальные регионы: 0.05 млн\n",
    "\n",
    "Максимальные продажи (по одному тайтлу):\n",
    "NA: 41.36 млн\n",
    "EU: 28.96 млн\n",
    "JP: 10.22 млн\n",
    "Other: 10.57 млн\n",
    "Вывод: В Северной Америке больше всего популярных игр, но в Японии есть свой уникальный рынок.\n",
    "\n",
    "Оценки (Critic_Score, User_Score)\n",
    "Средний балл критиков: 69 (из 100)\n",
    "Средний балл пользователей: Данных мало, есть пропуски.\n",
    "Максимальный балл критиков: 98\n",
    "Вывод: Игры чаще всего получают оценки в диапазоне 60-80, но возможны выбросы."
   ]
  },
  {
   "cell_type": "markdown",
   "metadata": {},
   "source": [
    "## Подготовка данных"
   ]
  },
  {
   "cell_type": "markdown",
   "metadata": {},
   "source": [
    "### Замените названия столбцов (приведите к нижнему регистру)"
   ]
  },
  {
   "cell_type": "code",
   "execution_count": 7,
   "metadata": {},
   "outputs": [
    {
     "data": {
      "text/html": [
       "<div>\n",
       "<style scoped>\n",
       "    .dataframe tbody tr th:only-of-type {\n",
       "        vertical-align: middle;\n",
       "    }\n",
       "\n",
       "    .dataframe tbody tr th {\n",
       "        vertical-align: top;\n",
       "    }\n",
       "\n",
       "    .dataframe thead th {\n",
       "        text-align: right;\n",
       "    }\n",
       "</style>\n",
       "<table border=\"1\" class=\"dataframe\">\n",
       "  <thead>\n",
       "    <tr style=\"text-align: right;\">\n",
       "      <th></th>\n",
       "      <th>name</th>\n",
       "      <th>platform</th>\n",
       "      <th>year_of_release</th>\n",
       "      <th>genre</th>\n",
       "      <th>na_sales</th>\n",
       "      <th>eu_sales</th>\n",
       "      <th>jp_sales</th>\n",
       "      <th>other_sales</th>\n",
       "      <th>critic_score</th>\n",
       "      <th>user_score</th>\n",
       "      <th>rating</th>\n",
       "    </tr>\n",
       "  </thead>\n",
       "  <tbody>\n",
       "    <tr>\n",
       "      <th>0</th>\n",
       "      <td>Wii Sports</td>\n",
       "      <td>Wii</td>\n",
       "      <td>2006.0</td>\n",
       "      <td>Sports</td>\n",
       "      <td>41.36</td>\n",
       "      <td>28.96</td>\n",
       "      <td>3.77</td>\n",
       "      <td>8.45</td>\n",
       "      <td>76.0</td>\n",
       "      <td>8</td>\n",
       "      <td>E</td>\n",
       "    </tr>\n",
       "    <tr>\n",
       "      <th>1</th>\n",
       "      <td>Super Mario Bros.</td>\n",
       "      <td>NES</td>\n",
       "      <td>1985.0</td>\n",
       "      <td>Platform</td>\n",
       "      <td>29.08</td>\n",
       "      <td>3.58</td>\n",
       "      <td>6.81</td>\n",
       "      <td>0.77</td>\n",
       "      <td>NaN</td>\n",
       "      <td>NaN</td>\n",
       "      <td>NaN</td>\n",
       "    </tr>\n",
       "    <tr>\n",
       "      <th>2</th>\n",
       "      <td>Mario Kart Wii</td>\n",
       "      <td>Wii</td>\n",
       "      <td>2008.0</td>\n",
       "      <td>Racing</td>\n",
       "      <td>15.68</td>\n",
       "      <td>12.76</td>\n",
       "      <td>3.79</td>\n",
       "      <td>3.29</td>\n",
       "      <td>82.0</td>\n",
       "      <td>8.3</td>\n",
       "      <td>E</td>\n",
       "    </tr>\n",
       "    <tr>\n",
       "      <th>3</th>\n",
       "      <td>Wii Sports Resort</td>\n",
       "      <td>Wii</td>\n",
       "      <td>2009.0</td>\n",
       "      <td>Sports</td>\n",
       "      <td>15.61</td>\n",
       "      <td>10.93</td>\n",
       "      <td>3.28</td>\n",
       "      <td>2.95</td>\n",
       "      <td>80.0</td>\n",
       "      <td>8</td>\n",
       "      <td>E</td>\n",
       "    </tr>\n",
       "    <tr>\n",
       "      <th>4</th>\n",
       "      <td>Pokemon Red/Pokemon Blue</td>\n",
       "      <td>GB</td>\n",
       "      <td>1996.0</td>\n",
       "      <td>Role-Playing</td>\n",
       "      <td>11.27</td>\n",
       "      <td>8.89</td>\n",
       "      <td>10.22</td>\n",
       "      <td>1.00</td>\n",
       "      <td>NaN</td>\n",
       "      <td>NaN</td>\n",
       "      <td>NaN</td>\n",
       "    </tr>\n",
       "  </tbody>\n",
       "</table>\n",
       "</div>"
      ],
      "text/plain": [
       "                       name platform  year_of_release         genre  na_sales  \\\n",
       "0                Wii Sports      Wii           2006.0        Sports     41.36   \n",
       "1         Super Mario Bros.      NES           1985.0      Platform     29.08   \n",
       "2            Mario Kart Wii      Wii           2008.0        Racing     15.68   \n",
       "3         Wii Sports Resort      Wii           2009.0        Sports     15.61   \n",
       "4  Pokemon Red/Pokemon Blue       GB           1996.0  Role-Playing     11.27   \n",
       "\n",
       "   eu_sales  jp_sales  other_sales  critic_score user_score rating  \n",
       "0     28.96      3.77         8.45          76.0          8      E  \n",
       "1      3.58      6.81         0.77           NaN        NaN    NaN  \n",
       "2     12.76      3.79         3.29          82.0        8.3      E  \n",
       "3     10.93      3.28         2.95          80.0          8      E  \n",
       "4      8.89     10.22         1.00           NaN        NaN    NaN  "
      ]
     },
     "execution_count": 7,
     "metadata": {},
     "output_type": "execute_result"
    }
   ],
   "source": [
    "# Приводим названия столбцов к нижнему регистру\n",
    "df.columns = df.columns.str.lower()\n",
    "\n",
    "# Выводим первые 5 строк, чтобы проверить изменения\n",
    "df.head()"
   ]
  },
  {
   "cell_type": "markdown",
   "metadata": {},
   "source": [
    "Названия столбцов приведены к нижнему регистру. Теперь они удобнее для работы."
   ]
  },
  {
   "cell_type": "markdown",
   "metadata": {},
   "source": [
    "### Преобразуйте данные в нужные типы. Опишите, в каких столбцах заменили тип данных и почему"
   ]
  },
  {
   "cell_type": "markdown",
   "metadata": {},
   "source": [
    "Преобразуем данные:\n",
    "\n",
    "year_of_release – год выпуска, 269 пропущенных значений, тип (float64) лучше перевести в целочисленный int. \n",
    "\n",
    "rating переведем  с object на категориальный тип (category), так как он содержит 8 уникальных значений. Это уменьшит объем памяти и упростит анализ. Удобство анализа – можно быстро работать с группировками и другими методами.\n",
    "\n",
    "user_score преобразуем в числовой формат float, а также заменим 'tbd' на NaN, (To Be Determined, значит «Оценка пока не определена»). Применим аргумент errors=\"coerce\", если в момент преобразоввания встретятся нечисловые значения (например, \"tbd\"), они заменятся на NaN (пропущенные значения)."
   ]
  },
  {
   "cell_type": "code",
   "execution_count": 8,
   "metadata": {},
   "outputs": [
    {
     "name": "stdout",
     "output_type": "stream",
     "text": [
      "<class 'pandas.core.frame.DataFrame'>\n",
      "RangeIndex: 16715 entries, 0 to 16714\n",
      "Data columns (total 11 columns):\n",
      " #   Column           Non-Null Count  Dtype   \n",
      "---  ------           --------------  -----   \n",
      " 0   name             16713 non-null  object  \n",
      " 1   platform         16715 non-null  object  \n",
      " 2   year_of_release  16446 non-null  Int32   \n",
      " 3   genre            16713 non-null  object  \n",
      " 4   na_sales         16715 non-null  float64 \n",
      " 5   eu_sales         16715 non-null  float64 \n",
      " 6   jp_sales         16715 non-null  float64 \n",
      " 7   other_sales      16715 non-null  float64 \n",
      " 8   critic_score     8137 non-null   float64 \n",
      " 9   user_score       7590 non-null   float64 \n",
      " 10  rating           9949 non-null   category\n",
      "dtypes: Int32(1), category(1), float64(6), object(3)\n",
      "memory usage: 1.2+ MB\n"
     ]
    },
    {
     "data": {
      "text/html": [
       "<div>\n",
       "<style scoped>\n",
       "    .dataframe tbody tr th:only-of-type {\n",
       "        vertical-align: middle;\n",
       "    }\n",
       "\n",
       "    .dataframe tbody tr th {\n",
       "        vertical-align: top;\n",
       "    }\n",
       "\n",
       "    .dataframe thead th {\n",
       "        text-align: right;\n",
       "    }\n",
       "</style>\n",
       "<table border=\"1\" class=\"dataframe\">\n",
       "  <thead>\n",
       "    <tr style=\"text-align: right;\">\n",
       "      <th></th>\n",
       "      <th>name</th>\n",
       "      <th>platform</th>\n",
       "      <th>year_of_release</th>\n",
       "      <th>genre</th>\n",
       "      <th>na_sales</th>\n",
       "      <th>eu_sales</th>\n",
       "      <th>jp_sales</th>\n",
       "      <th>other_sales</th>\n",
       "      <th>critic_score</th>\n",
       "      <th>user_score</th>\n",
       "      <th>rating</th>\n",
       "    </tr>\n",
       "  </thead>\n",
       "  <tbody>\n",
       "    <tr>\n",
       "      <th>0</th>\n",
       "      <td>Wii Sports</td>\n",
       "      <td>Wii</td>\n",
       "      <td>2006</td>\n",
       "      <td>Sports</td>\n",
       "      <td>41.36</td>\n",
       "      <td>28.96</td>\n",
       "      <td>3.77</td>\n",
       "      <td>8.45</td>\n",
       "      <td>76.0</td>\n",
       "      <td>8.0</td>\n",
       "      <td>E</td>\n",
       "    </tr>\n",
       "    <tr>\n",
       "      <th>1</th>\n",
       "      <td>Super Mario Bros.</td>\n",
       "      <td>NES</td>\n",
       "      <td>1985</td>\n",
       "      <td>Platform</td>\n",
       "      <td>29.08</td>\n",
       "      <td>3.58</td>\n",
       "      <td>6.81</td>\n",
       "      <td>0.77</td>\n",
       "      <td>NaN</td>\n",
       "      <td>NaN</td>\n",
       "      <td>NaN</td>\n",
       "    </tr>\n",
       "    <tr>\n",
       "      <th>2</th>\n",
       "      <td>Mario Kart Wii</td>\n",
       "      <td>Wii</td>\n",
       "      <td>2008</td>\n",
       "      <td>Racing</td>\n",
       "      <td>15.68</td>\n",
       "      <td>12.76</td>\n",
       "      <td>3.79</td>\n",
       "      <td>3.29</td>\n",
       "      <td>82.0</td>\n",
       "      <td>8.3</td>\n",
       "      <td>E</td>\n",
       "    </tr>\n",
       "    <tr>\n",
       "      <th>3</th>\n",
       "      <td>Wii Sports Resort</td>\n",
       "      <td>Wii</td>\n",
       "      <td>2009</td>\n",
       "      <td>Sports</td>\n",
       "      <td>15.61</td>\n",
       "      <td>10.93</td>\n",
       "      <td>3.28</td>\n",
       "      <td>2.95</td>\n",
       "      <td>80.0</td>\n",
       "      <td>8.0</td>\n",
       "      <td>E</td>\n",
       "    </tr>\n",
       "    <tr>\n",
       "      <th>4</th>\n",
       "      <td>Pokemon Red/Pokemon Blue</td>\n",
       "      <td>GB</td>\n",
       "      <td>1996</td>\n",
       "      <td>Role-Playing</td>\n",
       "      <td>11.27</td>\n",
       "      <td>8.89</td>\n",
       "      <td>10.22</td>\n",
       "      <td>1.00</td>\n",
       "      <td>NaN</td>\n",
       "      <td>NaN</td>\n",
       "      <td>NaN</td>\n",
       "    </tr>\n",
       "  </tbody>\n",
       "</table>\n",
       "</div>"
      ],
      "text/plain": [
       "                       name platform  year_of_release         genre  na_sales  \\\n",
       "0                Wii Sports      Wii             2006        Sports     41.36   \n",
       "1         Super Mario Bros.      NES             1985      Platform     29.08   \n",
       "2            Mario Kart Wii      Wii             2008        Racing     15.68   \n",
       "3         Wii Sports Resort      Wii             2009        Sports     15.61   \n",
       "4  Pokemon Red/Pokemon Blue       GB             1996  Role-Playing     11.27   \n",
       "\n",
       "   eu_sales  jp_sales  other_sales  critic_score  user_score rating  \n",
       "0     28.96      3.77         8.45          76.0         8.0      E  \n",
       "1      3.58      6.81         0.77           NaN         NaN    NaN  \n",
       "2     12.76      3.79         3.29          82.0         8.3      E  \n",
       "3     10.93      3.28         2.95          80.0         8.0      E  \n",
       "4      8.89     10.22         1.00           NaN         NaN    NaN  "
      ]
     },
     "execution_count": 8,
     "metadata": {},
     "output_type": "execute_result"
    }
   ],
   "source": [
    " # Преобразуем year_of_release в целочисленный тип (где нет пропусков)\n",
    "df[\"year_of_release\"] = pd.to_numeric(df[\"year_of_release\"], errors=\"coerce\").astype(\"Int32\")\n",
    "\n",
    "# Преобразуем rating в категориальный тип данных\n",
    "df[\"rating\"] = df[\"rating\"].astype(\"category\")\n",
    "\n",
    "# Преобразуем user_score в числовой формат, заменим 'tbd' на NaN\n",
    "df[\"user_score\"] = pd.to_numeric(df[\"user_score\"], errors=\"coerce\")\n",
    "\n",
    "# Выведем информацию о датафрейме после преобразования типов\n",
    "df.info()\n",
    "\n",
    "# Выведем первые 5 строк датафрейма после преобразования типов\n",
    "df.head()"
   ]
  },
  {
   "cell_type": "markdown",
   "metadata": {},
   "source": [
    "После преобразования:\n",
    "\n",
    "year_of_release — Int32 (целочисленный год).\n",
    "\n",
    "user_score — float64 (оценки пользователей).\n",
    "\n",
    "rating — category (категориальный рейтинг)."
   ]
  },
  {
   "cell_type": "markdown",
   "metadata": {},
   "source": [
    "### Обработайте пропуски при необходимости\n",
    "\n",
    "Объясните, почему заполнили пропуски определённым образом или почему не стали это делать;\n",
    "Опишите причины, которые могли привести к пропускам;\n",
    "Обратите внимание на аббревиатуру 'tbd' в столбце с оценкой пользователей. Отдельно разберите это значение и опишите, как его обработать;"
   ]
  },
  {
   "cell_type": "code",
   "execution_count": 9,
   "metadata": {},
   "outputs": [
    {
     "data": {
      "text/plain": [
       "name                  2\n",
       "platform              0\n",
       "year_of_release     269\n",
       "genre                 2\n",
       "na_sales              0\n",
       "eu_sales              0\n",
       "jp_sales              0\n",
       "other_sales           0\n",
       "critic_score       8578\n",
       "user_score         9125\n",
       "rating             6766\n",
       "dtype: int64"
      ]
     },
     "execution_count": 9,
     "metadata": {},
     "output_type": "execute_result"
    }
   ],
   "source": [
    "# Посмотрим количество пропусков\n",
    "df.isna().sum()"
   ]
  },
  {
   "cell_type": "markdown",
   "metadata": {},
   "source": [
    "Анализ пропусков:\n",
    "\n",
    "platform, na_sales / eu_sales / jp_sales / other_sales - пропусков нет, всё в порядке.\n",
    "\n",
    "name и genre – мало пропусков (2 шт.), можно просто удалить, 2 случая из 16715 не критичны. \n",
    "\n",
    "year_of_release - есть пропущенные (269 шт.), удалим строки, так как год важен для анализа трендов. Заполнять медианой или средним нельзя, так как это изменит историческую картину.\n",
    "\n",
    "critic_score - очень много пропусков (8579), далеко не все игры содержат оценку критиков. Оставим NaN, так как заполнение средним может исказить анализ.\n",
    "\n",
    "user_score - очень много пропусков (9125), для анализа корреляций (оценки vs. продажи) оставим NaN, удалять нельзя (слишком много данных потеряем).\n",
    "\n",
    "rating - много пропусков (6766), заполним NaN значением \"Unknown\", чтобы не терять данные. Так как столбец rating уже приведен к категориальному типу (category), предарительно добавим \"Unknown\" в список допустимых категорий. \n",
    "\n",
    "Примечание:\n",
    "\n",
    "Была идея заполнить пропуски в rating  на основе жанра, так как ESRB-рейтинг чаще всего зависит от жанра. Однако, у этой идеи есть свои плюсы и минусы: ESRB-рейтинг действительно связан с жанром, но в то же время рейтинг зависит не только от жанра, но и от платформы, региона и контента. Таким образом можно внести ошибочные данные: если у 50% RPG игр рейтинг M, а у 50% — T, как выбрать правильный? Поэтому вместо автоматической замены по жанру, решено в итоге заполнить NaN значением \"Unknown\"."
   ]
  },
  {
   "cell_type": "code",
   "execution_count": 11,
   "metadata": {},
   "outputs": [],
   "source": [
    "# Удаляем строки с пропусками в критически важных столбцах\n",
    "df = df.dropna(subset=[\"name\", \"genre\", \"year_of_release\"])\n",
    "\n",
    "# Добавляем \"Unknown\" в список категорий\n",
    "df[\"rating\"] = df[\"rating\"].cat.add_categories(\"Unknown\")\n",
    "\n",
    "# Заполняем пропуски\n",
    "df[\"rating\"] = df[\"rating\"].fillna(\"Unknown\")"
   ]
  },
  {
   "cell_type": "code",
   "execution_count": 12,
   "metadata": {},
   "outputs": [
    {
     "data": {
      "text/plain": [
       "name                  0\n",
       "platform              0\n",
       "year_of_release       0\n",
       "genre                 0\n",
       "na_sales              0\n",
       "eu_sales              0\n",
       "jp_sales              0\n",
       "other_sales           0\n",
       "critic_score       8461\n",
       "user_score         8981\n",
       "rating                0\n",
       "dtype: int64"
      ]
     },
     "execution_count": 12,
     "metadata": {},
     "output_type": "execute_result"
    }
   ],
   "source": [
    "# Проверим количество пропусков после обработки данных\n",
    "df.isna().sum()"
   ]
  },
  {
   "cell_type": "markdown",
   "metadata": {},
   "source": [
    "Пропуски остались только в столбцах critic_score и user_score. Двигаемся дальше."
   ]
  },
  {
   "cell_type": "markdown",
   "metadata": {},
   "source": [
    "### Посчитайте суммарные продажи во всех регионах и запишите их в отдельный столбец."
   ]
  },
  {
   "cell_type": "code",
   "execution_count": 13,
   "metadata": {},
   "outputs": [
    {
     "data": {
      "text/html": [
       "<div>\n",
       "<style scoped>\n",
       "    .dataframe tbody tr th:only-of-type {\n",
       "        vertical-align: middle;\n",
       "    }\n",
       "\n",
       "    .dataframe tbody tr th {\n",
       "        vertical-align: top;\n",
       "    }\n",
       "\n",
       "    .dataframe thead th {\n",
       "        text-align: right;\n",
       "    }\n",
       "</style>\n",
       "<table border=\"1\" class=\"dataframe\">\n",
       "  <thead>\n",
       "    <tr style=\"text-align: right;\">\n",
       "      <th></th>\n",
       "      <th>name</th>\n",
       "      <th>platform</th>\n",
       "      <th>year_of_release</th>\n",
       "      <th>genre</th>\n",
       "      <th>na_sales</th>\n",
       "      <th>eu_sales</th>\n",
       "      <th>jp_sales</th>\n",
       "      <th>other_sales</th>\n",
       "      <th>critic_score</th>\n",
       "      <th>user_score</th>\n",
       "      <th>rating</th>\n",
       "      <th>total_sales</th>\n",
       "    </tr>\n",
       "  </thead>\n",
       "  <tbody>\n",
       "    <tr>\n",
       "      <th>0</th>\n",
       "      <td>Wii Sports</td>\n",
       "      <td>Wii</td>\n",
       "      <td>2006</td>\n",
       "      <td>Sports</td>\n",
       "      <td>41.36</td>\n",
       "      <td>28.96</td>\n",
       "      <td>3.77</td>\n",
       "      <td>8.45</td>\n",
       "      <td>76.0</td>\n",
       "      <td>8.0</td>\n",
       "      <td>E</td>\n",
       "      <td>82.54</td>\n",
       "    </tr>\n",
       "    <tr>\n",
       "      <th>1</th>\n",
       "      <td>Super Mario Bros.</td>\n",
       "      <td>NES</td>\n",
       "      <td>1985</td>\n",
       "      <td>Platform</td>\n",
       "      <td>29.08</td>\n",
       "      <td>3.58</td>\n",
       "      <td>6.81</td>\n",
       "      <td>0.77</td>\n",
       "      <td>NaN</td>\n",
       "      <td>NaN</td>\n",
       "      <td>Unknown</td>\n",
       "      <td>40.24</td>\n",
       "    </tr>\n",
       "    <tr>\n",
       "      <th>2</th>\n",
       "      <td>Mario Kart Wii</td>\n",
       "      <td>Wii</td>\n",
       "      <td>2008</td>\n",
       "      <td>Racing</td>\n",
       "      <td>15.68</td>\n",
       "      <td>12.76</td>\n",
       "      <td>3.79</td>\n",
       "      <td>3.29</td>\n",
       "      <td>82.0</td>\n",
       "      <td>8.3</td>\n",
       "      <td>E</td>\n",
       "      <td>35.52</td>\n",
       "    </tr>\n",
       "    <tr>\n",
       "      <th>3</th>\n",
       "      <td>Wii Sports Resort</td>\n",
       "      <td>Wii</td>\n",
       "      <td>2009</td>\n",
       "      <td>Sports</td>\n",
       "      <td>15.61</td>\n",
       "      <td>10.93</td>\n",
       "      <td>3.28</td>\n",
       "      <td>2.95</td>\n",
       "      <td>80.0</td>\n",
       "      <td>8.0</td>\n",
       "      <td>E</td>\n",
       "      <td>32.77</td>\n",
       "    </tr>\n",
       "    <tr>\n",
       "      <th>4</th>\n",
       "      <td>Pokemon Red/Pokemon Blue</td>\n",
       "      <td>GB</td>\n",
       "      <td>1996</td>\n",
       "      <td>Role-Playing</td>\n",
       "      <td>11.27</td>\n",
       "      <td>8.89</td>\n",
       "      <td>10.22</td>\n",
       "      <td>1.00</td>\n",
       "      <td>NaN</td>\n",
       "      <td>NaN</td>\n",
       "      <td>Unknown</td>\n",
       "      <td>31.38</td>\n",
       "    </tr>\n",
       "  </tbody>\n",
       "</table>\n",
       "</div>"
      ],
      "text/plain": [
       "                       name platform  year_of_release         genre  na_sales  \\\n",
       "0                Wii Sports      Wii             2006        Sports     41.36   \n",
       "1         Super Mario Bros.      NES             1985      Platform     29.08   \n",
       "2            Mario Kart Wii      Wii             2008        Racing     15.68   \n",
       "3         Wii Sports Resort      Wii             2009        Sports     15.61   \n",
       "4  Pokemon Red/Pokemon Blue       GB             1996  Role-Playing     11.27   \n",
       "\n",
       "   eu_sales  jp_sales  other_sales  critic_score  user_score   rating  \\\n",
       "0     28.96      3.77         8.45          76.0         8.0        E   \n",
       "1      3.58      6.81         0.77           NaN         NaN  Unknown   \n",
       "2     12.76      3.79         3.29          82.0         8.3        E   \n",
       "3     10.93      3.28         2.95          80.0         8.0        E   \n",
       "4      8.89     10.22         1.00           NaN         NaN  Unknown   \n",
       "\n",
       "   total_sales  \n",
       "0        82.54  \n",
       "1        40.24  \n",
       "2        35.52  \n",
       "3        32.77  \n",
       "4        31.38  "
      ]
     },
     "execution_count": 13,
     "metadata": {},
     "output_type": "execute_result"
    }
   ],
   "source": [
    "# Создадим столбец total_sales, в который сложим продажи игры во всех регионах\n",
    "df[\"total_sales\"] = df[\"na_sales\"] + df[\"eu_sales\"] + df[\"jp_sales\"] + df[\"other_sales\"]\n",
    "\n",
    "# Выведем первые 5 строк датафрейма после преобразования типов\n",
    "df.head()"
   ]
  },
  {
   "cell_type": "markdown",
   "metadata": {},
   "source": [
    "Все корректно. Теперь у каждой игры есть итоговый объем продаж."
   ]
  },
  {
   "cell_type": "markdown",
   "metadata": {},
   "source": [
    "Комментарий студента:\n",
    "\n",
    "Подготовка данных выполнена. \n",
    "\n",
    "Привели названия столбцов к нижнему регистру, преобразовали year_of_release в целочисленный тип (где нет пропусков), преобразовали rating в категориальный тип данных, преобразовали user_score в числовой формат, заменили 'tbd' на NaN.\n",
    "\n",
    "Удалили строки с пропусками в критически важных столбцах - name, genre, year_of_release. Добавили \"Unknown\" в список категорий и заполнили им пропуски в rating. Пропуски оставили только в столбцах critic_score и user_score. \n",
    "Создали столбец total_sales, в который сложили продажи игры во всех регионах.\n",
    "\n",
    "Датафрейм готов к проведению исследовательского анализа данных. "
   ]
  },
  {
   "cell_type": "markdown",
   "metadata": {},
   "source": [
    "## Проведите исследовательский анализ данных"
   ]
  },
  {
   "cell_type": "markdown",
   "metadata": {},
   "source": [
    "### Посмотрите, сколько игр выпускалось в разные годы. Важны ли данные за все периоды?"
   ]
  },
  {
   "cell_type": "code",
   "execution_count": 14,
   "metadata": {},
   "outputs": [
    {
     "data": {
      "image/png": "[encoded data removed]",
      "text/plain": [
       "<Figure size 864x432 with 1 Axes>"
      ]
     },
     "metadata": {
      "needs_background": "light"
     },
     "output_type": "display_data"
    }
   ],
   "source": [
    "# Группируем данные по году выпуска и считаем количество игр\n",
    "games_per_year = df.groupby(\"year_of_release\")[\"name\"].count()\n",
    "\n",
    "# Строим график\n",
    "plt.figure(figsize=(12, 6))\n",
    "sns.barplot(x=games_per_year.index, y=games_per_year.values, color=\"cornflowerblue\")\n",
    "plt.xticks(rotation=45)\n",
    "plt.xlabel(\"Год выпуска\")\n",
    "plt.ylabel(\"Количество игр\")\n",
    "plt.title(\"Распределение количества игр по годам\")\n",
    "plt.show()"
   ]
  },
  {
   "cell_type": "markdown",
   "metadata": {},
   "source": [
    "Вывод:\n",
    "\n",
    "Начиная с 1994 года начинается плавный и увернный рост количества выпускаемых на рынок игр. 2001-2002 рынок пережил мощный рост и к 2008-2009 годам вышел на свои пиковые значения - около 1400 игр ежегодно. Начиная с 2010 года рынок начал снижаться, в 2012 году произошло мощное падение до уровня 600-700 игр в год. Период 2012-2016 можно охарактеризовать как относчительно стабильное плато в районе 600-500 игровых тайтлов ежегодно. \n",
    "\n",
    "1980-1995 – данные за этот период не стоит брать во внимание, данных слишком мало, индустрия была другой.\n",
    "\n",
    "Последние 10 лет можно взять  для анализа трендов. Для прогнозирования на 2017 год оптимально анализировать данные за последние 5-6 лет, так как рынок сильно изменился после 2010 года."
   ]
  },
  {
   "cell_type": "markdown",
   "metadata": {},
   "source": [
    "### Посмотрите, как менялись продажи по платформам. Выберите платформы с наибольшими суммарными продажами и постройте распределение по годам. За какой характерный срок появляются новые и исчезают старые платформы?"
   ]
  },
  {
   "cell_type": "code",
   "execution_count": 15,
   "metadata": {},
   "outputs": [
    {
     "name": "stdout",
     "output_type": "stream",
     "text": [
      "Лидеры продаж (все года):\n",
      "platform\n",
      "PS2     1233.56\n",
      "X360     961.24\n",
      "PS3      931.34\n",
      "Wii      891.18\n",
      "DS       802.78\n",
      "PS       727.58\n",
      "PS4      314.14\n",
      "GBA      312.88\n",
      "PSP      289.53\n",
      "3DS      257.81\n",
      "Name: total_sales, dtype: float64\n"
     ]
    },
    {
     "data": {
      "image/png": "[encoded data removed]",
      "text/plain": [
       "<Figure size 864x432 with 1 Axes>"
      ]
     },
     "metadata": {
      "needs_background": "light"
     },
     "output_type": "display_data"
    },
    {
     "data": {
      "text/plain": [
       "<Figure size 864x432 with 0 Axes>"
      ]
     },
     "metadata": {},
     "output_type": "display_data"
    },
    {
     "data": {
      "image/png": "[encoded data removed]",
      "text/plain": [
       "<Figure size 864x432 with 1 Axes>"
      ]
     },
     "metadata": {
      "needs_background": "light"
     },
     "output_type": "display_data"
    },
    {
     "data": {
      "image/png": "[encoded data removed]",
      "text/plain": [
       "<Figure size 864x432 with 2 Axes>"
      ]
     },
     "metadata": {
      "needs_background": "light"
     },
     "output_type": "display_data"
    }
   ],
   "source": [
    "# Группируем данные и выбираем топ-10 платформ по суммарным продажам\n",
    "top_platforms = df.groupby(\"platform\")[\"total_sales\"].sum().nlargest(10)\n",
    "top_platforms_list = top_platforms.index.tolist()\n",
    "\n",
    "# Выводим топ-10 платформ лидеров продаж\n",
    "print(\"Лидеры продаж (все года):\")\n",
    "print(top_platforms)\n",
    "\n",
    "# Фильтруем только топ-10 платформ\n",
    "df_top = df[df[\"platform\"].isin(top_platforms_list)]\n",
    "\n",
    "# Строим линейный график динамики продаж по годам\n",
    "plt.figure(figsize=(12, 6))\n",
    "sns.lineplot(data=df_top, x=\"year_of_release\", y=\"total_sales\", hue=\"platform\", ci=None)\n",
    "\n",
    "plt.title(\"Динамика продаж топ-10 платформ\")\n",
    "plt.xlabel(\"Год выпуска\")\n",
    "plt.ylabel(\"Суммарные продажи (млн копий)\")\n",
    "plt.legend(title=\"Платформа\")\n",
    "plt.grid()\n",
    "plt.show()\n",
    "\n",
    "# Построим график с накоплением объема продаж всех платформ\n",
    "plt.figure(figsize=(12, 6))\n",
    "df_top_grouped = df_top.groupby([\"year_of_release\", \"platform\"])[\"total_sales\"].sum().unstack()\n",
    "df_top_grouped.plot(kind=\"area\", stacked=True, colormap=\"tab10\", alpha=0.7, figsize=(12, 6))\n",
    "plt.title(\"Динамика продаж по платформам (накопительный график)\")\n",
    "plt.xlabel(\"Год выпуска\")\n",
    "plt.ylabel(\"Суммарные продажи (млн копий)\")\n",
    "plt.legend(title=\"Платформа\", bbox_to_anchor=(1.05, 1), loc=\"upper left\")\n",
    "plt.show()\n",
    "\n",
    "# Построим Heatmap (тепловая карта продаж), оценим активность платформ по годам\n",
    "df_pivot = df_top.pivot_table(index=\"year_of_release\", columns=\"platform\", values=\"total_sales\", aggfunc=\"sum\")\n",
    "plt.figure(figsize=(12, 6))\n",
    "sns.heatmap(df_pivot, cmap=\"coolwarm\", linewidths=0.5, annot=True, fmt=\".1f\")\n",
    "plt.title(\"Тепловая карта продаж по платформам и годам\")\n",
    "plt.xlabel(\"Платформа\")\n",
    "plt.ylabel(\"Год выпуска\")\n",
    "plt.show()"
   ]
  },
  {
   "cell_type": "markdown",
   "metadata": {},
   "source": [
    "Анализ продаж:\n",
    "\n",
    "Графики, которые на основе анализа продаж позволяют вынести полезные инсайты относительно платформ.\n",
    "\n",
    "Лидер продаж по миру - платформа PS2 (1233.56 млн. проданных копий), за ней соответственно идут X360, PS3, Wii, DS, PS, PS4, GBA, PSP и замыкает десятку лидеров по общемировым продажам платформа 3DS (257.81 млн. проданных копий).\n",
    "\n",
    "Срок жизни платформ:\n",
    "\n",
    "Каждая платформа существует в среднем 7-10 лет.\n",
    "Например, PS2 появилась в 2000 году и перестала быть актуальной к 2010-2012.\n",
    "Xbox 360 доминировал примерно с 2005 по 2015.\n",
    "Новые платформы появляются каждые 5-7 лет, сменяя старые.\n",
    "\n",
    "Резкий спад некоторых платформ:\n",
    "\n",
    "У Wii заметен пик продаж в 2006-2009, но затем резкое падение.\n",
    "У PS2 и DS тоже похожая картина — пик популярности в 2000-х, затем спад.\n",
    "\n",
    "Новые платформы:\n",
    "\n",
    "PS4 и 3DS начали набирать популярность ближе к 2013-2015.\n",
    "У PS4 есть потенциал для дальнейшего роста (по состоянию на конец периода данных).\n",
    "\n",
    "Общий тренд: снижение продаж физических копий с 2013 года.\n",
    "\n",
    "Снижение продаж игр после 2013 года связано с ростом цифровой дистрибуции и переходом индустрии в цифровой формат. Люди стали покупать и играть в игры онлайн, а физические копии стали терять былую популярность. \n",
    "Steam (PC) уже с 2004 года активно развивался, но к 2013 стал доминирующей платформой. Xbox Live и PlayStation Store стали основными каналами распространения игр для новых консолей (PS4, Xbox One). Nintendo также начала активнее продвигать eShop."
   ]
  },
  {
   "cell_type": "markdown",
   "metadata": {},
   "source": [
    "### Возьмите данные за соответствующий актуальный период. Актуальный период определите самостоятельно в результате исследования предыдущих вопросов. Основной фактор — эти данные помогут построить прогноз на 2017 год.\n"
   ]
  },
  {
   "cell_type": "markdown",
   "metadata": {},
   "source": [
    "Для прогноза на 2017 год актуальным периодом будем считать 2014–2016 годы, то есть данные за последние 3 года. \n",
    "Этот отрезок времени позволит отразить текущие тенденции в индустрии и позволит получить более релевантные результаты для анализа и сделать более точные прогнозы. \n",
    "\n",
    "Обоснование: \n",
    "\n",
    "Тренды в индустрии:\n",
    "Рынок игр очень динамичный и быстроменяющийся, но тренд последних 3 лет (2014–2016) все еще можно использовать для прогноза на 2017.\n",
    "\n",
    "Репрезентативность данных:\n",
    "Данные до 2006 года нерепрезентативны, так как индустрия сильно изменилась.\n",
    "Платформы живут в среднем 5-7 лет, поэтому прогноз на 2017 год логичнее строить на данных 3 последних лет.\n",
    "\n",
    "Продажи платформ:\n",
    "Пик продаж пришелся на 2008–2009 годы, затем начался спад.\n",
    "С 2010 года стали активно выходить новые платформы (PS4, XOne), а старые (PS2, DS, Wii) начали уходить с рынка.\n",
    "После 2013 года новые платформы только начали набирать обороты."
   ]
  },
  {
   "cell_type": "code",
   "execution_count": 16,
   "metadata": {},
   "outputs": [
    {
     "data": {
      "text/plain": [
       "(1689, 12)"
      ]
     },
     "execution_count": 16,
     "metadata": {},
     "output_type": "execute_result"
    }
   ],
   "source": [
    "# Фильтруем данные за период 2014–2016 годов\n",
    "df_filtered = df[(df[\"year_of_release\"] >= 2014) & (df[\"year_of_release\"] <= 2016)]\n",
    "\n",
    "# Cбросим старые индексы и заменим их на новые\n",
    "df_filtered.reset_index(drop=True, inplace=True)\n",
    "\n",
    "# Выводим количество оставшихся записей\n",
    "df_filtered.shape"
   ]
  },
  {
   "cell_type": "markdown",
   "metadata": {},
   "source": [
    "Фильтрация выполнена! \n",
    "За период 2014–2016 годов в датасете осталось 1689 записей, 12 столбцов."
   ]
  },
  {
   "cell_type": "code",
   "execution_count": 17,
   "metadata": {},
   "outputs": [
    {
     "name": "stdout",
     "output_type": "stream",
     "text": [
      "[2014, 2015, 2016]\n"
     ]
    }
   ],
   "source": [
    "# После фильтрации проверим уникальные значения в year_of_release\n",
    "print(sorted(df_filtered[\"year_of_release\"].unique()))"
   ]
  },
  {
   "cell_type": "markdown",
   "metadata": {},
   "source": [
    "Фильтрация выполнена корректно!\n",
    "\n",
    "2014, 2015, 2016 - это полный список годов, содержащихся в столбце year_of_release."
   ]
  },
  {
   "cell_type": "markdown",
   "metadata": {},
   "source": [
    "### Какие платформы лидируют по продажам, растут или падают? Выберите несколько потенциально прибыльных платформ. Не учитывайте в работе данные за предыдущие годы. Какие платформы лидируют по продажам, растут или падают? Выберите несколько потенциально прибыльных платформ."
   ]
  },
  {
   "cell_type": "code",
   "execution_count": 18,
   "metadata": {},
   "outputs": [
    {
     "name": "stdout",
     "output_type": "stream",
     "text": [
      "Топ-10 платформ по продажам (2014–2016):\n",
      "platform\n",
      "PS4     288.15\n",
      "XOne    140.36\n",
      "3DS      86.68\n",
      "PS3      68.18\n",
      "X360     48.22\n",
      "WiiU     42.98\n",
      "PC       27.05\n",
      "PSV      22.40\n",
      "Wii       5.07\n",
      "PSP       0.36\n",
      "Name: total_sales, dtype: float64\n"
     ]
    }
   ],
   "source": [
    "# Группируем данные и выбираем топ-10 платформ по суммарным продажам\n",
    "top_platforms_filtered = df_filtered.groupby(\"platform\")[\"total_sales\"].sum().nlargest(10)\n",
    "\n",
    "# Выводим на экран список лидеров продаж за 2014–2016 годы\n",
    "print(\"Топ-10 платформ по продажам (2014–2016):\")\n",
    "print(top_platforms_filtered)"
   ]
  },
  {
   "cell_type": "markdown",
   "metadata": {},
   "source": [
    "Вывод: ключевые платформы — это PS4, XOne, 3DS, PS3 и X360. \n",
    "\n",
    "Если сравнить Топ-10 платформ по продажам за 2014–2016 года с Топ-10 платформ по продажам за все года, то произошла смена лидеров: PS4 и Xbox One теперь доминируют, в то время как X360, PS3 и Wii утратили свои позиции. Рост портативных консолей (3DS, PSV), но снижение роли PSP и DS. PC остается в топ-10, но уступает консолям по общему объему продаж.\n",
    "\n",
    "Таким образом, для прогноза на 2017 год ключевые платформы — это PS4, Xbox One, 3DS и PS3 так как они показывают стабильно высокие продажи в последние три года.\n",
    "\n",
    "Основные изменения:\n",
    "\n",
    "Лидером продаж за 2014–2016 стал PS4 (288.15 млн копий), в то время как в общем рейтинге за все годы лидирует PS2 (1233.56 млн). Это подтверждает смену поколений игровых платформ.\n",
    "\n",
    "PS4 значительно выросла за последние три года, но пока не догнала PS2 по общему числу продаж.\n",
    "\n",
    "Xbox One (140.36 млн) занимает вторую позицию, что показывает его активный рост в последние годы.\n",
    "\n",
    "Однако он все еще отстает от X360 (961.24 млн в общем списке), который был одной из самых успешных консолей предыдущего поколения.\n",
    "\n",
    "3DS (86.68 млн) продолжает показывать хорошие результаты, особенно на японском рынке, но в общем списке она стоит только на 10-м месте (257.81 млн).\n",
    "\n",
    "Падение продаж старых консолей:\n",
    "\n",
    "PS3 (68.18 млн) и X360 (48.22 млн) уже не лидируют, а уступают новым платформам.\n",
    "\n",
    "Wii (5.07 млн) и PSP (0.36 млн) практически исчезли из актуального списка продаж, хотя раньше были в топе.\n",
    "\n",
    "PC (27.05 млн) стабильно сохраняет свою позицию, но уступает консолям."
   ]
  },
  {
   "cell_type": "markdown",
   "metadata": {},
   "source": [
    "### Постройте график «ящик с усами» по глобальным продажам игр в разбивке по платформам. Опишите результат."
   ]
  },
  {
   "cell_type": "code",
   "execution_count": 19,
   "metadata": {},
   "outputs": [
    {
     "data": {
      "image/png": "[encoded data removed]",
      "text/plain": [
       "<Figure size 864x432 with 1 Axes>"
      ]
     },
     "metadata": {
      "needs_background": "light"
     },
     "output_type": "display_data"
    }
   ],
   "source": [
    "# Определяем список топ-5 платформ за 2014–2016 годы\n",
    "top_platforms_2014_2016 = [\"PS4\", \"XOne\", \"3DS\", \"PS3\", \"X360\"]\n",
    "\n",
    "# Фильтруем датафрейм, оставляя только нужные платформы\n",
    "df_top_platforms = df_filtered[df_filtered[\"platform\"].isin(top_platforms_2014_2016)]\n",
    "\n",
    "# Строим \"ящик с усами\" для глобальных продаж\n",
    "plt.figure(figsize=(12, 6))\n",
    "sns.boxplot(data=df_top_platforms, x=\"platform\", y=\"total_sales\")\n",
    "\n",
    "# Ограничиваем ось Y, чтобы убрать сильные выбросы и сделать график нагляднее\n",
    "plt.ylim(0, df_top_platforms[\"total_sales\"].quantile(0.95))\n",
    "\n",
    "# Добавляем заголовки и подписи осей\n",
    "plt.title(\"Распределение глобальных продаж игр (2014–2016) по платформам\")\n",
    "plt.xlabel(\"Платформа\")\n",
    "plt.ylabel(\"Глобальные продажи (млн копий)\")\n",
    "\n",
    "# Поворачиваем подписи платформ для удобства чтения\n",
    "plt.xticks(rotation=45)\n",
    "\n",
    "# Показываем график\n",
    "plt.show()"
   ]
  },
  {
   "cell_type": "markdown",
   "metadata": {},
   "source": [
    "Выводы:\n",
    "\n",
    "Проанализируем распределение продаж среди PS4, XOne, 3DS, PS3, X360 в период 2014–2016 годов.\n",
    "\n",
    "PS4, X360 и XOne — самые прибыльные платформы, так как у них не только много хитов, но и относительно высокие медианные продажи. Наиболее выгодно выделяется из этой тройки лидеров - платформа PS4, много выбросов (хитов). \n",
    "\n",
    "3DS и PS3 уступают по уровню продаж, так как их медианы ниже, а выбросов (хитов) меньше."
   ]
  },
  {
   "cell_type": "markdown",
   "metadata": {},
   "source": [
    "### Посмотрите, как влияют на продажи внутри одной популярной платформы отзывы пользователей и критиков. Постройте диаграмму рассеяния и посчитайте корреляцию между отзывами и продажами. Сформулируйте выводы."
   ]
  },
  {
   "cell_type": "markdown",
   "metadata": {},
   "source": [
    "Отфильтруем датафрейм df_filtered, оставляя только выбранную платформу - PS4.\n",
    "\n",
    "Удалим строки с пропусками в critic_score и user_score, чтобы корреляция считалась корректно.\n",
    "\n",
    "Построим диаграммы рассеяния для каждой платформы:\n",
    "\n",
    "total_sales vs. critic_score\n",
    "\n",
    "total_sales vs. user_score\n",
    "\n",
    "Вычислим и проанализируем коэффициенты корреляции."
   ]
  },
  {
   "cell_type": "code",
   "execution_count": 20,
   "metadata": {},
   "outputs": [
    {
     "data": {
      "image/png": "[encoded data removed]",
      "text/plain": [
       "<Figure size 576x360 with 1 Axes>"
      ]
     },
     "metadata": {
      "needs_background": "light"
     },
     "output_type": "display_data"
    },
    {
     "name": "stdout",
     "output_type": "stream",
     "text": [
      "Корреляция между critic_score и total_sales для PS4: 0.40\n"
     ]
    },
    {
     "data": {
      "image/png": "[encoded data removed]",
      "text/plain": [
       "<Figure size 576x360 with 1 Axes>"
      ]
     },
     "metadata": {
      "needs_background": "light"
     },
     "output_type": "display_data"
    },
    {
     "name": "stdout",
     "output_type": "stream",
     "text": [
      "Корреляция между user_score и total_sales для PS4: -0.04\n"
     ]
    }
   ],
   "source": [
    "# Фильтруем данные только для PS4\n",
    "df_ps4 = df_filtered[df_filtered[\"platform\"] == \"PS4\"].copy()\n",
    "\n",
    "# Удаляем строки с пропусками в оценках критиков и пользователей\n",
    "df_ps4 = df_ps4.dropna(subset=[\"critic_score\", \"user_score\"])\n",
    "\n",
    "# Функция для построения диаграммы рассеяния и вычисления корреляции\n",
    "def plot_scatter_and_corr(df, x_col, y_col, title):\n",
    "    plt.figure(figsize=(8, 5))\n",
    "    sns.scatterplot(x=df[x_col], y=df[y_col], alpha=0.5)\n",
    "    plt.title(title)\n",
    "    plt.xlabel(x_col)\n",
    "    plt.ylabel(y_col)\n",
    "    plt.show()\n",
    "    \n",
    "    # Считаем коэффициент корреляции Пирсона\n",
    "    correlation = df[x_col].corr(df[y_col])\n",
    "    print(f\"Корреляция между {x_col} и {y_col} для PS4: {correlation:.2f}\")\n",
    "\n",
    "# Построим диаграммы рассеяния и вычислим корреляцию\n",
    "plot_scatter_and_corr(df_ps4, \"critic_score\", \"total_sales\", \"Продажи vs. Оценки критиков (PS4)\")\n",
    "plot_scatter_and_corr(df_ps4, \"user_score\", \"total_sales\", \"Продажи vs. Оценки пользователей (PS4)\")\n"
   ]
  },
  {
   "cell_type": "markdown",
   "metadata": {},
   "source": [
    "Выводы:\n",
    "\n",
    "Оценки критиков оказывают заметное влияние на продажи игр, но не являются единственным фактором. Оценки пользователей не влияют на продажи. Это может объясняться тем, что пользователи ставят оценки уже после покупки, и их мнение не формирует спрос. Для прогнозирования продаж стоит учитывать оценки критиков, но также анализировать другие факторы.\n",
    "\n",
    "Продажи vs. Оценки критиков (PS4). Коэффициент корреляции: 0.40\n",
    "\n",
    "На графике видно, что существует умеренная положительная корреляция между оценками критиков и продажами. Чем выше оценки критиков, тем больше вероятность, что игра будет продаваться лучше. Однако есть игры с высокими оценками, но с низкими продажами.\n",
    "\n",
    "Продажи vs. Оценки пользователей (PS4). Коэффициент корреляции: -0.04\n",
    "\n",
    "На графике распределение точек хаотичное, не видна явная зависимость. Практически отсутствует связь между оценками пользователей и продажами игр. Это означает, что мнение пользователей не является решающим фактором в продажах игр на PS4."
   ]
  },
  {
   "cell_type": "markdown",
   "metadata": {},
   "source": [
    "### Соотнесите выводы с продажами игр на других платформах."
   ]
  },
  {
   "cell_type": "markdown",
   "metadata": {},
   "source": [
    "Посмотрим, как влияют на продажи внутри других платформ - \"X360\", \"PS3\", \"3DS\", \"XOne\" отзывы пользователей и критиков. Построем диаграмы рассеяния и посчитаем корреляцию между отзывами и продажами. Сделаем выводы. "
   ]
  },
  {
   "cell_type": "code",
   "execution_count": 21,
   "metadata": {
    "scrolled": false
   },
   "outputs": [
    {
     "data": {
      "image/png": "[encoded data removed]",
      "text/plain": [
       "<Figure size 432x288 with 1 Axes>"
      ]
     },
     "metadata": {
      "needs_background": "light"
     },
     "output_type": "display_data"
    },
    {
     "data": {
      "image/png": "[encoded data removed]",
      "text/plain": [
       "<Figure size 432x288 with 1 Axes>"
      ]
     },
     "metadata": {
      "needs_background": "light"
     },
     "output_type": "display_data"
    },
    {
     "name": "stdout",
     "output_type": "stream",
     "text": [
      "Корреляция между critic_score и total_sales для X360: 0.53\n",
      "Корреляция между user_score и total_sales для X360: 0.34\n",
      "\n"
     ]
    },
    {
     "data": {
      "image/png": "[encoded data removed]",
      "text/plain": [
       "<Figure size 432x288 with 1 Axes>"
      ]
     },
     "metadata": {
      "needs_background": "light"
     },
     "output_type": "display_data"
    },
    {
     "data": {
      "image/png": "[encoded data removed]",
      "text/plain": [
       "<Figure size 432x288 with 1 Axes>"
      ]
     },
     "metadata": {
      "needs_background": "light"
     },
     "output_type": "display_data"
    },
    {
     "name": "stdout",
     "output_type": "stream",
     "text": [
      "Корреляция между critic_score и total_sales для PS3: 0.45\n",
      "Корреляция между user_score и total_sales для PS3: 0.16\n",
      "\n"
     ]
    },
    {
     "data": {
      "image/png": "[encoded data removed]",
      "text/plain": [
       "<Figure size 432x288 with 1 Axes>"
      ]
     },
     "metadata": {
      "needs_background": "light"
     },
     "output_type": "display_data"
    },
    {
     "data": {
      "image/png": "[encoded data removed]",
      "text/plain": [
       "<Figure size 432x288 with 1 Axes>"
      ]
     },
     "metadata": {
      "needs_background": "light"
     },
     "output_type": "display_data"
    },
    {
     "name": "stdout",
     "output_type": "stream",
     "text": [
      "Корреляция между critic_score и total_sales для 3DS: 0.28\n",
      "Корреляция между user_score и total_sales для 3DS: 0.28\n",
      "\n"
     ]
    },
    {
     "data": {
      "image/png": "[encoded data removed]",
      "text/plain": [
       "<Figure size 432x288 with 1 Axes>"
      ]
     },
     "metadata": {
      "needs_background": "light"
     },
     "output_type": "display_data"
    },
    {
     "data": {
      "image/png": "[encoded data removed]",
      "text/plain": [
       "<Figure size 432x288 with 1 Axes>"
      ]
     },
     "metadata": {
      "needs_background": "light"
     },
     "output_type": "display_data"
    },
    {
     "name": "stdout",
     "output_type": "stream",
     "text": [
      "Корреляция между critic_score и total_sales для XOne: 0.42\n",
      "Корреляция между user_score и total_sales для XOne: -0.09\n",
      "\n"
     ]
    }
   ],
   "source": [
    "platforms = [\"X360\", \"PS3\", \"3DS\", \"XOne\"]\n",
    "\n",
    "for platform in platforms:\n",
    "    df_platform = df_filtered[df_filtered[\"platform\"] == platform].dropna(subset=[\"critic_score\", \"user_score\"])\n",
    "    \n",
    "    # Корреляция\n",
    "    corr_critic = df_platform[\"total_sales\"].corr(df_platform[\"critic_score\"])\n",
    "    corr_user = df_platform[\"total_sales\"].corr(df_platform[\"user_score\"])\n",
    "    \n",
    "    # График: Продажи vs. Оценки критиков\n",
    "    plt.figure(figsize=(6, 4))\n",
    "    sns.scatterplot(data=df_platform, x=\"critic_score\", y=\"total_sales\", alpha=0.6)\n",
    "    plt.title(f\"Продажи vs. Оценки критиков ({platform})\")\n",
    "    plt.xlabel(\"critic_score\")\n",
    "    plt.ylabel(\"total_sales\")\n",
    "    plt.grid()\n",
    "    plt.show()\n",
    "    \n",
    "    # График: Продажи vs. Оценки пользователей\n",
    "    plt.figure(figsize=(6, 4))\n",
    "    sns.scatterplot(data=df_platform, x=\"user_score\", y=\"total_sales\", alpha=0.6)\n",
    "    plt.title(f\"Продажи vs. Оценки пользователей ({platform})\")\n",
    "    plt.xlabel(\"user_score\")\n",
    "    plt.ylabel(\"total_sales\")\n",
    "    plt.grid()\n",
    "    plt.show()\n",
    "    \n",
    "    print(f\"Корреляция между critic_score и total_sales для {platform}: {corr_critic:.2f}\")\n",
    "    print(f\"Корреляция между user_score и total_sales для {platform}: {corr_user:.2f}\\n\")\n"
   ]
  },
  {
   "cell_type": "markdown",
   "metadata": {},
   "source": [
    "Вывод:\n",
    "\n",
    "Оценки критиков оказывают умеренное влияние на продажи, но степень влияния различается в зависимости от платформы:\n",
    "\n",
    "Наибольшая зависимость у X360 (0.53) и PS3 (0.45) – это означает, что на этих платформах высокие оценки критиков чаще коррелируют с успешными продажами.\n",
    "\n",
    "На XOne (0.42) влияние критиков ниже, чем на X360 и PS3, но все еще значимо.\n",
    "\n",
    "На 3DS (0.28) влияние критиков слабее, что может быть связано с особенностями аудитории (большое число игр для детей и семейного сегмента).\n",
    "\n",
    "Оценки пользователей оказывают слабое или минимальное влияние на продажи:\n",
    "\n",
    "На X360 (0.34) и 3DS (0.28) влияние немного выше, но все равно остается низким.\n",
    "\n",
    "На PS3 (0.16) и XOne (-0.09) влияние пользователей практически отсутствует или даже слегка отрицательное.\n",
    "\n",
    "Это подтверждает, что игроки принимают решения о покупке еще до появления пользовательских оценок, ориентируясь на маркетинг, трейлеры и обзоры критиков.\n",
    "\n",
    "Наиболее зависимые от критиков платформы:\n",
    "\n",
    "X360 и PS3 – наибольшее влияние обзоров критиков.\n",
    "\n",
    "XOne и 3DS – среднее или низкое влияние критиков.\n",
    "\n",
    "Итог:\n",
    "\n",
    "Для прогнозирования продаж важно учитывать оценки критиков, так как они имеют наибольшее влияние на X360, PS3 и XOne.\n",
    "\n",
    "Оценки пользователей не играют решающей роли в продажах, и их влияние либо слабое, либо отсутствует.\n",
    "\n",
    "При планировании продаж стоит учитывать не только оценки, но и другие факторы – рекламные кампании, эксклюзивность игр, узнаваемость франшизы и популярность платформы. "
   ]
  },
  {
   "cell_type": "markdown",
   "metadata": {},
   "source": [
    "### Посмотрите на общее распределение игр по жанрам. Что можно сказать о самых прибыльных жанрах? Выделяются ли жанры с высокими и низкими продажами?"
   ]
  },
  {
   "cell_type": "code",
   "execution_count": 22,
   "metadata": {
    "scrolled": false
   },
   "outputs": [
    {
     "data": {
      "image/png": "[encoded data removed]",
      "text/plain": [
       "<Figure size 864x360 with 1 Axes>"
      ]
     },
     "metadata": {
      "needs_background": "light"
     },
     "output_type": "display_data"
    },
    {
     "data": {
      "image/png": "[encoded data removed]",
      "text/plain": [
       "<Figure size 864x360 with 1 Axes>"
      ]
     },
     "metadata": {
      "needs_background": "light"
     },
     "output_type": "display_data"
    },
    {
     "data": {
      "image/png": "[encoded data removed]",
      "text/plain": [
       "<Figure size 864x360 with 1 Axes>"
      ]
     },
     "metadata": {
      "needs_background": "light"
     },
     "output_type": "display_data"
    }
   ],
   "source": [
    "# Группируем данные по жанрам и считаем суммарные, средние и медианные продажи\n",
    "genre_sales = df_filtered.groupby(\"genre\")[\"total_sales\"].sum().sort_values(ascending=False)\n",
    "genre_mean_sales = df_filtered.groupby(\"genre\")[\"total_sales\"].mean().sort_values(ascending=False)\n",
    "genre_median_sales = df_filtered.groupby(\"genre\")[\"total_sales\"].median().sort_values(ascending=False)\n",
    "\n",
    "# Визуализируем суммарные продажи\n",
    "plt.figure(figsize=(12, 5))\n",
    "sns.barplot(x=genre_sales.index, y=genre_sales.values, palette=\"viridis\")\n",
    "plt.xticks(rotation=45)\n",
    "plt.xlabel(\"Жанр\")\n",
    "plt.ylabel(\"Суммарные продажи (млн копий)\")\n",
    "plt.title(\"Суммарные глобальные продажи по жанрам (2014-2016)\")\n",
    "plt.show()\n",
    "\n",
    "# Визуализируем средние продажи на одну игру\n",
    "plt.figure(figsize=(12, 5))\n",
    "sns.barplot(x=genre_mean_sales.index, y=genre_mean_sales.values, palette=\"coolwarm\")\n",
    "plt.xticks(rotation=45)\n",
    "plt.xlabel(\"Жанр\")\n",
    "plt.ylabel(\"Средние продажи (млн копий на игру)\")\n",
    "plt.title(\"Средние глобальные продажи на одну игру по жанрам (2014-2016)\")\n",
    "plt.show()\n",
    "\n",
    "# Визуализируем медианные продажи на одну игру\n",
    "plt.figure(figsize=(12, 5))\n",
    "sns.barplot(x=genre_median_sales.index, y=genre_median_sales.values, palette=\"magma\")\n",
    "plt.xticks(rotation=45)\n",
    "plt.xlabel(\"Жанр\")\n",
    "plt.ylabel(\"Медианные продажи (млн копий на игру)\")\n",
    "plt.title(\"Медианные глобальные продажи на одну игру по жанрам (2014-2016)\")\n",
    "plt.show()"
   ]
  },
  {
   "cell_type": "markdown",
   "metadata": {},
   "source": [
    "\n",
    "\n",
    "Сгруппируем данные по жанрам и считаем суммарные, средние и медианные продажи. Визуализируем и сделаем выводы."
   ]
  },
  {
   "cell_type": "markdown",
   "metadata": {},
   "source": [
    "Анализ прибыльности жанров:\n",
    "\n",
    "Общее распределение продаж по жанрам\n",
    "\n",
    "Наибольшие суммарные продажи показывают жанры Action, Shooter и Sports.\n",
    "\n",
    "Это связано с большим количеством выпущенных игр в этих жанрах.\n",
    "\n",
    "Жанры Puzzle и Strategy имеют наименьшие суммарные продажи.\n",
    "\n",
    "Средние продажи на одну игру\n",
    "\n",
    "Shooter, Sports и Fighting выделяются как жанры с самыми высокими средними продажами.\n",
    "\n",
    "Это говорит о том, что каждая отдельная игра в этих жанрах продается лучше, чем игры в других категориях.\n",
    "\n",
    "Несмотря на популярность Action, средние продажи у него ниже, чем у лидеров.\n",
    "\n",
    "Медианные продажи на игру\n",
    "\n",
    "Shooter снова занимает первое место, что подтверждает его высокую доходность.\n",
    "\n",
    "Sports, Fighting и Role-Playing также показывают достойные результаты.\n",
    "\n",
    "Adventure и Puzzle остаются в числе самых низкодоходных жанров.\n",
    "\n",
    "Вывод\n",
    "\n",
    "Жанр Shooter можно назвать самым прибыльным, так как он занимает лидирующие позиции как по суммарным, так и по средним продажам.\n",
    "\n",
    "Жанры Sports и Fighting также можно считать успешными: игр в этих категориях не так много, но их продажи высоки.\n",
    "\n",
    "Action популярен, но из-за большого количества игр средние продажи ниже.\n",
    "\n",
    "Puzzle и Adventure имеют наименьшие продажи как в общем, так и в среднем на игру."
   ]
  },
  {
   "cell_type": "markdown",
   "metadata": {},
   "source": [
    "## Составьте портрет пользователя каждого региона. Определите для пользователя каждого региона (NA, EU, JP):\n",
    "\n",
    "* Самые популярные платформы (топ-5). Опишите различия в долях продаж.\n",
    "* Самые популярные жанры (топ-5). Поясните разницу.\n",
    "* Влияет ли рейтинг ESRB на продажи в отдельном регионе?"
   ]
  },
  {
   "cell_type": "code",
   "execution_count": 23,
   "metadata": {
    "scrolled": false
   },
   "outputs": [
    {
     "data": {
      "image/png": "[encoded data removed]",
      "text/plain": [
       "<Figure size 864x1152 with 8 Axes>"
      ]
     },
     "metadata": {
      "needs_background": "light"
     },
     "output_type": "display_data"
    },
    {
     "data": {
      "image/png": "[encoded data removed]",
      "text/plain": [
       "<Figure size 1440x360 with 4 Axes>"
      ]
     },
     "metadata": {
      "needs_background": "light"
     },
     "output_type": "display_data"
    }
   ],
   "source": [
    "# Топ-5 платформ по продажам в каждом регионе\n",
    "def top_platforms_by_region(df, region):\n",
    "    top_platforms = df.groupby('platform')[region].sum().nlargest(5)\n",
    "    return top_platforms\n",
    "\n",
    "# Топ-5 жанров по продажам в каждом регионе\n",
    "def top_genres_by_region(df, region):\n",
    "    top_genres = df.groupby('genre')[region].sum().nlargest(5)\n",
    "    return top_genres\n",
    "\n",
    "# Влияние рейтинга ESRB на продажи в регионе\n",
    "def esrb_sales_by_region(df, region):\n",
    "    esrb_sales = df.groupby('rating')[region].sum().sort_values(ascending=False)\n",
    "    return esrb_sales\n",
    "\n",
    "# Фильтруем данные по регионам\n",
    "regions = ['na_sales', 'eu_sales', 'jp_sales', 'other_sales']\n",
    "region_labels = {\n",
    "    'na_sales': 'Северная Америка', \n",
    "    'eu_sales': 'Европа', \n",
    "    'jp_sales': 'Япония', \n",
    "    'other_sales': 'Другие регионы'\n",
    "}\n",
    "\n",
    "top_platforms = {region: top_platforms_by_region(df_filtered, region) for region in regions}\n",
    "top_genres = {region: top_genres_by_region(df_filtered, region) for region in regions}\n",
    "esrb_sales = {region: esrb_sales_by_region(df_filtered, region) for region in regions}\n",
    "\n",
    "# Визуализация топ-5 платформ и жанров в каждом регионе\n",
    "fig, axes = plt.subplots(4, 2, figsize=(12, 16))\n",
    "\n",
    "for i, region in enumerate(regions):\n",
    "    sns.barplot(x=top_platforms[region].values, y=top_platforms[region].index, ax=axes[i, 0])\n",
    "    axes[i, 0].set_title(f\"Топ-5 платформ ({region_labels[region]})\")\n",
    "    \n",
    "    sns.barplot(x=top_genres[region].values, y=top_genres[region].index, ax=axes[i, 1])\n",
    "    axes[i, 1].set_title(f\"Топ-5 жанров ({region_labels[region]})\")\n",
    "\n",
    "plt.tight_layout()\n",
    "plt.show()\n",
    "\n",
    "# Визуализация влияния рейтинга ESRB на продажи\n",
    "fig, axes = plt.subplots(1, 4, figsize=(20, 5))\n",
    "\n",
    "for i, region in enumerate(regions):\n",
    "    sns.barplot(x=esrb_sales[region].index, y=esrb_sales[region].values, ax=axes[i])\n",
    "    axes[i].set_title(f\"Продажи игр по рейтингу ESRB ({region_labels[region]})\")\n",
    "    axes[i].set_xlabel(\"Рейтинг ESRB\")\n",
    "    axes[i].set_ylabel(\"Суммарные продажи\")\n",
    "    axes[i].tick_params(axis='x', rotation=45)\n",
    "\n",
    "plt.tight_layout()\n",
    "plt.show()\n"
   ]
  },
  {
   "cell_type": "markdown",
   "metadata": {},
   "source": [
    "### Самые популярные платформы (топ-5). Опишите различия в долях продаж."
   ]
  },
  {
   "cell_type": "markdown",
   "metadata": {},
   "source": [
    "Самые популярные платформы (топ-5).\n",
    "\n",
    "Северная Америка (NA):\n",
    "Топ-5 платформ: PS4, XOne, X360, 3DS, PS3.\n",
    "Доминируют консоли нового поколения, такие как PS4 и XOne. Однако Xbox 360 по-прежнему показывает значительные продажи, что свидетельствует о высокой популярности предыдущего поколения консолей в регионе. Продажи портативных устройств, таких как 3DS, значительно ниже.\n",
    "\n",
    "Европа (EU):\n",
    "Топ-5 платформ: PS4, XOne, PS3, PC, 3DS.\n",
    "PS4 значительно опережает остальные платформы по продажам. В отличие от NA, в Европе в топ входит ПК, что подчеркивает популярность компьютерных игр. Продажи портативных консолей, таких как 3DS, остаются умеренными.\n",
    "\n",
    "Япония (JP):\n",
    "Топ-5 платформ: 3DS, PS4, PSV, PS3, WiiU.\n",
    "Японский рынок сильно ориентирован на портативные консоли, с явным доминированием 3DS. PS4 занимает второе место, показывая хорошие результаты среди домашних консолей. Также высокие позиции занимают PSV (PlayStation Vita) и WiiU.\n",
    "\n",
    "Другие регионы (Other):\n",
    "Топ-5 платформ: PS4, XOne, PS3, X360, 3DS.\n",
    "Консоли нового поколения (PS4 и XOne) лидируют, при этом PS3 сохраняет значительную популярность. Продажи портативных устройств, таких как 3DS, скромнее по сравнению с домашними консолями.\n",
    "\n",
    "Различия в долях продаж:\n",
    "\n",
    "Северная Америка и Европа показывают схожие предпочтения с доминированием домашних консолей нового поколения (PS4 и XOne).\n",
    "\n",
    "В Японии наблюдается явный сдвиг в сторону портативных платформ (3DS и PSV), что связано с особенностями образа жизни.\n",
    "\n",
    "В других регионах популярность распределяется между платформами нового поколения и предыдущего, при этом портативные устройства занимают меньшую долю."
   ]
  },
  {
   "cell_type": "markdown",
   "metadata": {},
   "source": [
    "### Самые популярные жанры (топ-5). Поясните разницу."
   ]
  },
  {
   "cell_type": "markdown",
   "metadata": {},
   "source": [
    "\n",
    "Самые популярные жанры (топ-5).\n",
    "\n",
    "Северная Америка (NA):\n",
    "Топ-5 жанров: Action, Shooter, Sports, Role-Playing, Misc.\n",
    "Экшен и шутеры являются абсолютными лидерами, что связано с популярностью динамичных игр и франшиз вроде Call of Duty и GTA. Спортивные игры занимают третье место, благодаря интересу к таким сериям, как Madden и NBA. Ролевые игры имеют умеренную популярность, занимая четвёртую позицию.\n",
    "\n",
    "Европа (EU):\n",
    "Топ-5 жанров: Action, Shooter, Sports, Role-Playing, Racing.\n",
    "Результаты схожи с Северной Америкой, однако в Европе немного больше внимания уделяется гоночным играм, которые входят в топ-5. Это объясняется популярностью таких франшиз, как Forza и Gran Turismo. Доля ролевых игр также достаточно высока, близка к показателям в NA.\n",
    "\n",
    "Япония (JP):\n",
    "Топ-5 жанров: Role-Playing, Action, Fighting, Misc, Shooter.\n",
    "На японском рынке ролевые игры являются безусловным лидером. Такие франшизы, как Final Fantasy и Dragon Quest, формируют значительную долю рынка. Экшен также популярен, занимая вторую позицию. На третьем месте находятся файтинги, что связано с успехом игр вроде Tekken и Street Fighter. Шутеры занимают низкую позицию, что отражает меньшее внимание японской аудитории к этому жанру.\n",
    "\n",
    "Другие регионы (Other):\n",
    "Топ-5 жанров: Action, Shooter, Sports, Role-Playing, Misc.\n",
    "Жанровые предпочтения здесь схожи с NA и EU. Экшен и шутеры лидируют, что говорит о глобальной популярности этого типа игр. Спортивные игры также занимают высокую позицию, а ролевые игры находятся на четвёртой позиции.\n",
    "\n",
    "Различия между регионами:\n",
    "\n",
    "В Северной Америке и Европе доминируют экшен и шутеры, а спортивные игры играют важную роль.\n",
    "\n",
    "Япония отличается сильным фокусом на ролевых играх и файтингах, с низким интересом к шутерам и спортивным играм.\n",
    "\n",
    "В других регионах предпочтения схожи с NA/EU, хотя доля ролевых игр немного выше, что может быть связано с культурными влияниями японских игр."
   ]
  },
  {
   "cell_type": "markdown",
   "metadata": {},
   "source": [
    "### Влияет ли рейтинг ESRB на продажи в отдельном регионе?"
   ]
  },
  {
   "cell_type": "markdown",
   "metadata": {},
   "source": [
    "Влияет ли рейтинг ESRB на продажи в отдельном регионе?\n",
    "\n",
    "Северная Америка (NA):\n",
    "Наибольшие продажи имеют игры с рейтингом \"M\" (Mature), что связано с популярностью шутеров и экшен-игр, ориентированных на взрослую аудиторию (например, Call of Duty, Grand Theft Auto). Рейтинг \"E\" (Everyone) занимает второе место благодаря семейным и спортивным играм, таким как FIFA и Madden. Рейтинг \"T\" (Teen) имеет меньшую долю, что указывает на меньший интерес к играм, ориентированным на подростковую аудиторию. Категория \"E10+\" (Everyone 10 and older) также представлена, но с небольшой долей.\n",
    "\n",
    "Европа (EU):\n",
    "Ситуация схожа с Северной Америкой. Лидирует рейтинг \"M\", что подтверждает популярность экшенов и шутеров. На втором месте \"E\", также благодаря семейным и спортивным играм. Интерес к \"T\" и \"E10+\" аналогично ниже, что говорит о схожем распределении интересов аудитории в этих двух регионах.\n",
    "\n",
    "Япония (JP):\n",
    "Преобладает категория \"Unknown\", что связано с различиями между системой ESRB и японской системой рейтингов (CERO). Японский рынок не ориентирован на ESRB, поэтому значительная часть игр попадает в эту категорию. В играх с известным рейтингом большую долю занимают \"E\" и \"T\", что указывает на популярность семейных игр и RPG, которые подходят более широкой аудитории. Продажи игр с рейтингом \"M\" значительно ниже, что связано с меньшей популярностью шутеров и взрослого контента в Японии.\n",
    "\n",
    "Другие регионы (Other):\n",
    "Рейтинг \"M\" также доминирует, как и в NA/EU, указывая на глобальную популярность игр для взрослых. Рейтинг \"E\" занимает вторую позицию благодаря спортивным и семейным играм. Категория \"T\" представлена, но с меньшей долей, аналогично другим регионам.\n",
    "\n",
    "Общие выводы:\n",
    "Рейтинг ESRB имеет сильное влияние на продажи в Северной Америке и Европе, где аудитория отдаёт предпочтение играм с рейтингом \"M\" и \"E\". В Японии влияние рейтинга ESRB минимально из-за использования другой системы рейтингов, а также специфических предпочтений аудитории, которые отдают приоритет ролевым играм и играм для семейной аудитории. В других регионах предпочтения по рейтингам схожи с NA/EU, что подчёркивает глобальную популярность игр с рейтингами \"M\" и \"E\"."
   ]
  },
  {
   "cell_type": "markdown",
   "metadata": {},
   "source": [
    "## Проверьте гипотезы\n",
    "\n",
    "* Средние пользовательские рейтинги платформ Xbox One и PC одинаковые;\n",
    "\n",
    "* Средние пользовательские рейтинги жанров Action (англ. «действие», экшен-игры) и Sports (англ. «спортивные соревнования») разные.\n",
    "\n",
    "Задайте самостоятельно пороговое значение alpha.\n",
    "\n",
    "Поясните:\n",
    "\n",
    "* Как вы сформулировали нулевую и альтернативную гипотезы;\n",
    "\n",
    "* Какой критерий применили для проверки гипотез и почему."
   ]
  },
  {
   "cell_type": "markdown",
   "metadata": {},
   "source": [
    "### Средние пользовательские рейтинги платформ Xbox One и PC одинаковые"
   ]
  },
  {
   "cell_type": "markdown",
   "metadata": {},
   "source": [
    "Гипотезы:\n",
    "\n",
    "Нулевая гипотеза (H₀): Средние пользовательские рейтинги платформ Xbox One и PC одинаковые.\n",
    "\n",
    "Альтернативная гипотеза (H₁): Средние пользовательские рейтинги платформ Xbox One и PC различаются.\n",
    "\n",
    "Метод проверки:\n",
    "\n",
    "Используется t-тест Стьюдента для независимых выборок (stats.ttest_ind).\n",
    "\n",
    "Указываем equal_var=False, так как дисперсии выборок могут быть разными.\n",
    "\n",
    "Порог значимости (alpha): 0.05 (5%).\n",
    "\n",
    "Если p_value < alpha, отвергаем нулевую гипотезу (рейтинги различаются). Иначе, недостаточно оснований для отклонения гипотезы (рейтинги не различаются)."
   ]
  },
  {
   "cell_type": "code",
   "execution_count": 24,
   "metadata": {},
   "outputs": [
    {
     "name": "stdout",
     "output_type": "stream",
     "text": [
      "Статистика t-теста: 1.578\n",
      "p-значение: 0.116\n",
      "Не удалось отвергнуть нулевую гипотезу: средние пользовательские рейтинги не различаются.\n"
     ]
    }
   ],
   "source": [
    "# Фильтруем данные по платформам Xbox One и PC\n",
    "xone_scores = df_filtered[df_filtered['platform'] == 'XOne']['user_score'].dropna()\n",
    "pc_scores = df_filtered[df_filtered['platform'] == 'PC']['user_score'].dropna()\n",
    "\n",
    "# Формулировка гипотез:\n",
    "# H0: Средние пользовательские рейтинги платформ Xbox One и PC одинаковые\n",
    "# H1: Средние пользовательские рейтинги платформ Xbox One и PC различаются\n",
    "\n",
    "# Выбираем порог значимости\n",
    "alpha = 0.05\n",
    "\n",
    "# Применяем тест Стьюдента (t-тест для независимых выборок)\n",
    "t_stat, p_value = stats.ttest_ind(xone_scores, pc_scores, equal_var=False)\n",
    "\n",
    "# Вывод результатов\n",
    "print(f\"Статистика t-теста: {t_stat:.3f}\")\n",
    "print(f\"p-значение: {p_value:.3f}\")\n",
    "\n",
    "# Интерпретация результатов\n",
    "if p_value < alpha:\n",
    "    print(\"Отвергаем нулевую гипотезу: средние пользовательские рейтинги различаются.\")\n",
    "else:\n",
    "    print(\"Не удалось отвергнуть нулевую гипотезу: средние пользовательские рейтинги не различаются.\")"
   ]
  },
  {
   "cell_type": "markdown",
   "metadata": {},
   "source": [
    "Вывод:\n",
    "\n",
    "Поскольку p-значение (0.116) больше уровня значимости (0.05), у нас недостаточно оснований для отклонения нулевой гипотезы. Это означает, что разницы в средних пользовательских рейтингах платформ Xbox One и PC статистически не выявлено.\n",
    "\n",
    "Интерпретация:\n",
    "\n",
    "Средние пользовательские рейтинги игр на Xbox One и PC можно считать схожими в рамках данной выборки. Проще говоря, пользователи оценивают игры на этих двух платформах примерно одинаково."
   ]
  },
  {
   "cell_type": "markdown",
   "metadata": {},
   "source": [
    "### Средние пользовательские рейтинги жанров Action (англ. «действие», экшен-игры) и Sports (англ. «спортивные соревнования») разные."
   ]
  },
  {
   "cell_type": "markdown",
   "metadata": {},
   "source": [
    "Гипотезы:\n",
    "\n",
    "Нулевая гипотеза: Средние пользовательские рейтинги жанров Action и Sports одинаковы.\n",
    "\n",
    "Альтернативная гипотеза: Средние пользовательские рейтинги жанров Action и Sports различаются.\n",
    "\n",
    "Критерий проверки:\n",
    "\n",
    "Используем t-тест Стьюдента для независимых выборок, так как у нас две независимые группы (жанры Action и Sports).\n",
    "\n",
    "Уровень значимости (альфа): примем 0.05 (стандартный уровень)."
   ]
  },
  {
   "cell_type": "code",
   "execution_count": 25,
   "metadata": {},
   "outputs": [
    {
     "name": "stdout",
     "output_type": "stream",
     "text": [
      "Статистика t-теста: 8.385\n",
      "p-значение: 0.000\n",
      "Отвергаем нулевую гипотезу: средние пользовательские рейтинги различаются.\n"
     ]
    }
   ],
   "source": [
    "# Фильтруем данные по жанрам Action и Sports\n",
    "action_scores = df_filtered.loc[df_filtered['genre'] == 'Action', 'user_score'].dropna()\n",
    "sports_scores = df_filtered.loc[df_filtered['genre'] == 'Sports', 'user_score'].dropna()\n",
    "\n",
    "# Проверяем равенство дисперсий (тест Левена)\n",
    "levene_stat, levene_p = stats.levene(action_scores, sports_scores)\n",
    "equal_var = levene_p > 0.05  # Если p-value > 0.05, дисперсии можно считать равными\n",
    "\n",
    "# Применяем t-тест Стьюдента\n",
    "t_stat, p_value = stats.ttest_ind(action_scores, sports_scores, equal_var=equal_var)\n",
    "\n",
    "# Вывод результатов\n",
    "print(f\"Статистика t-теста: {t_stat:.3f}\")\n",
    "print(f\"p-значение: {p_value:.3f}\")\n",
    "\n",
    "# Интерпретация результата\n",
    "alpha = 0.05\n",
    "if p_value < alpha:\n",
    "    print(\"Отвергаем нулевую гипотезу: средние пользовательские рейтинги различаются.\")\n",
    "else:\n",
    "    print(\"Не удалось отвергнуть нулевую гипотезу: средние пользовательские рейтинги не различаются.\")"
   ]
  },
  {
   "cell_type": "markdown",
   "metadata": {},
   "source": [
    "Вывод:\n",
    "\n",
    "Так как p-значение меньше уровня значимости alpha = 0.05, мы отвергаем нулевую гипотезу. Это означает, что средние пользовательские рейтинги жанров Action и Sports действительно различаются.\n",
    "\n",
    "Интерпретация:\n",
    "\n",
    "Разница в средних рейтингах статистически значима. Жанры Action и Sports воспринимаются игроками по-разному с точки зрения оценок."
   ]
  },
  {
   "cell_type": "markdown",
   "metadata": {},
   "source": [
    "## Общий вывод"
   ]
  },
  {
   "cell_type": "markdown",
   "metadata": {},
   "source": [
    "Цель исследования\n",
    "\n",
    "В рамках проекта был проведен анализ данных о продажах компьютерных игр, оценках пользователей и критиков, а также влиянии различных факторов (жанр, платформа, рейтинг ESRB) на успешность игр. Целью исследования было выявление закономерностей, позволяющих интернет-магазину «Стримчик» прогнозировать наиболее перспективные игры и платформы для продаж в 2017 году.\n",
    "\n",
    "1. Выбор актуального периода\n",
    "\n",
    "Анализ показал, что игровой рынок достиг своего пика в 2008–2009 годах с выпуском около 1400 игр ежегодно. После 2010 года началось снижение числа выпускаемых игр, и с 2012 года рынок стабилизировался на уровне 500–600 игр в год. Для прогнозирования продаж в 2017 году целесообразно использовать данные за последние 3 года (2014–2016). Этот период отражает текущие тренды в индустрии и обеспечивает репрезентативность анализа, поскольку рынок значительно изменился после 2010 года.\n",
    "\n",
    "2. Анализ платформ\n",
    "\n",
    "Лидером продаж за весь период стала PS2 с общими продажами 1233.56 млн копий, что подтверждает её доминирование в 2000-х годах. За последние 3 года (2014–2016) ситуация изменилась: лидером стала PS4, которая показала стремительный рост, достигнув 288.15 млн копий. Также активно развивалась Xbox One (140.36 млн).\n",
    "\n",
    "Портативные консоли, такие как 3DS, продолжают занимать значительную долю, особенно на японском рынке. Старые платформы (PS3, X360, Wii) демонстрируют спад, уступая новым поколениям. Важно отметить снижение продаж физических копий, что связано с ростом популярности цифровой дистрибуции через платформы, такие как Steam, Xbox Live, PlayStation Store и Nintendo eShop.\n",
    "\n",
    "3. Анализ жанров\n",
    "\n",
    "Жанры с наибольшими суммарными продажами: Action, Shooter, Sports. Shooter является самым прибыльным жанром с точки зрения средних и медианных продаж на одну игру. Sports и Fighting также показывают высокие средние продажи, несмотря на меньшее количество игр в этих жанрах. Жанры Puzzle и Adventure имеют наименьшие показатели как по суммарным, так и по средним продажам. Экшен-игры популярны за счёт массового выпуска, но их средние продажи ниже из-за высокой конкуренции внутри жанра.\n",
    "\n",
    "\n",
    "4. Региональные различия в предпочтениях\n",
    "\n",
    "Северная Америка (NA) и Европа (EU):\n",
    "Доминируют консоли нового поколения (PS4, Xbox One), экшен (Action) и шутеры (Shooter) занимают лидирующие позиции. В Европе в топ-5 платформ также входит PC, а среди жанров популярны гонки (Racing).\n",
    "\n",
    "Япония (JP):\n",
    "Рынок сильно ориентирован на портативные консоли (3DS, PSV) и ролевые игры (Role-Playing), которые являются лидерами продаж. Экшен и файтинги занимают вторую и третью позиции, соответственно. Шутеры и спортивные игры менее популярны.\n",
    "\n",
    "Другие регионы (Other):\n",
    "Предпочтения схожи с NA и EU, но ролевые игры занимают немного более высокие позиции, что может быть связано с культурным влиянием японских игр.\n",
    "\n",
    "5. Влияние оценок на продажи\n",
    "\n",
    "Оценки критиков:\n",
    "Умеренная положительная корреляция с продажами (наиболее значимая для X360 и PS3 с коэффициентами 0.53 и 0.45 соответственно). Игры с высокими оценками критиков имеют больше шансов на успех.\n",
    "\n",
    "Оценки пользователей:\n",
    "Связь между пользовательскими оценками и продажами минимальна (например, коэффициент корреляции для PS4 равен -0.04). Это может быть связано с тем, что пользовательские оценки формируются уже после покупки игры и не влияют на спрос.\n",
    "\n",
    "6. Проверка гипотез\n",
    "\n",
    "Средние пользовательские рейтинги платформ Xbox One и PC:\n",
    "Гипотеза о равенстве средних рейтингов не отвергнута (p-value = 0.116), что говорит об их схожести.\n",
    "\n",
    "Средние пользовательские рейтинги жанров Action и Sports:\n",
    "Гипотеза о равенстве средних рейтингов отвергнута (p-value = 0.000). Разница между оценками жанров статистически значима, и пользователи воспринимают их по-разному.\n",
    "\n",
    "Выводы и рекомендации\n",
    "\n",
    "Тренды в индустрии:\n",
    "Переход к цифровой дистрибуции меняет рынок, что снижает продажи физических копий. Магазину «Стримчик» следует рассмотреть возможность расширения онлайн-продаж.\n",
    "\n",
    "Основные платформы для 2017 года: PS4, Xbox One, 3DS.\n",
    "\n",
    "Приоритетные жанры:\n",
    "\n",
    "Акцент следует делать на жанры с высокой прибылью: Shooter, Sports, Fighting. Следует снижать закупки игр в жанрах Puzzle и Adventure из-за их низкой доходности.\n",
    "\n",
    "Региональные стратегии:\n",
    "\n",
    "Для Северной Америки и Европы: фокус на экшенах, шутерах и спортивных играх.\n",
    "\n",
    "Для Японии: приоритет портативных игр и жанра Role-Playing.\n",
    "\n",
    "Оценки:\n",
    "\n",
    "Использовать оценки критиков как ориентир при выборе игр для закупки. Оценки пользователей не стоит рассматривать как значимый фактор.\n",
    "\n",
    "Данное исследование позволит сформировать стратегию продаж и маркетинговых кампаний интернет-магазина «Стримчик» на 2017 год, ориентируясь на тренды последних лет."
   ]
  },
  {
   "cell_type": "code",
   "execution_count": null,
   "metadata": {},
   "outputs": [],
   "source": []
  }
 ],
 "metadata": {
  "ExecuteTimeLog": [
   {
    "duration": 389,
    "start_time": "2025-03-24T08:50:12.189Z"
   },
   {
    "duration": 55,
    "start_time": "2025-03-24T08:50:13.313Z"
   },
   {
    "duration": 36,
    "start_time": "2025-03-24T08:50:14.181Z"
   },
   {
    "duration": 51,
    "start_time": "2025-03-24T08:50:45.347Z"
   },
   {
    "duration": 15,
    "start_time": "2025-03-24T08:51:45.780Z"
   },
   {
    "duration": 13,
    "start_time": "2025-03-24T08:52:59.493Z"
   },
   {
    "duration": 9,
    "start_time": "2025-03-24T08:53:04.869Z"
   },
   {
    "duration": 21,
    "start_time": "2025-03-24T08:53:07.931Z"
   },
   {
    "duration": 28,
    "start_time": "2025-03-24T08:53:13.965Z"
   },
   {
    "duration": 9,
    "start_time": "2025-03-24T08:55:35.958Z"
   },
   {
    "duration": 27,
    "start_time": "2025-03-24T08:57:42.150Z"
   },
   {
    "duration": 52,
    "start_time": "2025-03-24T09:44:21.579Z"
   },
   {
    "duration": 68,
    "start_time": "2025-03-24T10:08:33.671Z"
   },
   {
    "duration": 949,
    "start_time": "2025-03-24T10:08:41.985Z"
   },
   {
    "duration": 1788,
    "start_time": "2025-03-24T10:08:49.234Z"
   },
   {
    "duration": 15,
    "start_time": "2025-03-24T10:21:27.399Z"
   },
   {
    "duration": 24,
    "start_time": "2025-03-24T10:38:33.836Z"
   },
   {
    "duration": 26,
    "start_time": "2025-03-24T10:41:02.088Z"
   },
   {
    "duration": 1844,
    "start_time": "2025-03-24T18:10:10.130Z"
   },
   {
    "duration": 15,
    "start_time": "2025-03-24T18:10:16.370Z"
   },
   {
    "duration": 2156,
    "start_time": "2025-03-24T18:12:50.831Z"
   },
   {
    "duration": 1912,
    "start_time": "2025-03-24T18:13:01.840Z"
   },
   {
    "duration": 3,
    "start_time": "2025-03-24T18:13:18.814Z"
   },
   {
    "duration": 52,
    "start_time": "2025-03-24T18:13:19.354Z"
   },
   {
    "duration": 13,
    "start_time": "2025-03-24T18:13:19.693Z"
   },
   {
    "duration": 15,
    "start_time": "2025-03-24T18:13:20.732Z"
   },
   {
    "duration": 10,
    "start_time": "2025-03-24T18:13:21.210Z"
   },
   {
    "duration": 135,
    "start_time": "2025-03-24T18:13:21.607Z"
   },
   {
    "duration": 1807,
    "start_time": "2025-03-24T18:13:22.502Z"
   },
   {
    "duration": 1493,
    "start_time": "2025-03-24T18:26:42.635Z"
   },
   {
    "duration": 1574,
    "start_time": "2025-03-24T18:27:56.442Z"
   },
   {
    "duration": 3,
    "start_time": "2025-03-24T18:28:02.172Z"
   },
   {
    "duration": 42,
    "start_time": "2025-03-24T18:28:02.869Z"
   },
   {
    "duration": 14,
    "start_time": "2025-03-24T18:28:03.330Z"
   },
   {
    "duration": 15,
    "start_time": "2025-03-24T18:28:03.847Z"
   },
   {
    "duration": 10,
    "start_time": "2025-03-24T18:28:04.274Z"
   },
   {
    "duration": 52,
    "start_time": "2025-03-24T18:28:04.716Z"
   },
   {
    "duration": 1867,
    "start_time": "2025-03-24T18:28:05.145Z"
   },
   {
    "duration": 15,
    "start_time": "2025-03-24T18:28:07.239Z"
   },
   {
    "duration": 35,
    "start_time": "2025-03-24T18:28:10.692Z"
   },
   {
    "duration": 5,
    "start_time": "2025-03-24T18:28:33.849Z"
   },
   {
    "duration": 38,
    "start_time": "2025-03-24T18:33:49.079Z"
   },
   {
    "duration": 29,
    "start_time": "2025-03-24T18:45:13.095Z"
   },
   {
    "duration": 17,
    "start_time": "2025-03-24T18:47:23.476Z"
   },
   {
    "duration": 16,
    "start_time": "2025-03-24T18:47:29.588Z"
   },
   {
    "duration": 16,
    "start_time": "2025-03-24T18:48:41.418Z"
   },
   {
    "duration": 24,
    "start_time": "2025-03-24T18:49:06.736Z"
   },
   {
    "duration": 22,
    "start_time": "2025-03-24T18:49:31.575Z"
   },
   {
    "duration": 27,
    "start_time": "2025-03-24T18:49:38.026Z"
   },
   {
    "duration": 30,
    "start_time": "2025-03-24T18:49:45.347Z"
   },
   {
    "duration": 37,
    "start_time": "2025-03-24T18:50:33.281Z"
   },
   {
    "duration": 11,
    "start_time": "2025-03-24T18:56:20.116Z"
   },
   {
    "duration": 1294,
    "start_time": "2025-03-25T04:29:17.781Z"
   },
   {
    "duration": 44,
    "start_time": "2025-03-25T04:29:21.596Z"
   },
   {
    "duration": 18,
    "start_time": "2025-03-25T04:29:22.614Z"
   },
   {
    "duration": 15,
    "start_time": "2025-03-25T04:29:23.957Z"
   },
   {
    "duration": 9,
    "start_time": "2025-03-25T04:35:13.734Z"
   },
   {
    "duration": 8,
    "start_time": "2025-03-25T04:41:52.620Z"
   },
   {
    "duration": 3,
    "start_time": "2025-03-25T04:49:17.246Z"
   },
   {
    "duration": 42,
    "start_time": "2025-03-25T04:49:17.999Z"
   },
   {
    "duration": 14,
    "start_time": "2025-03-25T04:49:18.291Z"
   },
   {
    "duration": 13,
    "start_time": "2025-03-25T04:49:19.589Z"
   },
   {
    "duration": 53,
    "start_time": "2025-03-25T04:49:20.586Z"
   },
   {
    "duration": 1825,
    "start_time": "2025-03-25T04:49:21.733Z"
   },
   {
    "duration": 14,
    "start_time": "2025-03-25T04:49:24.005Z"
   },
   {
    "duration": 37,
    "start_time": "2025-03-25T04:49:28.854Z"
   },
   {
    "duration": 11,
    "start_time": "2025-03-25T04:49:30.238Z"
   },
   {
    "duration": 102,
    "start_time": "2025-03-25T05:16:32.097Z"
   },
   {
    "duration": 9,
    "start_time": "2025-03-25T05:17:09.876Z"
   },
   {
    "duration": 25,
    "start_time": "2025-03-25T05:19:03.447Z"
   },
   {
    "duration": 11,
    "start_time": "2025-03-25T05:22:17.836Z"
   },
   {
    "duration": 139,
    "start_time": "2025-03-25T05:24:42.797Z"
   },
   {
    "duration": 8,
    "start_time": "2025-03-25T05:25:35.357Z"
   },
   {
    "duration": 16,
    "start_time": "2025-03-25T05:32:11.229Z"
   },
   {
    "duration": 432,
    "start_time": "2025-03-25T05:36:23.813Z"
   },
   {
    "duration": 6,
    "start_time": "2025-03-25T05:54:42.196Z"
   },
   {
    "duration": 7,
    "start_time": "2025-03-25T05:55:03.747Z"
   },
   {
    "duration": 88,
    "start_time": "2025-03-25T06:11:23.875Z"
   },
   {
    "duration": 352,
    "start_time": "2025-03-25T06:14:06.104Z"
   },
   {
    "duration": 7,
    "start_time": "2025-03-25T06:14:57.308Z"
   },
   {
    "duration": 350,
    "start_time": "2025-03-25T06:14:59.668Z"
   },
   {
    "duration": 2,
    "start_time": "2025-03-25T06:15:30.680Z"
   },
   {
    "duration": 41,
    "start_time": "2025-03-25T06:15:31.480Z"
   },
   {
    "duration": 13,
    "start_time": "2025-03-25T06:15:32.043Z"
   },
   {
    "duration": 14,
    "start_time": "2025-03-25T06:15:33.647Z"
   },
   {
    "duration": 49,
    "start_time": "2025-03-25T06:15:35.089Z"
   },
   {
    "duration": 1841,
    "start_time": "2025-03-25T06:15:36.226Z"
   },
   {
    "duration": 14,
    "start_time": "2025-03-25T06:15:39.338Z"
   },
   {
    "duration": 34,
    "start_time": "2025-03-25T06:15:40.951Z"
   },
   {
    "duration": 9,
    "start_time": "2025-03-25T06:15:41.955Z"
   },
   {
    "duration": 12,
    "start_time": "2025-03-25T06:15:42.896Z"
   },
   {
    "duration": 9,
    "start_time": "2025-03-25T06:15:43.285Z"
   },
   {
    "duration": 18,
    "start_time": "2025-03-25T06:15:44.108Z"
   },
   {
    "duration": 391,
    "start_time": "2025-03-25T06:15:45.678Z"
   },
   {
    "duration": 7,
    "start_time": "2025-03-25T06:15:48.038Z"
   },
   {
    "duration": 331,
    "start_time": "2025-03-25T06:15:49.438Z"
   },
   {
    "duration": 4,
    "start_time": "2025-03-25T06:18:10.060Z"
   },
   {
    "duration": 21,
    "start_time": "2025-03-25T06:18:58.210Z"
   },
   {
    "duration": 17,
    "start_time": "2025-03-25T06:22:12.314Z"
   },
   {
    "duration": 9,
    "start_time": "2025-03-25T06:22:14.921Z"
   },
   {
    "duration": 3,
    "start_time": "2025-03-25T06:22:28.065Z"
   },
   {
    "duration": 55,
    "start_time": "2025-03-25T06:22:28.742Z"
   },
   {
    "duration": 13,
    "start_time": "2025-03-25T06:22:29.103Z"
   },
   {
    "duration": 15,
    "start_time": "2025-03-25T06:22:29.822Z"
   },
   {
    "duration": 69,
    "start_time": "2025-03-25T06:22:30.510Z"
   },
   {
    "duration": 1782,
    "start_time": "2025-03-25T06:22:31.053Z"
   },
   {
    "duration": 15,
    "start_time": "2025-03-25T06:22:32.836Z"
   },
   {
    "duration": 34,
    "start_time": "2025-03-25T06:22:34.625Z"
   },
   {
    "duration": 8,
    "start_time": "2025-03-25T06:22:37.579Z"
   },
   {
    "duration": 10,
    "start_time": "2025-03-25T06:22:39.054Z"
   },
   {
    "duration": 9,
    "start_time": "2025-03-25T06:22:40.354Z"
   },
   {
    "duration": 17,
    "start_time": "2025-03-25T06:22:42.301Z"
   },
   {
    "duration": 508,
    "start_time": "2025-03-25T06:22:43.856Z"
   },
   {
    "duration": 6,
    "start_time": "2025-03-25T06:22:44.943Z"
   },
   {
    "duration": 3,
    "start_time": "2025-03-25T06:22:45.658Z"
   },
   {
    "duration": 21,
    "start_time": "2025-03-25T06:22:45.915Z"
   },
   {
    "duration": 341,
    "start_time": "2025-03-25T06:22:46.146Z"
   },
   {
    "duration": 344,
    "start_time": "2025-03-25T06:22:54.689Z"
   },
   {
    "duration": 357,
    "start_time": "2025-03-25T06:24:30.182Z"
   },
   {
    "duration": 351,
    "start_time": "2025-03-25T06:29:56.938Z"
   },
   {
    "duration": 7,
    "start_time": "2025-03-25T06:31:17.857Z"
   },
   {
    "duration": 1272,
    "start_time": "2025-03-25T07:47:28.373Z"
   },
   {
    "duration": 53,
    "start_time": "2025-03-25T07:47:31.408Z"
   },
   {
    "duration": 16,
    "start_time": "2025-03-25T07:47:32.953Z"
   },
   {
    "duration": 13,
    "start_time": "2025-03-25T07:47:34.857Z"
   },
   {
    "duration": 45,
    "start_time": "2025-03-25T07:47:36.347Z"
   },
   {
    "duration": 1662,
    "start_time": "2025-03-25T07:48:15.334Z"
   },
   {
    "duration": 13,
    "start_time": "2025-03-25T07:48:19.460Z"
   },
   {
    "duration": 2030,
    "start_time": "2025-03-25T07:52:22.464Z"
   },
   {
    "duration": 3,
    "start_time": "2025-03-25T07:52:28.241Z"
   },
   {
    "duration": 56,
    "start_time": "2025-03-25T07:52:28.971Z"
   },
   {
    "duration": 11,
    "start_time": "2025-03-25T07:52:29.350Z"
   },
   {
    "duration": 12,
    "start_time": "2025-03-25T07:52:30.716Z"
   },
   {
    "duration": 39,
    "start_time": "2025-03-25T07:52:32.478Z"
   },
   {
    "duration": 1713,
    "start_time": "2025-03-25T07:52:34.281Z"
   },
   {
    "duration": 13,
    "start_time": "2025-03-25T07:52:42.129Z"
   },
   {
    "duration": 30,
    "start_time": "2025-03-25T07:52:45.831Z"
   },
   {
    "duration": 8,
    "start_time": "2025-03-25T07:52:51.164Z"
   },
   {
    "duration": 10,
    "start_time": "2025-03-25T07:52:55.945Z"
   },
   {
    "duration": 8,
    "start_time": "2025-03-25T07:52:57.611Z"
   },
   {
    "duration": 14,
    "start_time": "2025-03-25T07:52:59.735Z"
   },
   {
    "duration": 366,
    "start_time": "2025-03-25T07:53:03.655Z"
   },
   {
    "duration": 7,
    "start_time": "2025-03-25T07:53:19.224Z"
   },
   {
    "duration": 311,
    "start_time": "2025-03-25T07:54:32.724Z"
   },
   {
    "duration": 316,
    "start_time": "2025-03-25T07:55:04.032Z"
   },
   {
    "duration": 309,
    "start_time": "2025-03-25T08:09:31.866Z"
   },
   {
    "duration": 318,
    "start_time": "2025-03-25T08:22:55.585Z"
   },
   {
    "duration": 2,
    "start_time": "2025-03-25T08:32:07.475Z"
   },
   {
    "duration": 331,
    "start_time": "2025-03-25T08:32:11.350Z"
   },
   {
    "duration": 665,
    "start_time": "2025-03-25T08:33:07.496Z"
   },
   {
    "duration": 803,
    "start_time": "2025-03-25T08:34:42.834Z"
   },
   {
    "duration": 598,
    "start_time": "2025-03-25T08:38:36.749Z"
   },
   {
    "duration": 1489,
    "start_time": "2025-03-25T08:41:20.569Z"
   },
   {
    "duration": 1404,
    "start_time": "2025-03-25T08:42:41.441Z"
   },
   {
    "duration": 1458,
    "start_time": "2025-03-25T08:45:13.259Z"
   },
   {
    "duration": 15,
    "start_time": "2025-03-25T08:45:37.720Z"
   },
   {
    "duration": 1410,
    "start_time": "2025-03-25T08:45:51.168Z"
   },
   {
    "duration": 91,
    "start_time": "2025-03-25T08:46:11.637Z"
   },
   {
    "duration": 1493,
    "start_time": "2025-03-25T08:46:29.230Z"
   },
   {
    "duration": 1375,
    "start_time": "2025-03-25T08:46:59.953Z"
   },
   {
    "duration": 1496,
    "start_time": "2025-03-25T08:47:22.244Z"
   },
   {
    "duration": 6,
    "start_time": "2025-03-25T09:17:03.622Z"
   },
   {
    "duration": 6,
    "start_time": "2025-03-25T09:17:45.761Z"
   },
   {
    "duration": 14,
    "start_time": "2025-03-25T09:18:04.528Z"
   },
   {
    "duration": 12,
    "start_time": "2025-03-25T09:18:14.017Z"
   },
   {
    "duration": 23,
    "start_time": "2025-03-25T09:19:16.073Z"
   },
   {
    "duration": 27,
    "start_time": "2025-03-25T09:22:33.888Z"
   },
   {
    "duration": 23,
    "start_time": "2025-03-25T09:23:30.647Z"
   },
   {
    "duration": 6,
    "start_time": "2025-03-25T09:23:37.965Z"
   },
   {
    "duration": 15,
    "start_time": "2025-03-25T09:33:48.392Z"
   },
   {
    "duration": 4,
    "start_time": "2025-03-25T09:35:01.822Z"
   },
   {
    "duration": 4,
    "start_time": "2025-03-25T09:36:33.008Z"
   },
   {
    "duration": 6,
    "start_time": "2025-03-25T09:38:17.131Z"
   },
   {
    "duration": 6,
    "start_time": "2025-03-25T09:38:29.088Z"
   },
   {
    "duration": 6,
    "start_time": "2025-03-25T09:38:41.250Z"
   },
   {
    "duration": 4,
    "start_time": "2025-03-25T09:39:42.879Z"
   },
   {
    "duration": 11,
    "start_time": "2025-03-25T09:58:12.203Z"
   },
   {
    "duration": 6,
    "start_time": "2025-03-25T09:58:38.051Z"
   },
   {
    "duration": 5,
    "start_time": "2025-03-25T09:58:44.218Z"
   },
   {
    "duration": 6,
    "start_time": "2025-03-25T10:01:41.690Z"
   },
   {
    "duration": 8,
    "start_time": "2025-03-25T10:03:12.725Z"
   },
   {
    "duration": 7,
    "start_time": "2025-03-25T10:03:51.332Z"
   },
   {
    "duration": 1341,
    "start_time": "2025-03-25T11:53:07.032Z"
   },
   {
    "duration": 59,
    "start_time": "2025-03-25T11:53:09.757Z"
   },
   {
    "duration": 16,
    "start_time": "2025-03-25T11:53:10.721Z"
   },
   {
    "duration": 15,
    "start_time": "2025-03-25T11:53:12.106Z"
   },
   {
    "duration": 64,
    "start_time": "2025-03-25T11:53:13.231Z"
   },
   {
    "duration": 1880,
    "start_time": "2025-03-25T11:53:16.550Z"
   },
   {
    "duration": 14,
    "start_time": "2025-03-25T11:53:21.494Z"
   },
   {
    "duration": 36,
    "start_time": "2025-03-25T11:53:24.098Z"
   },
   {
    "duration": 9,
    "start_time": "2025-03-25T11:53:27.252Z"
   },
   {
    "duration": 12,
    "start_time": "2025-03-25T11:53:30.006Z"
   },
   {
    "duration": 8,
    "start_time": "2025-03-25T11:53:31.572Z"
   },
   {
    "duration": 17,
    "start_time": "2025-03-25T11:53:33.836Z"
   },
   {
    "duration": 409,
    "start_time": "2025-03-25T11:53:37.591Z"
   },
   {
    "duration": 1685,
    "start_time": "2025-03-25T11:53:40.077Z"
   },
   {
    "duration": 7,
    "start_time": "2025-03-25T11:53:47.377Z"
   },
   {
    "duration": 5,
    "start_time": "2025-03-25T11:54:42.027Z"
   },
   {
    "duration": 7,
    "start_time": "2025-03-25T11:55:14.231Z"
   },
   {
    "duration": 10,
    "start_time": "2025-03-25T12:01:55.661Z"
   },
   {
    "duration": 7,
    "start_time": "2025-03-25T12:06:21.226Z"
   },
   {
    "duration": 6,
    "start_time": "2025-03-25T12:08:38.550Z"
   },
   {
    "duration": 1788,
    "start_time": "2025-03-25T12:18:38.604Z"
   },
   {
    "duration": 313,
    "start_time": "2025-03-25T12:36:00.263Z"
   },
   {
    "duration": 3,
    "start_time": "2025-03-25T13:43:29.840Z"
   },
   {
    "duration": 41,
    "start_time": "2025-03-25T13:43:30.360Z"
   },
   {
    "duration": 14,
    "start_time": "2025-03-25T13:43:30.405Z"
   },
   {
    "duration": 16,
    "start_time": "2025-03-25T13:43:31.501Z"
   },
   {
    "duration": 50,
    "start_time": "2025-03-25T13:43:33.385Z"
   },
   {
    "duration": 1831,
    "start_time": "2025-03-25T13:43:34.926Z"
   },
   {
    "duration": 15,
    "start_time": "2025-03-25T13:43:36.758Z"
   },
   {
    "duration": 33,
    "start_time": "2025-03-25T13:43:38.672Z"
   },
   {
    "duration": 8,
    "start_time": "2025-03-25T13:43:41.602Z"
   },
   {
    "duration": 11,
    "start_time": "2025-03-25T13:43:43.613Z"
   },
   {
    "duration": 8,
    "start_time": "2025-03-25T13:43:44.098Z"
   },
   {
    "duration": 16,
    "start_time": "2025-03-25T13:43:46.093Z"
   },
   {
    "duration": 395,
    "start_time": "2025-03-25T13:43:49.847Z"
   },
   {
    "duration": 1656,
    "start_time": "2025-03-25T13:44:00.175Z"
   },
   {
    "duration": 7,
    "start_time": "2025-03-25T13:45:59.499Z"
   },
   {
    "duration": 5,
    "start_time": "2025-03-25T13:46:01.273Z"
   },
   {
    "duration": 8,
    "start_time": "2025-03-25T13:47:30.766Z"
   },
   {
    "duration": 4,
    "start_time": "2025-03-25T13:47:33.404Z"
   },
   {
    "duration": 8,
    "start_time": "2025-03-25T13:47:39.569Z"
   },
   {
    "duration": 402,
    "start_time": "2025-03-25T13:47:52.807Z"
   },
   {
    "duration": 15,
    "start_time": "2025-03-25T14:02:42.113Z"
   },
   {
    "duration": 1834,
    "start_time": "2025-03-25T14:09:58.428Z"
   },
   {
    "duration": 458,
    "start_time": "2025-03-25T14:15:28.335Z"
   },
   {
    "duration": 1334,
    "start_time": "2025-03-25T14:56:31.070Z"
   },
   {
    "duration": 14,
    "start_time": "2025-03-25T15:06:54.611Z"
   },
   {
    "duration": 228,
    "start_time": "2025-03-25T15:09:11.617Z"
   },
   {
    "duration": 1351,
    "start_time": "2025-03-26T03:55:36.329Z"
   },
   {
    "duration": 48,
    "start_time": "2025-03-26T03:55:39.139Z"
   },
   {
    "duration": 21,
    "start_time": "2025-03-26T03:55:39.852Z"
   },
   {
    "duration": 15,
    "start_time": "2025-03-26T03:55:41.014Z"
   },
   {
    "duration": 63,
    "start_time": "2025-03-26T03:55:41.819Z"
   },
   {
    "duration": 1856,
    "start_time": "2025-03-26T03:55:43.632Z"
   },
   {
    "duration": 14,
    "start_time": "2025-03-26T03:55:47.303Z"
   },
   {
    "duration": 33,
    "start_time": "2025-03-26T03:55:48.884Z"
   },
   {
    "duration": 8,
    "start_time": "2025-03-26T03:55:50.231Z"
   },
   {
    "duration": 11,
    "start_time": "2025-03-26T03:55:50.981Z"
   },
   {
    "duration": 9,
    "start_time": "2025-03-26T03:55:51.317Z"
   },
   {
    "duration": 17,
    "start_time": "2025-03-26T03:55:52.430Z"
   },
   {
    "duration": 427,
    "start_time": "2025-03-26T03:55:54.167Z"
   },
   {
    "duration": 1793,
    "start_time": "2025-03-26T03:55:55.055Z"
   },
   {
    "duration": 19,
    "start_time": "2025-03-26T03:55:56.851Z"
   },
   {
    "duration": 4,
    "start_time": "2025-03-26T03:56:01.088Z"
   },
   {
    "duration": 7,
    "start_time": "2025-03-26T03:56:02.792Z"
   },
   {
    "duration": 305,
    "start_time": "2025-03-26T03:56:08.549Z"
   },
   {
    "duration": 383,
    "start_time": "2025-03-26T03:56:13.739Z"
   },
   {
    "duration": 1420,
    "start_time": "2025-03-26T03:56:17.484Z"
   },
   {
    "duration": 215,
    "start_time": "2025-03-26T03:56:25.112Z"
   },
   {
    "duration": 14,
    "start_time": "2025-03-26T04:05:30.566Z"
   },
   {
    "duration": 15,
    "start_time": "2025-03-26T04:09:26.365Z"
   },
   {
    "duration": 1646,
    "start_time": "2025-03-26T04:13:32.014Z"
   },
   {
    "duration": 2292,
    "start_time": "2025-03-26T04:17:25.778Z"
   },
   {
    "duration": 1097,
    "start_time": "2025-03-26T04:43:59.967Z"
   },
   {
    "duration": 52,
    "start_time": "2025-03-26T04:44:01.065Z"
   },
   {
    "duration": 16,
    "start_time": "2025-03-26T04:44:01.118Z"
   },
   {
    "duration": 14,
    "start_time": "2025-03-26T04:44:01.135Z"
   },
   {
    "duration": 64,
    "start_time": "2025-03-26T04:44:01.151Z"
   },
   {
    "duration": 1811,
    "start_time": "2025-03-26T04:44:01.217Z"
   },
   {
    "duration": 14,
    "start_time": "2025-03-26T04:44:03.029Z"
   },
   {
    "duration": 56,
    "start_time": "2025-03-26T04:44:03.045Z"
   },
   {
    "duration": 7,
    "start_time": "2025-03-26T04:44:03.103Z"
   },
   {
    "duration": 10,
    "start_time": "2025-03-26T04:44:03.111Z"
   },
   {
    "duration": 7,
    "start_time": "2025-03-26T04:44:03.123Z"
   },
   {
    "duration": 18,
    "start_time": "2025-03-26T04:44:03.131Z"
   },
   {
    "duration": 406,
    "start_time": "2025-03-26T04:44:03.150Z"
   },
   {
    "duration": 1602,
    "start_time": "2025-03-26T04:44:03.566Z"
   },
   {
    "duration": 7,
    "start_time": "2025-03-26T04:44:05.169Z"
   },
   {
    "duration": 11,
    "start_time": "2025-03-26T04:44:05.177Z"
   },
   {
    "duration": 17,
    "start_time": "2025-03-26T04:44:05.189Z"
   },
   {
    "duration": 304,
    "start_time": "2025-03-26T04:44:05.207Z"
   },
   {
    "duration": 382,
    "start_time": "2025-03-26T04:44:05.513Z"
   },
   {
    "duration": 1360,
    "start_time": "2025-03-26T04:44:05.896Z"
   },
   {
    "duration": 224,
    "start_time": "2025-03-26T04:44:07.258Z"
   },
   {
    "duration": 2200,
    "start_time": "2025-03-26T04:44:07.484Z"
   },
   {
    "duration": 100,
    "start_time": "2025-03-26T04:50:29.275Z"
   },
   {
    "duration": 3,
    "start_time": "2025-03-26T04:50:39.075Z"
   },
   {
    "duration": 9,
    "start_time": "2025-03-26T04:50:45.337Z"
   },
   {
    "duration": 9,
    "start_time": "2025-03-26T05:03:39.103Z"
   },
   {
    "duration": 1068,
    "start_time": "2025-03-26T05:13:00.590Z"
   },
   {
    "duration": 54,
    "start_time": "2025-03-26T05:13:01.660Z"
   },
   {
    "duration": 19,
    "start_time": "2025-03-26T05:13:01.716Z"
   },
   {
    "duration": 34,
    "start_time": "2025-03-26T05:13:01.737Z"
   },
   {
    "duration": 99,
    "start_time": "2025-03-26T05:13:01.774Z"
   },
   {
    "duration": 1857,
    "start_time": "2025-03-26T05:13:01.875Z"
   },
   {
    "duration": 14,
    "start_time": "2025-03-26T05:13:03.734Z"
   },
   {
    "duration": 54,
    "start_time": "2025-03-26T05:13:03.750Z"
   },
   {
    "duration": 9,
    "start_time": "2025-03-26T05:13:03.806Z"
   },
   {
    "duration": 12,
    "start_time": "2025-03-26T05:13:03.816Z"
   },
   {
    "duration": 9,
    "start_time": "2025-03-26T05:13:03.829Z"
   },
   {
    "duration": 34,
    "start_time": "2025-03-26T05:13:03.839Z"
   },
   {
    "duration": 420,
    "start_time": "2025-03-26T05:13:03.874Z"
   },
   {
    "duration": 1679,
    "start_time": "2025-03-26T05:13:04.298Z"
   },
   {
    "duration": 7,
    "start_time": "2025-03-26T05:13:05.978Z"
   },
   {
    "duration": 28,
    "start_time": "2025-03-26T05:13:05.986Z"
   },
   {
    "duration": 7,
    "start_time": "2025-03-26T05:13:06.016Z"
   },
   {
    "duration": 293,
    "start_time": "2025-03-26T05:13:06.025Z"
   },
   {
    "duration": 374,
    "start_time": "2025-03-26T05:13:06.319Z"
   },
   {
    "duration": 1396,
    "start_time": "2025-03-26T05:13:06.694Z"
   },
   {
    "duration": 231,
    "start_time": "2025-03-26T05:13:08.092Z"
   },
   {
    "duration": 2317,
    "start_time": "2025-03-26T05:13:08.324Z"
   },
   {
    "duration": 10,
    "start_time": "2025-03-26T05:13:10.642Z"
   },
   {
    "duration": 57,
    "start_time": "2025-03-26T05:13:10.667Z"
   },
   {
    "duration": 15,
    "start_time": "2025-03-26T05:32:11.013Z"
   },
   {
    "duration": 1558,
    "start_time": "2025-03-26T07:05:42.730Z"
   },
   {
    "duration": 74,
    "start_time": "2025-03-26T07:05:44.290Z"
   },
   {
    "duration": 16,
    "start_time": "2025-03-26T07:05:44.365Z"
   },
   {
    "duration": 17,
    "start_time": "2025-03-26T07:05:44.383Z"
   },
   {
    "duration": 52,
    "start_time": "2025-03-26T07:05:44.401Z"
   },
   {
    "duration": 14,
    "start_time": "2025-03-26T07:05:44.455Z"
   },
   {
    "duration": 57,
    "start_time": "2025-03-26T07:05:44.470Z"
   },
   {
    "duration": 8,
    "start_time": "2025-03-26T07:05:44.529Z"
   },
   {
    "duration": 15,
    "start_time": "2025-03-26T07:05:44.538Z"
   },
   {
    "duration": 11,
    "start_time": "2025-03-26T07:05:44.556Z"
   },
   {
    "duration": 36,
    "start_time": "2025-03-26T07:05:44.569Z"
   },
   {
    "duration": 394,
    "start_time": "2025-03-26T07:05:44.607Z"
   },
   {
    "duration": 1768,
    "start_time": "2025-03-26T07:05:45.004Z"
   },
   {
    "duration": 8,
    "start_time": "2025-03-26T07:05:46.773Z"
   },
   {
    "duration": 7,
    "start_time": "2025-03-26T07:05:46.782Z"
   },
   {
    "duration": 11,
    "start_time": "2025-03-26T07:05:46.803Z"
   },
   {
    "duration": 399,
    "start_time": "2025-03-26T07:05:46.816Z"
   },
   {
    "duration": 344,
    "start_time": "2025-03-26T07:05:47.217Z"
   },
   {
    "duration": 1286,
    "start_time": "2025-03-26T07:05:47.564Z"
   },
   {
    "duration": 227,
    "start_time": "2025-03-26T07:05:48.852Z"
   },
   {
    "duration": 2111,
    "start_time": "2025-03-26T07:05:49.081Z"
   },
   {
    "duration": 19,
    "start_time": "2025-03-26T07:05:51.194Z"
   },
   {
    "duration": 40,
    "start_time": "2025-03-26T07:05:51.215Z"
   },
   {
    "duration": 70,
    "start_time": "2025-03-26T07:07:45.176Z"
   },
   {
    "duration": 341,
    "start_time": "2025-03-26T07:43:53.075Z"
   },
   {
    "duration": 26,
    "start_time": "2025-03-26T08:05:23.946Z"
   },
   {
    "duration": 17,
    "start_time": "2025-03-26T08:05:58.054Z"
   },
   {
    "duration": 1426,
    "start_time": "2025-03-26T08:10:08.631Z"
   },
   {
    "duration": 52,
    "start_time": "2025-03-26T08:10:10.059Z"
   },
   {
    "duration": 16,
    "start_time": "2025-03-26T08:10:10.112Z"
   },
   {
    "duration": 19,
    "start_time": "2025-03-26T08:10:10.130Z"
   },
   {
    "duration": 77,
    "start_time": "2025-03-26T08:10:10.150Z"
   },
   {
    "duration": 16,
    "start_time": "2025-03-26T08:10:10.229Z"
   },
   {
    "duration": 42,
    "start_time": "2025-03-26T08:10:10.246Z"
   },
   {
    "duration": 9,
    "start_time": "2025-03-26T08:10:10.305Z"
   },
   {
    "duration": 27,
    "start_time": "2025-03-26T08:10:10.315Z"
   },
   {
    "duration": 9,
    "start_time": "2025-03-26T08:10:10.345Z"
   },
   {
    "duration": 28,
    "start_time": "2025-03-26T08:10:10.356Z"
   },
   {
    "duration": 421,
    "start_time": "2025-03-26T08:10:10.385Z"
   },
   {
    "duration": 1665,
    "start_time": "2025-03-26T08:10:10.808Z"
   },
   {
    "duration": 8,
    "start_time": "2025-03-26T08:10:12.475Z"
   },
   {
    "duration": 26,
    "start_time": "2025-03-26T08:10:12.484Z"
   },
   {
    "duration": 33,
    "start_time": "2025-03-26T08:10:12.511Z"
   },
   {
    "duration": 386,
    "start_time": "2025-03-26T08:10:12.545Z"
   },
   {
    "duration": 320,
    "start_time": "2025-03-26T08:10:12.933Z"
   },
   {
    "duration": 1256,
    "start_time": "2025-03-26T08:10:13.255Z"
   },
   {
    "duration": 226,
    "start_time": "2025-03-26T08:10:14.512Z"
   },
   {
    "duration": 1910,
    "start_time": "2025-03-26T08:10:14.740Z"
   },
   {
    "duration": 10,
    "start_time": "2025-03-26T08:10:16.652Z"
   },
   {
    "duration": 39,
    "start_time": "2025-03-26T08:10:16.663Z"
   },
   {
    "duration": 1815,
    "start_time": "2025-03-26T08:32:45.250Z"
   },
   {
    "duration": 9,
    "start_time": "2025-03-26T09:13:38.263Z"
   },
   {
    "duration": 64,
    "start_time": "2025-03-26T09:13:39.099Z"
   },
   {
    "duration": 26,
    "start_time": "2025-03-26T09:13:39.754Z"
   },
   {
    "duration": 17,
    "start_time": "2025-03-26T09:13:40.720Z"
   },
   {
    "duration": 58,
    "start_time": "2025-03-26T09:13:42.029Z"
   },
   {
    "duration": 17,
    "start_time": "2025-03-26T09:13:44.089Z"
   },
   {
    "duration": 39,
    "start_time": "2025-03-26T09:13:46.833Z"
   },
   {
    "duration": 11,
    "start_time": "2025-03-26T09:13:49.121Z"
   },
   {
    "duration": 16,
    "start_time": "2025-03-26T09:13:50.139Z"
   },
   {
    "duration": 9,
    "start_time": "2025-03-26T09:13:50.873Z"
   },
   {
    "duration": 22,
    "start_time": "2025-03-26T09:13:52.315Z"
   },
   {
    "duration": 394,
    "start_time": "2025-03-26T09:13:53.809Z"
   },
   {
    "duration": 1659,
    "start_time": "2025-03-26T09:13:55.616Z"
   },
   {
    "duration": 8,
    "start_time": "2025-03-26T09:13:57.651Z"
   },
   {
    "duration": 5,
    "start_time": "2025-03-26T09:13:58.667Z"
   },
   {
    "duration": 7,
    "start_time": "2025-03-26T09:13:59.579Z"
   },
   {
    "duration": 471,
    "start_time": "2025-03-26T09:14:00.497Z"
   },
   {
    "duration": 332,
    "start_time": "2025-03-26T09:14:02.197Z"
   },
   {
    "duration": 1214,
    "start_time": "2025-03-26T09:14:03.630Z"
   },
   {
    "duration": 210,
    "start_time": "2025-03-26T09:14:07.036Z"
   },
   {
    "duration": 2093,
    "start_time": "2025-03-26T09:14:10.204Z"
   },
   {
    "duration": 10,
    "start_time": "2025-03-26T09:14:15.756Z"
   },
   {
    "duration": 11,
    "start_time": "2025-03-26T09:14:16.977Z"
   },
   {
    "duration": 91,
    "start_time": "2025-03-26T10:14:39.857Z"
   },
   {
    "duration": 78,
    "start_time": "2025-03-26T10:14:41.904Z"
   },
   {
    "duration": 62,
    "start_time": "2025-03-26T11:05:50.234Z"
   },
   {
    "duration": 7,
    "start_time": "2025-03-26T11:05:58.220Z"
   },
   {
    "duration": 1301,
    "start_time": "2025-03-26T11:06:08.673Z"
   },
   {
    "duration": 45,
    "start_time": "2025-03-26T11:06:09.976Z"
   },
   {
    "duration": 16,
    "start_time": "2025-03-26T11:06:10.023Z"
   },
   {
    "duration": 38,
    "start_time": "2025-03-26T11:06:10.040Z"
   },
   {
    "duration": 58,
    "start_time": "2025-03-26T11:06:10.080Z"
   },
   {
    "duration": 14,
    "start_time": "2025-03-26T11:06:10.139Z"
   },
   {
    "duration": 37,
    "start_time": "2025-03-26T11:06:10.154Z"
   },
   {
    "duration": 8,
    "start_time": "2025-03-26T11:06:10.193Z"
   },
   {
    "duration": 12,
    "start_time": "2025-03-26T11:06:10.202Z"
   },
   {
    "duration": 40,
    "start_time": "2025-03-26T11:06:10.215Z"
   },
   {
    "duration": 19,
    "start_time": "2025-03-26T11:06:10.256Z"
   },
   {
    "duration": 402,
    "start_time": "2025-03-26T11:06:10.277Z"
   },
   {
    "duration": 1833,
    "start_time": "2025-03-26T11:06:10.682Z"
   },
   {
    "duration": 7,
    "start_time": "2025-03-26T11:06:12.518Z"
   },
   {
    "duration": 19,
    "start_time": "2025-03-26T11:06:12.527Z"
   },
   {
    "duration": 11,
    "start_time": "2025-03-26T11:06:12.555Z"
   },
   {
    "duration": 428,
    "start_time": "2025-03-26T11:06:12.568Z"
   },
   {
    "duration": 346,
    "start_time": "2025-03-26T11:06:12.997Z"
   },
   {
    "duration": 1398,
    "start_time": "2025-03-26T11:06:13.345Z"
   },
   {
    "duration": 258,
    "start_time": "2025-03-26T11:06:14.744Z"
   },
   {
    "duration": 2162,
    "start_time": "2025-03-26T11:06:15.004Z"
   },
   {
    "duration": 10,
    "start_time": "2025-03-26T11:06:17.168Z"
   },
   {
    "duration": 9,
    "start_time": "2025-03-26T11:06:17.180Z"
   },
   {
    "duration": 7,
    "start_time": "2025-03-26T11:24:12.676Z"
   },
   {
    "duration": 4,
    "start_time": "2025-03-26T11:25:15.143Z"
   },
   {
    "duration": 6,
    "start_time": "2025-03-26T11:33:51.790Z"
   },
   {
    "duration": 4,
    "start_time": "2025-03-26T11:34:21.930Z"
   },
   {
    "duration": 7,
    "start_time": "2025-03-26T11:34:45.092Z"
   },
   {
    "duration": 7,
    "start_time": "2025-03-26T11:41:51.790Z"
   },
   {
    "duration": 209,
    "start_time": "2025-03-26T12:02:14.272Z"
   },
   {
    "duration": 464,
    "start_time": "2025-03-26T12:12:17.337Z"
   },
   {
    "duration": 1200,
    "start_time": "2025-03-26T12:12:46.204Z"
   },
   {
    "duration": 1478,
    "start_time": "2025-03-26T12:20:44.459Z"
   },
   {
    "duration": 240,
    "start_time": "2025-03-26T13:10:22.520Z"
   },
   {
    "duration": 770,
    "start_time": "2025-03-26T13:17:55.853Z"
   },
   {
    "duration": 580,
    "start_time": "2025-03-26T13:19:24.074Z"
   },
   {
    "duration": 875,
    "start_time": "2025-03-26T13:20:13.358Z"
   },
   {
    "duration": 2105,
    "start_time": "2025-03-26T13:25:29.854Z"
   },
   {
    "duration": 1232,
    "start_time": "2025-03-26T13:27:34.469Z"
   },
   {
    "duration": 55,
    "start_time": "2025-03-26T13:27:35.703Z"
   },
   {
    "duration": 17,
    "start_time": "2025-03-26T13:27:35.759Z"
   },
   {
    "duration": 38,
    "start_time": "2025-03-26T13:27:35.778Z"
   },
   {
    "duration": 70,
    "start_time": "2025-03-26T13:27:35.819Z"
   },
   {
    "duration": 15,
    "start_time": "2025-03-26T13:27:35.891Z"
   },
   {
    "duration": 61,
    "start_time": "2025-03-26T13:27:35.908Z"
   },
   {
    "duration": 16,
    "start_time": "2025-03-26T13:27:35.971Z"
   },
   {
    "duration": 22,
    "start_time": "2025-03-26T13:27:35.988Z"
   },
   {
    "duration": 11,
    "start_time": "2025-03-26T13:27:36.011Z"
   },
   {
    "duration": 58,
    "start_time": "2025-03-26T13:27:36.024Z"
   },
   {
    "duration": 459,
    "start_time": "2025-03-26T13:27:36.083Z"
   },
   {
    "duration": 1884,
    "start_time": "2025-03-26T13:27:36.543Z"
   },
   {
    "duration": 8,
    "start_time": "2025-03-26T13:27:38.429Z"
   },
   {
    "duration": 74,
    "start_time": "2025-03-26T13:27:38.438Z"
   },
   {
    "duration": 25,
    "start_time": "2025-03-26T13:27:38.514Z"
   },
   {
    "duration": 274,
    "start_time": "2025-03-26T13:27:38.541Z"
   },
   {
    "duration": 331,
    "start_time": "2025-03-26T13:27:38.816Z"
   },
   {
    "duration": 1420,
    "start_time": "2025-03-26T13:27:39.149Z"
   },
   {
    "duration": 833,
    "start_time": "2025-03-26T13:27:40.572Z"
   },
   {
    "duration": 2033,
    "start_time": "2025-03-26T13:27:41.407Z"
   },
   {
    "duration": 19,
    "start_time": "2025-03-26T13:27:43.442Z"
   },
   {
    "duration": 36,
    "start_time": "2025-03-26T13:27:43.462Z"
   },
   {
    "duration": 9,
    "start_time": "2025-03-26T13:42:26.590Z"
   },
   {
    "duration": 1202,
    "start_time": "2025-03-26T14:31:08.082Z"
   },
   {
    "duration": 44,
    "start_time": "2025-03-26T14:31:09.286Z"
   },
   {
    "duration": 16,
    "start_time": "2025-03-26T14:31:09.331Z"
   },
   {
    "duration": 21,
    "start_time": "2025-03-26T14:31:09.354Z"
   },
   {
    "duration": 124,
    "start_time": "2025-03-26T14:31:09.377Z"
   },
   {
    "duration": 77,
    "start_time": "2025-03-26T14:31:09.503Z"
   },
   {
    "duration": 40,
    "start_time": "2025-03-26T14:31:09.581Z"
   },
   {
    "duration": 12,
    "start_time": "2025-03-26T14:31:09.623Z"
   },
   {
    "duration": 30,
    "start_time": "2025-03-26T14:31:09.637Z"
   },
   {
    "duration": 9,
    "start_time": "2025-03-26T14:31:09.670Z"
   },
   {
    "duration": 28,
    "start_time": "2025-03-26T14:31:09.680Z"
   },
   {
    "duration": 561,
    "start_time": "2025-03-26T14:31:09.710Z"
   },
   {
    "duration": 1661,
    "start_time": "2025-03-26T14:31:10.273Z"
   },
   {
    "duration": 25,
    "start_time": "2025-03-26T14:31:11.936Z"
   },
   {
    "duration": 8,
    "start_time": "2025-03-26T14:31:11.963Z"
   },
   {
    "duration": 17,
    "start_time": "2025-03-26T14:31:11.972Z"
   },
   {
    "duration": 276,
    "start_time": "2025-03-26T14:31:11.990Z"
   },
   {
    "duration": 320,
    "start_time": "2025-03-26T14:31:12.268Z"
   },
   {
    "duration": 1292,
    "start_time": "2025-03-26T14:31:12.590Z"
   },
   {
    "duration": 729,
    "start_time": "2025-03-26T14:31:13.883Z"
   },
   {
    "duration": 1914,
    "start_time": "2025-03-26T14:31:14.614Z"
   },
   {
    "duration": 9,
    "start_time": "2025-03-26T14:31:16.529Z"
   },
   {
    "duration": 23,
    "start_time": "2025-03-26T14:31:16.540Z"
   },
   {
    "duration": 3,
    "start_time": "2025-03-26T14:37:19.815Z"
   },
   {
    "duration": 89,
    "start_time": "2025-03-26T14:37:24.871Z"
   },
   {
    "duration": 105,
    "start_time": "2025-03-26T14:37:57.036Z"
   },
   {
    "duration": 3290,
    "start_time": "2025-03-26T14:39:35.145Z"
   },
   {
    "duration": 6,
    "start_time": "2025-03-26T14:39:51.503Z"
   },
   {
    "duration": 2215,
    "start_time": "2025-03-26T14:40:50.735Z"
   },
   {
    "duration": 2523,
    "start_time": "2025-03-26T14:43:23.692Z"
   },
   {
    "duration": 1165,
    "start_time": "2025-03-26T14:43:26.218Z"
   },
   {
    "duration": 45,
    "start_time": "2025-03-26T14:43:27.385Z"
   },
   {
    "duration": 14,
    "start_time": "2025-03-26T14:43:27.432Z"
   },
   {
    "duration": 44,
    "start_time": "2025-03-26T14:43:27.447Z"
   },
   {
    "duration": 54,
    "start_time": "2025-03-26T14:43:27.492Z"
   },
   {
    "duration": 22,
    "start_time": "2025-03-26T14:43:27.547Z"
   },
   {
    "duration": 48,
    "start_time": "2025-03-26T14:43:27.571Z"
   },
   {
    "duration": 7,
    "start_time": "2025-03-26T14:43:27.621Z"
   },
   {
    "duration": 2316,
    "start_time": "2025-03-26T14:43:27.631Z"
   },
   {
    "duration": 12,
    "start_time": "2025-03-26T14:43:29.948Z"
   },
   {
    "duration": 11,
    "start_time": "2025-03-26T14:43:29.962Z"
   },
   {
    "duration": 17,
    "start_time": "2025-03-26T14:43:29.974Z"
   },
   {
    "duration": 376,
    "start_time": "2025-03-26T14:43:29.993Z"
   },
   {
    "duration": 1797,
    "start_time": "2025-03-26T14:43:30.371Z"
   },
   {
    "duration": 7,
    "start_time": "2025-03-26T14:43:32.170Z"
   },
   {
    "duration": 15,
    "start_time": "2025-03-26T14:43:32.179Z"
   },
   {
    "duration": 7,
    "start_time": "2025-03-26T14:43:32.195Z"
   },
   {
    "duration": 201,
    "start_time": "2025-03-26T14:43:32.203Z"
   },
   {
    "duration": 321,
    "start_time": "2025-03-26T14:43:32.405Z"
   },
   {
    "duration": 1392,
    "start_time": "2025-03-26T14:43:32.727Z"
   },
   {
    "duration": 649,
    "start_time": "2025-03-26T14:43:34.120Z"
   },
   {
    "duration": 1948,
    "start_time": "2025-03-26T14:43:34.771Z"
   },
   {
    "duration": 9,
    "start_time": "2025-03-26T14:43:36.721Z"
   },
   {
    "duration": 29,
    "start_time": "2025-03-26T14:43:36.732Z"
   },
   {
    "duration": 2134,
    "start_time": "2025-03-26T14:44:51.845Z"
   },
   {
    "duration": 2049,
    "start_time": "2025-03-26T14:47:30.686Z"
   },
   {
    "duration": 1963,
    "start_time": "2025-03-26T14:48:03.925Z"
   },
   {
    "duration": 2530,
    "start_time": "2025-03-26T14:49:02.292Z"
   },
   {
    "duration": 1166,
    "start_time": "2025-03-26T14:49:04.825Z"
   },
   {
    "duration": 46,
    "start_time": "2025-03-26T14:49:05.993Z"
   },
   {
    "duration": 61,
    "start_time": "2025-03-26T14:49:06.041Z"
   },
   {
    "duration": 19,
    "start_time": "2025-03-26T14:49:06.104Z"
   },
   {
    "duration": 73,
    "start_time": "2025-03-26T14:49:06.125Z"
   },
   {
    "duration": 15,
    "start_time": "2025-03-26T14:49:06.200Z"
   },
   {
    "duration": 73,
    "start_time": "2025-03-26T14:49:06.217Z"
   },
   {
    "duration": 19,
    "start_time": "2025-03-26T14:49:06.292Z"
   },
   {
    "duration": 2376,
    "start_time": "2025-03-26T14:49:06.315Z"
   },
   {
    "duration": 11,
    "start_time": "2025-03-26T14:49:08.693Z"
   },
   {
    "duration": 32,
    "start_time": "2025-03-26T14:49:08.705Z"
   },
   {
    "duration": 28,
    "start_time": "2025-03-26T14:49:08.739Z"
   },
   {
    "duration": 403,
    "start_time": "2025-03-26T14:49:08.770Z"
   },
   {
    "duration": 1805,
    "start_time": "2025-03-26T14:49:09.174Z"
   },
   {
    "duration": 7,
    "start_time": "2025-03-26T14:49:10.981Z"
   },
   {
    "duration": 11,
    "start_time": "2025-03-26T14:49:10.989Z"
   },
   {
    "duration": 7,
    "start_time": "2025-03-26T14:49:11.001Z"
   },
   {
    "duration": 202,
    "start_time": "2025-03-26T14:49:11.009Z"
   },
   {
    "duration": 337,
    "start_time": "2025-03-26T14:49:11.212Z"
   },
   {
    "duration": 1349,
    "start_time": "2025-03-26T14:49:11.562Z"
   },
   {
    "duration": 656,
    "start_time": "2025-03-26T14:49:12.913Z"
   },
   {
    "duration": 1944,
    "start_time": "2025-03-26T14:49:13.572Z"
   },
   {
    "duration": 12,
    "start_time": "2025-03-26T14:49:15.518Z"
   },
   {
    "duration": 24,
    "start_time": "2025-03-26T14:49:15.532Z"
   },
   {
    "duration": 27,
    "start_time": "2025-03-26T14:50:08.667Z"
   },
   {
    "duration": 2460,
    "start_time": "2025-03-26T14:50:21.318Z"
   },
   {
    "duration": 1194,
    "start_time": "2025-03-26T14:50:23.780Z"
   },
   {
    "duration": 46,
    "start_time": "2025-03-26T14:50:24.976Z"
   },
   {
    "duration": 15,
    "start_time": "2025-03-26T14:50:25.024Z"
   },
   {
    "duration": 32,
    "start_time": "2025-03-26T14:50:25.041Z"
   },
   {
    "duration": 72,
    "start_time": "2025-03-26T14:50:25.075Z"
   },
   {
    "duration": 23,
    "start_time": "2025-03-26T14:50:25.149Z"
   },
   {
    "duration": 33,
    "start_time": "2025-03-26T14:50:25.174Z"
   },
   {
    "duration": 8,
    "start_time": "2025-03-26T14:50:25.209Z"
   },
   {
    "duration": 2332,
    "start_time": "2025-03-26T14:50:25.219Z"
   },
   {
    "duration": 14,
    "start_time": "2025-03-26T14:50:27.552Z"
   },
   {
    "duration": 10,
    "start_time": "2025-03-26T14:50:27.568Z"
   },
   {
    "duration": 17,
    "start_time": "2025-03-26T14:50:27.580Z"
   },
   {
    "duration": 381,
    "start_time": "2025-03-26T14:50:27.599Z"
   },
   {
    "duration": 1777,
    "start_time": "2025-03-26T14:50:27.981Z"
   },
   {
    "duration": 7,
    "start_time": "2025-03-26T14:50:29.767Z"
   },
   {
    "duration": 22,
    "start_time": "2025-03-26T14:50:29.776Z"
   },
   {
    "duration": 17,
    "start_time": "2025-03-26T14:50:29.799Z"
   },
   {
    "duration": 204,
    "start_time": "2025-03-26T14:50:29.818Z"
   },
   {
    "duration": 341,
    "start_time": "2025-03-26T14:50:30.024Z"
   },
   {
    "duration": 1372,
    "start_time": "2025-03-26T14:50:30.367Z"
   },
   {
    "duration": 650,
    "start_time": "2025-03-26T14:50:31.741Z"
   },
   {
    "duration": 2004,
    "start_time": "2025-03-26T14:50:32.393Z"
   },
   {
    "duration": 9,
    "start_time": "2025-03-26T14:50:34.399Z"
   },
   {
    "duration": 30,
    "start_time": "2025-03-26T14:50:34.409Z"
   },
   {
    "duration": 2515,
    "start_time": "2025-03-26T14:52:57.588Z"
   },
   {
    "duration": 1166,
    "start_time": "2025-03-26T14:53:00.106Z"
   },
   {
    "duration": 44,
    "start_time": "2025-03-26T14:53:01.274Z"
   },
   {
    "duration": 15,
    "start_time": "2025-03-26T14:53:01.319Z"
   },
   {
    "duration": 40,
    "start_time": "2025-03-26T14:53:01.335Z"
   },
   {
    "duration": 51,
    "start_time": "2025-03-26T14:53:01.377Z"
   },
   {
    "duration": 36,
    "start_time": "2025-03-26T14:53:01.430Z"
   },
   {
    "duration": 121,
    "start_time": "2025-03-26T14:53:01.468Z"
   },
   {
    "duration": 9,
    "start_time": "2025-03-26T14:53:01.590Z"
   },
   {
    "duration": 2338,
    "start_time": "2025-03-26T14:53:01.601Z"
   },
   {
    "duration": 11,
    "start_time": "2025-03-26T14:53:03.940Z"
   },
   {
    "duration": 85,
    "start_time": "2025-03-26T14:53:03.952Z"
   },
   {
    "duration": 28,
    "start_time": "2025-03-26T14:53:04.038Z"
   },
   {
    "duration": 376,
    "start_time": "2025-03-26T14:53:04.069Z"
   },
   {
    "duration": 1738,
    "start_time": "2025-03-26T14:53:04.447Z"
   },
   {
    "duration": 7,
    "start_time": "2025-03-26T14:53:06.187Z"
   },
   {
    "duration": 59,
    "start_time": "2025-03-26T14:53:06.195Z"
   },
   {
    "duration": 85,
    "start_time": "2025-03-26T14:53:06.266Z"
   },
   {
    "duration": 297,
    "start_time": "2025-03-26T14:53:06.353Z"
   },
   {
    "duration": 333,
    "start_time": "2025-03-26T14:53:06.651Z"
   },
   {
    "duration": 1358,
    "start_time": "2025-03-26T14:53:06.986Z"
   },
   {
    "duration": 685,
    "start_time": "2025-03-26T14:53:08.345Z"
   },
   {
    "duration": 1993,
    "start_time": "2025-03-26T14:53:09.033Z"
   },
   {
    "duration": 9,
    "start_time": "2025-03-26T14:53:11.028Z"
   },
   {
    "duration": 29,
    "start_time": "2025-03-26T14:53:11.038Z"
   }
  ],
  "kernelspec": {
   "display_name": "Python 3 (ipykernel)",
   "language": "python",
   "name": "python3"
  },
  "language_info": {
   "codemirror_mode": {
    "name": "ipython",
    "version": 3
   },
   "file_extension": ".py",
   "mimetype": "text/x-python",
   "name": "python",
   "nbconvert_exporter": "python",
   "pygments_lexer": "ipython3",
   "version": "3.9.5"
  },
  "toc": {
   "base_numbering": 1,
   "nav_menu": {},
   "number_sections": true,
   "sideBar": true,
   "skip_h1_title": true,
   "title_cell": "Table of Contents",
   "title_sidebar": "Contents",
   "toc_cell": false,
   "toc_position": {
    "height": "calc(100% - 180px)",
    "left": "10px",
    "top": "150px",
    "width": "320px"
   },
   "toc_section_display": true,
   "toc_window_display": true
  }
 },
 "nbformat": 4,
 "nbformat_minor": 2
}
