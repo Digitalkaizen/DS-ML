{
 "cells": [
  {
   "cell_type": "markdown",
   "id": "59bd3d15",
   "metadata": {},
   "source": [
    "Есть три датафрейма сервиса аренды самокатов GoFast. Данные о пользователях из нескольких городов, а также об их поездках. Пользователи сервиса пользуются мобильным приложением по подписке, а также без подписки. \n",
    "Цель - проанализировать данные и проверить некоторые гипотезы, которые могут помочь бизнесу вырасти.\n",
    "\n",
    "План работы:\n",
    "\n",
    "1.Загрузка данных\n",
    "\n",
    "2.Предобработка данных\n",
    "\n",
    "3.Исследовательский анализ данных\n",
    "\n",
    "4.Объединение данных\n",
    "\n",
    "5.Подсчёт выручки\n",
    "\n",
    "6.Проверка гипотез\n",
    "\n",
    "7.Распределения (необязательное задание)"
   ]
  },
  {
   "cell_type": "code",
   "execution_count": 1,
   "id": "72576667",
   "metadata": {},
   "outputs": [],
   "source": [
    "import pandas as pd\n",
    "import matplotlib.pyplot as plt\n",
    "import numpy as np\n",
    "from scipy import stats\n",
    "from scipy.stats import shapiro, ttest_1samp, wilcoxon, ttest_ind, mannwhitneyu, binom, norm, levene"
   ]
  },
  {
   "cell_type": "markdown",
   "id": "c42cbe00",
   "metadata": {},
   "source": [
    "#### Шаг 1. Загрузка данных"
   ]
  },
  {
   "cell_type": "markdown",
   "id": "bbeb3d21",
   "metadata": {},
   "source": [
    "1.1 Загрузим данные из CSV-файлов в датафреймы"
   ]
  },
  {
   "cell_type": "code",
   "execution_count": 2,
   "id": "e49b0697",
   "metadata": {},
   "outputs": [],
   "source": [
    "# Загрузим данные из CSV-файлов\n",
    "users = pd.read_csv('/datasets/users_go.csv')\n",
    "rides = pd.read_csv('/datasets/rides_go.csv')\n",
    "subscriptions = pd.read_csv('/datasets/subscriptions_go.csv')"
   ]
  },
  {
   "cell_type": "markdown",
   "id": "f73bf165",
   "metadata": {},
   "source": [
    "1.2 Выведим первые строки каждого датафрейма и изучим общую инф по каждому"
   ]
  },
  {
   "cell_type": "code",
   "execution_count": null,
   "id": "d5329e4d",
   "metadata": {},
   "outputs": [
    {
     "name": "stdout",
     "output_type": "stream",
     "text": [
      "   user_id        name  age            city subscription_type\n",
      "0        1        Кира   22          Тюмень             ultra\n",
      "1        2   Станислав   31            Омск             ultra\n",
      "2        3     Алексей   20          Москва             ultra\n",
      "3        4  Константин   26  Ростов-на-Дону             ultra\n",
      "4        5       Адель   28            Омск             ultra\n"
     ]
    }
   ],
   "source": [
    "# Распечатаем первые строки датафрейма users\n",
    "users.head()"
   ]
  },
  {
   "cell_type": "code",
   "execution_count": 5,
   "id": "a781cd0c",
   "metadata": {},
   "outputs": [
    {
     "name": "stdout",
     "output_type": "stream",
     "text": [
      "<class 'pandas.core.frame.DataFrame'>\n",
      "RangeIndex: 1565 entries, 0 to 1564\n",
      "Data columns (total 5 columns):\n",
      " #   Column             Non-Null Count  Dtype \n",
      "---  ------             --------------  ----- \n",
      " 0   user_id            1565 non-null   int64 \n",
      " 1   name               1565 non-null   object\n",
      " 2   age                1565 non-null   int64 \n",
      " 3   city               1565 non-null   object\n",
      " 4   subscription_type  1565 non-null   object\n",
      "dtypes: int64(2), object(3)\n",
      "memory usage: 61.3+ KB\n"
     ]
    }
   ],
   "source": [
    "# Общая информация о датафрейме users\n",
    "users.info()"
   ]
  },
  {
   "cell_type": "markdown",
   "id": "52beab02",
   "metadata": {},
   "source": [
    "Размер датафрейма users: 1565 строк (от индекса 0 до 1564) и 5 столбцов.\n",
    "В датафрейме нет пропущенных значений (Non-Null Count для всех столбцов равен 1565).\n",
    "Два столбца user_id и age имеют числовой тип данных (int64).\n",
    "Три столбца name, city и subscription_type имеют строковый тип данных (object)."
   ]
  },
  {
   "cell_type": "code",
   "execution_count": 6,
   "id": "65099d42",
   "metadata": {
    "scrolled": true
   },
   "outputs": [
    {
     "data": {
      "text/html": [
       "<div>\n",
       "<style scoped>\n",
       "    .dataframe tbody tr th:only-of-type {\n",
       "        vertical-align: middle;\n",
       "    }\n",
       "\n",
       "    .dataframe tbody tr th {\n",
       "        vertical-align: top;\n",
       "    }\n",
       "\n",
       "    .dataframe thead th {\n",
       "        text-align: right;\n",
       "    }\n",
       "</style>\n",
       "<table border=\"1\" class=\"dataframe\">\n",
       "  <thead>\n",
       "    <tr style=\"text-align: right;\">\n",
       "      <th></th>\n",
       "      <th>user_id</th>\n",
       "      <th>distance</th>\n",
       "      <th>duration</th>\n",
       "      <th>date</th>\n",
       "    </tr>\n",
       "  </thead>\n",
       "  <tbody>\n",
       "    <tr>\n",
       "      <th>0</th>\n",
       "      <td>1</td>\n",
       "      <td>4409.919140</td>\n",
       "      <td>25.599769</td>\n",
       "      <td>2021-01-01</td>\n",
       "    </tr>\n",
       "    <tr>\n",
       "      <th>1</th>\n",
       "      <td>1</td>\n",
       "      <td>2617.592153</td>\n",
       "      <td>15.816871</td>\n",
       "      <td>2021-01-18</td>\n",
       "    </tr>\n",
       "    <tr>\n",
       "      <th>2</th>\n",
       "      <td>1</td>\n",
       "      <td>754.159807</td>\n",
       "      <td>6.232113</td>\n",
       "      <td>2021-04-20</td>\n",
       "    </tr>\n",
       "    <tr>\n",
       "      <th>3</th>\n",
       "      <td>1</td>\n",
       "      <td>2694.783254</td>\n",
       "      <td>18.511000</td>\n",
       "      <td>2021-08-11</td>\n",
       "    </tr>\n",
       "    <tr>\n",
       "      <th>4</th>\n",
       "      <td>1</td>\n",
       "      <td>4028.687306</td>\n",
       "      <td>26.265803</td>\n",
       "      <td>2021-08-28</td>\n",
       "    </tr>\n",
       "  </tbody>\n",
       "</table>\n",
       "</div>"
      ],
      "text/plain": [
       "   user_id     distance   duration        date\n",
       "0        1  4409.919140  25.599769  2021-01-01\n",
       "1        1  2617.592153  15.816871  2021-01-18\n",
       "2        1   754.159807   6.232113  2021-04-20\n",
       "3        1  2694.783254  18.511000  2021-08-11\n",
       "4        1  4028.687306  26.265803  2021-08-28"
      ]
     },
     "execution_count": 6,
     "metadata": {},
     "output_type": "execute_result"
    }
   ],
   "source": [
    "# Распечатаем первые строки датафрейма rides\n",
    "rides.head()"
   ]
  },
  {
   "cell_type": "code",
   "execution_count": 7,
   "id": "a1cd952a",
   "metadata": {},
   "outputs": [
    {
     "name": "stdout",
     "output_type": "stream",
     "text": [
      "<class 'pandas.core.frame.DataFrame'>\n",
      "RangeIndex: 18068 entries, 0 to 18067\n",
      "Data columns (total 4 columns):\n",
      " #   Column    Non-Null Count  Dtype  \n",
      "---  ------    --------------  -----  \n",
      " 0   user_id   18068 non-null  int64  \n",
      " 1   distance  18068 non-null  float64\n",
      " 2   duration  18068 non-null  float64\n",
      " 3   date      18068 non-null  object \n",
      "dtypes: float64(2), int64(1), object(1)\n",
      "memory usage: 564.8+ KB\n"
     ]
    }
   ],
   "source": [
    "# Общая информация о датафрейме rides\n",
    "rides.info()"
   ]
  },
  {
   "cell_type": "markdown",
   "id": "ccd3cac0",
   "metadata": {},
   "source": [
    "Размер датафрейма rides: 18068 строк (от индекса 0 до 18067) и 4 столбца.\n",
    "В датафрейме нет пропущенных значений (Non-Null Count для всех столбцов равен 18068).\n",
    "Два столбца имеют числовой тип данных:\n",
    "user_id — целочисленный (int64),\n",
    "distance и duration — вещественные (float64).\n",
    "Столбец date имеет строковый тип данных (object), это указывает на то, что даты записаны в текстовом формате."
   ]
  },
  {
   "cell_type": "code",
   "execution_count": 8,
   "id": "f8da5070",
   "metadata": {},
   "outputs": [
    {
     "data": {
      "text/html": [
       "<div>\n",
       "<style scoped>\n",
       "    .dataframe tbody tr th:only-of-type {\n",
       "        vertical-align: middle;\n",
       "    }\n",
       "\n",
       "    .dataframe tbody tr th {\n",
       "        vertical-align: top;\n",
       "    }\n",
       "\n",
       "    .dataframe thead th {\n",
       "        text-align: right;\n",
       "    }\n",
       "</style>\n",
       "<table border=\"1\" class=\"dataframe\">\n",
       "  <thead>\n",
       "    <tr style=\"text-align: right;\">\n",
       "      <th></th>\n",
       "      <th>subscription_type</th>\n",
       "      <th>minute_price</th>\n",
       "      <th>start_ride_price</th>\n",
       "      <th>subscription_fee</th>\n",
       "    </tr>\n",
       "  </thead>\n",
       "  <tbody>\n",
       "    <tr>\n",
       "      <th>0</th>\n",
       "      <td>free</td>\n",
       "      <td>8</td>\n",
       "      <td>50</td>\n",
       "      <td>0</td>\n",
       "    </tr>\n",
       "    <tr>\n",
       "      <th>1</th>\n",
       "      <td>ultra</td>\n",
       "      <td>6</td>\n",
       "      <td>0</td>\n",
       "      <td>199</td>\n",
       "    </tr>\n",
       "  </tbody>\n",
       "</table>\n",
       "</div>"
      ],
      "text/plain": [
       "  subscription_type  minute_price  start_ride_price  subscription_fee\n",
       "0              free             8                50                 0\n",
       "1             ultra             6                 0               199"
      ]
     },
     "execution_count": 8,
     "metadata": {},
     "output_type": "execute_result"
    }
   ],
   "source": [
    "# Распечатаем первые строки датафрейма subscriptions\n",
    "subscriptions.head()"
   ]
  },
  {
   "cell_type": "code",
   "execution_count": 9,
   "id": "c66c171b",
   "metadata": {},
   "outputs": [
    {
     "name": "stdout",
     "output_type": "stream",
     "text": [
      "<class 'pandas.core.frame.DataFrame'>\n",
      "RangeIndex: 2 entries, 0 to 1\n",
      "Data columns (total 4 columns):\n",
      " #   Column             Non-Null Count  Dtype \n",
      "---  ------             --------------  ----- \n",
      " 0   subscription_type  2 non-null      object\n",
      " 1   minute_price       2 non-null      int64 \n",
      " 2   start_ride_price   2 non-null      int64 \n",
      " 3   subscription_fee   2 non-null      int64 \n",
      "dtypes: int64(3), object(1)\n",
      "memory usage: 192.0+ bytes\n"
     ]
    }
   ],
   "source": [
    "# Общая информация о датафрейме subscriptions\n",
    "subscriptions.info()"
   ]
  },
  {
   "cell_type": "markdown",
   "id": "494e3dc1",
   "metadata": {},
   "source": [
    "Размер датафрейма subscriptions: 2 строки (от индекса 0 до 1) и 4 столбца .\n",
    "В датафрейме нет пропущенных значений (Non-Null Count для всех столбцов равен 2), представлены 2 типа подписки: ultra (ультра) и free (бесплатная).\n",
    "Три столбца имеют числовой тип данных (int64): minute_price, start_ride_price, subscription_fee.\n",
    "Один столбец (subscription_type) имеет строковый тип данных (object), что указывает на категориальные значения."
   ]
  },
  {
   "cell_type": "markdown",
   "id": "e95ebca7",
   "metadata": {},
   "source": [
    "#### Шаг 2. Предобработка данных"
   ]
  },
  {
   "cell_type": "markdown",
   "id": "9f69d465",
   "metadata": {},
   "source": [
    "2.1 Приведем столбец date в датафрейме rides к типу даты pandas - типу datetime."
   ]
  },
  {
   "cell_type": "code",
   "execution_count": 10,
   "id": "af6d202c",
   "metadata": {},
   "outputs": [],
   "source": [
    "# Приведем столбец date к типу datetime.\n",
    "rides['date'] = pd.to_datetime(rides['date'])"
   ]
  },
  {
   "cell_type": "markdown",
   "id": "22db63a7",
   "metadata": {},
   "source": [
    "Не проверив данные за период и в самом деле можно упустить важный момент.\n",
    "Выведим на экран самую раннюю дату и самую позднюю, чтобы понимать период и как в будущем сокращать даты. "
   ]
  },
  {
   "cell_type": "code",
   "execution_count": 11,
   "id": "cd7ac6cf",
   "metadata": {},
   "outputs": [
    {
     "name": "stdout",
     "output_type": "stream",
     "text": [
      "Минимальная дата: 2021-01-01 00:00:00\n",
      "Максимальная дата: 2021-12-30 00:00:00\n"
     ]
    }
   ],
   "source": [
    "# Проверим минимальную и максимальную дату\n",
    "print(\"Минимальная дата:\", rides['date'].min())\n",
    "print(\"Максимальная дата:\", rides['date'].max())"
   ]
  },
  {
   "cell_type": "code",
   "execution_count": null,
   "id": "53cb4678",
   "metadata": {},
   "outputs": [
    {
     "data": {
      "text/plain": [
       "array([2021])"
      ]
     },
     "execution_count": 12,
     "metadata": {},
     "output_type": "execute_result"
    }
   ],
   "source": [
    "rides['date'].dt.year.unique()"
   ]
  },
  {
   "cell_type": "markdown",
   "id": "79519cd9",
   "metadata": {},
   "source": [
    "\n",
    "Так как все даты находятся в пределах одного года (2021), то логику отображения месяцев предлагаю оставить прежней.  "
   ]
  },
  {
   "cell_type": "markdown",
   "id": "77bff866",
   "metadata": {},
   "source": [
    "2.2 Создадим в датафрейме rides новый столбец 'month' с номером месяца"
   ]
  },
  {
   "cell_type": "code",
   "execution_count": 13,
   "id": "c44b6fb4",
   "metadata": {},
   "outputs": [
    {
     "name": "stdout",
     "output_type": "stream",
     "text": [
      "        date  month\n",
      "0 2021-01-01      1\n",
      "1 2021-01-18      1\n",
      "2 2021-04-20      4\n",
      "3 2021-08-11      8\n",
      "4 2021-08-28      8\n"
     ]
    }
   ],
   "source": [
    "# Создадим новый столбец 'month' с номером месяца\n",
    "rides['month'] = rides['date'].dt.month\n",
    "\n",
    "# Выведим первые строки для проверки\n",
    "print(rides[['date', 'month']].head())"
   ]
  },
  {
   "cell_type": "markdown",
   "id": "479f0f41",
   "metadata": {},
   "source": [
    "Теперь в новом столбце 'month' указаны соответствующие номера месяца. "
   ]
  },
  {
   "cell_type": "markdown",
   "id": "c732f941",
   "metadata": {},
   "source": [
    "2.3 Проверим наличие пропущенных значений и дубликатов в датафреймах. "
   ]
  },
  {
   "cell_type": "code",
   "execution_count": 14,
   "id": "2aa84711",
   "metadata": {},
   "outputs": [
    {
     "data": {
      "text/plain": [
       "31"
      ]
     },
     "execution_count": 14,
     "metadata": {},
     "output_type": "execute_result"
    }
   ],
   "source": [
    "# Проверим в датафрейме users наличие дубликатов\n",
    "users.duplicated().sum()"
   ]
  },
  {
   "cell_type": "markdown",
   "id": "29195caa",
   "metadata": {},
   "source": [
    "В датафрейме users обнаружено 31 полный дубликат строк. Дубликаты могут исказить результаты анализа."
   ]
  },
  {
   "cell_type": "code",
   "execution_count": 15,
   "id": "6ab318fd",
   "metadata": {},
   "outputs": [],
   "source": [
    "# Удалим дубликаты в датафрейме users\n",
    "users = users.drop_duplicates()"
   ]
  },
  {
   "cell_type": "markdown",
   "id": "d8c4ed2a",
   "metadata": {},
   "source": [
    "<font color='DarkBlue'><b>Комментарий ревьюера</b></font><br>\n",
    "<font color='DarkGreen'>👌 Хорошо, удалили дубликаты в таблице пользователей.</font>"
   ]
  },
  {
   "cell_type": "code",
   "execution_count": 16,
   "id": "a14ed72e",
   "metadata": {},
   "outputs": [
    {
     "name": "stdout",
     "output_type": "stream",
     "text": [
      "0\n"
     ]
    }
   ],
   "source": [
    "# Проверим датафрейм users после удаления дубликатов:\n",
    "print(users.duplicated().sum())"
   ]
  },
  {
   "cell_type": "markdown",
   "id": "bf6ee42f",
   "metadata": {},
   "source": [
    "Все дубликаты в датафрейме users удалены. "
   ]
  },
  {
   "cell_type": "code",
   "execution_count": 17,
   "id": "420ea177",
   "metadata": {},
   "outputs": [
    {
     "data": {
      "text/plain": [
       "0"
      ]
     },
     "execution_count": 17,
     "metadata": {},
     "output_type": "execute_result"
    }
   ],
   "source": [
    "# Проверим в датафрейме rides наличие дубликатов\n",
    "rides.duplicated().sum()"
   ]
  },
  {
   "cell_type": "markdown",
   "id": "7547aaaa",
   "metadata": {},
   "source": [
    "Дубликатов в датафрейме rides нет.\n",
    "Пропуски данных: на основании выводимой ранее общей информации - пропущенных значений нет во всех датафреймах."
   ]
  },
  {
   "cell_type": "code",
   "execution_count": 18,
   "id": "7eb92609",
   "metadata": {},
   "outputs": [
    {
     "data": {
      "text/plain": [
       "0    4409.919140\n",
       "1    2617.592153\n",
       "2     754.159807\n",
       "Name: distance, dtype: float64"
      ]
     },
     "metadata": {},
     "output_type": "display_data"
    },
    {
     "data": {
      "text/plain": [
       "0    4409.92\n",
       "1    2617.59\n",
       "2     754.16\n",
       "Name: distance, dtype: float64"
      ]
     },
     "execution_count": 18,
     "metadata": {},
     "output_type": "execute_result"
    }
   ],
   "source": [
    "# Комментарий ревьюера\n",
    "temp = rides.copy() # Создаем копию, что бы не изменять текущий датасет\n",
    "display(temp['distance'].head(3))\n",
    "# Округление расстояния\n",
    "temp['distance'] = temp['distance'].round(2)\n",
    "temp['distance'].head(3)"
   ]
  },
  {
   "cell_type": "markdown",
   "id": "526d0fc8",
   "metadata": {},
   "source": [
    "Округлим расстояния до 2 знаков после запятой."
   ]
  },
  {
   "cell_type": "code",
   "execution_count": 19,
   "id": "9b8e824f",
   "metadata": {},
   "outputs": [
    {
     "data": {
      "text/plain": [
       "0    4409.92\n",
       "1    2617.59\n",
       "2     754.16\n",
       "Name: distance, dtype: float64"
      ]
     },
     "execution_count": 19,
     "metadata": {},
     "output_type": "execute_result"
    }
   ],
   "source": [
    "# Округление расстояния\n",
    "rides['distance'] = rides['distance'].round(2)\n",
    "rides['distance'].head(3)"
   ]
  },
  {
   "cell_type": "markdown",
   "id": "212593c7",
   "metadata": {},
   "source": [
    "#### Шаг 3. Исследовательский анализ данных"
   ]
  },
  {
   "cell_type": "markdown",
   "id": "5f80ad0e",
   "metadata": {},
   "source": [
    "Опишем и визуализируем общую информацию о пользователях и поездках:"
   ]
  },
  {
   "cell_type": "markdown",
   "id": "72995bfc",
   "metadata": {},
   "source": [
    "Убедимся, что данные датафрейма users корректны и не содержат аномалий."
   ]
  },
  {
   "cell_type": "code",
   "execution_count": 20,
   "id": "675b023e",
   "metadata": {},
   "outputs": [
    {
     "name": "stdout",
     "output_type": "stream",
     "text": [
      "['Тюмень' 'Омск' 'Москва' 'Ростов-на-Дону' 'Краснодар' 'Пятигорск'\n",
      " 'Екатеринбург' 'Сочи']\n"
     ]
    }
   ],
   "source": [
    "# Проверим уникальные значения в категориальном столбце city.\n",
    "print(users['city'].unique())"
   ]
  },
  {
   "cell_type": "markdown",
   "id": "e23b0007",
   "metadata": {},
   "source": [
    "В данных представлены 8 уникальных городов России.\n",
    "Названия городов написаны корректно, без видимых опечаток или аномалий."
   ]
  },
  {
   "cell_type": "markdown",
   "id": "c74240a5",
   "metadata": {},
   "source": [
    "3.1 Подсчитаем частоту встречаемости городов (количества пользователей в каждом городе)"
   ]
  },
  {
   "cell_type": "code",
   "execution_count": 21,
   "id": "1d0f72e2",
   "metadata": {},
   "outputs": [
    {
     "name": "stdout",
     "output_type": "stream",
     "text": [
      "Частота встречаемости городов:\n",
      "Пятигорск         219\n",
      "Екатеринбург      204\n",
      "Ростов-на-Дону    198\n",
      "Краснодар         193\n",
      "Сочи              189\n",
      "Омск              183\n",
      "Тюмень            180\n",
      "Москва            168\n",
      "Name: city, dtype: int64\n"
     ]
    }
   ],
   "source": [
    "# Подсчитаем частоту встречаемости городов\n",
    "city_counts = users['city'].value_counts()\n",
    "print(\"Частота встречаемости городов:\")\n",
    "print(city_counts)"
   ]
  },
  {
   "cell_type": "code",
   "execution_count": 22,
   "id": "1699612e",
   "metadata": {},
   "outputs": [
    {
     "data": {
      "image/png": "[encoded data removed]",
      "text/plain": [
       "<Figure size 720x432 with 1 Axes>"
      ]
     },
     "metadata": {
      "needs_background": "light"
     },
     "output_type": "display_data"
    }
   ],
   "source": [
    "# Визуализируем распеределение пользователей по городам\n",
    "plt.figure(figsize=(10, 6))\n",
    "city_counts.plot(kind='bar', color='skyblue', edgecolor='black')\n",
    "plt.title('Распределение пользователей по городам')\n",
    "plt.xlabel('Город')\n",
    "plt.ylabel('Частота встречаемости городов')\n",
    "plt.xticks(rotation=45)\n",
    "plt.show()"
   ]
  },
  {
   "cell_type": "markdown",
   "id": "6cb39b38",
   "metadata": {},
   "source": [
    "Количество пользователей по городам варьируется от 168 до 219. Пятигорск занимает первое место с 219 пользователями. Екатеринбург на втором месте с 204 пользователями.Эти два города значительно опережают остальные по численности пользователей. Ростов-на-Дону , Краснодар , Сочи , Омск и Тюмень имеют схожее количество пользователей (от 180 до 198). Разница между этими городами небольшая, что говорит о равномерном распределении пользователей в этих городах. Москва, несмотря на то, что является крупнейшим городом России, имеет наименьшее количество пользователей (168).\n",
    "\n",
    "Уделим внимание анализу причин низкой популярности сервиса в Москве.\n",
    "Изучить успешные практики в Пятигорске и Екатеринбурге для применения в других городах."
   ]
  },
  {
   "cell_type": "code",
   "execution_count": 23,
   "id": "532c5fbf",
   "metadata": {},
   "outputs": [
    {
     "data": {
      "image/png": "[encoded data removed]",
      "text/plain": [
       "<Figure size 1080x360 with 1 Axes>"
      ]
     },
     "metadata": {
      "needs_background": "light"
     },
     "output_type": "display_data"
    }
   ],
   "source": [
    "# Комментарий ревьюера\n",
    "import matplotlib.pyplot as plt\n",
    "import pandas as pd\n",
    "\n",
    "# Создаем копию датасета, что бы не работать с исходным\n",
    "tmp = users.copy()\n",
    "\n",
    "# Построение горизонтальной диаграммы\n",
    "ax = tmp['city'].value_counts(ascending=True).plot(\n",
    "    kind='barh',\n",
    "    figsize=(15, 5),\n",
    "    title='График частоты встречаемости городов'\n",
    ")\n",
    "\n",
    "# Добавление значений рядом со столбцами\n",
    "for p in ax.patches:\n",
    "    width = p.get_width()\n",
    "    ax.annotate(f'{width}',\n",
    "                (width, p.get_y() + p.get_height() / 2.),\n",
    "                ha='left', va='center',\n",
    "                xytext=(5, 0),\n",
    "                textcoords='offset points')\n",
    "\n",
    "# Добавление меток осей\n",
    "plt.xlabel('Количество пользователей')\n",
    "plt.ylabel('Город')\n",
    "\n",
    "# Отображение графика\n",
    "plt.show()"
   ]
  },
  {
   "cell_type": "markdown",
   "id": "e6c63f77",
   "metadata": {},
   "source": [
    "3.2 Подсчитаем количество пользователей с разными типами подписок"
   ]
  },
  {
   "cell_type": "code",
   "execution_count": 24,
   "id": "d1277338",
   "metadata": {},
   "outputs": [
    {
     "name": "stdout",
     "output_type": "stream",
     "text": [
      "Соотношение пользователей с подпиской и без подписки:\n",
      "free     835\n",
      "ultra    699\n",
      "Name: subscription_type, dtype: int64\n"
     ]
    },
    {
     "data": {
      "image/png": "[encoded data removed]",
      "text/plain": [
       "<Figure size 576x432 with 1 Axes>"
      ]
     },
     "metadata": {},
     "output_type": "display_data"
    }
   ],
   "source": [
    "# Подсчитаем количество пользователей с разными типами подписок\n",
    "subscription_counts = users['subscription_type'].value_counts()\n",
    "\n",
    "# Выведим на экран статистики\n",
    "print(\"Соотношение пользователей с подпиской и без подписки:\")\n",
    "print(subscription_counts)\n",
    "\n",
    "# Визуализируем соотношение пользователей с подпиской и без подписки\n",
    "plt.figure(figsize=(8, 6))\n",
    "subscription_counts.plot(kind='pie', autopct='%1.1f%%', colors=['lightgreen', 'pink'], startangle=90)\n",
    "plt.title('Соотношение пользователей с подпиской и без подписки')\n",
    "plt.ylabel('')\n",
    "plt.show()"
   ]
  },
  {
   "cell_type": "markdown",
   "id": "8fc55396",
   "metadata": {},
   "source": [
    "Большинство пользователей (54.4 %) предпочитают бесплатную подписку (free).\n",
    "Это может быть связано с тем, что бесплатная подписка более доступна для широкой аудитории. Возможно пользователи могут быть не готовы платить за подписку или предпочитают попробовать сервис бесплатно.\n",
    "\n",
    "Платная подписка (ultra) используется меньшим количеством пользователей (45.6%).\n",
    "Возможно, это связано с высокой стоимостью подписки, недостаточной информированностью пользователей о преимуществах платной подписки, отсутствием значительной разницы в условиях между free и ultra."
   ]
  },
  {
   "cell_type": "markdown",
   "id": "a64d4ff1",
   "metadata": {},
   "source": [
    "3.3 Опишем и визуализируем возраст пользователей."
   ]
  },
  {
   "cell_type": "code",
   "execution_count": 25,
   "id": "fdd13c56",
   "metadata": {},
   "outputs": [
    {
     "name": "stdout",
     "output_type": "stream",
     "text": [
      "Описательная статистика возраста:\n",
      "count    1534.000000\n",
      "mean       24.903520\n",
      "std         4.572367\n",
      "min        12.000000\n",
      "25%        22.000000\n",
      "50%        25.000000\n",
      "75%        28.000000\n",
      "max        43.000000\n",
      "Name: age, dtype: float64\n"
     ]
    },
    {
     "data": {
      "image/png": "[encoded data removed]",
      "text/plain": [
       "<Figure size 720x432 with 1 Axes>"
      ]
     },
     "metadata": {
      "needs_background": "light"
     },
     "output_type": "display_data"
    },
    {
     "data": {
      "image/png": "[encoded data removed]",
      "text/plain": [
       "<Figure size 576x432 with 1 Axes>"
      ]
     },
     "metadata": {
      "needs_background": "light"
     },
     "output_type": "display_data"
    }
   ],
   "source": [
    "# Проверим в датафрейме users распределение возрастов пользователей\n",
    "age_stats = users['age'].describe()\n",
    "print(\"Описательная статистика возраста:\")\n",
    "print(age_stats)\n",
    "\n",
    "# Гистограмма распределения возрастов\n",
    "plt.figure(figsize=(10, 6))\n",
    "users['age'].hist(bins=30, color='orange', edgecolor='black')\n",
    "plt.title('Распределение возрастов пользователей')\n",
    "plt.xlabel('Возраст')\n",
    "plt.ylabel('Количество пользователей')\n",
    "plt.show()\n",
    "\n",
    "# Проанализируем выбросы\n",
    "plt.figure(figsize=(8, 6))\n",
    "plt.boxplot(users['age'], vert=False, patch_artist=True, boxprops=dict(facecolor='lightblue'))\n",
    "plt.title('Распределение возрастов пользователей')\n",
    "plt.xlabel('Возраст')\n",
    "plt.show()"
   ]
  },
  {
   "cell_type": "markdown",
   "id": "8d90a0bf",
   "metadata": {},
   "source": [
    "Средний возраст (mean) составляет около 25 лет, основная аудитория сервиса — молодые люди. Стандартное отклонение (std) равно 4.55 года, что говорит о том, что возраст пользователей относительно сконцентрирован вокруг среднего значения. Можно наблюдать несколько выбросов данных в районе 12 лет и 40 лет. Таким образом минимальный возраст (min) равен 12 лет, максимальный возраст (max) равен 43 года. Возрастной диапазон пользователей составляет от 12 до 43 лет. "
   ]
  },
  {
   "cell_type": "markdown",
   "id": "be25544b",
   "metadata": {},
   "source": [
    "3.4 Опишем и визуализируем расстояние, которое пользователь преодолел за одну поездку."
   ]
  },
  {
   "cell_type": "code",
   "execution_count": 26,
   "id": "0e90f5d4",
   "metadata": {},
   "outputs": [
    {
     "name": "stdout",
     "output_type": "stream",
     "text": [
      "Cтатистика расстояний:\n",
      "count    18068.000000\n",
      "mean      3070.659992\n",
      "std       1116.831222\n",
      "min          0.860000\n",
      "25%       2543.227500\n",
      "50%       3133.610000\n",
      "75%       3776.220000\n",
      "max       7211.010000\n",
      "Name: distance, dtype: float64\n"
     ]
    },
    {
     "data": {
      "image/png": "[encoded data removed]",
      "text/plain": [
       "<Figure size 720x432 with 1 Axes>"
      ]
     },
     "metadata": {
      "needs_background": "light"
     },
     "output_type": "display_data"
    },
    {
     "data": {
      "image/png": "[encoded data removed]",
      "text/plain": [
       "<Figure size 576x432 with 1 Axes>"
      ]
     },
     "metadata": {
      "needs_background": "light"
     },
     "output_type": "display_data"
    }
   ],
   "source": [
    "# Визуализируем расстояние, которое пользователь преодолел за одну поездку.\n",
    "distance_stats = rides['distance'].describe()\n",
    "print(\"Cтатистика расстояний:\")\n",
    "print(distance_stats)\n",
    "\n",
    "# Гистограмма распределения расстояний\n",
    "plt.figure(figsize=(10, 6))\n",
    "rides['distance'].hist(bins=40, color='purple', edgecolor='black')\n",
    "plt.title('Распределение расстояний поездок')\n",
    "plt.xlabel('Расстояние')\n",
    "plt.ylabel('Количество поездок')\n",
    "plt.show()\n",
    "\n",
    "# Анализ выбросов\n",
    "plt.figure(figsize=(8, 6))\n",
    "plt.boxplot(rides['distance'], vert=False, patch_artist=True, boxprops=dict(facecolor='lavender'))\n",
    "plt.title('Распределение расстояний поездок')\n",
    "plt.xlabel('Расстояние')\n",
    "plt.show()"
   ]
  },
  {
   "cell_type": "markdown",
   "id": "11a0ac75",
   "metadata": {},
   "source": [
    "Среднее расстояние (mean) составляет 3070.7 м, примерно равно 3.1 км. Медиана (50%) равна 3133.6 м, что также близко к среднему значению. Умеренное стандартное отклонение (1116.8 м ) указывает на то, что большинство поездок сосредоточены вокруг среднего значения (3.1 км). Наибольшее количество поездок приходится на расстояния около 2500–4000 м. Это удобная дистанция для самокатов, которая подходит для повседневных поездок (например, до работы, магазина или метро).\n",
    "\n",
    "Распределение близко к нормальному, но имеет небольшую асимметрию в сторону больших значений (правосторонняя асимметрия). Выбросы: небольшое количество поездок имеют очень большие расстояния (более 5000 м), что видно по хвосту гистограммы.\n",
    "\n",
    "Минимальное расстояние (0.9 м ) может быть вызвано ошибками или тестовыми поездками. Рекомендуется проверить такие данные на наличие аномалий.\n",
    "Максимальное расстояние (7.2 км ) показывает, что сервис используется и для более дальних маршрутов.\n",
    "\n",
    "Рекомендации:\n",
    "Проанализировать короткие поездки на предмет технических ошибок или неправильного использования сервиса. Оптимизировать зоны размещения самокатов, чтобы они были доступны для типичных расстояний (2.5–4.0 км).\n"
   ]
  },
  {
   "cell_type": "markdown",
   "id": "6fd5c92c",
   "metadata": {},
   "source": [
    "3.5 Опишем и визуализируем продолжительность поездок."
   ]
  },
  {
   "cell_type": "code",
   "execution_count": 27,
   "id": "93de1c32",
   "metadata": {},
   "outputs": [
    {
     "name": "stdout",
     "output_type": "stream",
     "text": [
      "Статистика продолжительности поездок:\n",
      "count    18068.000000\n",
      "mean        17.805011\n",
      "std          6.091051\n",
      "min          0.500000\n",
      "25%         13.597563\n",
      "50%         17.678395\n",
      "75%         21.724800\n",
      "max         40.823963\n",
      "Name: duration, dtype: float64\n"
     ]
    },
    {
     "data": {
      "image/png": "[encoded data removed]",
      "text/plain": [
       "<Figure size 720x432 with 1 Axes>"
      ]
     },
     "metadata": {
      "needs_background": "light"
     },
     "output_type": "display_data"
    },
    {
     "data": {
      "image/png": "[encoded data removed]",
      "text/plain": [
       "<Figure size 576x432 with 1 Axes>"
      ]
     },
     "metadata": {
      "needs_background": "light"
     },
     "output_type": "display_data"
    }
   ],
   "source": [
    "# Статистика продолжительности поездок\n",
    "duration_stats = rides['duration'].describe()\n",
    "print(\"Статистика продолжительности поездок:\")\n",
    "print(duration_stats)\n",
    "\n",
    "# Гистограмма распределения продолжительности поездок\n",
    "plt.figure(figsize=(10, 6))\n",
    "rides['duration'].hist(bins=40, color='teal', edgecolor='black')\n",
    "plt.title('Распределение продолжительности поездок')\n",
    "plt.xlabel('Продолжительность (минуты)')\n",
    "plt.ylabel('Количество поездок')\n",
    "plt.show()\n",
    "\n",
    "# Анализ выбросов в продолжительности поездок\n",
    "plt.figure(figsize=(8, 6))\n",
    "plt.boxplot(rides['duration'], vert=False, patch_artist=True, boxprops=dict(facecolor='lightpink'))\n",
    "plt.title('Распределение продолжительности поездок')\n",
    "plt.xlabel('Продолжительность (минуты)')\n",
    "plt.show()"
   ]
  },
  {
   "cell_type": "markdown",
   "id": "0aa48728",
   "metadata": {},
   "source": [
    "Всего в данных представлено 18068 поездок. Большинство поездок находятся в диапазоне 13.6–21.7 минут, что соответствует повседневным поездкам. Умеренное стандартное отклонение (6.1 мин ) указывает на то, что большинство поездок сосредоточены вокруг среднего значения (17.8 мин).\n",
    "\n",
    "Пик плотности: наибольшее количество поездок приходится на продолжительность около 17–20 минут. \n",
    "Симметрия: распределение близко к нормальному, но имеет небольшую асимметрию в сторону больших значений (правосторонняя асимметрия).\n",
    "Выбросы: небольшое количество поездок имеют очень большую продолжительность (более 30 минут), что видно по хвосту гистограммы.\n",
    "\n",
    "Минимальная продолжительность (0.5 мин) может быть вызвана ошибками или тестовыми поездками. Рекомендуется проверить такие данные на наличие аномалий.\n",
    "Максимальная продолжительность (40.8 мин ) показывает, что сервис используется и для более длительных маршрутов.\n",
    "\n",
    "Рекомендации:\n",
    "Проанализировать короткие поездки (меньше 1 минуты) на предмет технических ошибок или неправильного использования сервиса. Изучить причины длинных поездок (более 30 минут), чтобы понять, как можно улучшить сервис для таких маршрутов (например, увеличить запас хода самокатов).\n",
    "Оптимизировать зоны размещения самокатов, чтобы они были доступны для типичных маршрутов (13.6–21.7 минут)."
   ]
  },
  {
   "cell_type": "markdown",
   "id": "4ef51331",
   "metadata": {},
   "source": [
    "#### Шаг 4. Объединение данных"
   ]
  },
  {
   "cell_type": "markdown",
   "id": "6966383f",
   "metadata": {},
   "source": [
    "4.1 Объединим данные о пользователях, поездках и подписках в один датафрейм. "
   ]
  },
  {
   "cell_type": "code",
   "execution_count": 28,
   "id": "117ec37a",
   "metadata": {},
   "outputs": [
    {
     "name": "stdout",
     "output_type": "stream",
     "text": [
      "   user_id  name  age    city subscription_type  minute_price  \\\n",
      "0        1  Кира   22  Тюмень             ultra             6   \n",
      "1        1  Кира   22  Тюмень             ultra             6   \n",
      "2        1  Кира   22  Тюмень             ultra             6   \n",
      "3        1  Кира   22  Тюмень             ultra             6   \n",
      "4        1  Кира   22  Тюмень             ultra             6   \n",
      "\n",
      "   start_ride_price  subscription_fee  distance   duration       date  month  \n",
      "0                 0               199   4409.92  25.599769 2021-01-01      1  \n",
      "1                 0               199   2617.59  15.816871 2021-01-18      1  \n",
      "2                 0               199    754.16   6.232113 2021-04-20      4  \n",
      "3                 0               199   2694.78  18.511000 2021-08-11      8  \n",
      "4                 0               199   4028.69  26.265803 2021-08-28      8  \n"
     ]
    }
   ],
   "source": [
    "# Объединим users и subscriptions по subscription_type\n",
    "merged_data = users.merge(subscriptions, on='subscription_type', how='left')\n",
    "\n",
    "# Добавим данные о поездках rides по user_id\n",
    "final_data = merged_data.merge(rides, on='user_id', how='left')\n",
    "\n",
    "# Выведим первые строки объединенного датафрейма\n",
    "print(final_data.head())"
   ]
  },
  {
   "cell_type": "code",
   "execution_count": 29,
   "id": "3ca940b0",
   "metadata": {},
   "outputs": [
    {
     "name": "stdout",
     "output_type": "stream",
     "text": [
      "Размерность final_data: (18068, 12)\n"
     ]
    }
   ],
   "source": [
    "# Проверяем размерность датасета\n",
    "print(\"Размерность final_data:\", final_data.shape)"
   ]
  },
  {
   "cell_type": "markdown",
   "id": "9abbb587",
   "metadata": {},
   "source": [
    "Сравним размерность final_data с исходными датафреймами (users, subscriptions, rides). Количество строк в final_data не отличается от количества строк в датафрейме rides (18068). В объединенном датафрейме 12 столбцов."
   ]
  },
  {
   "cell_type": "code",
   "execution_count": 30,
   "id": "c3972a31",
   "metadata": {},
   "outputs": [
    {
     "name": "stdout",
     "output_type": "stream",
     "text": [
      "Пропуски в final_data:\n",
      "user_id              0\n",
      "name                 0\n",
      "age                  0\n",
      "city                 0\n",
      "subscription_type    0\n",
      "minute_price         0\n",
      "start_ride_price     0\n",
      "subscription_fee     0\n",
      "distance             0\n",
      "duration             0\n",
      "date                 0\n",
      "month                0\n",
      "dtype: int64\n"
     ]
    }
   ],
   "source": [
    "# Проверяем количество пропусков в каждом столбце\n",
    "print(\"Пропуски в final_data:\")\n",
    "print(final_data.isnull().sum())"
   ]
  },
  {
   "cell_type": "markdown",
   "id": "23da9d08",
   "metadata": {},
   "source": [
    "Во всех столбцах количество пропусков равно 0, что означает, что данные полные."
   ]
  },
  {
   "cell_type": "code",
   "execution_count": 31,
   "id": "0deb65cb",
   "metadata": {},
   "outputs": [
    {
     "name": "stdout",
     "output_type": "stream",
     "text": [
      "Типы данных в final_data:\n",
      "user_id                       int64\n",
      "name                         object\n",
      "age                           int64\n",
      "city                         object\n",
      "subscription_type            object\n",
      "minute_price                  int64\n",
      "start_ride_price              int64\n",
      "subscription_fee              int64\n",
      "distance                    float64\n",
      "duration                    float64\n",
      "date                 datetime64[ns]\n",
      "month                         int64\n",
      "dtype: object\n"
     ]
    }
   ],
   "source": [
    "# Проверим типы данных\n",
    "print(\"Типы данных в final_data:\")\n",
    "print(final_data.dtypes)"
   ]
  },
  {
   "cell_type": "markdown",
   "id": "8363e95c",
   "metadata": {},
   "source": [
    "Все столбцы имеют корректные типы данных. Это позволяет выполнять дальнейший анализ без преобразований."
   ]
  },
  {
   "cell_type": "code",
   "execution_count": 32,
   "id": "6caa4831",
   "metadata": {},
   "outputs": [
    {
     "name": "stdout",
     "output_type": "stream",
     "text": [
      "Минимальный и максимальный возраст: 12 43\n",
      "Минимальная и максимальная стоимость минуты: 6 8\n",
      "Минимальная и максимальная стоимость старта: 0 50\n",
      "Минимальная и максимальная абонентская плата: 0 199\n",
      "Минимальное и максимальное расстояние: 0.86 7211.01\n",
      "Минимальная и максимальная продолжительность: 0.5 40.82396261922424\n",
      "Минимальный и максимальный месяц: 1 12\n"
     ]
    }
   ],
   "source": [
    "# Проверка диапазонов значений\n",
    "print(\"Минимальный и максимальный возраст:\", final_data['age'].min(), final_data['age'].max())\n",
    "print(\"Минимальная и максимальная стоимость минуты:\", final_data['minute_price'].min(), final_data['minute_price'].max())\n",
    "print(\"Минимальная и максимальная стоимость старта:\", final_data['start_ride_price'].min(), final_data['start_ride_price'].max())\n",
    "print(\"Минимальная и максимальная абонентская плата:\", final_data['subscription_fee'].min(), final_data['subscription_fee'].max())\n",
    "print(\"Минимальное и максимальное расстояние:\", final_data['distance'].min(), final_data['distance'].max())\n",
    "print(\"Минимальная и максимальная продолжительность:\", final_data['duration'].min(), final_data['duration'].max())\n",
    "print(\"Минимальный и максимальный месяц:\", final_data['month'].min(), final_data['month'].max())"
   ]
  },
  {
   "cell_type": "markdown",
   "id": "e7581ddd",
   "metadata": {},
   "source": [
    "Все значения находятся в допустимых диапазонах."
   ]
  },
  {
   "cell_type": "code",
   "execution_count": 33,
   "id": "c75b0954",
   "metadata": {},
   "outputs": [
    {
     "name": "stdout",
     "output_type": "stream",
     "text": [
      "Уникальные значения subscription_type: ['ultra' 'free']\n",
      "Уникальные значения city: ['Тюмень' 'Омск' 'Москва' 'Ростов-на-Дону' 'Краснодар' 'Пятигорск'\n",
      " 'Екатеринбург' 'Сочи']\n"
     ]
    }
   ],
   "source": [
    "# Проверка уникальных значений\n",
    "print(\"Уникальные значения subscription_type:\", final_data['subscription_type'].unique())\n",
    "print(\"Уникальные значения city:\", final_data['city'].unique())"
   ]
  },
  {
   "cell_type": "markdown",
   "id": "a060752b",
   "metadata": {},
   "source": [
    "Проверка уникальных значений в subscription_type после объединения показала 2 типа подписки: 'ultra' и 'free', а в city наблюдаем 8 городов России. Двигаемся дальше."
   ]
  },
  {
   "cell_type": "markdown",
   "id": "f473097e",
   "metadata": {},
   "source": [
    "4.2 Создадим ещё два датафрейма из датафрейма, созданного на этапе 4.1: "
   ]
  },
  {
   "cell_type": "code",
   "execution_count": 34,
   "id": "1b22a9cc",
   "metadata": {},
   "outputs": [
    {
     "name": "stdout",
     "output_type": "stream",
     "text": [
      "Пользователи без подписки:\n",
      "      user_id   name  age  city subscription_type  minute_price  \\\n",
      "6500      700  Айдар   22  Омск              free             8   \n",
      "6501      700  Айдар   22  Омск              free             8   \n",
      "6502      700  Айдар   22  Омск              free             8   \n",
      "6503      700  Айдар   22  Омск              free             8   \n",
      "6504      700  Айдар   22  Омск              free             8   \n",
      "\n",
      "      start_ride_price  subscription_fee  distance   duration       date  \\\n",
      "6500                50                 0   2515.69  14.944286 2021-01-02   \n",
      "6501                50                 0    846.93  16.234663 2021-02-01   \n",
      "6502                50                 0   4004.43  20.016628 2021-02-04   \n",
      "6503                50                 0   1205.91   9.782872 2021-02-10   \n",
      "6504                50                 0   3047.38  17.427673 2021-02-14   \n",
      "\n",
      "      month  \n",
      "6500      1  \n",
      "6501      2  \n",
      "6502      2  \n",
      "6503      2  \n",
      "6504      2  \n",
      "\n",
      "Пользователи с подпиской:\n",
      "   user_id  name  age    city subscription_type  minute_price  \\\n",
      "0        1  Кира   22  Тюмень             ultra             6   \n",
      "1        1  Кира   22  Тюмень             ultra             6   \n",
      "2        1  Кира   22  Тюмень             ultra             6   \n",
      "3        1  Кира   22  Тюмень             ultra             6   \n",
      "4        1  Кира   22  Тюмень             ultra             6   \n",
      "\n",
      "   start_ride_price  subscription_fee  distance   duration       date  month  \n",
      "0                 0               199   4409.92  25.599769 2021-01-01      1  \n",
      "1                 0               199   2617.59  15.816871 2021-01-18      1  \n",
      "2                 0               199    754.16   6.232113 2021-04-20      4  \n",
      "3                 0               199   2694.78  18.511000 2021-08-11      8  \n",
      "4                 0               199   4028.69  26.265803 2021-08-28      8  \n"
     ]
    }
   ],
   "source": [
    "# Данные о пользователях без подписки\n",
    "free_users = final_data[final_data['subscription_type'] == 'free']\n",
    "\n",
    "# Данные о пользователях с подпиской\n",
    "ultra_users = final_data[final_data['subscription_type'] == 'ultra']\n",
    "\n",
    "# Вывод первых строк для проверки\n",
    "print(\"Пользователи без подписки:\")\n",
    "print(free_users.head())\n",
    "\n",
    "print(\"\\nПользователи с подпиской:\")\n",
    "print(ultra_users.head())"
   ]
  },
  {
   "cell_type": "markdown",
   "id": "8b665f6b",
   "metadata": {},
   "source": [
    "Визуализируем информацию о расстоянии и времени поездок для пользователей обеих категорий."
   ]
  },
  {
   "cell_type": "code",
   "execution_count": 35,
   "id": "6bf288b5",
   "metadata": {},
   "outputs": [
    {
     "data": {
      "image/png": "[encoded data removed]",
      "text/plain": [
       "<Figure size 864x432 with 1 Axes>"
      ]
     },
     "metadata": {
      "needs_background": "light"
     },
     "output_type": "display_data"
    },
    {
     "data": {
      "image/png": "[encoded data removed]",
      "text/plain": [
       "<Figure size 864x432 with 1 Axes>"
      ]
     },
     "metadata": {
      "needs_background": "light"
     },
     "output_type": "display_data"
    }
   ],
   "source": [
    "# Гистограмма расстояний для обеих групп\n",
    "plt.figure(figsize=(12, 6))\n",
    "\n",
    "# Пользователи без подписки\n",
    "plt.hist(free_users['distance'], bins=30, alpha=0.5, label='Без подписки', color='blue')\n",
    "\n",
    "# Пользователи с подпиской\n",
    "plt.hist(ultra_users['distance'], bins=30, alpha=0.5, label='С подпиской', color='red')\n",
    "\n",
    "plt.title('Распределение расстояний поездок')\n",
    "plt.xlabel('Расстояние (метры)')\n",
    "plt.ylabel('Количество поездок')\n",
    "plt.legend() # Добавляем легенду для наглядного сравнения двух групп.\n",
    "plt.show()\n",
    "\n",
    "# Гистограмма продолжительности поездок для обеих групп\n",
    "plt.figure(figsize=(12, 6))\n",
    "\n",
    "# Пользователи без подписки\n",
    "plt.hist(free_users['duration'], bins=30, alpha=0.5, label='Без подписки', color='blue')\n",
    "\n",
    "# Пользователи с подпиской\n",
    "plt.hist(ultra_users['duration'], bins=30, alpha=0.5, label='С подпиской', color='red')\n",
    "\n",
    "plt.title('Распределение продолжительности поездок')\n",
    "plt.xlabel('Продолжительность (минуты)')\n",
    "plt.ylabel('Количество поездок')\n",
    "plt.legend() # Добавляем легенду для наглядного сравнения двух групп.\n",
    "plt.show()"
   ]
  },
  {
   "cell_type": "markdown",
   "id": "cbd66ea3",
   "metadata": {},
   "source": [
    "Анализ распределения расстояний поездок (первый график).\n",
    "Основной пик распределения приходится на 2000-4000 метров.\n",
    "Пользователи без подписки (синий) по сравнению с пользователями с подпиской (красный) совершают больше коротких поездок (до 1000 м). Пользователи с подпиской (красный) делают меньше коротких поездок, но их средняя дистанция примерно такая же как у пользователей без подписки (синий).\n",
    "Вывод: подписка незначительно влияет на расстояние поездки – пользователи обеих групп ездят примерно одинаковые дистанции.\n",
    "\n",
    "Анализ распределения продолжительности поездок (второй график)\n",
    "Основной пик поездок – 10-25 минут.\n",
    "Пользователи без подписки (синий) совершают больше коротких поездок (до 10 минут). \n",
    "Пользователи с подпиской (красный) реже делают короткие поездки, но их общее распределение очень похоже.\n",
    "Вывод: подписка не влияет на время поездки так же сильно, как можно было бы ожидать. Однако пользователи без подписки чаще совершают очень короткие поездки."
   ]
  },
  {
   "cell_type": "markdown",
   "id": "402d620f",
   "metadata": {},
   "source": [
    "#### Шаг 5. Подсчёт выручки"
   ]
  },
  {
   "cell_type": "markdown",
   "id": "401096df",
   "metadata": {},
   "source": [
    "5.1 Создадим датафрейм с агрегированными данными о поездках на основе датафрейма с объединёнными данными."
   ]
  },
  {
   "cell_type": "code",
   "execution_count": null,
   "id": "53049e0a",
   "metadata": {},
   "outputs": [
    {
     "name": "stdout",
     "output_type": "stream",
     "text": [
      "   user_id  month subscription_type  total_distance  trip_count  \\\n",
      "0        1      1             ultra         7027.51           2   \n",
      "1        1      4             ultra          754.16           1   \n",
      "2        1      8             ultra         6723.47           2   \n",
      "3        1     10             ultra         5809.91           2   \n",
      "4        1     11             ultra         7003.50           3   \n",
      "\n",
      "   total_duration  start_ride_price  minute_price  subscription_fee  \n",
      "0            42.0                 0             6               199  \n",
      "1             7.0                 0             6               199  \n",
      "2            46.0                 0             6               199  \n",
      "3            32.0                 0             6               199  \n",
      "4            56.0                 0             6               199  \n"
     ]
    }
   ],
   "source": [
    "# Округление продолжительности поездок перед суммированием\n",
    "final_data['duration'] = np.ceil(final_data['duration'])\n",
    "\n",
    "# Группируем данные по user_id, month и subscription_type\n",
    "aggregated_data = final_data.groupby(['user_id', 'month', 'subscription_type']).agg(\n",
    "    total_distance=('distance', 'sum'),               # Суммарное расстояние\n",
    "    trip_count=('distance', 'count'),                 # Количество поездок\n",
    "    total_duration=('duration', 'sum'),               # Суммарное время (после округления!)\n",
    "    start_ride_price=('start_ride_price', 'first'),   # Стоимость старта поездки\n",
    "    minute_price=('minute_price', 'first'),           # Стоимость минуты\n",
    "    subscription_fee=('subscription_fee', 'first')    # Абонентская плата\n",
    ").reset_index()\n",
    "\n",
    "# Выведим первые строки агрегированного датафрейма\n",
    "print(aggregated_data.head())"
   ]
  },
  {
   "cell_type": "markdown",
   "id": "281dc12e",
   "metadata": {},
   "source": [
    "Комментарий студента: проверим пропуски в созданной сводной таблице aggregated_data."
   ]
  },
  {
   "cell_type": "code",
   "execution_count": 37,
   "id": "aa00374b",
   "metadata": {},
   "outputs": [
    {
     "name": "stdout",
     "output_type": "stream",
     "text": [
      "Пропуски в aggregated_data:\n",
      "user_id              0\n",
      "month                0\n",
      "subscription_type    0\n",
      "total_distance       0\n",
      "trip_count           0\n",
      "total_duration       0\n",
      "start_ride_price     0\n",
      "minute_price         0\n",
      "subscription_fee     0\n",
      "dtype: int64\n"
     ]
    }
   ],
   "source": [
    "# Проверяем пропуски в созданной сводной таблице\n",
    "print(\"Пропуски в aggregated_data:\")\n",
    "print(aggregated_data.isnull().sum())"
   ]
  },
  {
   "cell_type": "markdown",
   "id": "95d3f4e5",
   "metadata": {},
   "source": [
    "Во всех столбцах количество пропусков равно 0, что означает, что данные полные."
   ]
  },
  {
   "cell_type": "markdown",
   "id": "8478b5db",
   "metadata": {},
   "source": [
    "5.2 Добавим в этот же датафрейм столбец с помесячной выручкой, которую принёс каждый пользователь."
   ]
  },
  {
   "cell_type": "code",
   "execution_count": 38,
   "id": "5215dc1a",
   "metadata": {
    "scrolled": true
   },
   "outputs": [
    {
     "name": "stdout",
     "output_type": "stream",
     "text": [
      "   user_id  month subscription_type  total_distance  trip_count  \\\n",
      "0        1      1             ultra         7027.51           2   \n",
      "1        1      4             ultra          754.16           1   \n",
      "2        1      8             ultra         6723.47           2   \n",
      "3        1     10             ultra         5809.91           2   \n",
      "4        1     11             ultra         7003.50           3   \n",
      "\n",
      "   total_duration  start_ride_price  minute_price  subscription_fee  revenue  \n",
      "0            42.0                 0             6               199    451.0  \n",
      "1             7.0                 0             6               199    241.0  \n",
      "2            46.0                 0             6               199    475.0  \n",
      "3            32.0                 0             6               199    391.0  \n",
      "4            56.0                 0             6               199    535.0  \n"
     ]
    }
   ],
   "source": [
    "# Корректный расчет выручки\n",
    "\n",
    "# Пользователи без подписки (учитываем все платежи)\n",
    "aggregated_data.loc[aggregated_data['subscription_type'] == 'free', 'revenue'] = (\n",
    "    aggregated_data['trip_count'] * aggregated_data['start_ride_price'] +  \n",
    "    aggregated_data['total_duration'] * aggregated_data['minute_price']\n",
    ")\n",
    "\n",
    "# Пользователи с подпиской (не учитываем старт поездки, но добавляем абонплату)\n",
    "aggregated_data.loc[aggregated_data['subscription_type'] == 'ultra', 'revenue'] = (\n",
    "    aggregated_data['total_duration'] * aggregated_data['minute_price'] + \n",
    "    aggregated_data['subscription_fee']\n",
    ")\n",
    "\n",
    "# Проверяем исправленный результат\n",
    "print(aggregated_data.head())"
   ]
  },
  {
   "cell_type": "code",
   "execution_count": 39,
   "id": "edde31a0",
   "metadata": {},
   "outputs": [
    {
     "name": "stdout",
     "output_type": "stream",
     "text": [
      "Правильное значение суммы выручки 3878641, сумма выручки расчитанная в таблице: 3878641.0\n"
     ]
    }
   ],
   "source": [
    "# Комментарий ревьюера\n",
    "# Контроль суммы выручки\n",
    "tmp, col_rev = aggregated_data.copy(), 'revenue'\n",
    "print(\"Правильное значение суммы выручки 3878641, сумма выручки расчитанная в таблице:\", tmp[col_rev].sum())"
   ]
  },
  {
   "cell_type": "code",
   "execution_count": 40,
   "id": "2f0c1ae7",
   "metadata": {},
   "outputs": [
    {
     "name": "stdout",
     "output_type": "stream",
     "text": [
      "Общая сумма выручки: 3878641.00\n"
     ]
    }
   ],
   "source": [
    "# Вычисляем общую сумму выручки после исправлений\n",
    "total_revenue = aggregated_data['revenue'].sum()\n",
    "\n",
    "# Вывод результата\n",
    "print(f\"Общая сумма выручки: {total_revenue:.2f}\")"
   ]
  },
  {
   "cell_type": "markdown",
   "id": "83d27388",
   "metadata": {},
   "source": [
    "После исправлений общая сумма выручки теперь полностью совпадает с правильным значением суммы выручки 3878641."
   ]
  },
  {
   "cell_type": "markdown",
   "id": "41545ac0",
   "metadata": {},
   "source": [
    "#### Шаг 6. Проверка гипотез"
   ]
  },
  {
   "cell_type": "markdown",
   "id": "3806689e",
   "metadata": {},
   "source": [
    "6.1 Важно понять, тратят ли пользователи с подпиской больше времени на поездки? \n",
    "Если да, то пользователи с подпиской могут быть «выгоднее» для компании. Проверим гипотезу. \n",
    "Используем исходные данные о продолжительности каждой сессии — отдельно для подписчиков и тех, у кого нет подписки."
   ]
  },
  {
   "cell_type": "markdown",
   "id": "953e8136",
   "metadata": {},
   "source": [
    "Формулировка гипотез:\n",
    "\n",
    "Нулевая гипотеза (H₀): Среднее время поездки одинаково для пользователей с подпиской и без подписки (равны).\n",
    "\n",
    "Альтернативная гипотеза (H₁): Среднее время поездки для пользователей с подпиской больше, чем для пользователей без подписки."
   ]
  },
  {
   "cell_type": "code",
   "execution_count": 41,
   "id": "64d2ca91",
   "metadata": {},
   "outputs": [
    {
     "name": "stdout",
     "output_type": "stream",
     "text": [
      "Тест Левена: p-value = 0.00000\n",
      "T-статистика: 12.683\n",
      "p-значение: 0.00000\n",
      "Отвергаем нулевую гипотезу: пользователи с подпиской тратят больше времени на поездки.\n"
     ]
    }
   ],
   "source": [
    "# Данные о продолжительности поездок\n",
    "free_durations = free_users['duration']\n",
    "ultra_durations = ultra_users['duration']\n",
    "\n",
    "# Шаг 1: Проверка равенства дисперсий (тест Левена)\n",
    "levene_test = levene(free_durations, ultra_durations)\n",
    "print(f\"Тест Левена: p-value = {levene_test.pvalue:.5f}\")\n",
    "\n",
    "# Определяем параметр equal_var на основе теста Левена\n",
    "equal_var_assumption = levene_test.pvalue > 0.05  # Если p > 0.05, дисперсии равны\n",
    "\n",
    "# Шаг 2: Односторонний t-тест для независимых выборок\n",
    "t_stat, p_value = ttest_ind(ultra_durations, free_durations, equal_var=equal_var_assumption, alternative='greater')\n",
    "\n",
    "# Вывод результатов\n",
    "print(f\"T-статистика: {t_stat:.3f}\")\n",
    "print(f\"p-значение: {p_value:.5f}\")\n",
    "\n",
    "# Шаг 3: Интерпретация результата\n",
    "alpha = 0.05  # Уровень значимости\n",
    "if p_value < alpha:\n",
    "    print(\"Отвергаем нулевую гипотезу: пользователи с подпиской тратят больше времени на поездки.\")\n",
    "else:\n",
    "    print(\"Не отвергаем нулевую гипотезу: существенной разницы в времени поездок нет.\")\n"
   ]
  },
  {
   "cell_type": "markdown",
   "id": "fb1c7839",
   "metadata": {},
   "source": [
    "Комментарий студента:\n",
    "\n",
    "Анализ результатов:\n",
    "\n",
    "Тест Левена (p-value = 0.00000):\n",
    "p-value меньше 0.05, что означает, что дисперсии двух выборок существенно различаются.\n",
    "В T-тесте использовалась настройка equal_var=False, что корректно учитывает разницу дисперсий.\n",
    "\n",
    "T-статистика (12.683):\n",
    "Большое положительное значение говорит о значительной разнице в средней продолжительности поездок между пользователями с подпиской и без подписки.\n",
    "\n",
    "p-value (0.00000):\n",
    "p-value значительно меньше уровня значимости (0.05), что означает, что разница статистически значима."
   ]
  },
  {
   "cell_type": "markdown",
   "id": "613a6477",
   "metadata": {},
   "source": [
    "Комментарий студента 2:\n",
    "\n",
    "Вывод:\n",
    "\n",
    "Пользователи с подпиской тратят больше времени на поездки, чем пользователи без подписки. Результаты статистически значимы, что подтверждает важность подписочной модели для бизнеса."
   ]
  },
  {
   "cell_type": "markdown",
   "id": "3744c04a",
   "metadata": {},
   "source": [
    "6.2 Расстояние одной поездки в 3130 метров — оптимальное с точки зрения износа самоката. \n",
    "Можно ли сказать, что среднее расстояние, которое проезжают пользователи с подпиской за одну поездку, не превышает  3130 метров? Проверим гипотезу и сделаем выводы."
   ]
  },
  {
   "cell_type": "markdown",
   "id": "423f6e3d",
   "metadata": {},
   "source": [
    "Комментарий студента: сформулируем нулевую и альтернативную гипотезы."
   ]
  },
  {
   "cell_type": "markdown",
   "id": "9162e7f7",
   "metadata": {},
   "source": [
    "Нулевая гипотеза:\n",
    "Среднее расстояние одной поездки для пользователей с подпиской не превышает 3130 метров.\n",
    "\n",
    "Альтернативная гипотеза:\n",
    "Среднее расстояние одной поездки для пользователей с подпиской превышает 3130 метров."
   ]
  },
  {
   "cell_type": "markdown",
   "id": "315cb7c5",
   "metadata": {},
   "source": [
    "Комментарий студента:\n",
    "\n",
    "Нулевая гипотеза: μ ≤ 3130\n",
    "\n",
    "Среднее расстояние одной поездки для пользователей с подпиской не превышает (меньше либо равно) 3130 метров.\n",
    "\n",
    "Альтернативная гипотеза: μ>3130\n",
    "\n",
    "Среднее расстояние одной поездки для пользователей с подпиской превышает (больше) 3130 метров."
   ]
  },
  {
   "cell_type": "code",
   "execution_count": 42,
   "id": "c8242fd8",
   "metadata": {},
   "outputs": [
    {
     "name": "stdout",
     "output_type": "stream",
     "text": [
      "Количество наблюдений: 6500\n",
      "T-статистика: -1.402\n",
      "p-значение: 0.91954\n",
      "Не отвергаем нулевую гипотезу: среднее расстояние не превышает 3130 метров.\n"
     ]
    }
   ],
   "source": [
    "# Фильтруем данные: среднее расстояние одной поездки для пользователей с подпиской\n",
    "ultra_trip_distances = final_data[final_data['subscription_type'] == 'ultra']['distance']\n",
    "\n",
    "# Проверка на количество наблюдений\n",
    "n = len(ultra_trip_distances)\n",
    "\n",
    "# Проведение одновыборочного t-теста\n",
    "t_stat, p_value = stats.ttest_1samp(ultra_trip_distances, popmean=3130, alternative='greater')\n",
    "\n",
    "# Вывод результатов\n",
    "print(f\"Количество наблюдений: {n}\")\n",
    "print(f\"T-статистика: {t_stat:.3f}\")\n",
    "print(f\"p-значение: {p_value:.5f}\")\n",
    "\n",
    "# Интерпретация результатов\n",
    "alpha = 0.05\n",
    "if p_value < alpha:\n",
    "    print(\"Отвергаем нулевую гипотезу: среднее расстояние действительно превышает 3130 метров.\")\n",
    "else:\n",
    "    print(\"Не отвергаем нулевую гипотезу: среднее расстояние не превышает 3130 метров.\")"
   ]
  },
  {
   "cell_type": "markdown",
   "id": "35edb11c",
   "metadata": {},
   "source": [
    "Интерпретация результата:\n",
    "\n",
    "T-статистика = -1.402 это означает, что среднее расстояние меньше 3130 метров (отрицательное значение указывает на это).\n",
    "p-значение = 0.91954 → намного больше 0.05, значит, у нас нет оснований отвергать нулевую гипотезу.\n",
    "\n",
    "Вывод: среднее расстояние поездки пользователей с подпиской не превышает 3130 метров.\n",
    "\n",
    "Это означает, что подписчики не эксплуатируют самокаты больше, чем в среднем безопасно (с точки зрения износа). Возможно, это связано с их пользовательским поведением: они могут ездить на более короткие расстояния, но делать это чаще."
   ]
  },
  {
   "cell_type": "markdown",
   "id": "79cb0b2c",
   "metadata": {},
   "source": [
    "6.3 Проверим гипотезу и сделаем вывод.\n",
    "Будет ли помесячная выручка от пользователей с подпиской по месяцам выше, чем выручка от пользователей без подписки. "
   ]
  },
  {
   "cell_type": "markdown",
   "id": "53cff46a",
   "metadata": {},
   "source": [
    "Комментарий студента:\n",
    "\n",
    "Нулевая гипотеза: средняя помесячная выручка от пользователей с подпиской не превышает (меньше либо равно) среднюю помесячную выручку от пользователей без подписки.\n",
    "\n",
    "H0: μ подписчики ≤ μ без подписки\n",
    "\n",
    "Альтернативная гипотеза: средняя помесячная выручка от пользователей с подпиской больше, чем у пользователей без подписки.\n",
    "\n",
    "HA: μ подписчики > μ без подписки"
   ]
  },
  {
   "cell_type": "code",
   "execution_count": 43,
   "id": "1b42b8f2",
   "metadata": {},
   "outputs": [
    {
     "name": "stdout",
     "output_type": "stream",
     "text": [
      "Тест Левена на равенство дисперсий: p-value = 1.588903062876513e-272\n",
      "T-статистика: 13.202\n",
      "p-значение: 0.00000\n",
      "Отвергаем нулевую гипотезу: средняя помесячная выручка от подписчиков выше.\n"
     ]
    }
   ],
   "source": [
    "# Формируем выборки\n",
    "revenue_free = aggregated_data[aggregated_data['subscription_type'] == 'free']['revenue']\n",
    "revenue_ultra = aggregated_data[aggregated_data['subscription_type'] == 'ultra']['revenue']\n",
    "\n",
    "# Проверяем равенство дисперсий для корректного выбора параметра equal_var\n",
    "levene_test = levene(revenue_free, revenue_ultra)\n",
    "print(f\"Тест Левена на равенство дисперсий: p-value = {levene_test.pvalue}\")\n",
    "\n",
    "# Выбираем параметр equal_var в зависимости от p-value теста Левена\n",
    "equal_var_assumption = levene_test.pvalue > 0.05  # Если p > 0.05, дисперсии равны\n",
    "\n",
    "# Запускаем t-тест\n",
    "t_stat, p_value = ttest_ind(revenue_ultra, revenue_free, equal_var=equal_var_assumption, alternative='greater')\n",
    "\n",
    "# Выводим результаты\n",
    "print(f\"T-статистика: {t_stat:.3f}\")\n",
    "print(f\"p-значение: {p_value:.5f}\")\n",
    "\n",
    "# Интерпретация результатов\n",
    "alpha = 0.05\n",
    "if p_value < alpha:\n",
    "    print(\"Отвергаем нулевую гипотезу: средняя помесячная выручка от подписчиков выше.\")\n",
    "else:\n",
    "    print(\"Не отвергаем нулевую гипотезу: средняя помесячная выручка от подписчиков НЕ выше.\")"
   ]
  },
  {
   "cell_type": "markdown",
   "id": "6a09b82a",
   "metadata": {},
   "source": [
    "Комментарий студента:\n",
    "\n",
    "\n",
    "Интерпретация результатов:\n",
    "\n",
    "Тест Левена:\n",
    "p-значение практически равно 0, что говорит о том, что дисперсии двух выборок существенно различаются.\n",
    "Из-за этого при проведении t-теста использовалась настройка equal_var=False, чтобы учесть разницу дисперсий.\n",
    "\n",
    "T-статистика (13.202):\n",
    "Большое положительное значение T-статистики показывает, что средняя помесячная выручка от подписчиков значительно выше, чем у пользователей без подписки.\n",
    "\n",
    "p-значение (0.00000):\n",
    "p-значение значительно меньше уровня значимости (α=0.05), что означает, что разница между выборками статистически значима.\n",
    "\n",
    "Мы отвергаем нулевую гипотезу и принимаем альтернативную гипотезу.\n",
    "\n",
    "Вывод:\n",
    "\n",
    "Средняя помесячная выручка от пользователей с подпиской значительно выше, чем у пользователей без подписки. \n",
    "Это подтверждено статистически с высокой степенью уверенности."
   ]
  },
  {
   "cell_type": "markdown",
   "id": "3e14b0eb",
   "metadata": {},
   "source": [
    "6.4 Представьте такую ситуацию: техническая команда сервиса обновила сервера, \n",
    "с которыми взаимодействует мобильное приложение. Она надеется, что из-за этого количество обращений в техподдержку\n",
    "значимо снизилось. Некоторый файл содержит для каждого пользователя данные о количестве обращений до обновления и после него. Какой тест вам понадобился бы для проверки этой гипотезы?"
   ]
  },
  {
   "cell_type": "markdown",
   "id": "5a7fc78b",
   "metadata": {},
   "source": [
    "Ответ:\n",
    "Для проверки гипотезы о том, что количество обращений в техподдержку значимо снизилось после обновления серверов, нам понадобится парный статистический тест (парный t-тест или критерий знаковых рангов Уилкоксона). Это связано с тем, что данные содержат информацию о количестве обращений для каждого пользователя до и после обновления, то есть наблюдения зависимы (связаны между собой). Этот подход учитывает зависимость данных (до и после обновления для каждого пользователя) и позволяет сделать корректные выводы."
   ]
  },
  {
   "cell_type": "markdown",
   "id": "d7164a67",
   "metadata": {},
   "source": [
    "Комментарий студента:\n",
    "\n",
    "В данном случае гипотеза односторонняя, потому что нас интересует только снижение количества обращений.\n",
    "\n",
    "Нулевая гипотеза (H₀): среднее количество обращений не уменьшилось после обновления (либо осталось таким же, либо увеличилось).\n",
    "\n",
    "Альтернативная гипотеза (H₁): среднее количество обращений уменьшилось после обновления."
   ]
  },
  {
   "cell_type": "markdown",
   "id": "61213c5e",
   "metadata": {},
   "source": [
    "#### Шаг 7. Распределения"
   ]
  },
  {
   "cell_type": "markdown",
   "id": "f208d11b",
   "metadata": {},
   "source": [
    "7.1 Отделу маркетинга GoFast поставили задачу: нужно провести акцию с раздачей промокодов на один бесплатный месяц подписки, в рамках которой как минимум 100 существующих клиентов должны продлить эту подписку. То есть по завершении периода действия подписки пользователь может либо отказаться от неё, либо продлить, совершив соответствующий платёж. Эта акция уже проводилась ранее и по итогу выяснилось, что после бесплатного пробного периода подписку продлевают 10 % пользователей. \n",
    "\n",
    "Выясните, какое минимальное количество промокодов нужно разослать, чтобы вероятность не выполнить план была примерно 5 %. Подберите параметры распределения, описывающего эту ситуацию, постройте график распределения и сформулируйте ответ на вопрос о количестве промокодов."
   ]
  },
  {
   "cell_type": "markdown",
   "id": "d8849db5",
   "metadata": {},
   "source": [
    "Решение задачи:\n",
    "Будем использовать биномиальное распределение, которое описывает количество успехов в серии независимых испытаний. В нашем случае:\n",
    "\"Успех\" — это пользователь, который продлевает подписку после бесплатного пробного периода.\n",
    "Вероятность успеха p=0.1 (10 %).\n",
    "Необходимо найти минимальное количество промокодов N, чтобы вероятность не выполнить план (менее 100 продлений) была примерно 5 % (P(X<100)≤0.05)."
   ]
  },
  {
   "cell_type": "code",
   "execution_count": 44,
   "id": "63fa0526",
   "metadata": {
    "scrolled": true
   },
   "outputs": [
    {
     "name": "stdout",
     "output_type": "stream",
     "text": [
      "Минимальное количество промокодов: 1161\n"
     ]
    },
    {
     "data": {
      "image/png": "[encoded data removed]",
      "text/plain": [
       "<Figure size 864x432 with 2 Axes>"
      ]
     },
     "metadata": {
      "needs_background": "light"
     },
     "output_type": "display_data"
    }
   ],
   "source": [
    "# Задаем параметры\n",
    "p = 0.1  # Вероятность успеха\n",
    "target_successes = 100  # Минимальное количество продлений\n",
    "alpha = 0.05  # Допустимая вероятность не выполнить план\n",
    "\n",
    "# Функция для поиска минимального N\n",
    "def find_min_N(p, target_successes, alpha):\n",
    "    N = target_successes  # Начинаем с минимального значения\n",
    "    while True:\n",
    "        # Вычисляем вероятность P(X < 100)\n",
    "        prob_less_than_target = binom.cdf(target_successes - 1, N, p)\n",
    "        if prob_less_than_target <= alpha:\n",
    "            return N\n",
    "        N += 1\n",
    "        \n",
    "# Находим минимальное N\n",
    "min_N = find_min_N(p, target_successes, alpha)\n",
    "print(f\"Минимальное количество промокодов: {min_N}\")\n",
    "\n",
    "# График распределения для найденного N\n",
    "x = np.arange(0, target_successes * 2)  # Диапазон значений для графика\n",
    "pmf_values = binom.pmf(x, min_N, p)  # Функция вероятности массы\n",
    "cdf_values = binom.cdf(x, min_N, p)  # Функция кумулятивного распределения\n",
    "\n",
    "# Построение графиков\n",
    "plt.figure(figsize=(12, 6))\n",
    "\n",
    "# График PMF\n",
    "plt.subplot(1, 2, 1)\n",
    "plt.bar(x, pmf_values, color='blue', alpha=0.7)\n",
    "plt.title('PMF (вероятность каждого значения)')\n",
    "plt.xlabel('Количество продлений')\n",
    "plt.ylabel('Вероятность')\n",
    "\n",
    "# График CDF\n",
    "plt.subplot(1, 2, 2)\n",
    "plt.plot(x, cdf_values, color='orange', marker='o', linestyle='-', linewidth=2)\n",
    "plt.axhline(y=alpha, color='red', linestyle='--', label=f'Alpha = {alpha}')\n",
    "plt.axvline(x=target_successes - 1, color='green', linestyle='--', label=f'Target = {target_successes - 1}')\n",
    "plt.title('CDF (накопленная вероятность)')\n",
    "plt.xlabel('Количество продлений')\n",
    "plt.ylabel('Накопленная вероятность')\n",
    "plt.legend()\n",
    "\n",
    "plt.tight_layout()\n",
    "plt.show()"
   ]
  },
  {
   "cell_type": "markdown",
   "id": "7710715b",
   "metadata": {},
   "source": [
    "Ответ:\n",
    "Минимальное количество промокодов: для достижения плана (минимум 100 продлений) с вероятностью не выполнить план около 5 % необходимо разослать 1161 промокод . Это значение гарантирует, что маркетинговая акция выполнит свои цели с высокой вероятностью.\n",
    "Вероятность того, что менее 100 пользователей продлят подписку, составляет около 5 %, что соответствует заданному уровню значимости.\n",
    "\n",
    "Поведение пользователей:\n",
    "Ожидаемое количество продлений составляет около 1161×0.1=116.1, что близко к целевому значению (100).\n",
    "Большинство значений сконцентрировано в районе этого значения, что говорит о том, что модель адекватно описывает поведение пользователей."
   ]
  },
  {
   "cell_type": "markdown",
   "id": "2c4e68e3",
   "metadata": {},
   "source": [
    "7.2 Отдел маркетинга рассылает клиентам push-уведомления в мобильном приложении. Клиенты могут открыть его или не открывать. Известно, что уведомления открывают около 40 % получивших клиентов. Отдел планирует разослать 1 млн уведомлений. С помощью аппроксимации постройте примерный график распределения и оцените вероятность того, что уведомление откроют не более 399,5 тыс. пользователей."
   ]
  },
  {
   "cell_type": "code",
   "execution_count": 45,
   "id": "8a7f3bde",
   "metadata": {},
   "outputs": [
    {
     "name": "stdout",
     "output_type": "stream",
     "text": [
      "Вероятность того, что уведомление откроют не более 399500 пользователей: 0.1540\n"
     ]
    },
    {
     "data": {
      "image/png": "[encoded data removed]",
      "text/plain": [
       "<Figure size 720x432 with 1 Axes>"
      ]
     },
     "metadata": {
      "needs_background": "light"
     },
     "output_type": "display_data"
    }
   ],
   "source": [
    "# Параметры задачи\n",
    "N = 1_000_000  # Количество отправленных уведомлений\n",
    "p = 0.4        # Вероятность открытия уведомления\n",
    "threshold = 399_500  # Пороговое значение\n",
    "\n",
    "# Вычисляем параметры нормального распределения\n",
    "mu = N * p\n",
    "sigma = np.sqrt(N * p * (1 - p))\n",
    "\n",
    "# Применяем поправку на непрерывность\n",
    "z_score = (threshold + 0.5 - mu) / sigma\n",
    "\n",
    "# Вычисляем вероятность с помощью CDF\n",
    "probability = norm.cdf(z_score)\n",
    "\n",
    "print(f\"Вероятность того, что уведомление откроют не более {threshold} пользователей: {probability:.4f}\")\n",
    "\n",
    "# Построим график нормальной аппроксимации\n",
    "x = np.linspace(mu - 4 * sigma, mu + 4 * sigma, 1000)  # Диапазон значений для графика\n",
    "pdf_values = norm.pdf(x, loc=mu, scale=sigma)          # Функция плотности вероятности\n",
    "\n",
    "plt.figure(figsize=(10, 6))\n",
    "plt.plot(x, pdf_values, label='Нормальная аппроксимация', color='blue')\n",
    "plt.axvline(x=threshold, color='red', linestyle='--', label=f'Порог = {threshold}')\n",
    "plt.fill_between(x, pdf_values, where=(x <= threshold), color='orange', alpha=0.5, label='P(X ≤ порог)')\n",
    "plt.title('Нормальная аппроксимация биномиального распределения')\n",
    "plt.xlabel('Количество открытых уведомлений')\n",
    "plt.ylabel('Плотность вероятности')\n",
    "plt.legend()\n",
    "plt.grid()\n",
    "plt.show()"
   ]
  },
  {
   "cell_type": "markdown",
   "id": "f8f6ec77",
   "metadata": {},
   "source": [
    "Пик плотности вероятности: находится около ожидаемого значения (μ=400,000), что соответствует теоретическому значению.\n",
    "Распределение: график показывает симметричное распределение вокруг пика, что характерно для нормального распределения.\n",
    "Заштрихованная область: определяет вероятность того, что количество открытых уведомлений будет не более 399,500.\n",
    "\n",
    "Маловероятное событие: вероятность того, что уведомление откроют не более 399,500 пользователей, составляет всего 15.40 %. Это указывает на то, что такое событие является относительно маловероятным, так как ожидаемое количество открытых уведомлений (μ=400,000) значительно выше порогового значения.\n",
    "\n",
    "Статистическая уверенность:\n",
    "Использование нормальной аппроксимации позволяет быстро и точно оценить вероятность интересующего события.\n",
    "График наглядно демонстрирует, что большая часть значений сконцентрирована в районе ожидаемого значения, а заштрихованная область занимает небольшую часть под кривой.\n",
    "\n",
    "Поведение пользователей:\n",
    "Ожидаемое количество открытых уведомлений составляет около 400,000, что соответствует теоретическому значению.\n",
    "Большинство значений сконцентрировано в районе этого значения, что говорит о том, что модель адекватно описывает поведение пользователей.\n",
    "\n",
    "Рекомендации:\n",
    "Если отдел маркетинга хочет минимизировать риск недостижения целевого количества открытых уведомлений, стоит рассмотреть дополнительные меры для повышения вовлеченности пользователей. Например, можно использовать более привлекательные заголовки или содержание уведомлений, чтобы повысить вероятность их открытия."
   ]
  },
  {
   "cell_type": "markdown",
   "id": "f08cc142",
   "metadata": {},
   "source": [
    "Выводы по исследованию:\n",
    "\n",
    "В ходе анализа данных сервиса аренды самокатов GoFast были проведены различные исследования, направленные на понимание поведения пользователей и проверку гипотез, которые могут помочь компании повысить эффективность работы и увеличить доход.\n",
    "\n",
    "Пользовательская база:\n",
    "\n",
    "В сервисе зарегистрировано 1565 пользователей из 8 городов России.\n",
    "Большинство пользователей (54,4%) используют бесплатную версию, тогда как 45,6% оформляют платную подписку.\n",
    "Средний возраст пользователей — 25 лет, но есть несовершеннолетние (12 лет), что нарушает законодательные нормы аренды самокатов.\n",
    "\n",
    "Поведение пользователей:\n",
    "\n",
    "Средняя продолжительность поездки составляет 17,8 минут, а средняя дистанция — 3,1 км.\n",
    "Пользователи без подписки чаще совершают короткие поездки, тогда как подписчики более склонны к поездкам средней и большой продолжительности. Пользователи с подпиской тратят больше времени на поездки, чем пользователи без подписки. Результаты подтверждает важность подписочной модели для бизнеса.\n",
    "\n",
    "Финансовый анализ и выручка:\n",
    "\n",
    "Средняя помесячная выручка от подписчиков значительно выше, чем от пользователей без подписки. Это доказывает, что подписочная модель выгоднее для компании. Подписчики совершают более длительные поездки, что повышает использование самокатов и потенциальную выручку. Так как среднее расстояние одной поездки подписчиков не превышает 3130 метров, это означает, что они не перегружают самокаты сверх нормы износа. \n",
    "\n",
    "Маркетинговые инсайты:\n",
    "\n",
    "Почти 55% пользователей выбирают бесплатный тариф. Это говорит о потенциале роста конверсии в подписку и необходимости донести до пользователей ценность подписки. Для успешного проведения акции с промокодами необходимо разослать минимум 1161 промокодов, чтобы с вероятностью 95% подписку продлили не менее 100 пользователей. Промокоды эффективны, но не дают высокой конверсии (10%). \n",
    "\n",
    "Точки роста и улучшения:\n",
    "\n",
    "Улучшить описание преимуществ подписки и предложить тестовые периоды для новых пользователей.\n",
    "Чтобы повысить корверсию промокодов можно протестировать улучшенные условия (например, «1 месяц бесплатно + скидка 50% на следующий»).\n",
    "Популярность сервиса в Москве самая низкая. Провести анализ конкурентной среды Москвы и разработать локальные маркетинговые стратегии. Возможно, сильная конкуренция, неудобные зоны парковки или отсутствие эффективного маркетинга. Требуется более глубокий анализ.\n",
    "Наличие пользователей младше 18 лет может привести к штрафам и репутационным рискам. Необходимо внедрить проверку возраста при регистрации (например, с помощью загрузки документов).\n",
    "\n",
    "Рекомендации для бизнеса:\n",
    "\n",
    "Развивать подписочную модель, так как подписчики тратят больше времени в поездках и приносят больше выручки.\n",
    "Анализировать причины низкой популярности сервиса в Москве и применять успешные практики других городов.\n",
    "Рассмотреть маркетинговые стратегии для повышения конверсии с бесплатной подписки на платную.\n",
    "Диагностировать аномалии в данных, например, поездки продолжительностью 0,5 минуты с большим расстоянием.\n",
    "Увеличить потенциал роста открываемости push-уведомлений за счет персонализации сообщений и A/B-тестов."
   ]
  }
 ],
 "metadata": {
  "ExecuteTimeLog": [
   {
    "duration": 51,
    "start_time": "2025-03-18T04:14:05.115Z"
   },
   {
    "duration": 7,
    "start_time": "2025-03-18T04:14:17.804Z"
   },
   {
    "duration": 7,
    "start_time": "2025-03-18T04:15:37.506Z"
   },
   {
    "duration": 7,
    "start_time": "2025-03-18T04:16:05.064Z"
   },
   {
    "duration": 467,
    "start_time": "2025-03-18T04:16:25.299Z"
   },
   {
    "duration": 58,
    "start_time": "2025-03-18T04:16:26.583Z"
   },
   {
    "duration": 7,
    "start_time": "2025-03-18T04:16:29.776Z"
   },
   {
    "duration": 3,
    "start_time": "2025-03-18T04:18:01.945Z"
   },
   {
    "duration": 6,
    "start_time": "2025-03-18T04:18:13.204Z"
   },
   {
    "duration": 5,
    "start_time": "2025-03-18T04:18:24.517Z"
   },
   {
    "duration": 5,
    "start_time": "2025-03-18T04:19:43.549Z"
   },
   {
    "duration": 5,
    "start_time": "2025-03-18T04:21:40.722Z"
   },
   {
    "duration": 6,
    "start_time": "2025-03-18T04:22:34.740Z"
   },
   {
    "duration": 61,
    "start_time": "2025-03-18T04:22:55.517Z"
   },
   {
    "duration": 6,
    "start_time": "2025-03-18T04:23:00.424Z"
   },
   {
    "duration": 6,
    "start_time": "2025-03-18T04:23:07.594Z"
   },
   {
    "duration": 6,
    "start_time": "2025-03-18T04:23:27.811Z"
   },
   {
    "duration": 5,
    "start_time": "2025-03-18T04:23:42.531Z"
   },
   {
    "duration": 7,
    "start_time": "2025-03-18T04:24:02.351Z"
   },
   {
    "duration": 6,
    "start_time": "2025-03-18T04:24:04.751Z"
   },
   {
    "duration": 12,
    "start_time": "2025-03-18T04:26:54.793Z"
   },
   {
    "duration": 10,
    "start_time": "2025-03-18T04:30:35.855Z"
   },
   {
    "duration": 12,
    "start_time": "2025-03-18T04:34:49.398Z"
   },
   {
    "duration": 4,
    "start_time": "2025-03-18T04:38:03.278Z"
   },
   {
    "duration": 4,
    "start_time": "2025-03-18T04:40:07.964Z"
   },
   {
    "duration": 13,
    "start_time": "2025-03-18T04:41:42.702Z"
   },
   {
    "duration": 6,
    "start_time": "2025-03-18T04:43:31.477Z"
   },
   {
    "duration": 5,
    "start_time": "2025-03-18T04:44:10.387Z"
   },
   {
    "duration": 3,
    "start_time": "2025-03-18T04:44:40.935Z"
   },
   {
    "duration": 9,
    "start_time": "2025-03-18T04:54:04.008Z"
   },
   {
    "duration": 5,
    "start_time": "2025-03-18T04:59:25.340Z"
   },
   {
    "duration": 6,
    "start_time": "2025-03-18T04:59:30.727Z"
   },
   {
    "duration": 5,
    "start_time": "2025-03-18T05:01:43.694Z"
   },
   {
    "duration": 10,
    "start_time": "2025-03-18T05:52:47.086Z"
   },
   {
    "duration": 10,
    "start_time": "2025-03-18T06:02:43.308Z"
   },
   {
    "duration": 11,
    "start_time": "2025-03-18T06:04:52.550Z"
   },
   {
    "duration": 10,
    "start_time": "2025-03-18T06:06:04.695Z"
   },
   {
    "duration": 27,
    "start_time": "2025-03-18T06:07:44.962Z"
   },
   {
    "duration": 8,
    "start_time": "2025-03-18T06:08:03.922Z"
   },
   {
    "duration": 7,
    "start_time": "2025-03-18T06:15:25.913Z"
   },
   {
    "duration": 9,
    "start_time": "2025-03-18T06:17:42.959Z"
   },
   {
    "duration": 6,
    "start_time": "2025-03-18T06:22:50.717Z"
   },
   {
    "duration": 95,
    "start_time": "2025-03-18T06:23:22.595Z"
   },
   {
    "duration": 383,
    "start_time": "2025-03-18T06:24:35.109Z"
   },
   {
    "duration": 73,
    "start_time": "2025-03-18T06:24:35.494Z"
   },
   {
    "duration": 7,
    "start_time": "2025-03-18T06:24:35.568Z"
   },
   {
    "duration": 18,
    "start_time": "2025-03-18T06:24:35.577Z"
   },
   {
    "duration": 38,
    "start_time": "2025-03-18T06:24:35.596Z"
   },
   {
    "duration": 12,
    "start_time": "2025-03-18T06:24:35.636Z"
   },
   {
    "duration": 61,
    "start_time": "2025-03-18T06:24:35.650Z"
   },
   {
    "duration": 0,
    "start_time": "2025-03-18T06:24:35.713Z"
   },
   {
    "duration": 0,
    "start_time": "2025-03-18T06:24:35.714Z"
   },
   {
    "duration": 0,
    "start_time": "2025-03-18T06:24:35.716Z"
   },
   {
    "duration": 0,
    "start_time": "2025-03-18T06:24:35.717Z"
   },
   {
    "duration": 0,
    "start_time": "2025-03-18T06:24:35.718Z"
   },
   {
    "duration": 0,
    "start_time": "2025-03-18T06:24:35.720Z"
   },
   {
    "duration": 0,
    "start_time": "2025-03-18T06:24:35.721Z"
   },
   {
    "duration": 0,
    "start_time": "2025-03-18T06:24:35.723Z"
   },
   {
    "duration": 0,
    "start_time": "2025-03-18T06:24:35.724Z"
   },
   {
    "duration": 0,
    "start_time": "2025-03-18T06:24:35.726Z"
   },
   {
    "duration": 0,
    "start_time": "2025-03-18T06:24:35.727Z"
   },
   {
    "duration": 0,
    "start_time": "2025-03-18T06:24:35.729Z"
   },
   {
    "duration": 0,
    "start_time": "2025-03-18T06:24:35.730Z"
   },
   {
    "duration": 11,
    "start_time": "2025-03-18T06:24:45.795Z"
   },
   {
    "duration": 6,
    "start_time": "2025-03-18T06:24:56.998Z"
   },
   {
    "duration": 6,
    "start_time": "2025-03-18T06:24:57.775Z"
   },
   {
    "duration": 76,
    "start_time": "2025-03-18T06:24:58.626Z"
   },
   {
    "duration": 8,
    "start_time": "2025-03-18T06:25:34.486Z"
   },
   {
    "duration": 2,
    "start_time": "2025-03-18T06:25:42.430Z"
   },
   {
    "duration": 59,
    "start_time": "2025-03-18T06:25:43.566Z"
   },
   {
    "duration": 6,
    "start_time": "2025-03-18T06:25:44.108Z"
   },
   {
    "duration": 12,
    "start_time": "2025-03-18T06:25:44.848Z"
   },
   {
    "duration": 5,
    "start_time": "2025-03-18T06:25:46.141Z"
   },
   {
    "duration": 12,
    "start_time": "2025-03-18T06:25:46.704Z"
   },
   {
    "duration": 96,
    "start_time": "2025-03-18T06:25:47.341Z"
   },
   {
    "duration": 5,
    "start_time": "2025-03-18T06:25:55.306Z"
   },
   {
    "duration": 9,
    "start_time": "2025-03-18T06:25:56.130Z"
   },
   {
    "duration": 185,
    "start_time": "2025-03-18T06:25:57.172Z"
   },
   {
    "duration": 4,
    "start_time": "2025-03-18T06:26:03.407Z"
   },
   {
    "duration": 4,
    "start_time": "2025-03-18T06:26:06.511Z"
   },
   {
    "duration": 9,
    "start_time": "2025-03-18T06:26:10.502Z"
   },
   {
    "duration": 8,
    "start_time": "2025-03-18T06:26:56.456Z"
   },
   {
    "duration": 420,
    "start_time": "2025-03-18T11:56:34.632Z"
   },
   {
    "duration": 71,
    "start_time": "2025-03-18T11:56:35.053Z"
   },
   {
    "duration": 9,
    "start_time": "2025-03-18T11:56:35.125Z"
   },
   {
    "duration": 33,
    "start_time": "2025-03-18T11:56:35.136Z"
   },
   {
    "duration": 24,
    "start_time": "2025-03-18T11:56:35.170Z"
   },
   {
    "duration": 16,
    "start_time": "2025-03-18T11:56:35.195Z"
   },
   {
    "duration": 9,
    "start_time": "2025-03-18T11:56:35.212Z"
   },
   {
    "duration": 21,
    "start_time": "2025-03-18T11:56:35.223Z"
   },
   {
    "duration": 7,
    "start_time": "2025-03-18T11:56:35.246Z"
   },
   {
    "duration": 4,
    "start_time": "2025-03-18T11:56:35.255Z"
   },
   {
    "duration": 29,
    "start_time": "2025-03-18T11:56:35.260Z"
   },
   {
    "duration": 8,
    "start_time": "2025-03-18T11:56:35.291Z"
   },
   {
    "duration": 7,
    "start_time": "2025-03-18T11:56:35.301Z"
   },
   {
    "duration": 14,
    "start_time": "2025-03-18T11:56:35.310Z"
   },
   {
    "duration": 30,
    "start_time": "2025-03-18T11:56:35.325Z"
   },
   {
    "duration": 13,
    "start_time": "2025-03-18T11:56:35.357Z"
   },
   {
    "duration": 6,
    "start_time": "2025-03-18T11:58:37.436Z"
   },
   {
    "duration": 5,
    "start_time": "2025-03-18T11:58:52.066Z"
   },
   {
    "duration": 5,
    "start_time": "2025-03-18T11:59:05.168Z"
   },
   {
    "duration": 6,
    "start_time": "2025-03-18T12:04:17.100Z"
   },
   {
    "duration": 425,
    "start_time": "2025-03-18T12:04:26.033Z"
   },
   {
    "duration": 70,
    "start_time": "2025-03-18T12:04:26.460Z"
   },
   {
    "duration": 6,
    "start_time": "2025-03-18T12:04:26.532Z"
   },
   {
    "duration": 49,
    "start_time": "2025-03-18T12:04:26.540Z"
   },
   {
    "duration": 15,
    "start_time": "2025-03-18T12:04:26.591Z"
   },
   {
    "duration": 19,
    "start_time": "2025-03-18T12:04:26.607Z"
   },
   {
    "duration": 4,
    "start_time": "2025-03-18T12:04:26.628Z"
   },
   {
    "duration": 23,
    "start_time": "2025-03-18T12:04:26.634Z"
   },
   {
    "duration": 6,
    "start_time": "2025-03-18T12:04:26.659Z"
   },
   {
    "duration": 7,
    "start_time": "2025-03-18T12:04:26.667Z"
   },
   {
    "duration": 16,
    "start_time": "2025-03-18T12:04:26.676Z"
   },
   {
    "duration": 7,
    "start_time": "2025-03-18T12:04:26.694Z"
   },
   {
    "duration": 28,
    "start_time": "2025-03-18T12:04:26.703Z"
   },
   {
    "duration": 12,
    "start_time": "2025-03-18T12:04:26.733Z"
   },
   {
    "duration": 14,
    "start_time": "2025-03-18T12:04:26.747Z"
   },
   {
    "duration": 6,
    "start_time": "2025-03-18T12:04:26.762Z"
   },
   {
    "duration": 9,
    "start_time": "2025-03-18T12:05:41.418Z"
   },
   {
    "duration": 4,
    "start_time": "2025-03-18T12:14:44.791Z"
   },
   {
    "duration": 4,
    "start_time": "2025-03-18T12:23:41.203Z"
   },
   {
    "duration": 3,
    "start_time": "2025-03-18T12:24:24.939Z"
   },
   {
    "duration": 4,
    "start_time": "2025-03-18T12:25:39.711Z"
   },
   {
    "duration": 2,
    "start_time": "2025-03-18T12:25:41.862Z"
   },
   {
    "duration": 5,
    "start_time": "2025-03-18T12:26:29.219Z"
   },
   {
    "duration": 2,
    "start_time": "2025-03-18T12:31:25.883Z"
   },
   {
    "duration": 426,
    "start_time": "2025-03-18T12:31:31.259Z"
   },
   {
    "duration": 176,
    "start_time": "2025-03-18T12:33:15.855Z"
   },
   {
    "duration": 4,
    "start_time": "2025-03-18T12:38:00.052Z"
   },
   {
    "duration": 4,
    "start_time": "2025-03-18T12:38:25.937Z"
   },
   {
    "duration": 4,
    "start_time": "2025-03-18T12:39:10.362Z"
   },
   {
    "duration": 94,
    "start_time": "2025-03-18T12:41:00.877Z"
   },
   {
    "duration": 89,
    "start_time": "2025-03-18T12:52:19.405Z"
   },
   {
    "duration": 256,
    "start_time": "2025-03-18T12:52:36.895Z"
   },
   {
    "duration": 95,
    "start_time": "2025-03-18T12:52:48.500Z"
   },
   {
    "duration": 101,
    "start_time": "2025-03-18T12:52:58.242Z"
   },
   {
    "duration": 87,
    "start_time": "2025-03-18T12:53:11.520Z"
   },
   {
    "duration": 663,
    "start_time": "2025-03-18T13:15:27.177Z"
   },
   {
    "duration": 61,
    "start_time": "2025-03-18T13:15:27.842Z"
   },
   {
    "duration": 7,
    "start_time": "2025-03-18T13:15:27.905Z"
   },
   {
    "duration": 21,
    "start_time": "2025-03-18T13:15:27.914Z"
   },
   {
    "duration": 12,
    "start_time": "2025-03-18T13:15:27.937Z"
   },
   {
    "duration": 17,
    "start_time": "2025-03-18T13:15:27.950Z"
   },
   {
    "duration": 8,
    "start_time": "2025-03-18T13:15:27.968Z"
   },
   {
    "duration": 15,
    "start_time": "2025-03-18T13:15:27.978Z"
   },
   {
    "duration": 23,
    "start_time": "2025-03-18T13:15:27.995Z"
   },
   {
    "duration": 15,
    "start_time": "2025-03-18T13:15:28.020Z"
   },
   {
    "duration": 9,
    "start_time": "2025-03-18T13:15:28.037Z"
   },
   {
    "duration": 11,
    "start_time": "2025-03-18T13:15:28.048Z"
   },
   {
    "duration": 10,
    "start_time": "2025-03-18T13:15:28.061Z"
   },
   {
    "duration": 10,
    "start_time": "2025-03-18T13:15:28.073Z"
   },
   {
    "duration": 10,
    "start_time": "2025-03-18T13:15:28.084Z"
   },
   {
    "duration": 2,
    "start_time": "2025-03-18T13:15:28.096Z"
   },
   {
    "duration": 8,
    "start_time": "2025-03-18T13:15:28.100Z"
   },
   {
    "duration": 16,
    "start_time": "2025-03-18T13:15:28.110Z"
   },
   {
    "duration": 181,
    "start_time": "2025-03-18T13:15:28.142Z"
   },
   {
    "duration": 101,
    "start_time": "2025-03-18T13:15:28.325Z"
   },
   {
    "duration": 15,
    "start_time": "2025-03-18T13:15:28.428Z"
   },
   {
    "duration": 8,
    "start_time": "2025-03-18T13:15:28.444Z"
   },
   {
    "duration": 301,
    "start_time": "2025-03-18T13:15:28.454Z"
   },
   {
    "duration": 4,
    "start_time": "2025-03-18T13:15:28.756Z"
   },
   {
    "duration": 74,
    "start_time": "2025-03-18T13:15:28.762Z"
   },
   {
    "duration": 328,
    "start_time": "2025-03-18T13:19:04.489Z"
   },
   {
    "duration": 299,
    "start_time": "2025-03-18T13:19:23.432Z"
   },
   {
    "duration": 276,
    "start_time": "2025-03-18T13:20:11.367Z"
   },
   {
    "duration": 292,
    "start_time": "2025-03-18T13:20:54.361Z"
   },
   {
    "duration": 299,
    "start_time": "2025-03-18T13:23:24.667Z"
   },
   {
    "duration": 365,
    "start_time": "2025-03-18T13:24:59.143Z"
   },
   {
    "duration": 4,
    "start_time": "2025-03-18T13:31:23.717Z"
   },
   {
    "duration": 4,
    "start_time": "2025-03-18T13:31:39.593Z"
   },
   {
    "duration": 316,
    "start_time": "2025-03-18T13:34:15.456Z"
   },
   {
    "duration": 312,
    "start_time": "2025-03-18T13:34:44.971Z"
   },
   {
    "duration": 327,
    "start_time": "2025-03-18T13:36:53.028Z"
   },
   {
    "duration": 347,
    "start_time": "2025-03-18T13:52:33.453Z"
   },
   {
    "duration": 326,
    "start_time": "2025-03-18T13:52:43.584Z"
   },
   {
    "duration": 22,
    "start_time": "2025-03-18T15:30:10.964Z"
   },
   {
    "duration": 21,
    "start_time": "2025-03-18T15:37:16.278Z"
   },
   {
    "duration": 19,
    "start_time": "2025-03-18T15:38:03.940Z"
   },
   {
    "duration": 18,
    "start_time": "2025-03-18T15:42:14.656Z"
   },
   {
    "duration": 22,
    "start_time": "2025-03-18T15:45:16.772Z"
   },
   {
    "duration": 19,
    "start_time": "2025-03-18T15:45:41.872Z"
   },
   {
    "duration": 19,
    "start_time": "2025-03-18T15:46:06.133Z"
   },
   {
    "duration": 637,
    "start_time": "2025-03-18T15:49:50.197Z"
   },
   {
    "duration": 517,
    "start_time": "2025-03-18T15:51:10.371Z"
   },
   {
    "duration": 1398,
    "start_time": "2025-03-18T15:51:35.839Z"
   },
   {
    "duration": 1441,
    "start_time": "2025-03-18T15:52:41.701Z"
   },
   {
    "duration": 554,
    "start_time": "2025-03-18T15:56:20.609Z"
   },
   {
    "duration": 647,
    "start_time": "2025-03-18T15:56:47.197Z"
   },
   {
    "duration": 553,
    "start_time": "2025-03-18T15:57:45.013Z"
   },
   {
    "duration": 1287,
    "start_time": "2025-03-18T17:06:23.097Z"
   },
   {
    "duration": 278,
    "start_time": "2025-03-18T17:06:24.386Z"
   },
   {
    "duration": 9,
    "start_time": "2025-03-18T17:06:24.665Z"
   },
   {
    "duration": 16,
    "start_time": "2025-03-18T17:06:24.675Z"
   },
   {
    "duration": 11,
    "start_time": "2025-03-18T17:06:24.693Z"
   },
   {
    "duration": 15,
    "start_time": "2025-03-18T17:06:24.706Z"
   },
   {
    "duration": 6,
    "start_time": "2025-03-18T17:06:24.723Z"
   },
   {
    "duration": 17,
    "start_time": "2025-03-18T17:06:24.730Z"
   },
   {
    "duration": 4,
    "start_time": "2025-03-18T17:06:24.750Z"
   },
   {
    "duration": 11,
    "start_time": "2025-03-18T17:06:24.756Z"
   },
   {
    "duration": 11,
    "start_time": "2025-03-18T17:06:24.769Z"
   },
   {
    "duration": 9,
    "start_time": "2025-03-18T17:06:24.782Z"
   },
   {
    "duration": 6,
    "start_time": "2025-03-18T17:06:24.792Z"
   },
   {
    "duration": 46,
    "start_time": "2025-03-18T17:06:24.801Z"
   },
   {
    "duration": 19,
    "start_time": "2025-03-18T17:06:24.849Z"
   },
   {
    "duration": 3,
    "start_time": "2025-03-18T17:06:24.869Z"
   },
   {
    "duration": 5,
    "start_time": "2025-03-18T17:06:24.874Z"
   },
   {
    "duration": 9,
    "start_time": "2025-03-18T17:06:24.881Z"
   },
   {
    "duration": 223,
    "start_time": "2025-03-18T17:06:24.892Z"
   },
   {
    "duration": 111,
    "start_time": "2025-03-18T17:06:25.117Z"
   },
   {
    "duration": 14,
    "start_time": "2025-03-18T17:06:25.229Z"
   },
   {
    "duration": 328,
    "start_time": "2025-03-18T17:06:25.245Z"
   },
   {
    "duration": 377,
    "start_time": "2025-03-18T17:06:25.575Z"
   },
   {
    "duration": 361,
    "start_time": "2025-03-18T17:06:25.954Z"
   },
   {
    "duration": 34,
    "start_time": "2025-03-18T17:06:26.318Z"
   },
   {
    "duration": 21,
    "start_time": "2025-03-18T17:06:26.354Z"
   },
   {
    "duration": 671,
    "start_time": "2025-03-18T17:06:26.376Z"
   },
   {
    "duration": 115,
    "start_time": "2025-03-18T17:06:27.049Z"
   },
   {
    "duration": 3,
    "start_time": "2025-03-18T17:08:05.713Z"
   },
   {
    "duration": 25,
    "start_time": "2025-03-18T17:08:18.507Z"
   },
   {
    "duration": 1584,
    "start_time": "2025-03-18T17:15:30.444Z"
   },
   {
    "duration": 47,
    "start_time": "2025-03-18T17:28:18.433Z"
   },
   {
    "duration": 17,
    "start_time": "2025-03-18T17:30:10.254Z"
   },
   {
    "duration": 9,
    "start_time": "2025-03-18T17:46:04.891Z"
   },
   {
    "duration": 1267,
    "start_time": "2025-03-18T18:09:00.521Z"
   },
   {
    "duration": 63,
    "start_time": "2025-03-18T18:09:01.790Z"
   },
   {
    "duration": 8,
    "start_time": "2025-03-18T18:09:01.854Z"
   },
   {
    "duration": 12,
    "start_time": "2025-03-18T18:09:01.863Z"
   },
   {
    "duration": 22,
    "start_time": "2025-03-18T18:09:01.878Z"
   },
   {
    "duration": 32,
    "start_time": "2025-03-18T18:09:01.902Z"
   },
   {
    "duration": 35,
    "start_time": "2025-03-18T18:09:01.936Z"
   },
   {
    "duration": 17,
    "start_time": "2025-03-18T18:09:01.973Z"
   },
   {
    "duration": 40,
    "start_time": "2025-03-18T18:09:01.991Z"
   },
   {
    "duration": 39,
    "start_time": "2025-03-18T18:09:02.033Z"
   },
   {
    "duration": 10,
    "start_time": "2025-03-18T18:09:02.074Z"
   },
   {
    "duration": 7,
    "start_time": "2025-03-18T18:09:02.085Z"
   },
   {
    "duration": 34,
    "start_time": "2025-03-18T18:09:02.094Z"
   },
   {
    "duration": 55,
    "start_time": "2025-03-18T18:09:02.131Z"
   },
   {
    "duration": 38,
    "start_time": "2025-03-18T18:09:02.187Z"
   },
   {
    "duration": 41,
    "start_time": "2025-03-18T18:09:02.227Z"
   },
   {
    "duration": 19,
    "start_time": "2025-03-18T18:09:02.269Z"
   },
   {
    "duration": 30,
    "start_time": "2025-03-18T18:09:02.290Z"
   },
   {
    "duration": 207,
    "start_time": "2025-03-18T18:09:02.322Z"
   },
   {
    "duration": 96,
    "start_time": "2025-03-18T18:09:02.530Z"
   },
   {
    "duration": 3,
    "start_time": "2025-03-18T18:09:02.628Z"
   },
   {
    "duration": 317,
    "start_time": "2025-03-18T18:09:02.643Z"
   },
   {
    "duration": 344,
    "start_time": "2025-03-18T18:09:02.961Z"
   },
   {
    "duration": 403,
    "start_time": "2025-03-18T18:09:03.307Z"
   },
   {
    "duration": 19,
    "start_time": "2025-03-18T18:09:03.712Z"
   },
   {
    "duration": 23,
    "start_time": "2025-03-18T18:09:03.743Z"
   },
   {
    "duration": 647,
    "start_time": "2025-03-18T18:09:03.768Z"
   },
   {
    "duration": 51,
    "start_time": "2025-03-18T18:09:04.417Z"
   },
   {
    "duration": 11,
    "start_time": "2025-03-18T18:09:04.470Z"
   },
   {
    "duration": 15,
    "start_time": "2025-03-18T18:09:04.483Z"
   },
   {
    "duration": 424,
    "start_time": "2025-03-18T18:12:20.140Z"
   },
   {
    "duration": 105,
    "start_time": "2025-03-18T18:16:46.797Z"
   },
   {
    "duration": 4,
    "start_time": "2025-03-18T18:18:38.642Z"
   },
   {
    "duration": 7,
    "start_time": "2025-03-18T18:18:47.495Z"
   },
   {
    "duration": 317,
    "start_time": "2025-03-18T18:35:12.935Z"
   },
   {
    "duration": 297,
    "start_time": "2025-03-18T18:35:51.481Z"
   },
   {
    "duration": 3,
    "start_time": "2025-03-18T18:35:59.603Z"
   },
   {
    "duration": 1209,
    "start_time": "2025-03-18T18:36:19.162Z"
   },
   {
    "duration": 60,
    "start_time": "2025-03-18T18:36:20.373Z"
   },
   {
    "duration": 7,
    "start_time": "2025-03-18T18:36:20.435Z"
   },
   {
    "duration": 18,
    "start_time": "2025-03-18T18:36:20.444Z"
   },
   {
    "duration": 31,
    "start_time": "2025-03-18T18:36:20.464Z"
   },
   {
    "duration": 46,
    "start_time": "2025-03-18T18:36:20.497Z"
   },
   {
    "duration": 20,
    "start_time": "2025-03-18T18:36:20.545Z"
   },
   {
    "duration": 33,
    "start_time": "2025-03-18T18:36:20.567Z"
   },
   {
    "duration": 9,
    "start_time": "2025-03-18T18:36:20.602Z"
   },
   {
    "duration": 12,
    "start_time": "2025-03-18T18:36:20.612Z"
   },
   {
    "duration": 30,
    "start_time": "2025-03-18T18:36:20.626Z"
   },
   {
    "duration": 11,
    "start_time": "2025-03-18T18:36:20.657Z"
   },
   {
    "duration": 5,
    "start_time": "2025-03-18T18:36:20.670Z"
   },
   {
    "duration": 7,
    "start_time": "2025-03-18T18:36:20.678Z"
   },
   {
    "duration": 8,
    "start_time": "2025-03-18T18:36:20.686Z"
   },
   {
    "duration": 2,
    "start_time": "2025-03-18T18:36:20.696Z"
   },
   {
    "duration": 17,
    "start_time": "2025-03-18T18:36:20.699Z"
   },
   {
    "duration": 22,
    "start_time": "2025-03-18T18:36:20.718Z"
   },
   {
    "duration": 183,
    "start_time": "2025-03-18T18:36:20.742Z"
   },
   {
    "duration": 99,
    "start_time": "2025-03-18T18:36:20.927Z"
   },
   {
    "duration": 2,
    "start_time": "2025-03-18T18:36:21.028Z"
   },
   {
    "duration": 310,
    "start_time": "2025-03-18T18:36:21.042Z"
   },
   {
    "duration": 344,
    "start_time": "2025-03-18T18:36:21.354Z"
   },
   {
    "duration": 347,
    "start_time": "2025-03-18T18:36:21.700Z"
   },
   {
    "duration": 17,
    "start_time": "2025-03-18T18:36:22.049Z"
   },
   {
    "duration": 32,
    "start_time": "2025-03-18T18:36:22.068Z"
   },
   {
    "duration": 643,
    "start_time": "2025-03-18T18:36:22.101Z"
   },
   {
    "duration": 38,
    "start_time": "2025-03-18T18:36:22.746Z"
   },
   {
    "duration": 9,
    "start_time": "2025-03-18T18:36:22.786Z"
   },
   {
    "duration": 3,
    "start_time": "2025-03-18T18:36:22.796Z"
   },
   {
    "duration": 8,
    "start_time": "2025-03-18T18:36:22.800Z"
   },
   {
    "duration": 3,
    "start_time": "2025-03-18T18:36:22.809Z"
   },
   {
    "duration": 315,
    "start_time": "2025-03-18T18:36:22.844Z"
   },
   {
    "duration": 297,
    "start_time": "2025-03-18T18:37:10.756Z"
   },
   {
    "duration": 13,
    "start_time": "2025-03-18T18:47:06.812Z"
   },
   {
    "duration": 336,
    "start_time": "2025-03-18T18:51:00.722Z"
   },
   {
    "duration": 438,
    "start_time": "2025-03-18T18:53:33.331Z"
   },
   {
    "duration": 3,
    "start_time": "2025-03-18T18:54:35.028Z"
   },
   {
    "duration": 397,
    "start_time": "2025-03-18T18:58:22.924Z"
   },
   {
    "duration": 1769,
    "start_time": "2025-03-19T03:54:09.913Z"
   },
   {
    "duration": 4,
    "start_time": "2025-03-19T03:54:25.447Z"
   },
   {
    "duration": 106,
    "start_time": "2025-03-19T03:54:27.277Z"
   },
   {
    "duration": 10,
    "start_time": "2025-03-19T03:54:28.500Z"
   },
   {
    "duration": 7,
    "start_time": "2025-03-19T03:54:56.130Z"
   },
   {
    "duration": 20,
    "start_time": "2025-03-19T03:54:59.179Z"
   },
   {
    "duration": 16,
    "start_time": "2025-03-19T03:55:07.185Z"
   },
   {
    "duration": 14,
    "start_time": "2025-03-19T03:55:34.345Z"
   },
   {
    "duration": 12,
    "start_time": "2025-03-19T03:55:39.377Z"
   },
   {
    "duration": 18,
    "start_time": "2025-03-19T03:55:42.591Z"
   },
   {
    "duration": 417,
    "start_time": "2025-03-19T04:10:23.221Z"
   },
   {
    "duration": 171,
    "start_time": "2025-03-19T04:26:03.462Z"
   },
   {
    "duration": 21,
    "start_time": "2025-03-19T04:26:22.488Z"
   },
   {
    "duration": 1372,
    "start_time": "2025-03-19T04:26:31.279Z"
   },
   {
    "duration": 81,
    "start_time": "2025-03-19T04:26:32.653Z"
   },
   {
    "duration": 12,
    "start_time": "2025-03-19T04:26:32.736Z"
   },
   {
    "duration": 60,
    "start_time": "2025-03-19T04:26:32.750Z"
   },
   {
    "duration": 120,
    "start_time": "2025-03-19T04:26:32.814Z"
   },
   {
    "duration": 57,
    "start_time": "2025-03-19T04:26:32.936Z"
   },
   {
    "duration": 9,
    "start_time": "2025-03-19T04:26:33.002Z"
   },
   {
    "duration": 20,
    "start_time": "2025-03-19T04:26:33.013Z"
   },
   {
    "duration": 9,
    "start_time": "2025-03-19T04:26:33.036Z"
   },
   {
    "duration": 29,
    "start_time": "2025-03-19T04:26:33.047Z"
   },
   {
    "duration": 22,
    "start_time": "2025-03-19T04:26:33.079Z"
   },
   {
    "duration": 17,
    "start_time": "2025-03-19T04:26:33.104Z"
   },
   {
    "duration": 19,
    "start_time": "2025-03-19T04:26:33.124Z"
   },
   {
    "duration": 17,
    "start_time": "2025-03-19T04:26:33.148Z"
   },
   {
    "duration": 79,
    "start_time": "2025-03-19T04:26:33.167Z"
   },
   {
    "duration": 0,
    "start_time": "2025-03-19T04:26:33.249Z"
   },
   {
    "duration": 0,
    "start_time": "2025-03-19T04:26:33.251Z"
   },
   {
    "duration": 0,
    "start_time": "2025-03-19T04:26:33.252Z"
   },
   {
    "duration": 0,
    "start_time": "2025-03-19T04:26:33.253Z"
   },
   {
    "duration": 0,
    "start_time": "2025-03-19T04:26:33.255Z"
   },
   {
    "duration": 0,
    "start_time": "2025-03-19T04:26:33.256Z"
   },
   {
    "duration": 0,
    "start_time": "2025-03-19T04:26:33.262Z"
   },
   {
    "duration": 0,
    "start_time": "2025-03-19T04:26:33.263Z"
   },
   {
    "duration": 0,
    "start_time": "2025-03-19T04:26:33.264Z"
   },
   {
    "duration": 0,
    "start_time": "2025-03-19T04:26:33.272Z"
   },
   {
    "duration": 0,
    "start_time": "2025-03-19T04:26:33.274Z"
   },
   {
    "duration": 0,
    "start_time": "2025-03-19T04:26:33.275Z"
   },
   {
    "duration": 0,
    "start_time": "2025-03-19T04:26:33.276Z"
   },
   {
    "duration": 0,
    "start_time": "2025-03-19T04:26:33.286Z"
   },
   {
    "duration": 0,
    "start_time": "2025-03-19T04:26:33.287Z"
   },
   {
    "duration": 0,
    "start_time": "2025-03-19T04:26:33.288Z"
   },
   {
    "duration": 0,
    "start_time": "2025-03-19T04:26:33.297Z"
   },
   {
    "duration": 0,
    "start_time": "2025-03-19T04:26:33.299Z"
   },
   {
    "duration": 0,
    "start_time": "2025-03-19T04:26:33.300Z"
   },
   {
    "duration": 0,
    "start_time": "2025-03-19T04:26:33.302Z"
   },
   {
    "duration": 5,
    "start_time": "2025-03-19T04:26:47.210Z"
   },
   {
    "duration": 103,
    "start_time": "2025-03-19T04:26:48.186Z"
   },
   {
    "duration": 18,
    "start_time": "2025-03-19T04:26:48.573Z"
   },
   {
    "duration": 17,
    "start_time": "2025-03-19T04:26:49.222Z"
   },
   {
    "duration": 14,
    "start_time": "2025-03-19T04:26:50.047Z"
   },
   {
    "duration": 25,
    "start_time": "2025-03-19T04:26:50.470Z"
   },
   {
    "duration": 15,
    "start_time": "2025-03-19T04:26:51.280Z"
   },
   {
    "duration": 12,
    "start_time": "2025-03-19T04:26:51.620Z"
   },
   {
    "duration": 7,
    "start_time": "2025-03-19T04:26:53.240Z"
   },
   {
    "duration": 22,
    "start_time": "2025-03-19T04:26:53.854Z"
   },
   {
    "duration": 6,
    "start_time": "2025-03-19T04:26:55.212Z"
   },
   {
    "duration": 6,
    "start_time": "2025-03-19T04:26:56.113Z"
   },
   {
    "duration": 7,
    "start_time": "2025-03-19T04:26:56.717Z"
   },
   {
    "duration": 24,
    "start_time": "2025-03-19T04:26:59.053Z"
   },
   {
    "duration": 78,
    "start_time": "2025-03-19T04:26:59.784Z"
   },
   {
    "duration": 6,
    "start_time": "2025-03-19T04:27:22.658Z"
   },
   {
    "duration": 12,
    "start_time": "2025-03-19T04:27:23.094Z"
   },
   {
    "duration": 13,
    "start_time": "2025-03-19T04:27:24.779Z"
   },
   {
    "duration": 237,
    "start_time": "2025-03-19T04:27:27.484Z"
   },
   {
    "duration": 121,
    "start_time": "2025-03-19T04:27:30.318Z"
   },
   {
    "duration": 391,
    "start_time": "2025-03-19T04:27:32.097Z"
   },
   {
    "duration": 442,
    "start_time": "2025-03-19T04:27:34.107Z"
   },
   {
    "duration": 484,
    "start_time": "2025-03-19T04:27:36.106Z"
   },
   {
    "duration": 47,
    "start_time": "2025-03-19T04:27:39.158Z"
   },
   {
    "duration": 45,
    "start_time": "2025-03-19T04:27:40.163Z"
   },
   {
    "duration": 827,
    "start_time": "2025-03-19T04:27:41.193Z"
   },
   {
    "duration": 66,
    "start_time": "2025-03-19T04:27:45.775Z"
   },
   {
    "duration": 26,
    "start_time": "2025-03-19T04:27:46.853Z"
   },
   {
    "duration": 19,
    "start_time": "2025-03-19T04:27:50.058Z"
   },
   {
    "duration": 24,
    "start_time": "2025-03-19T04:27:50.781Z"
   },
   {
    "duration": 3,
    "start_time": "2025-03-19T04:28:36.428Z"
   },
   {
    "duration": 437,
    "start_time": "2025-03-19T04:28:44.376Z"
   },
   {
    "duration": 419,
    "start_time": "2025-03-19T04:29:56.803Z"
   },
   {
    "duration": 513,
    "start_time": "2025-03-19T04:38:04.255Z"
   },
   {
    "duration": 11,
    "start_time": "2025-03-19T04:54:18.778Z"
   },
   {
    "duration": 1246,
    "start_time": "2025-03-19T05:10:52.117Z"
   },
   {
    "duration": 76,
    "start_time": "2025-03-19T05:10:53.368Z"
   },
   {
    "duration": 28,
    "start_time": "2025-03-19T05:10:53.446Z"
   },
   {
    "duration": 48,
    "start_time": "2025-03-19T05:10:53.476Z"
   },
   {
    "duration": 8,
    "start_time": "2025-03-19T05:10:53.526Z"
   },
   {
    "duration": 26,
    "start_time": "2025-03-19T05:10:53.536Z"
   },
   {
    "duration": 17,
    "start_time": "2025-03-19T05:10:53.566Z"
   },
   {
    "duration": 19,
    "start_time": "2025-03-19T05:10:53.587Z"
   },
   {
    "duration": 30,
    "start_time": "2025-03-19T05:10:53.607Z"
   },
   {
    "duration": 10,
    "start_time": "2025-03-19T05:10:53.638Z"
   },
   {
    "duration": 16,
    "start_time": "2025-03-19T05:10:53.650Z"
   },
   {
    "duration": 22,
    "start_time": "2025-03-19T05:10:53.667Z"
   },
   {
    "duration": 10,
    "start_time": "2025-03-19T05:10:53.691Z"
   },
   {
    "duration": 16,
    "start_time": "2025-03-19T05:10:53.704Z"
   },
   {
    "duration": 2,
    "start_time": "2025-03-19T05:10:53.722Z"
   },
   {
    "duration": 11,
    "start_time": "2025-03-19T05:10:53.726Z"
   },
   {
    "duration": 8,
    "start_time": "2025-03-19T05:10:53.739Z"
   },
   {
    "duration": 249,
    "start_time": "2025-03-19T05:10:53.748Z"
   },
   {
    "duration": 117,
    "start_time": "2025-03-19T05:10:53.999Z"
   },
   {
    "duration": 390,
    "start_time": "2025-03-19T05:10:54.118Z"
   },
   {
    "duration": 410,
    "start_time": "2025-03-19T05:10:54.510Z"
   },
   {
    "duration": 417,
    "start_time": "2025-03-19T05:10:54.922Z"
   },
   {
    "duration": 36,
    "start_time": "2025-03-19T05:10:55.341Z"
   },
   {
    "duration": 26,
    "start_time": "2025-03-19T05:10:55.386Z"
   },
   {
    "duration": 758,
    "start_time": "2025-03-19T05:10:55.414Z"
   },
   {
    "duration": 51,
    "start_time": "2025-03-19T05:10:56.176Z"
   },
   {
    "duration": 12,
    "start_time": "2025-03-19T05:10:56.229Z"
   },
   {
    "duration": 3,
    "start_time": "2025-03-19T05:10:56.243Z"
   },
   {
    "duration": 20,
    "start_time": "2025-03-19T05:10:56.253Z"
   },
   {
    "duration": 3,
    "start_time": "2025-03-19T05:10:56.275Z"
   },
   {
    "duration": 338,
    "start_time": "2025-03-19T05:10:56.281Z"
   },
   {
    "duration": 3,
    "start_time": "2025-03-19T05:10:56.620Z"
   },
   {
    "duration": 500,
    "start_time": "2025-03-19T05:10:56.624Z"
   },
   {
    "duration": 3,
    "start_time": "2025-03-19T05:10:57.126Z"
   },
   {
    "duration": 1320,
    "start_time": "2025-03-19T05:10:57.131Z"
   },
   {
    "duration": 4,
    "start_time": "2025-03-19T05:27:58.023Z"
   },
   {
    "duration": 5,
    "start_time": "2025-03-19T05:30:27.094Z"
   },
   {
    "duration": 453,
    "start_time": "2025-03-19T05:31:44.437Z"
   },
   {
    "duration": 1350,
    "start_time": "2025-03-19T05:51:54.322Z"
   },
   {
    "duration": 70,
    "start_time": "2025-03-19T05:51:55.681Z"
   },
   {
    "duration": 10,
    "start_time": "2025-03-19T05:51:55.753Z"
   },
   {
    "duration": 28,
    "start_time": "2025-03-19T05:51:55.765Z"
   },
   {
    "duration": 12,
    "start_time": "2025-03-19T05:51:55.797Z"
   },
   {
    "duration": 13,
    "start_time": "2025-03-19T05:51:55.810Z"
   },
   {
    "duration": 6,
    "start_time": "2025-03-19T05:51:55.825Z"
   },
   {
    "duration": 48,
    "start_time": "2025-03-19T05:51:55.833Z"
   },
   {
    "duration": 12,
    "start_time": "2025-03-19T05:51:55.883Z"
   },
   {
    "duration": 12,
    "start_time": "2025-03-19T05:51:55.897Z"
   },
   {
    "duration": 10,
    "start_time": "2025-03-19T05:51:55.910Z"
   },
   {
    "duration": 6,
    "start_time": "2025-03-19T05:51:55.922Z"
   },
   {
    "duration": 27,
    "start_time": "2025-03-19T05:51:55.929Z"
   },
   {
    "duration": 34,
    "start_time": "2025-03-19T05:51:55.960Z"
   },
   {
    "duration": 3,
    "start_time": "2025-03-19T05:51:55.997Z"
   },
   {
    "duration": 6,
    "start_time": "2025-03-19T05:51:56.004Z"
   },
   {
    "duration": 14,
    "start_time": "2025-03-19T05:51:56.012Z"
   },
   {
    "duration": 256,
    "start_time": "2025-03-19T05:51:56.028Z"
   },
   {
    "duration": 126,
    "start_time": "2025-03-19T05:51:56.289Z"
   },
   {
    "duration": 415,
    "start_time": "2025-03-19T05:51:56.419Z"
   },
   {
    "duration": 457,
    "start_time": "2025-03-19T05:51:56.836Z"
   },
   {
    "duration": 434,
    "start_time": "2025-03-19T05:51:57.302Z"
   },
   {
    "duration": 41,
    "start_time": "2025-03-19T05:51:57.739Z"
   },
   {
    "duration": 31,
    "start_time": "2025-03-19T05:51:57.788Z"
   },
   {
    "duration": 827,
    "start_time": "2025-03-19T05:51:57.820Z"
   },
   {
    "duration": 68,
    "start_time": "2025-03-19T05:51:58.649Z"
   },
   {
    "duration": 13,
    "start_time": "2025-03-19T05:51:58.719Z"
   },
   {
    "duration": 3,
    "start_time": "2025-03-19T05:51:58.733Z"
   },
   {
    "duration": 34,
    "start_time": "2025-03-19T05:51:58.737Z"
   },
   {
    "duration": 6,
    "start_time": "2025-03-19T05:51:58.776Z"
   },
   {
    "duration": 351,
    "start_time": "2025-03-19T05:51:58.784Z"
   },
   {
    "duration": 3,
    "start_time": "2025-03-19T05:51:59.136Z"
   },
   {
    "duration": 541,
    "start_time": "2025-03-19T05:51:59.140Z"
   },
   {
    "duration": 4,
    "start_time": "2025-03-19T05:51:59.683Z"
   },
   {
    "duration": 1404,
    "start_time": "2025-03-19T05:51:59.689Z"
   },
   {
    "duration": 415,
    "start_time": "2025-03-19T05:52:01.101Z"
   },
   {
    "duration": 466,
    "start_time": "2025-03-19T05:52:09.675Z"
   },
   {
    "duration": 1297,
    "start_time": "2025-03-19T08:03:05.579Z"
   },
   {
    "duration": 73,
    "start_time": "2025-03-19T08:03:06.878Z"
   },
   {
    "duration": 7,
    "start_time": "2025-03-19T08:03:06.952Z"
   },
   {
    "duration": 62,
    "start_time": "2025-03-19T08:03:06.961Z"
   },
   {
    "duration": 23,
    "start_time": "2025-03-19T08:03:07.024Z"
   },
   {
    "duration": 24,
    "start_time": "2025-03-19T08:03:07.049Z"
   },
   {
    "duration": 12,
    "start_time": "2025-03-19T08:03:07.075Z"
   },
   {
    "duration": 10,
    "start_time": "2025-03-19T08:03:07.089Z"
   },
   {
    "duration": 7,
    "start_time": "2025-03-19T08:03:07.101Z"
   },
   {
    "duration": 8,
    "start_time": "2025-03-19T08:03:07.109Z"
   },
   {
    "duration": 11,
    "start_time": "2025-03-19T08:03:07.118Z"
   },
   {
    "duration": 12,
    "start_time": "2025-03-19T08:03:07.131Z"
   },
   {
    "duration": 5,
    "start_time": "2025-03-19T08:03:07.144Z"
   },
   {
    "duration": 37,
    "start_time": "2025-03-19T08:03:07.152Z"
   },
   {
    "duration": 8,
    "start_time": "2025-03-19T08:03:07.190Z"
   },
   {
    "duration": 16,
    "start_time": "2025-03-19T08:03:07.199Z"
   },
   {
    "duration": 10,
    "start_time": "2025-03-19T08:03:07.217Z"
   },
   {
    "duration": 168,
    "start_time": "2025-03-19T08:03:07.229Z"
   },
   {
    "duration": 101,
    "start_time": "2025-03-19T08:03:07.406Z"
   },
   {
    "duration": 287,
    "start_time": "2025-03-19T08:03:07.508Z"
   },
   {
    "duration": 316,
    "start_time": "2025-03-19T08:03:07.796Z"
   },
   {
    "duration": 323,
    "start_time": "2025-03-19T08:03:08.114Z"
   },
   {
    "duration": 19,
    "start_time": "2025-03-19T08:03:08.439Z"
   },
   {
    "duration": 38,
    "start_time": "2025-03-19T08:03:08.459Z"
   },
   {
    "duration": 610,
    "start_time": "2025-03-19T08:03:08.506Z"
   },
   {
    "duration": 37,
    "start_time": "2025-03-19T08:03:09.118Z"
   },
   {
    "duration": 8,
    "start_time": "2025-03-19T08:03:09.157Z"
   },
   {
    "duration": 5,
    "start_time": "2025-03-19T08:03:09.166Z"
   },
   {
    "duration": 12,
    "start_time": "2025-03-19T08:03:09.173Z"
   },
   {
    "duration": 3,
    "start_time": "2025-03-19T08:03:09.206Z"
   },
   {
    "duration": 343,
    "start_time": "2025-03-19T08:03:09.210Z"
   },
   {
    "duration": 1,
    "start_time": "2025-03-19T08:03:09.555Z"
   },
   {
    "duration": 438,
    "start_time": "2025-03-19T08:03:09.558Z"
   },
   {
    "duration": 2,
    "start_time": "2025-03-19T08:03:10.007Z"
   },
   {
    "duration": 1096,
    "start_time": "2025-03-19T08:03:10.011Z"
   },
   {
    "duration": 353,
    "start_time": "2025-03-19T08:03:11.109Z"
   },
   {
    "duration": 1093,
    "start_time": "2025-03-19T09:31:50.739Z"
   },
   {
    "duration": 71,
    "start_time": "2025-03-19T09:31:51.834Z"
   },
   {
    "duration": 10,
    "start_time": "2025-03-19T09:31:51.907Z"
   },
   {
    "duration": 13,
    "start_time": "2025-03-19T09:31:51.919Z"
   },
   {
    "duration": 61,
    "start_time": "2025-03-19T09:31:51.934Z"
   },
   {
    "duration": 23,
    "start_time": "2025-03-19T09:31:51.996Z"
   },
   {
    "duration": 5,
    "start_time": "2025-03-19T09:31:52.022Z"
   },
   {
    "duration": 19,
    "start_time": "2025-03-19T09:31:52.029Z"
   },
   {
    "duration": 19,
    "start_time": "2025-03-19T09:31:52.050Z"
   },
   {
    "duration": 20,
    "start_time": "2025-03-19T09:31:52.071Z"
   },
   {
    "duration": 13,
    "start_time": "2025-03-19T09:31:52.093Z"
   },
   {
    "duration": 6,
    "start_time": "2025-03-19T09:31:52.107Z"
   },
   {
    "duration": 13,
    "start_time": "2025-03-19T09:31:52.115Z"
   },
   {
    "duration": 35,
    "start_time": "2025-03-19T09:31:52.132Z"
   },
   {
    "duration": 16,
    "start_time": "2025-03-19T09:31:52.169Z"
   },
   {
    "duration": 12,
    "start_time": "2025-03-19T09:31:52.187Z"
   },
   {
    "duration": 5,
    "start_time": "2025-03-19T09:31:52.200Z"
   },
   {
    "duration": 257,
    "start_time": "2025-03-19T09:31:52.207Z"
   },
   {
    "duration": 91,
    "start_time": "2025-03-19T09:31:52.465Z"
   },
   {
    "duration": 290,
    "start_time": "2025-03-19T09:31:52.558Z"
   },
   {
    "duration": 360,
    "start_time": "2025-03-19T09:31:52.849Z"
   },
   {
    "duration": 329,
    "start_time": "2025-03-19T09:31:53.211Z"
   },
   {
    "duration": 18,
    "start_time": "2025-03-19T09:31:53.542Z"
   },
   {
    "duration": 18,
    "start_time": "2025-03-19T09:31:53.562Z"
   },
   {
    "duration": 628,
    "start_time": "2025-03-19T09:31:53.582Z"
   },
   {
    "duration": 36,
    "start_time": "2025-03-19T09:31:54.212Z"
   },
   {
    "duration": 46,
    "start_time": "2025-03-19T09:31:54.250Z"
   },
   {
    "duration": 3,
    "start_time": "2025-03-19T09:31:54.298Z"
   },
   {
    "duration": 9,
    "start_time": "2025-03-19T09:31:54.303Z"
   },
   {
    "duration": 14,
    "start_time": "2025-03-19T09:31:54.314Z"
   },
   {
    "duration": 298,
    "start_time": "2025-03-19T09:31:54.330Z"
   },
   {
    "duration": 3,
    "start_time": "2025-03-19T09:31:54.629Z"
   },
   {
    "duration": 382,
    "start_time": "2025-03-19T09:31:54.633Z"
   },
   {
    "duration": 3,
    "start_time": "2025-03-19T09:31:55.016Z"
   },
   {
    "duration": 1066,
    "start_time": "2025-03-19T09:31:55.020Z"
   },
   {
    "duration": 367,
    "start_time": "2025-03-19T09:31:56.088Z"
   },
   {
    "duration": 10,
    "start_time": "2025-03-19T09:36:32.106Z"
   },
   {
    "duration": 9,
    "start_time": "2025-03-19T09:41:44.622Z"
   },
   {
    "duration": 268,
    "start_time": "2025-03-19T09:43:08.122Z"
   },
   {
    "duration": 4,
    "start_time": "2025-03-19T09:49:08.360Z"
   },
   {
    "duration": 26,
    "start_time": "2025-03-19T10:09:15.376Z"
   },
   {
    "duration": 54,
    "start_time": "2025-03-19T12:18:30.794Z"
   },
   {
    "duration": 1376,
    "start_time": "2025-03-19T12:18:37.974Z"
   },
   {
    "duration": 185,
    "start_time": "2025-03-19T12:18:39.354Z"
   },
   {
    "duration": 8,
    "start_time": "2025-03-19T12:18:39.931Z"
   },
   {
    "duration": 17,
    "start_time": "2025-03-19T12:18:51.156Z"
   },
   {
    "duration": 80,
    "start_time": "2025-03-19T12:18:53.657Z"
   },
   {
    "duration": 12,
    "start_time": "2025-03-19T12:19:02.715Z"
   },
   {
    "duration": 7,
    "start_time": "2025-03-19T12:19:04.422Z"
   },
   {
    "duration": 9,
    "start_time": "2025-03-19T12:19:16.682Z"
   },
   {
    "duration": 19,
    "start_time": "2025-03-19T12:19:35.353Z"
   },
   {
    "duration": 8,
    "start_time": "2025-03-19T12:19:49.469Z"
   },
   {
    "duration": 12,
    "start_time": "2025-03-19T12:19:55.180Z"
   },
   {
    "duration": 7,
    "start_time": "2025-03-19T12:19:57.203Z"
   },
   {
    "duration": 17,
    "start_time": "2025-03-19T12:29:45.648Z"
   },
   {
    "duration": 72,
    "start_time": "2025-03-19T12:41:23.281Z"
   },
   {
    "duration": 16,
    "start_time": "2025-03-19T12:41:36.405Z"
   },
   {
    "duration": 12,
    "start_time": "2025-03-19T12:41:43.925Z"
   },
   {
    "duration": 7,
    "start_time": "2025-03-19T12:42:23.089Z"
   },
   {
    "duration": 12,
    "start_time": "2025-03-19T12:42:26.370Z"
   },
   {
    "duration": 9,
    "start_time": "2025-03-19T12:42:34.567Z"
   },
   {
    "duration": 6,
    "start_time": "2025-03-19T12:43:14.827Z"
   },
   {
    "duration": 5,
    "start_time": "2025-03-19T12:43:20.484Z"
   },
   {
    "duration": 5,
    "start_time": "2025-03-19T12:43:21.218Z"
   },
   {
    "duration": 8,
    "start_time": "2025-03-19T12:43:22.576Z"
   },
   {
    "duration": 13,
    "start_time": "2025-03-19T12:43:43.458Z"
   },
   {
    "duration": 48,
    "start_time": "2025-03-19T16:33:37.895Z"
   },
   {
    "duration": 1269,
    "start_time": "2025-03-19T16:33:48.666Z"
   },
   {
    "duration": 289,
    "start_time": "2025-03-19T16:33:50.843Z"
   },
   {
    "duration": 8,
    "start_time": "2025-03-19T16:33:52.647Z"
   },
   {
    "duration": 11,
    "start_time": "2025-03-19T16:33:54.607Z"
   },
   {
    "duration": 12,
    "start_time": "2025-03-19T16:33:56.003Z"
   },
   {
    "duration": 8,
    "start_time": "2025-03-19T16:33:56.994Z"
   },
   {
    "duration": 11,
    "start_time": "2025-03-19T16:33:58.275Z"
   },
   {
    "duration": 6,
    "start_time": "2025-03-19T16:34:00.503Z"
   },
   {
    "duration": 10,
    "start_time": "2025-03-19T16:34:01.154Z"
   },
   {
    "duration": 7,
    "start_time": "2025-03-19T16:34:06.137Z"
   },
   {
    "duration": 5,
    "start_time": "2025-03-19T16:34:13.145Z"
   },
   {
    "duration": 8,
    "start_time": "2025-03-19T16:34:22.387Z"
   },
   {
    "duration": 6,
    "start_time": "2025-03-19T16:34:24.353Z"
   },
   {
    "duration": 5,
    "start_time": "2025-03-19T16:34:25.674Z"
   },
   {
    "duration": 5,
    "start_time": "2025-03-19T16:34:28.448Z"
   },
   {
    "duration": 8,
    "start_time": "2025-03-19T16:34:30.616Z"
   },
   {
    "duration": 8,
    "start_time": "2025-03-19T16:34:33.666Z"
   },
   {
    "duration": 5,
    "start_time": "2025-03-19T16:34:35.953Z"
   },
   {
    "duration": 184,
    "start_time": "2025-03-19T16:37:42.923Z"
   },
   {
    "duration": 69,
    "start_time": "2025-03-19T16:38:07.353Z"
   },
   {
    "duration": 6,
    "start_time": "2025-03-19T16:38:11.373Z"
   },
   {
    "duration": 4,
    "start_time": "2025-03-19T16:38:13.164Z"
   },
   {
    "duration": 5,
    "start_time": "2025-03-19T16:38:14.723Z"
   },
   {
    "duration": 142,
    "start_time": "2025-03-19T16:38:16.327Z"
   },
   {
    "duration": 193,
    "start_time": "2025-03-19T16:38:23.869Z"
   },
   {
    "duration": 82,
    "start_time": "2025-03-19T16:40:09.778Z"
   },
   {
    "duration": 9,
    "start_time": "2025-03-19T16:55:53.324Z"
   },
   {
    "duration": 8,
    "start_time": "2025-03-19T16:56:10.358Z"
   },
   {
    "duration": 8,
    "start_time": "2025-03-19T16:56:13.588Z"
   },
   {
    "duration": 18,
    "start_time": "2025-03-19T16:56:21.473Z"
   },
   {
    "duration": 3,
    "start_time": "2025-03-19T16:56:24.094Z"
   },
   {
    "duration": 8,
    "start_time": "2025-03-19T16:56:28.551Z"
   },
   {
    "duration": 9,
    "start_time": "2025-03-19T16:56:30.697Z"
   },
   {
    "duration": 9,
    "start_time": "2025-03-19T17:01:21.784Z"
   },
   {
    "duration": 7,
    "start_time": "2025-03-19T17:02:52.803Z"
   },
   {
    "duration": 10,
    "start_time": "2025-03-19T17:05:18.535Z"
   },
   {
    "duration": 6,
    "start_time": "2025-03-19T17:06:54.377Z"
   },
   {
    "duration": 6,
    "start_time": "2025-03-19T17:13:47.296Z"
   },
   {
    "duration": 39,
    "start_time": "2025-03-19T17:44:51.784Z"
   },
   {
    "duration": 6,
    "start_time": "2025-03-19T17:47:57.352Z"
   },
   {
    "duration": 19,
    "start_time": "2025-03-19T17:51:24.284Z"
   },
   {
    "duration": 11,
    "start_time": "2025-03-19T17:53:22.194Z"
   },
   {
    "duration": 3,
    "start_time": "2025-03-19T17:55:10.831Z"
   },
   {
    "duration": 4,
    "start_time": "2025-03-19T18:08:39.972Z"
   },
   {
    "duration": 10,
    "start_time": "2025-03-19T18:08:44.878Z"
   },
   {
    "duration": 10,
    "start_time": "2025-03-19T18:08:46.437Z"
   },
   {
    "duration": 3,
    "start_time": "2025-03-19T18:09:10.663Z"
   },
   {
    "duration": 9,
    "start_time": "2025-03-19T18:09:21.674Z"
   },
   {
    "duration": 13,
    "start_time": "2025-03-19T18:10:01.974Z"
   },
   {
    "duration": 13,
    "start_time": "2025-03-19T18:14:45.713Z"
   },
   {
    "duration": 4,
    "start_time": "2025-03-19T18:14:54.509Z"
   },
   {
    "duration": 1049,
    "start_time": "2025-03-19T18:18:18.973Z"
   },
   {
    "duration": 69,
    "start_time": "2025-03-19T18:18:20.024Z"
   },
   {
    "duration": 8,
    "start_time": "2025-03-19T18:18:20.094Z"
   },
   {
    "duration": 13,
    "start_time": "2025-03-19T18:18:20.104Z"
   },
   {
    "duration": 14,
    "start_time": "2025-03-19T18:18:20.119Z"
   },
   {
    "duration": 10,
    "start_time": "2025-03-19T18:18:20.134Z"
   },
   {
    "duration": 15,
    "start_time": "2025-03-19T18:18:20.145Z"
   },
   {
    "duration": 13,
    "start_time": "2025-03-19T18:18:20.161Z"
   },
   {
    "duration": 9,
    "start_time": "2025-03-19T18:18:20.176Z"
   },
   {
    "duration": 10,
    "start_time": "2025-03-19T18:18:20.188Z"
   },
   {
    "duration": 7,
    "start_time": "2025-03-19T18:18:20.199Z"
   },
   {
    "duration": 21,
    "start_time": "2025-03-19T18:18:20.208Z"
   },
   {
    "duration": 8,
    "start_time": "2025-03-19T18:18:20.231Z"
   },
   {
    "duration": 11,
    "start_time": "2025-03-19T18:18:20.241Z"
   },
   {
    "duration": 7,
    "start_time": "2025-03-19T18:18:20.253Z"
   },
   {
    "duration": 20,
    "start_time": "2025-03-19T18:18:20.262Z"
   },
   {
    "duration": 8,
    "start_time": "2025-03-19T18:18:20.283Z"
   },
   {
    "duration": 5,
    "start_time": "2025-03-19T18:18:20.293Z"
   },
   {
    "duration": 14,
    "start_time": "2025-03-19T18:18:20.299Z"
   },
   {
    "duration": 6,
    "start_time": "2025-03-19T18:18:20.314Z"
   },
   {
    "duration": 194,
    "start_time": "2025-03-19T18:18:20.321Z"
   },
   {
    "duration": 194,
    "start_time": "2025-03-19T18:18:20.516Z"
   },
   {
    "duration": 96,
    "start_time": "2025-03-19T18:18:20.712Z"
   },
   {
    "duration": 288,
    "start_time": "2025-03-19T18:18:20.809Z"
   },
   {
    "duration": 67,
    "start_time": "2025-03-19T18:18:21.098Z"
   },
   {
    "duration": 0,
    "start_time": "2025-03-19T18:18:21.167Z"
   },
   {
    "duration": 0,
    "start_time": "2025-03-19T18:18:21.168Z"
   },
   {
    "duration": 0,
    "start_time": "2025-03-19T18:18:21.169Z"
   },
   {
    "duration": 0,
    "start_time": "2025-03-19T18:18:21.170Z"
   },
   {
    "duration": 0,
    "start_time": "2025-03-19T18:18:21.171Z"
   },
   {
    "duration": 0,
    "start_time": "2025-03-19T18:18:21.172Z"
   },
   {
    "duration": 0,
    "start_time": "2025-03-19T18:18:21.173Z"
   },
   {
    "duration": 0,
    "start_time": "2025-03-19T18:18:21.173Z"
   },
   {
    "duration": 0,
    "start_time": "2025-03-19T18:18:21.174Z"
   },
   {
    "duration": 0,
    "start_time": "2025-03-19T18:18:21.175Z"
   },
   {
    "duration": 0,
    "start_time": "2025-03-19T18:18:21.176Z"
   },
   {
    "duration": 0,
    "start_time": "2025-03-19T18:18:21.177Z"
   },
   {
    "duration": 0,
    "start_time": "2025-03-19T18:18:21.178Z"
   },
   {
    "duration": 0,
    "start_time": "2025-03-19T18:18:21.179Z"
   },
   {
    "duration": 0,
    "start_time": "2025-03-19T18:18:21.180Z"
   },
   {
    "duration": 0,
    "start_time": "2025-03-19T18:18:21.181Z"
   },
   {
    "duration": 0,
    "start_time": "2025-03-19T18:18:21.181Z"
   },
   {
    "duration": 0,
    "start_time": "2025-03-19T18:18:21.182Z"
   },
   {
    "duration": 0,
    "start_time": "2025-03-19T18:18:21.183Z"
   },
   {
    "duration": 0,
    "start_time": "2025-03-19T18:18:21.184Z"
   },
   {
    "duration": 0,
    "start_time": "2025-03-19T18:18:21.185Z"
   },
   {
    "duration": 0,
    "start_time": "2025-03-19T18:18:21.186Z"
   },
   {
    "duration": 0,
    "start_time": "2025-03-19T18:18:21.187Z"
   },
   {
    "duration": 0,
    "start_time": "2025-03-19T18:18:21.188Z"
   },
   {
    "duration": 0,
    "start_time": "2025-03-19T18:18:21.189Z"
   },
   {
    "duration": 95,
    "start_time": "2025-03-19T18:18:47.323Z"
   },
   {
    "duration": 9,
    "start_time": "2025-03-19T18:18:48.859Z"
   },
   {
    "duration": 12,
    "start_time": "2025-03-19T18:19:12.783Z"
   },
   {
    "duration": 10,
    "start_time": "2025-03-19T18:19:44.994Z"
   },
   {
    "duration": 10,
    "start_time": "2025-03-19T18:20:08.313Z"
   },
   {
    "duration": 3,
    "start_time": "2025-03-19T18:20:16.185Z"
   },
   {
    "duration": 69,
    "start_time": "2025-03-19T18:20:17.328Z"
   },
   {
    "duration": 7,
    "start_time": "2025-03-19T18:20:18.809Z"
   },
   {
    "duration": 9,
    "start_time": "2025-03-19T18:20:20.633Z"
   },
   {
    "duration": 10,
    "start_time": "2025-03-19T18:20:21.691Z"
   },
   {
    "duration": 9,
    "start_time": "2025-03-19T18:20:22.688Z"
   },
   {
    "duration": 11,
    "start_time": "2025-03-19T18:20:23.212Z"
   },
   {
    "duration": 7,
    "start_time": "2025-03-19T18:20:24.245Z"
   },
   {
    "duration": 10,
    "start_time": "2025-03-19T18:20:24.815Z"
   },
   {
    "duration": 8,
    "start_time": "2025-03-19T18:20:29.749Z"
   },
   {
    "duration": 4,
    "start_time": "2025-03-19T18:20:35.869Z"
   },
   {
    "duration": 8,
    "start_time": "2025-03-19T18:20:37.731Z"
   },
   {
    "duration": 6,
    "start_time": "2025-03-19T18:20:39.780Z"
   },
   {
    "duration": 5,
    "start_time": "2025-03-19T18:20:41.217Z"
   },
   {
    "duration": 6,
    "start_time": "2025-03-19T18:20:41.740Z"
   },
   {
    "duration": 9,
    "start_time": "2025-03-19T18:20:42.485Z"
   },
   {
    "duration": 9,
    "start_time": "2025-03-19T18:20:44.855Z"
   },
   {
    "duration": 7,
    "start_time": "2025-03-19T18:20:45.654Z"
   },
   {
    "duration": 4,
    "start_time": "2025-03-19T18:20:47.532Z"
   },
   {
    "duration": 5,
    "start_time": "2025-03-19T18:20:48.226Z"
   },
   {
    "duration": 156,
    "start_time": "2025-03-19T18:20:48.870Z"
   },
   {
    "duration": 185,
    "start_time": "2025-03-19T18:20:52.139Z"
   },
   {
    "duration": 92,
    "start_time": "2025-03-19T18:20:54.767Z"
   },
   {
    "duration": 363,
    "start_time": "2025-03-19T18:20:58.465Z"
   },
   {
    "duration": 76,
    "start_time": "2025-03-19T18:21:01.981Z"
   },
   {
    "duration": 333,
    "start_time": "2025-03-19T18:21:11.168Z"
   },
   {
    "duration": 344,
    "start_time": "2025-03-19T18:21:13.629Z"
   },
   {
    "duration": 22,
    "start_time": "2025-03-19T18:21:18.150Z"
   },
   {
    "duration": 3,
    "start_time": "2025-03-19T18:21:21.077Z"
   },
   {
    "duration": 8,
    "start_time": "2025-03-19T18:21:22.404Z"
   },
   {
    "duration": 4,
    "start_time": "2025-03-19T18:21:24.111Z"
   },
   {
    "duration": 10,
    "start_time": "2025-03-19T18:21:26.065Z"
   },
   {
    "duration": 5,
    "start_time": "2025-03-19T18:21:27.285Z"
   },
   {
    "duration": 18,
    "start_time": "2025-03-19T18:21:31.473Z"
   },
   {
    "duration": 534,
    "start_time": "2025-03-19T18:21:34.720Z"
   },
   {
    "duration": 75,
    "start_time": "2025-03-19T18:21:38.268Z"
   },
   {
    "duration": 38,
    "start_time": "2025-03-19T18:21:41.073Z"
   },
   {
    "duration": 36,
    "start_time": "2025-03-19T18:21:52.464Z"
   },
   {
    "duration": 8,
    "start_time": "2025-03-19T18:21:59.054Z"
   },
   {
    "duration": 15,
    "start_time": "2025-03-19T18:22:01.772Z"
   },
   {
    "duration": 5,
    "start_time": "2025-03-19T18:22:05.974Z"
   },
   {
    "duration": 5,
    "start_time": "2025-03-19T18:22:07.495Z"
   },
   {
    "duration": 5,
    "start_time": "2025-03-19T18:22:15.218Z"
   },
   {
    "duration": 7,
    "start_time": "2025-03-19T18:22:22.111Z"
   },
   {
    "duration": 1365,
    "start_time": "2025-03-20T06:24:55.283Z"
   },
   {
    "duration": 81,
    "start_time": "2025-03-20T06:24:57.518Z"
   },
   {
    "duration": 8,
    "start_time": "2025-03-20T06:24:58.847Z"
   },
   {
    "duration": 10,
    "start_time": "2025-03-20T06:25:00.134Z"
   },
   {
    "duration": 12,
    "start_time": "2025-03-20T06:25:01.322Z"
   },
   {
    "duration": 9,
    "start_time": "2025-03-20T06:25:02.520Z"
   },
   {
    "duration": 12,
    "start_time": "2025-03-20T06:25:04.239Z"
   },
   {
    "duration": 9,
    "start_time": "2025-03-20T06:25:05.695Z"
   },
   {
    "duration": 10,
    "start_time": "2025-03-20T06:25:06.936Z"
   },
   {
    "duration": 78,
    "start_time": "2025-03-20T06:32:25.129Z"
   },
   {
    "duration": 6,
    "start_time": "2025-03-20T06:32:25.587Z"
   },
   {
    "duration": 11,
    "start_time": "2025-03-20T06:32:26.564Z"
   },
   {
    "duration": 10,
    "start_time": "2025-03-20T06:32:27.678Z"
   },
   {
    "duration": 8,
    "start_time": "2025-03-20T06:32:28.642Z"
   },
   {
    "duration": 11,
    "start_time": "2025-03-20T06:32:29.221Z"
   },
   {
    "duration": 7,
    "start_time": "2025-03-20T06:32:30.205Z"
   },
   {
    "duration": 10,
    "start_time": "2025-03-20T06:32:30.739Z"
   },
   {
    "duration": 7,
    "start_time": "2025-03-20T06:32:35.031Z"
   },
   {
    "duration": 7,
    "start_time": "2025-03-20T06:32:36.962Z"
   },
   {
    "duration": 9,
    "start_time": "2025-03-20T06:32:38.399Z"
   },
   {
    "duration": 6,
    "start_time": "2025-03-20T06:32:39.799Z"
   },
   {
    "duration": 6,
    "start_time": "2025-03-20T06:32:40.969Z"
   },
   {
    "duration": 6,
    "start_time": "2025-03-20T06:32:41.939Z"
   },
   {
    "duration": 9,
    "start_time": "2025-03-20T06:32:42.970Z"
   },
   {
    "duration": 15,
    "start_time": "2025-03-20T06:32:44.954Z"
   },
   {
    "duration": 7,
    "start_time": "2025-03-20T06:32:45.731Z"
   },
   {
    "duration": 3,
    "start_time": "2025-03-20T06:32:46.630Z"
   },
   {
    "duration": 6,
    "start_time": "2025-03-20T06:32:47.566Z"
   },
   {
    "duration": 193,
    "start_time": "2025-03-20T06:32:48.023Z"
   },
   {
    "duration": 216,
    "start_time": "2025-03-20T06:32:50.654Z"
   },
   {
    "duration": 98,
    "start_time": "2025-03-20T06:32:51.700Z"
   },
   {
    "duration": 315,
    "start_time": "2025-03-20T06:32:53.571Z"
   },
   {
    "duration": 333,
    "start_time": "2025-03-20T06:32:56.515Z"
   },
   {
    "duration": 352,
    "start_time": "2025-03-20T06:32:57.770Z"
   },
   {
    "duration": 17,
    "start_time": "2025-03-20T06:33:16.606Z"
   },
   {
    "duration": 4,
    "start_time": "2025-03-20T06:33:18.803Z"
   },
   {
    "duration": 8,
    "start_time": "2025-03-20T06:33:19.912Z"
   },
   {
    "duration": 4,
    "start_time": "2025-03-20T06:33:20.890Z"
   },
   {
    "duration": 97,
    "start_time": "2025-03-20T06:33:21.979Z"
   },
   {
    "duration": 9,
    "start_time": "2025-03-20T06:33:23.862Z"
   },
   {
    "duration": 7,
    "start_time": "2025-03-20T06:34:43.756Z"
   },
   {
    "duration": 25,
    "start_time": "2025-03-20T06:34:46.823Z"
   },
   {
    "duration": 12,
    "start_time": "2025-03-20T06:35:27.553Z"
   },
   {
    "duration": 17,
    "start_time": "2025-03-20T06:35:30.774Z"
   },
   {
    "duration": 549,
    "start_time": "2025-03-20T06:35:32.364Z"
   },
   {
    "duration": 38,
    "start_time": "2025-03-20T06:35:40.804Z"
   },
   {
    "duration": 6,
    "start_time": "2025-03-20T06:35:52.314Z"
   },
   {
    "duration": 15,
    "start_time": "2025-03-20T06:35:56.690Z"
   },
   {
    "duration": 5,
    "start_time": "2025-03-20T06:36:09.650Z"
   },
   {
    "duration": 5,
    "start_time": "2025-03-20T06:36:11.388Z"
   },
   {
    "duration": 4,
    "start_time": "2025-03-20T06:38:18.272Z"
   },
   {
    "duration": 5,
    "start_time": "2025-03-20T06:38:22.370Z"
   },
   {
    "duration": 2,
    "start_time": "2025-03-20T06:41:30.535Z"
   },
   {
    "duration": 13,
    "start_time": "2025-03-20T06:55:31.157Z"
   },
   {
    "duration": 13,
    "start_time": "2025-03-20T07:04:56.436Z"
   },
   {
    "duration": 4,
    "start_time": "2025-03-20T07:20:40.835Z"
   },
   {
    "duration": 83,
    "start_time": "2025-03-20T08:52:08.049Z"
   },
   {
    "duration": 1246,
    "start_time": "2025-03-20T18:45:50.568Z"
   },
   {
    "duration": 80,
    "start_time": "2025-03-20T18:45:51.817Z"
   },
   {
    "duration": 8,
    "start_time": "2025-03-20T18:45:51.899Z"
   },
   {
    "duration": 68,
    "start_time": "2025-03-20T18:45:51.909Z"
   },
   {
    "duration": 52,
    "start_time": "2025-03-20T18:45:51.979Z"
   },
   {
    "duration": 13,
    "start_time": "2025-03-20T18:45:52.032Z"
   },
   {
    "duration": 47,
    "start_time": "2025-03-20T18:45:52.047Z"
   },
   {
    "duration": 9,
    "start_time": "2025-03-20T18:45:52.095Z"
   },
   {
    "duration": 12,
    "start_time": "2025-03-20T18:45:52.105Z"
   },
   {
    "duration": 10,
    "start_time": "2025-03-20T18:45:52.119Z"
   },
   {
    "duration": 7,
    "start_time": "2025-03-20T18:45:52.130Z"
   },
   {
    "duration": 10,
    "start_time": "2025-03-20T18:45:52.139Z"
   },
   {
    "duration": 9,
    "start_time": "2025-03-20T18:45:52.151Z"
   },
   {
    "duration": 15,
    "start_time": "2025-03-20T18:45:52.164Z"
   },
   {
    "duration": 27,
    "start_time": "2025-03-20T18:45:52.180Z"
   },
   {
    "duration": 10,
    "start_time": "2025-03-20T18:45:52.208Z"
   },
   {
    "duration": 14,
    "start_time": "2025-03-20T18:45:52.220Z"
   },
   {
    "duration": 23,
    "start_time": "2025-03-20T18:45:52.236Z"
   },
   {
    "duration": 3,
    "start_time": "2025-03-20T18:45:52.260Z"
   },
   {
    "duration": 6,
    "start_time": "2025-03-20T18:45:52.265Z"
   },
   {
    "duration": 208,
    "start_time": "2025-03-20T18:45:52.272Z"
   },
   {
    "duration": 211,
    "start_time": "2025-03-20T18:45:52.482Z"
   },
   {
    "duration": 96,
    "start_time": "2025-03-20T18:45:52.695Z"
   },
   {
    "duration": 305,
    "start_time": "2025-03-20T18:45:52.804Z"
   },
   {
    "duration": 325,
    "start_time": "2025-03-20T18:45:53.111Z"
   },
   {
    "duration": 347,
    "start_time": "2025-03-20T18:45:53.437Z"
   },
   {
    "duration": 29,
    "start_time": "2025-03-20T18:45:53.786Z"
   },
   {
    "duration": 3,
    "start_time": "2025-03-20T18:45:53.817Z"
   },
   {
    "duration": 25,
    "start_time": "2025-03-20T18:45:53.822Z"
   },
   {
    "duration": 8,
    "start_time": "2025-03-20T18:45:53.849Z"
   },
   {
    "duration": 94,
    "start_time": "2025-03-20T18:45:53.859Z"
   },
   {
    "duration": 18,
    "start_time": "2025-03-20T18:45:53.955Z"
   },
   {
    "duration": 29,
    "start_time": "2025-03-20T18:45:53.975Z"
   },
   {
    "duration": 570,
    "start_time": "2025-03-20T18:45:54.006Z"
   },
   {
    "duration": 80,
    "start_time": "2025-03-20T18:45:54.578Z"
   },
   {
    "duration": 0,
    "start_time": "2025-03-20T18:45:54.660Z"
   },
   {
    "duration": 0,
    "start_time": "2025-03-20T18:45:54.661Z"
   },
   {
    "duration": 0,
    "start_time": "2025-03-20T18:45:54.663Z"
   },
   {
    "duration": 0,
    "start_time": "2025-03-20T18:45:54.664Z"
   },
   {
    "duration": 0,
    "start_time": "2025-03-20T18:45:54.665Z"
   },
   {
    "duration": 0,
    "start_time": "2025-03-20T18:45:54.666Z"
   },
   {
    "duration": 0,
    "start_time": "2025-03-20T18:45:54.667Z"
   },
   {
    "duration": 0,
    "start_time": "2025-03-20T18:45:54.668Z"
   },
   {
    "duration": 0,
    "start_time": "2025-03-20T18:45:54.669Z"
   },
   {
    "duration": 16,
    "start_time": "2025-03-20T18:49:06.565Z"
   },
   {
    "duration": 62,
    "start_time": "2025-03-20T18:53:30.104Z"
   },
   {
    "duration": 1275,
    "start_time": "2025-03-20T18:53:38.355Z"
   },
   {
    "duration": 82,
    "start_time": "2025-03-20T18:53:39.632Z"
   },
   {
    "duration": 9,
    "start_time": "2025-03-20T18:53:39.716Z"
   },
   {
    "duration": 11,
    "start_time": "2025-03-20T18:53:39.727Z"
   },
   {
    "duration": 11,
    "start_time": "2025-03-20T18:53:39.741Z"
   },
   {
    "duration": 15,
    "start_time": "2025-03-20T18:53:39.754Z"
   },
   {
    "duration": 45,
    "start_time": "2025-03-20T18:53:39.771Z"
   },
   {
    "duration": 11,
    "start_time": "2025-03-20T18:53:39.818Z"
   },
   {
    "duration": 14,
    "start_time": "2025-03-20T18:53:39.831Z"
   },
   {
    "duration": 9,
    "start_time": "2025-03-20T18:53:39.848Z"
   },
   {
    "duration": 6,
    "start_time": "2025-03-20T18:53:39.859Z"
   },
   {
    "duration": 40,
    "start_time": "2025-03-20T18:53:39.868Z"
   },
   {
    "duration": 13,
    "start_time": "2025-03-20T18:53:39.910Z"
   },
   {
    "duration": 7,
    "start_time": "2025-03-20T18:53:39.928Z"
   },
   {
    "duration": 6,
    "start_time": "2025-03-20T18:53:39.937Z"
   },
   {
    "duration": 6,
    "start_time": "2025-03-20T18:53:39.944Z"
   },
   {
    "duration": 14,
    "start_time": "2025-03-20T18:53:39.951Z"
   },
   {
    "duration": 46,
    "start_time": "2025-03-20T18:53:39.966Z"
   },
   {
    "duration": 73,
    "start_time": "2025-03-20T18:53:40.014Z"
   },
   {
    "duration": 12,
    "start_time": "2025-03-20T18:53:40.089Z"
   },
   {
    "duration": 12,
    "start_time": "2025-03-20T18:53:40.102Z"
   },
   {
    "duration": 192,
    "start_time": "2025-03-20T18:53:40.116Z"
   },
   {
    "duration": 209,
    "start_time": "2025-03-20T18:53:40.310Z"
   },
   {
    "duration": 121,
    "start_time": "2025-03-20T18:53:40.521Z"
   },
   {
    "duration": 325,
    "start_time": "2025-03-20T18:53:40.644Z"
   },
   {
    "duration": 337,
    "start_time": "2025-03-20T18:53:40.970Z"
   },
   {
    "duration": 322,
    "start_time": "2025-03-20T18:53:41.309Z"
   },
   {
    "duration": 18,
    "start_time": "2025-03-20T18:53:41.632Z"
   },
   {
    "duration": 4,
    "start_time": "2025-03-20T18:53:41.652Z"
   },
   {
    "duration": 51,
    "start_time": "2025-03-20T18:53:41.657Z"
   },
   {
    "duration": 5,
    "start_time": "2025-03-20T18:53:41.709Z"
   },
   {
    "duration": 106,
    "start_time": "2025-03-20T18:53:41.715Z"
   },
   {
    "duration": 8,
    "start_time": "2025-03-20T18:53:41.823Z"
   },
   {
    "duration": 18,
    "start_time": "2025-03-20T18:53:41.833Z"
   },
   {
    "duration": 572,
    "start_time": "2025-03-20T18:53:41.853Z"
   },
   {
    "duration": 49,
    "start_time": "2025-03-20T18:53:42.428Z"
   },
   {
    "duration": 25,
    "start_time": "2025-03-20T18:53:42.479Z"
   },
   {
    "duration": 21,
    "start_time": "2025-03-20T18:53:42.508Z"
   },
   {
    "duration": 6,
    "start_time": "2025-03-20T18:53:42.531Z"
   },
   {
    "duration": 7,
    "start_time": "2025-03-20T18:53:42.538Z"
   },
   {
    "duration": 10,
    "start_time": "2025-03-20T18:53:42.550Z"
   },
   {
    "duration": 26,
    "start_time": "2025-03-20T18:53:42.561Z"
   },
   {
    "duration": 13,
    "start_time": "2025-03-20T18:53:42.604Z"
   },
   {
    "duration": 1178,
    "start_time": "2025-03-20T18:53:42.619Z"
   },
   {
    "duration": 346,
    "start_time": "2025-03-20T18:53:43.799Z"
   },
   {
    "duration": 1347,
    "start_time": "2025-03-22T03:33:32.798Z"
   },
   {
    "duration": 60,
    "start_time": "2025-03-22T03:33:34.147Z"
   },
   {
    "duration": 7,
    "start_time": "2025-03-22T03:33:34.208Z"
   },
   {
    "duration": 15,
    "start_time": "2025-03-22T03:33:34.217Z"
   },
   {
    "duration": 37,
    "start_time": "2025-03-22T03:33:34.234Z"
   },
   {
    "duration": 32,
    "start_time": "2025-03-22T03:33:34.272Z"
   },
   {
    "duration": 50,
    "start_time": "2025-03-22T03:33:34.305Z"
   },
   {
    "duration": 31,
    "start_time": "2025-03-22T03:33:34.357Z"
   },
   {
    "duration": 30,
    "start_time": "2025-03-22T03:33:34.389Z"
   },
   {
    "duration": 27,
    "start_time": "2025-03-22T03:33:34.420Z"
   },
   {
    "duration": 11,
    "start_time": "2025-03-22T03:33:34.449Z"
   },
   {
    "duration": 43,
    "start_time": "2025-03-22T03:33:34.462Z"
   },
   {
    "duration": 25,
    "start_time": "2025-03-22T03:33:34.507Z"
   },
   {
    "duration": 7,
    "start_time": "2025-03-22T03:33:34.536Z"
   },
   {
    "duration": 47,
    "start_time": "2025-03-22T03:33:34.544Z"
   },
   {
    "duration": 51,
    "start_time": "2025-03-22T03:33:34.593Z"
   },
   {
    "duration": 38,
    "start_time": "2025-03-22T03:33:34.646Z"
   },
   {
    "duration": 26,
    "start_time": "2025-03-22T03:33:34.686Z"
   },
   {
    "duration": 10,
    "start_time": "2025-03-22T03:33:34.714Z"
   },
   {
    "duration": 15,
    "start_time": "2025-03-22T03:33:34.726Z"
   },
   {
    "duration": 10,
    "start_time": "2025-03-22T03:33:34.743Z"
   },
   {
    "duration": 194,
    "start_time": "2025-03-22T03:33:34.754Z"
   },
   {
    "duration": 204,
    "start_time": "2025-03-22T03:33:34.950Z"
   },
   {
    "duration": 101,
    "start_time": "2025-03-22T03:33:35.155Z"
   },
   {
    "duration": 315,
    "start_time": "2025-03-22T03:33:35.258Z"
   },
   {
    "duration": 349,
    "start_time": "2025-03-22T03:33:35.575Z"
   },
   {
    "duration": 427,
    "start_time": "2025-03-22T03:33:35.929Z"
   },
   {
    "duration": 19,
    "start_time": "2025-03-22T03:33:36.358Z"
   },
   {
    "duration": 6,
    "start_time": "2025-03-22T03:33:36.380Z"
   },
   {
    "duration": 41,
    "start_time": "2025-03-22T03:33:36.387Z"
   },
   {
    "duration": 19,
    "start_time": "2025-03-22T03:33:36.430Z"
   },
   {
    "duration": 78,
    "start_time": "2025-03-22T03:33:36.451Z"
   },
   {
    "duration": 127,
    "start_time": "2025-03-22T03:33:36.531Z"
   },
   {
    "duration": 104,
    "start_time": "2025-03-22T03:33:36.660Z"
   },
   {
    "duration": 552,
    "start_time": "2025-03-22T03:33:36.767Z"
   },
   {
    "duration": 43,
    "start_time": "2025-03-22T03:33:37.321Z"
   },
   {
    "duration": 7,
    "start_time": "2025-03-22T03:33:37.366Z"
   },
   {
    "duration": 33,
    "start_time": "2025-03-22T03:33:37.375Z"
   },
   {
    "duration": 23,
    "start_time": "2025-03-22T03:33:37.411Z"
   },
   {
    "duration": 16,
    "start_time": "2025-03-22T03:33:37.436Z"
   },
   {
    "duration": 21,
    "start_time": "2025-03-22T03:33:37.457Z"
   },
   {
    "duration": 19,
    "start_time": "2025-03-22T03:33:37.480Z"
   },
   {
    "duration": 17,
    "start_time": "2025-03-22T03:33:37.501Z"
   },
   {
    "duration": 1174,
    "start_time": "2025-03-22T03:33:37.520Z"
   },
   {
    "duration": 347,
    "start_time": "2025-03-22T03:33:38.696Z"
   },
   {
    "duration": 7,
    "start_time": "2025-03-22T03:34:30.419Z"
   },
   {
    "duration": 1708,
    "start_time": "2025-03-22T03:46:23.789Z"
   },
   {
    "duration": 1164,
    "start_time": "2025-03-22T03:46:52.734Z"
   },
   {
    "duration": 57,
    "start_time": "2025-03-22T03:46:53.900Z"
   },
   {
    "duration": 9,
    "start_time": "2025-03-22T03:46:53.958Z"
   },
   {
    "duration": 12,
    "start_time": "2025-03-22T03:46:53.969Z"
   },
   {
    "duration": 11,
    "start_time": "2025-03-22T03:46:53.983Z"
   },
   {
    "duration": 12,
    "start_time": "2025-03-22T03:46:53.996Z"
   },
   {
    "duration": 31,
    "start_time": "2025-03-22T03:46:54.010Z"
   },
   {
    "duration": 10,
    "start_time": "2025-03-22T03:46:54.043Z"
   },
   {
    "duration": 10,
    "start_time": "2025-03-22T03:46:54.056Z"
   },
   {
    "duration": 7,
    "start_time": "2025-03-22T03:46:54.070Z"
   },
   {
    "duration": 5,
    "start_time": "2025-03-22T03:46:54.078Z"
   },
   {
    "duration": 47,
    "start_time": "2025-03-22T03:46:54.085Z"
   },
   {
    "duration": 8,
    "start_time": "2025-03-22T03:46:54.134Z"
   },
   {
    "duration": 11,
    "start_time": "2025-03-22T03:46:54.144Z"
   },
   {
    "duration": 5,
    "start_time": "2025-03-22T03:46:54.157Z"
   },
   {
    "duration": 6,
    "start_time": "2025-03-22T03:46:54.163Z"
   },
   {
    "duration": 9,
    "start_time": "2025-03-22T03:46:54.171Z"
   },
   {
    "duration": 52,
    "start_time": "2025-03-22T03:46:54.182Z"
   },
   {
    "duration": 6,
    "start_time": "2025-03-22T03:46:54.235Z"
   },
   {
    "duration": 6,
    "start_time": "2025-03-22T03:46:54.243Z"
   },
   {
    "duration": 6,
    "start_time": "2025-03-22T03:46:54.250Z"
   },
   {
    "duration": 211,
    "start_time": "2025-03-22T03:46:54.257Z"
   },
   {
    "duration": 194,
    "start_time": "2025-03-22T03:46:54.470Z"
   },
   {
    "duration": 102,
    "start_time": "2025-03-22T03:46:54.665Z"
   },
   {
    "duration": 301,
    "start_time": "2025-03-22T03:46:54.768Z"
   },
   {
    "duration": 333,
    "start_time": "2025-03-22T03:46:55.071Z"
   },
   {
    "duration": 328,
    "start_time": "2025-03-22T03:46:55.406Z"
   },
   {
    "duration": 18,
    "start_time": "2025-03-22T03:46:55.737Z"
   },
   {
    "duration": 21,
    "start_time": "2025-03-22T03:46:55.757Z"
   },
   {
    "duration": 15,
    "start_time": "2025-03-22T03:46:55.779Z"
   },
   {
    "duration": 4,
    "start_time": "2025-03-22T03:46:55.796Z"
   },
   {
    "duration": 105,
    "start_time": "2025-03-22T03:46:55.802Z"
   },
   {
    "duration": 39,
    "start_time": "2025-03-22T03:46:55.909Z"
   },
   {
    "duration": 24,
    "start_time": "2025-03-22T03:46:55.949Z"
   },
   {
    "duration": 520,
    "start_time": "2025-03-22T03:46:55.975Z"
   },
   {
    "duration": 51,
    "start_time": "2025-03-22T03:46:56.497Z"
   },
   {
    "duration": 44,
    "start_time": "2025-03-22T03:46:56.550Z"
   },
   {
    "duration": 16,
    "start_time": "2025-03-22T03:46:56.596Z"
   },
   {
    "duration": 5,
    "start_time": "2025-03-22T03:46:56.614Z"
   },
   {
    "duration": 95,
    "start_time": "2025-03-22T03:46:56.620Z"
   },
   {
    "duration": 6,
    "start_time": "2025-03-22T03:46:56.717Z"
   },
   {
    "duration": 1632,
    "start_time": "2025-03-22T03:46:56.724Z"
   },
   {
    "duration": 0,
    "start_time": "2025-03-22T03:46:58.358Z"
   },
   {
    "duration": 0,
    "start_time": "2025-03-22T03:46:58.359Z"
   },
   {
    "duration": 0,
    "start_time": "2025-03-22T03:46:58.361Z"
   },
   {
    "duration": 0,
    "start_time": "2025-03-22T03:46:58.362Z"
   },
   {
    "duration": 1662,
    "start_time": "2025-03-22T03:47:09.840Z"
   },
   {
    "duration": 4,
    "start_time": "2025-03-22T03:47:23.906Z"
   },
   {
    "duration": 55,
    "start_time": "2025-03-22T03:47:25.433Z"
   },
   {
    "duration": 5,
    "start_time": "2025-03-22T03:47:26.398Z"
   },
   {
    "duration": 8,
    "start_time": "2025-03-22T03:47:29.551Z"
   },
   {
    "duration": 12,
    "start_time": "2025-03-22T03:47:30.126Z"
   },
   {
    "duration": 8,
    "start_time": "2025-03-22T03:47:30.668Z"
   },
   {
    "duration": 12,
    "start_time": "2025-03-22T03:47:30.966Z"
   },
   {
    "duration": 11,
    "start_time": "2025-03-22T03:47:31.485Z"
   },
   {
    "duration": 11,
    "start_time": "2025-03-22T03:47:31.673Z"
   },
   {
    "duration": 7,
    "start_time": "2025-03-22T03:47:34.063Z"
   },
   {
    "duration": 5,
    "start_time": "2025-03-22T03:47:35.544Z"
   },
   {
    "duration": 5,
    "start_time": "2025-03-22T03:47:36.115Z"
   },
   {
    "duration": 8,
    "start_time": "2025-03-22T03:47:37.035Z"
   },
   {
    "duration": 5,
    "start_time": "2025-03-22T03:47:38.558Z"
   },
   {
    "duration": 5,
    "start_time": "2025-03-22T03:47:39.102Z"
   },
   {
    "duration": 7,
    "start_time": "2025-03-22T03:47:39.615Z"
   },
   {
    "duration": 9,
    "start_time": "2025-03-22T03:47:40.046Z"
   },
   {
    "duration": 8,
    "start_time": "2025-03-22T03:47:40.921Z"
   },
   {
    "duration": 7,
    "start_time": "2025-03-22T03:47:41.495Z"
   },
   {
    "duration": 4,
    "start_time": "2025-03-22T03:47:43.463Z"
   },
   {
    "duration": 6,
    "start_time": "2025-03-22T03:47:44.751Z"
   },
   {
    "duration": 167,
    "start_time": "2025-03-22T03:47:45.011Z"
   },
   {
    "duration": 207,
    "start_time": "2025-03-22T03:47:46.177Z"
   },
   {
    "duration": 93,
    "start_time": "2025-03-22T03:47:47.582Z"
   },
   {
    "duration": 303,
    "start_time": "2025-03-22T03:47:49.160Z"
   },
   {
    "duration": 346,
    "start_time": "2025-03-22T03:47:51.700Z"
   },
   {
    "duration": 420,
    "start_time": "2025-03-22T03:47:53.605Z"
   },
   {
    "duration": 17,
    "start_time": "2025-03-22T03:47:56.485Z"
   },
   {
    "duration": 4,
    "start_time": "2025-03-22T03:47:57.502Z"
   },
   {
    "duration": 14,
    "start_time": "2025-03-22T03:47:58.077Z"
   },
   {
    "duration": 6,
    "start_time": "2025-03-22T03:47:58.883Z"
   },
   {
    "duration": 12,
    "start_time": "2025-03-22T03:47:59.601Z"
   },
   {
    "duration": 6,
    "start_time": "2025-03-22T03:48:00.109Z"
   },
   {
    "duration": 27,
    "start_time": "2025-03-22T03:48:01.947Z"
   },
   {
    "duration": 553,
    "start_time": "2025-03-22T03:48:03.523Z"
   },
   {
    "duration": 38,
    "start_time": "2025-03-22T03:48:11.036Z"
   },
   {
    "duration": 8,
    "start_time": "2025-03-22T03:48:14.548Z"
   },
   {
    "duration": 15,
    "start_time": "2025-03-22T03:48:15.982Z"
   },
   {
    "duration": 5,
    "start_time": "2025-03-22T03:48:16.823Z"
   },
   {
    "duration": 3,
    "start_time": "2025-03-22T03:48:17.950Z"
   },
   {
    "duration": 5,
    "start_time": "2025-03-22T03:48:22.218Z"
   },
   {
    "duration": 1566,
    "start_time": "2025-03-22T03:48:25.217Z"
   },
   {
    "duration": 1590,
    "start_time": "2025-03-22T03:53:26.563Z"
   },
   {
    "duration": 29,
    "start_time": "2025-03-22T03:54:58.139Z"
   },
   {
    "duration": 10,
    "start_time": "2025-03-22T03:58:21.319Z"
   },
   {
    "duration": 4,
    "start_time": "2025-03-22T04:28:36.605Z"
   },
   {
    "duration": 4,
    "start_time": "2025-03-22T04:28:58.239Z"
   },
   {
    "duration": 6,
    "start_time": "2025-03-22T04:36:13.075Z"
   },
   {
    "duration": 7,
    "start_time": "2025-03-22T04:41:38.052Z"
   },
   {
    "duration": 1262,
    "start_time": "2025-03-22T07:50:03.106Z"
   },
   {
    "duration": 70,
    "start_time": "2025-03-22T07:50:06.361Z"
   },
   {
    "duration": 8,
    "start_time": "2025-03-22T07:50:08.067Z"
   },
   {
    "duration": 10,
    "start_time": "2025-03-22T07:50:09.262Z"
   },
   {
    "duration": 11,
    "start_time": "2025-03-22T07:50:10.209Z"
   },
   {
    "duration": 8,
    "start_time": "2025-03-22T07:50:11.092Z"
   },
   {
    "duration": 12,
    "start_time": "2025-03-22T07:50:11.716Z"
   },
   {
    "duration": 8,
    "start_time": "2025-03-22T07:50:12.653Z"
   },
   {
    "duration": 9,
    "start_time": "2025-03-22T07:50:13.025Z"
   },
   {
    "duration": 7,
    "start_time": "2025-03-22T07:50:16.824Z"
   },
   {
    "duration": 5,
    "start_time": "2025-03-22T07:50:21.164Z"
   },
   {
    "duration": 6,
    "start_time": "2025-03-22T07:50:23.866Z"
   },
   {
    "duration": 9,
    "start_time": "2025-03-22T07:50:31.856Z"
   },
   {
    "duration": 6,
    "start_time": "2025-03-22T07:50:33.824Z"
   },
   {
    "duration": 5,
    "start_time": "2025-03-22T07:50:34.714Z"
   },
   {
    "duration": 6,
    "start_time": "2025-03-22T07:50:35.938Z"
   },
   {
    "duration": 7,
    "start_time": "2025-03-22T07:50:42.668Z"
   },
   {
    "duration": 8,
    "start_time": "2025-03-22T07:50:45.779Z"
   },
   {
    "duration": 6,
    "start_time": "2025-03-22T07:50:47.184Z"
   },
   {
    "duration": 3,
    "start_time": "2025-03-22T07:50:56.482Z"
   },
   {
    "duration": 4,
    "start_time": "2025-03-22T07:50:57.769Z"
   },
   {
    "duration": 161,
    "start_time": "2025-03-22T07:50:58.229Z"
   },
   {
    "duration": 184,
    "start_time": "2025-03-22T07:51:00.183Z"
   },
   {
    "duration": 94,
    "start_time": "2025-03-22T07:51:01.359Z"
   },
   {
    "duration": 275,
    "start_time": "2025-03-22T07:51:02.821Z"
   },
   {
    "duration": 306,
    "start_time": "2025-03-22T07:51:04.947Z"
   },
   {
    "duration": 305,
    "start_time": "2025-03-22T07:51:06.722Z"
   },
   {
    "duration": 16,
    "start_time": "2025-03-22T07:51:09.885Z"
   },
   {
    "duration": 3,
    "start_time": "2025-03-22T07:51:11.444Z"
   },
   {
    "duration": 8,
    "start_time": "2025-03-22T07:51:12.139Z"
   },
   {
    "duration": 5,
    "start_time": "2025-03-22T07:51:12.753Z"
   },
   {
    "duration": 81,
    "start_time": "2025-03-22T07:51:13.908Z"
   },
   {
    "duration": 6,
    "start_time": "2025-03-22T07:51:16.135Z"
   },
   {
    "duration": 17,
    "start_time": "2025-03-22T07:53:39.926Z"
   },
   {
    "duration": 548,
    "start_time": "2025-03-22T07:53:44.079Z"
   },
   {
    "duration": 37,
    "start_time": "2025-03-22T07:53:50.712Z"
   },
   {
    "duration": 8,
    "start_time": "2025-03-22T07:54:46.864Z"
   },
   {
    "duration": 15,
    "start_time": "2025-03-22T07:54:48.960Z"
   },
   {
    "duration": 5,
    "start_time": "2025-03-22T07:54:50.130Z"
   },
   {
    "duration": 4,
    "start_time": "2025-03-22T07:54:55.104Z"
   },
   {
    "duration": 7,
    "start_time": "2025-03-22T07:55:11.405Z"
   },
   {
    "duration": 9,
    "start_time": "2025-03-22T08:11:21.645Z"
   },
   {
    "duration": 17,
    "start_time": "2025-03-22T08:23:05.047Z"
   },
   {
    "duration": 3,
    "start_time": "2025-03-22T08:42:52.027Z"
   },
   {
    "duration": 58,
    "start_time": "2025-03-22T08:42:53.541Z"
   },
   {
    "duration": 5,
    "start_time": "2025-03-22T08:42:54.376Z"
   },
   {
    "duration": 7,
    "start_time": "2025-03-22T08:42:55.171Z"
   },
   {
    "duration": 10,
    "start_time": "2025-03-22T08:42:56.014Z"
   },
   {
    "duration": 8,
    "start_time": "2025-03-22T08:42:56.650Z"
   },
   {
    "duration": 12,
    "start_time": "2025-03-22T08:42:56.974Z"
   },
   {
    "duration": 7,
    "start_time": "2025-03-22T08:42:57.783Z"
   },
   {
    "duration": 10,
    "start_time": "2025-03-22T08:42:58.082Z"
   },
   {
    "duration": 9,
    "start_time": "2025-03-22T08:43:00.395Z"
   },
   {
    "duration": 4,
    "start_time": "2025-03-22T08:43:01.512Z"
   },
   {
    "duration": 6,
    "start_time": "2025-03-22T08:43:02.062Z"
   },
   {
    "duration": 8,
    "start_time": "2025-03-22T08:43:02.853Z"
   },
   {
    "duration": 6,
    "start_time": "2025-03-22T08:43:04.017Z"
   },
   {
    "duration": 6,
    "start_time": "2025-03-22T08:43:04.688Z"
   },
   {
    "duration": 5,
    "start_time": "2025-03-22T08:43:05.321Z"
   },
   {
    "duration": 8,
    "start_time": "2025-03-22T08:43:05.949Z"
   },
   {
    "duration": 9,
    "start_time": "2025-03-22T08:43:07.069Z"
   },
   {
    "duration": 5,
    "start_time": "2025-03-22T08:43:07.654Z"
   },
   {
    "duration": 4,
    "start_time": "2025-03-22T08:43:09.048Z"
   },
   {
    "duration": 5,
    "start_time": "2025-03-22T08:43:09.945Z"
   },
   {
    "duration": 158,
    "start_time": "2025-03-22T08:43:10.201Z"
   },
   {
    "duration": 169,
    "start_time": "2025-03-22T08:43:11.536Z"
   },
   {
    "duration": 80,
    "start_time": "2025-03-22T08:43:12.592Z"
   },
   {
    "duration": 259,
    "start_time": "2025-03-22T08:43:13.881Z"
   },
   {
    "duration": 278,
    "start_time": "2025-03-22T08:43:15.821Z"
   },
   {
    "duration": 368,
    "start_time": "2025-03-22T08:43:17.709Z"
   },
   {
    "duration": 16,
    "start_time": "2025-03-22T08:43:36.093Z"
   },
   {
    "duration": 4,
    "start_time": "2025-03-22T08:43:38.916Z"
   },
   {
    "duration": 9,
    "start_time": "2025-03-22T08:43:40.892Z"
   },
   {
    "duration": 5,
    "start_time": "2025-03-22T08:43:41.792Z"
   },
   {
    "duration": 10,
    "start_time": "2025-03-22T08:43:42.776Z"
   },
   {
    "duration": 6,
    "start_time": "2025-03-22T08:43:43.621Z"
   },
   {
    "duration": 17,
    "start_time": "2025-03-22T08:43:46.154Z"
   },
   {
    "duration": 454,
    "start_time": "2025-03-22T08:43:47.795Z"
   },
   {
    "duration": 35,
    "start_time": "2025-03-22T08:43:53.314Z"
   },
   {
    "duration": 5,
    "start_time": "2025-03-22T08:45:26.300Z"
   },
   {
    "duration": 14,
    "start_time": "2025-03-22T08:45:27.759Z"
   },
   {
    "duration": 5,
    "start_time": "2025-03-22T08:45:28.881Z"
   },
   {
    "duration": 4,
    "start_time": "2025-03-22T08:45:30.914Z"
   },
   {
    "duration": 8,
    "start_time": "2025-03-22T08:45:42.739Z"
   },
   {
    "duration": 9,
    "start_time": "2025-03-22T08:46:24.676Z"
   },
   {
    "duration": 12,
    "start_time": "2025-03-22T08:46:42.097Z"
   },
   {
    "duration": 1041,
    "start_time": "2025-03-22T08:46:51.795Z"
   },
   {
    "duration": 325,
    "start_time": "2025-03-22T08:46:55.797Z"
   },
   {
    "duration": 1039,
    "start_time": "2025-03-22T13:00:28.215Z"
   },
   {
    "duration": 68,
    "start_time": "2025-03-22T13:00:29.256Z"
   },
   {
    "duration": 6,
    "start_time": "2025-03-22T13:00:29.325Z"
   },
   {
    "duration": 21,
    "start_time": "2025-03-22T13:00:29.333Z"
   },
   {
    "duration": 13,
    "start_time": "2025-03-22T13:00:29.356Z"
   },
   {
    "duration": 7,
    "start_time": "2025-03-22T13:00:29.371Z"
   },
   {
    "duration": 23,
    "start_time": "2025-03-22T13:00:29.379Z"
   },
   {
    "duration": 6,
    "start_time": "2025-03-22T13:00:29.404Z"
   },
   {
    "duration": 8,
    "start_time": "2025-03-22T13:00:29.412Z"
   },
   {
    "duration": 7,
    "start_time": "2025-03-22T13:00:29.421Z"
   },
   {
    "duration": 30,
    "start_time": "2025-03-22T13:00:29.430Z"
   },
   {
    "duration": 30,
    "start_time": "2025-03-22T13:00:29.461Z"
   },
   {
    "duration": 24,
    "start_time": "2025-03-22T13:00:29.493Z"
   },
   {
    "duration": 5,
    "start_time": "2025-03-22T13:00:29.520Z"
   },
   {
    "duration": 4,
    "start_time": "2025-03-22T13:00:29.526Z"
   },
   {
    "duration": 6,
    "start_time": "2025-03-22T13:00:29.531Z"
   },
   {
    "duration": 7,
    "start_time": "2025-03-22T13:00:29.538Z"
   },
   {
    "duration": 13,
    "start_time": "2025-03-22T13:00:29.547Z"
   },
   {
    "duration": 17,
    "start_time": "2025-03-22T13:00:29.561Z"
   },
   {
    "duration": 62,
    "start_time": "2025-03-22T13:00:29.580Z"
   },
   {
    "duration": 13,
    "start_time": "2025-03-22T13:00:29.644Z"
   },
   {
    "duration": 163,
    "start_time": "2025-03-22T13:00:29.658Z"
   },
   {
    "duration": 185,
    "start_time": "2025-03-22T13:00:29.822Z"
   },
   {
    "duration": 81,
    "start_time": "2025-03-22T13:00:30.008Z"
   },
   {
    "duration": 290,
    "start_time": "2025-03-22T13:00:30.091Z"
   },
   {
    "duration": 312,
    "start_time": "2025-03-22T13:00:30.383Z"
   },
   {
    "duration": 320,
    "start_time": "2025-03-22T13:00:30.697Z"
   },
   {
    "duration": 16,
    "start_time": "2025-03-22T13:00:31.018Z"
   },
   {
    "duration": 3,
    "start_time": "2025-03-22T13:00:31.036Z"
   },
   {
    "duration": 26,
    "start_time": "2025-03-22T13:00:31.041Z"
   },
   {
    "duration": 26,
    "start_time": "2025-03-22T13:00:31.069Z"
   },
   {
    "duration": 90,
    "start_time": "2025-03-22T13:00:31.096Z"
   },
   {
    "duration": 71,
    "start_time": "2025-03-22T13:00:31.187Z"
   },
   {
    "duration": 89,
    "start_time": "2025-03-22T13:00:31.260Z"
   },
   {
    "duration": 489,
    "start_time": "2025-03-22T13:00:31.351Z"
   },
   {
    "duration": 36,
    "start_time": "2025-03-22T13:00:31.842Z"
   },
   {
    "duration": 57,
    "start_time": "2025-03-22T13:00:31.880Z"
   },
   {
    "duration": 15,
    "start_time": "2025-03-22T13:00:31.938Z"
   },
   {
    "duration": 20,
    "start_time": "2025-03-22T13:00:31.955Z"
   },
   {
    "duration": 4,
    "start_time": "2025-03-22T13:00:31.977Z"
   },
   {
    "duration": 17,
    "start_time": "2025-03-22T13:00:31.985Z"
   },
   {
    "duration": 29,
    "start_time": "2025-03-22T13:00:32.004Z"
   },
   {
    "duration": 37,
    "start_time": "2025-03-22T13:00:32.036Z"
   },
   {
    "duration": 1042,
    "start_time": "2025-03-22T13:00:32.075Z"
   },
   {
    "duration": 317,
    "start_time": "2025-03-22T13:00:33.120Z"
   }
  ],
  "kernelspec": {
   "display_name": "Python 3 (ipykernel)",
   "language": "python",
   "name": "python3"
  },
  "language_info": {
   "codemirror_mode": {
    "name": "ipython",
    "version": 3
   },
   "file_extension": ".py",
   "mimetype": "text/x-python",
   "name": "python",
   "nbconvert_exporter": "python",
   "pygments_lexer": "ipython3",
   "version": "3.9.5"
  },
  "toc": {
   "base_numbering": 1,
   "nav_menu": {},
   "number_sections": true,
   "sideBar": true,
   "skip_h1_title": true,
   "title_cell": "Table of Contents",
   "title_sidebar": "Contents",
   "toc_cell": false,
   "toc_position": {
    "height": "calc(100% - 180px)",
    "left": "10px",
    "top": "150px",
    "width": "195.932px"
   },
   "toc_section_display": true,
   "toc_window_display": true
  }
 },
 "nbformat": 4,
 "nbformat_minor": 5
}
